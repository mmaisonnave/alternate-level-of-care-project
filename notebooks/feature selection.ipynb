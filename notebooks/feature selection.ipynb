{
 "cells": [
  {
   "cell_type": "code",
   "execution_count": 1,
   "metadata": {},
   "outputs": [],
   "source": [
    "import pandas as pd\n",
    "import numpy as np\n",
    "import json\n",
    "from sklearn.metrics import confusion_matrix, precision_score, recall_score, f1_score, roc_auc_score\n",
    "import os\n",
    "import sys\n",
    "sys.path.append('..')\n",
    "\n",
    "from utilities import configuration\n",
    "from utilities import logger\n",
    "from utilities import health_data\n",
    "\n",
    "from sklearn.linear_model import LogisticRegression"
   ]
  },
  {
   "cell_type": "code",
   "execution_count": 4,
   "metadata": {},
   "outputs": [
    {
     "name": "stderr",
     "output_type": "stream",
     "text": [
      "/Users/marianomaisonnave/Environments/alc/lib/python3.9/site-packages/sklearn/linear_model/_logistic.py:460: ConvergenceWarning: lbfgs failed to converge (status=1):\n",
      "STOP: TOTAL NO. of ITERATIONS REACHED LIMIT.\n",
      "\n",
      "Increase the number of iterations (max_iter) or scale the data as shown in:\n",
      "    https://scikit-learn.org/stable/modules/preprocessing.html\n",
      "Please also refer to the documentation for alternative solver options:\n",
      "    https://scikit-learn.org/stable/modules/linear_model.html#logistic-regression\n",
      "  n_iter_i = _check_optimize_result(\n"
     ]
    }
   ],
   "source": [
    "config = configuration.get_config()\n",
    "\n",
    "# Retrieving model and experiment configurations \n",
    "model_configurations = json.load(open(config['models_config'], encoding='utf-8'))\n",
    "experiment_configurations = json.load(open(config['experiments_config'], encoding='utf-8'))\n",
    "\n",
    "\n",
    "params = experiment_configurations['configuration_0']\n",
    "\n",
    "# Computing training and testing matrices.\n",
    "X_train, y_train, X_test, y_test, feature_names = health_data.Admission.get_train_test_matrices(\n",
    "    fix_missing_in_testing=params['fix_missing_in_testing'],\n",
    "    normalize=params['normalize'],\n",
    "    fix_skew=params['fix_skew'],\n",
    "    numerical_features=params['numerical_features'],\n",
    "    categorical_features=params['categorical_features'],\n",
    "    diagnosis_features=params['diagnosis_features'],\n",
    "    intervention_features=params['intervention_features'],\n",
    "    use_idf=params['use_idf'],\n",
    "    remove_outliers=params['remove_outliers'],\n",
    "    )\n",
    "\n",
    "\n",
    "# Creating classification model and training ...\n",
    "model = LogisticRegression(max_iter=1000, class_weight='balanced')\n",
    "\n",
    "model.fit(X_train, y_train)\n",
    "\n",
    "# Evaluating metrics on TRAINING\n",
    "y_true = y_train\n",
    "y_pred = model.predict(X_train)\n",
    "y_score= model.predict_proba(X_train)\n",
    "\n",
    "model_name = str(model)\n",
    "columns = ['Model',\n",
    "        'split',\n",
    "        'TN',\n",
    "        'FP',\n",
    "        'FN',\n",
    "        'TP',\n",
    "        'Precision',\n",
    "        'Recall',\n",
    "        'F1-Score',\n",
    "        'AUC', \n",
    "        ]\n",
    "\n",
    "tn, fp, fn, tp = confusion_matrix(y_true, y_pred).ravel()\n",
    "vec1 = [model_name,\n",
    "        'TRAIN',\n",
    "        tn,\n",
    "        fp,\n",
    "        fn,\n",
    "        tp,\n",
    "        precision_score(y_true, y_pred,),\n",
    "        recall_score(y_true, y_pred,),\n",
    "        f1_score(y_true, y_pred,),\n",
    "        roc_auc_score(y_true=y_true, y_score=y_pred)\n",
    "        ]\n",
    "\n",
    "# Evaluating metrics on TESTING\n",
    "y_true = y_test\n",
    "y_pred = model.predict(X_test)\n",
    "y_score= model.predict_proba(X_test)\n",
    "\n",
    "tn, fp, fn, tp = confusion_matrix(y_true, y_pred).ravel()    \n",
    "vec2 = [model_name,\n",
    "        'TEST',\n",
    "        tn,\n",
    "        fp,\n",
    "        fn,\n",
    "        tp,\n",
    "        precision_score(y_true, y_pred,),\n",
    "        recall_score(y_true, y_pred,),\n",
    "        f1_score(y_true, y_pred,),\n",
    "        roc_auc_score(y_true=y_true, y_score=y_pred)\n",
    "        ]\n",
    "m = np.vstack([vec1, vec2])\n",
    "new_df = pd.DataFrame(m, columns=columns)"
   ]
  },
  {
   "cell_type": "code",
   "execution_count": 15,
   "metadata": {},
   "outputs": [],
   "source": [
    "diagnosis_mapping = health_data.Admission.get_diagnoses_mapping()\n",
    "intervention_mapping = health_data.Admission.get_intervention_mapping()\n",
    "\n"
   ]
  },
  {
   "cell_type": "code",
   "execution_count": 34,
   "metadata": {},
   "outputs": [
    {
     "name": "stdout",
     "output_type": "stream",
     "text": [
      "d334       - +1.243 - {'Benign neoplasm of spinal cord'}\n",
      "n9952      - +1.076 - {'Other malfunction of external stoma of urinary tract, NEC'}\n",
      "s250       - +1.001 - {'Injury of thoracic aorta'}\n",
      "t0121      - +0.944 - {'Open wounds involving multiple regions of upper limb(s), complicated'}\n",
      "1vx87la    - +0.935 - {'Excision partial, soft tissue of leg using simple apposition technique [e.g. suture, staple] (for cl'}\n",
      "b008       - +0.912 - {'Other forms of herpesviral infection'}\n",
      "s02700     - +0.839 - {'Multiple fractures involving skull and facial bones, closed'}\n",
      "s998       - +0.814 - {'Other specified injuries of ankle and foot'}\n",
      "1nf86mexxe - +0.795 - {'Closure of fistula, stomach using local flap [e.g. omental transposition flap] for fistula terminati'}\n",
      "b084       - +0.773 - {'Enteroviral vesicular stomatitis with exanthem'}\n",
      "n998       - +0.765 - {'Other postprocedural disorders of genitourinary system'}\n",
      "o90002     - +0.762 - {'Disruption of caesarean section wound, delivered, with mention of postpartum complication'}\n",
      "s02891     - +0.760 - {'Fracture of other and unspecified skull and facial bones NEC, open'}\n",
      "b052       - +0.699 - {'Measles complicated by pneumonia'}\n",
      "s62140     - +0.668 - {'Fracture of trapezoid bone, closed'}\n",
      "1nf86me    - +0.632 - {'Closure of fistula, stomach using simple excision [with or without closure] for fistula terminating ', 'Closure of fistula, stomach using simple excision (with or without (suture) closure) for fistula ter'}\n",
      "b027       - +0.606 - {'Disseminated zoster'}\n",
      "s1430      - +0.604 - {'Laceration of brachial plexus'}\n",
      "s62291     - +0.593 - {'Fracture of unspecified site of first metacarpal bone, open'}\n",
      "o32601     - +0.574 - {'Maternal care for compound presentation, delivered, with or without mention of antepartum condition'}\n"
     ]
    }
   ],
   "source": [
    "features = [(name,importance) for importance,name in zip(model.coef_[0,:], feature_names)]\n",
    "features = sorted(features, key=lambda x: (x[1]))\n",
    "for word, score in features[-20:][::-1]:\n",
    "    if word.upper() in diagnosis_mapping:\n",
    "        print(f'{word:10} - {score:+4.3f} - {diagnosis_mapping[word.upper()]}')\n",
    "    if word.upper() in intervention_mapping:\n",
    "        print(f'{word:10} - {score:+4.3f} - {intervention_mapping[word.upper()]}')\n"
   ]
  },
  {
   "cell_type": "code",
   "execution_count": 33,
   "metadata": {},
   "outputs": [
    {
     "name": "stdout",
     "output_type": "stream",
     "text": [
      "t904       - -1.173 - {'Sequelae of injury of eye and orbit'}\n",
      "c022       - -1.062 - {'Malignant neoplasm ventral surface of tongue'}\n",
      "a085       - -0.975 - {'Other specified intestinal infections'}\n",
      "1vx35hak0  - -0.856 - {'Pharmacotherapy (local), soft tissue of leg using percutaneous approach of antiinfective NEC'}\n",
      "1zz35hap9  - -0.801 - {'Pharmacotherapy, total body nervous system agents percutaneous approach [intramuscular, intravenous,'}\n",
      "c021       - -0.800 - {'Malignant neoplasm of border of tongue'}\n",
      "1gk87la    - -0.769 - {'Excision partial, thymus using open approach'}\n",
      "v953       - -0.766 - {'Accident to commercial fixed-wing aircraft, injuring occupant'}\n",
      "b023       - -0.755 - {'Zoster ocular disease'}\n",
      "r944       - -0.755 - {'Abnormal results of kidney function studies'}\n",
      "s855       - -0.748 - {'Injury of popliteal vein'}\n",
      "1na13dae3  - -0.701 - {'Control of bleeding, esophagus using endoscopic [VATS] approach and cardiac stimulant (e.g. epinephr'}\n",
      "m351       - -0.646 - {'Other overlap syndromes'}\n",
      "2pq71da    - -0.634 - {'Biopsy, urethra using endoscopic approach'}\n",
      "s909       - -0.579 - {'Superficial injury of ankle and foot, unspecified'}\n",
      "m166       - -0.565 - {'Other secondary coxarthrosis, bilateral'}\n",
      "b018       - -0.543 - {'Varicella with other complications'}\n",
      "a080       - -0.525 - {'Rotaviral enteritis'}\n",
      "1na88fcxxg - -0.525 - {'Excision partial with reconstruction, esophagus endoscopic thoracoabdominal approach with gastric pu'}\n",
      "d410       - -0.483 - {'Neoplasm of uncertain or unknown behaviour of kidney'}\n"
     ]
    }
   ],
   "source": [
    "features = [(name,importance) for importance,name in zip(model.coef_[0,:], feature_names)]\n",
    "features = sorted(features, key=lambda x: (x[1]))\n",
    "for word, score in features[:20]:\n",
    "    if word.upper() in diagnosis_mapping:\n",
    "        print(f'{word:10} - {score:+4.3f} - {diagnosis_mapping[word.upper()]}')\n",
    "    if word.upper() in intervention_mapping:\n",
    "        print(f'{word:10} - {score:+4.3f} - {intervention_mapping[word.upper()]}')\n"
   ]
  },
  {
   "cell_type": "code",
   "execution_count": 12,
   "metadata": {},
   "outputs": [
    {
     "data": {
      "text/plain": [
       "(1, 17136)"
      ]
     },
     "execution_count": 12,
     "metadata": {},
     "output_type": "execute_result"
    }
   ],
   "source": [
    "model.coef_.shape"
   ]
  },
  {
   "cell_type": "code",
   "execution_count": null,
   "metadata": {},
   "outputs": [],
   "source": []
  }
 ],
 "metadata": {
  "kernelspec": {
   "display_name": "alc",
   "language": "python",
   "name": "python3"
  },
  "language_info": {
   "codemirror_mode": {
    "name": "ipython",
    "version": 3
   },
   "file_extension": ".py",
   "mimetype": "text/x-python",
   "name": "python",
   "nbconvert_exporter": "python",
   "pygments_lexer": "ipython3",
   "version": "3.9.6"
  }
 },
 "nbformat": 4,
 "nbformat_minor": 2
}
