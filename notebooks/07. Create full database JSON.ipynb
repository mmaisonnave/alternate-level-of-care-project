{
 "cells": [
  {
   "cell_type": "markdown",
   "metadata": {},
   "source": [
    "### Readme\n",
    "This notebooks read the etire database from ``confg['unified_merged_file']``, creates a JSON with the same information (cleaner) and stores it in ``config['json_file']``\n",
    "\n",
    "A total of 618,697 instances are stored. 28 features for each (original 27 + cz status)\n",
    "\n"
   ]
  },
  {
   "cell_type": "code",
   "execution_count": 47,
   "metadata": {},
   "outputs": [],
   "source": [
    "import pandas as pd\n",
    "import matplotlib.pyplot as plt\n",
    "from datetime import date\n",
    "import datetime\n",
    "import numpy as np\n",
    "import seaborn as sns\n",
    "import re\n",
    "import json\n",
    "import pandas as pd\n",
    "import math\n",
    "import ast\n",
    "import os\n",
    "import sys\n",
    "sys.path.append('..')\n",
    "from utilities import logger\n",
    "from utilities import configuration\n"
   ]
  },
  {
   "cell_type": "code",
   "execution_count": 3,
   "metadata": {},
   "outputs": [
    {
     "name": "stdout",
     "output_type": "stream",
     "text": [
      "system_log                               (type: <class 'str'>)\n",
      "json_file                                (type: <class 'str'>)\n",
      "unified_merged_file_cz                   (type: <class 'str'>)\n",
      "unified_merged_file_noncz                (type: <class 'str'>)\n",
      "unified_merged_file                      (type: <class 'str'>)\n",
      "data_path                                (type: <class 'str'>)\n",
      "cz_files                                 (type: <class 'list'>)\n",
      "noncz_files                              (type: <class 'list'>)\n",
      "2023-09-29 09:04:52,431 - root - DEBUG - Logger has started ont notebook 05. Analysing features.ipynb ...\n"
     ]
    }
   ],
   "source": [
    "config = configuration.get_config()\n",
    "for key in config:\n",
    "    print(f'{key:40} (type: {type(config[key])})')\n",
    "\n",
    "\n",
    "logging = logger.init_logger(config['system_log'])\n",
    "logging.debug('Logger has started ont notebook 07. Create full database JSON')\n"
   ]
  },
  {
   "cell_type": "code",
   "execution_count": 4,
   "metadata": {},
   "outputs": [
    {
     "name": "stderr",
     "output_type": "stream",
     "text": [
      "/var/folders/d0/9279s72s163gx0_12qbmr9440000gn/T/ipykernel_1498/1556158936.py:1: DtypeWarning: Columns (18,20) have mixed types. Specify dtype option on import or set low_memory=False.\n",
      "  df = pd.read_csv(config['unified_merged_file'])\n"
     ]
    }
   ],
   "source": [
    "df = pd.read_csv(config['unified_merged_file'])\n"
   ]
  },
  {
   "cell_type": "code",
   "execution_count": 29,
   "metadata": {},
   "outputs": [],
   "source": [
    "data={}\n",
    "for ix in range(df.shape[0]):\n",
    "    row = df.iloc[ix,:]\n",
    "    # --------- #\n",
    "    # Coded HCN #\n",
    "    # --------- #\n",
    "\n",
    "    coded_hcn = row['Coded HCN']\n",
    "    if  '[' in coded_hcn and ']' in coded_hcn: # Coded HCN is a list.\n",
    "        if coded_hcn=='[]': # Empty list\n",
    "            coded_hcn=None\n",
    "        else: # list with at least one element.\n",
    "            coded_hcn = re.findall('([0-9\\.][0-9\\.]*)',coded_hcn)\n",
    "            assert str(coded_hcn).replace(\"'\",'')==row['Coded HCN'], str(ix)+':'+str(coded_hcn)\n",
    "            coded_hcn = list(filter(lambda elem: elem!=170805, map(int, map(float,coded_hcn))))\n",
    "            assert len(coded_hcn)<=1\n",
    "            coded_hcn = None if len(coded_hcn)==0 else coded_hcn[0]\n",
    "    else: # Coded HCN is a single number\n",
    "        coded_hcn = int(float(coded_hcn))\n",
    "        assert coded_hcn==float(row['Coded HCN'])\n",
    "    data[ix]={'HCN code':coded_hcn}\n",
    "\n",
    "    # ------------------ #\n",
    "    # Institution Number #\n",
    "    # ------------------ #\n",
    "    institution_number = int(row['Institution Number:'])\n",
    "    data[ix]['Institution Number'] = institution_number\n",
    "\n",
    "    # ------------------------ #\n",
    "    # Admit and Discharge Date #\n",
    "    # ------------------------ #\n",
    "    admit_date = datetime.datetime.fromisoformat(row['Admit Date:'][:10]) if not isinstance(row['Admit Date:'], float) else None\n",
    "    discharge_date = datetime.datetime.fromisoformat(row['Disch Date:'][:10])\n",
    "    data[ix]['Admit Date'] = admit_date\n",
    "    data[ix]['Discharge Date'] = discharge_date\n",
    "\n",
    "    readmission_code = row['Readmission Code:'] if row['Readmission Code:']!='**' else None\n",
    "    assert readmission_code is None or (not '[' in readmission_code and not ']' in readmission_code and not '**' in readmission_code, row['Readmission Code:'])\n",
    "    data[ix]['Readmission Code']=readmission_code\n",
    "\n",
    "    # ----------- #\n",
    "    # Patient Age #\n",
    "    # ----------- #\n",
    "    patient_age = int(row['Patient Age:'])\n",
    "    data[ix]['Patient Age'] = patient_age\n",
    "\n",
    "    # ------ #\n",
    "    # Gender #\n",
    "    # ------ #\n",
    "    gender = row['Gender:'] if row['Gender:']!='**' else None\n",
    "    data[ix]['Gender'] = gender\n",
    "\n",
    "\n",
    "    # ---- #\n",
    "    # MRDx #\n",
    "    # ---- #\n",
    "    mrdx = row['MRDx']\n",
    "    assert not mrdx.startswith('[') and not '**' in mrdx, mrdx\n",
    "    data[ix]['MRDx'] = mrdx\n",
    "\n",
    "    postal_code = row['Postal Code:'] if row['Postal Code:']!='**' else None\n",
    "    assert postal_code is None or len(postal_code)==6,postal_code\n",
    "    assert postal_code is None or postal_code.isalnum(), postal_code\n",
    "    data[ix]['Postal Code'] = postal_code\n",
    "\n",
    "    # --------- #\n",
    "    # Diagnosis #\n",
    "    # --------- #\n",
    "    diagnosis = row['Diagnosis:']\n",
    "    if '[' in diagnosis:\n",
    "        if diagnosis=='[]':\n",
    "            diagnosis=[]\n",
    "        else:\n",
    "            diagnosis = ast.literal_eval(diagnosis)\n",
    "            assert str(diagnosis)==row['Diagnosis:']\n",
    "    elif diagnosis=='**':\n",
    "        diagnosis = []\n",
    "    else:\n",
    "        diagnosis = [diagnosis]\n",
    "    assert diagnosis!='**',diagnosis\n",
    "    data[ix]['Diagnosis Code']= diagnosis\n",
    "\n",
    "    # ------------------- #\n",
    "    # Diagnosis Long Text #\n",
    "    # ------------------- #\n",
    "    diagnosis_long_text = row['Diagnosis Long Text']\n",
    "    if '**'== diagnosis_long_text or '[]'==diagnosis_long_text:\n",
    "        diagnosis_long_text=[]\n",
    "    elif diagnosis_long_text.startswith('[')  and diagnosis_long_text.endswith(']'):\n",
    "        diagnosis_long_text = ast.literal_eval(diagnosis_long_text)\n",
    "        assert str(diagnosis_long_text)==row['Diagnosis Long Text'],str(ix)+':'+str(diagnosis_long_text)\n",
    "    else:\n",
    "        diagnosis_long_text = [diagnosis_long_text]\n",
    "    data[ix]['Diagnosis Long Text']= diagnosis_long_text\n",
    "\n",
    "    # -------------- #\n",
    "    # Diagnosis type #\n",
    "    # -------------- #\n",
    "    diagnosis_type = row['Diagnosis Type']\n",
    "    if '**'== diagnosis_type or '[]'==diagnosis_type:\n",
    "        diagnosis_type=[]\n",
    "    elif '[' in diagnosis_type and ']' in diagnosis_type:\n",
    "        diagnosis_type = ast.literal_eval(diagnosis_type)\n",
    "        assert str(diagnosis_type)==row['Diagnosis Type']\n",
    "    else:\n",
    "        diagnosis_type = [diagnosis_type]\n",
    "    data[ix]['Diagnosis Type']= diagnosis_type\n",
    "    \n",
    "    # ----------------- #\n",
    "    # Intervention Code #\n",
    "    # ----------------- #\n",
    "    intervention_code = row['Intervention Code']\n",
    "    if '**'== intervention_code or '[]'==intervention_code:\n",
    "        intervention_code=[]\n",
    "    elif '[' in intervention_code and ']' in intervention_code:\n",
    "        intervention_code = ast.literal_eval(intervention_code)\n",
    "        assert str(intervention_code) == row['Intervention Code']\n",
    "    else:\n",
    "        intervention_code = [intervention_code]\n",
    "    data[ix]['Intervention Code']= intervention_code\n",
    "\n",
    "    # ------------ #\n",
    "    # Px Long Text #\n",
    "    # ------------ #\n",
    "    px_long_text = row['Px Long Text']\n",
    "    if '**'== px_long_text or '[]'==px_long_text:\n",
    "        px_long_text=[]\n",
    "    elif px_long_text.startswith('[') and px_long_text.endswith(']'):\n",
    "        px_long_text = ast.literal_eval(px_long_text)\n",
    "        assert str(px_long_text)==row['Px Long Text'], str(ix)+':'+str(px_long_text)\n",
    "    else:\n",
    "        px_long_text = [px_long_text]\n",
    "    data[ix]['Px Long Text']= px_long_text\n",
    "    \n",
    "    # ------------- #\n",
    "    # Admit Ctegory #\n",
    "    # ------------- #\n",
    "    admit_category = row['Admit Category:'] if row['Admit Category:']!='**' else None\n",
    "    assert admit_category!='**' and admit_category!='[]', admit_category\n",
    "    data[ix]['Admit Category']=admit_category\n",
    "\n",
    "    # ---------- #\n",
    "    # Entry Code #\n",
    "    # ---------- #\n",
    "    entry_code = row['Entry Code:'] if row['Entry Code:']!='**' else None\n",
    "    assert entry_code!='**' and entry_code!='[]', entry_code\n",
    "    data[ix]['Entry Code']=entry_code\n",
    "\n",
    "    # ----------------- #\n",
    "    # Transfusion Given #\n",
    "    # ----------------- #\n",
    "    transfusion_given = row['Transfusion Given']  if row['Transfusion Given']!='**' else None\n",
    "    assert transfusion_given!='**' and transfusion_given!='[]', transfusion_given\n",
    "    data[ix]['Transfusion Given']=transfusion_given\n",
    "\n",
    "    # ---------------- #\n",
    "    # Main Pt Service: #\n",
    "    # ---------------- #\n",
    "    main_pt_service = row['Main Pt Service:'] if row['Main Pt Service:']!='**' else None\n",
    "    assert main_pt_service!='**' and main_pt_service!='[]', main_pt_service\n",
    "    data[ix]['Main Pt Service']=main_pt_service\n",
    "\n",
    "    # --- #\n",
    "    # CMG # \n",
    "    # --- #\n",
    "    cmg = float(row['CMG']) if row['CMG']!='**' else None\n",
    "    assert cmg!='**' and cmg!='[]', cmg\n",
    "    data[ix]['CMG'] = cmg\n",
    "\n",
    "    # ----------------- #\n",
    "    # Comorbidity Level #\n",
    "    # ----------------- #\n",
    "    comorbidity_level = row['Comorbidity Level'] if row['Comorbidity Level']!='**' else None\n",
    "    assert comorbidity_level!='**' and comorbidity_level!='[]', comorbidity_level\n",
    "    data[ix]['Comorbidity Level']=comorbidity_level\n",
    "\n",
    "    # ----------- #\n",
    "    # Case Weight #\n",
    "    # ----------- #\n",
    "    case_weight = row['Case Weight']\n",
    "    if case_weight=='1,946.89':\n",
    "        case_weight=1946.89\n",
    "    case_weight = float(case_weight) if case_weight!='**' else None\n",
    "    \n",
    "    assert case_weight!='**' and case_weight!='[]', case_weight\n",
    "    data[ix]['Case Weight']=case_weight\n",
    "\n",
    "    # ------- #\n",
    "    # ALCDays #\n",
    "    # ------- #\n",
    "    alcdays = int(row['ALCDays']) if row['ALCDays']!='**' else None\n",
    "    assert alcdays!='**' and alcdays!='[]', alcdays\n",
    "    data[ix]['ALC Days']=alcdays\n",
    "\n",
    "    # ---------- #\n",
    "    # Acute Days #\n",
    "    # ---------- # \n",
    "    acute_days = int(row['Acute Days']) if row['Acute Days']!='**' else None\n",
    "    assert acute_days!='**' and acute_days!='[]', acute_days\n",
    "    data[ix]['Acute Days']=acute_days\n",
    "\n",
    "    # -------------- #\n",
    "    # Institution To #\n",
    "    # -------------- # \n",
    "    institution_to = (row['Institution To']) if row['Institution To']!='**' else None\n",
    "    assert institution_to!='**' and institution_to!='[]', institution_to\n",
    "    data[ix]['Institution To']=institution_to\n",
    "\n",
    "\n",
    "    # ---------------- #\n",
    "    # Institution From #\n",
    "    # ---------------- #\n",
    "    institution_from = (row['Institution From']) if row['Institution From']!='**' else None\n",
    "    assert institution_from!='**' and institution_from!='[]', institution_from\n",
    "    data[ix]['Institution From']=institution_from\n",
    "\n",
    "\n",
    "    # ---------------- #\n",
    "    # Institution Type #\n",
    "    # ---------------- #\n",
    "    institution_type = (row['Institution Type']) if row['Institution Type']!='**' else None\n",
    "    assert institution_type!='**' and institution_type!='[]', institution_type\n",
    "    data[ix]['Institution Type']=institution_type\n",
    "\n",
    "\n",
    "    # -------------------- #\n",
    "    # Discharge Nurse Unit #\n",
    "    # -------------------- #\n",
    "    discharge_nurse_unit = (row['Discharge Nurse Unit']) if row['Discharge Nurse Unit']!='**' else None\n",
    "    assert discharge_nurse_unit!='**' and discharge_nurse_unit!='[]', discharge_nurse_unit\n",
    "    data[ix]['Discharge Nurse Unit']=discharge_nurse_unit\n",
    "\n",
    "    # --------- #\n",
    "    # CZ Status #\n",
    "    # --------- #\n",
    "    cz_status = row['CZ status']\n",
    "    assert cz_status!='**' and cz_status!='[]'\n",
    "    data[ix]['CZ Status']=cz_status\n",
    "\n",
    "    "
   ]
  },
  {
   "cell_type": "markdown",
   "metadata": {},
   "source": [
    "**Saving to JSON ...**"
   ]
  },
  {
   "cell_type": "code",
   "execution_count": 52,
   "metadata": {},
   "outputs": [],
   "source": [
    "with open(config['json_file'], 'w') as f:\n",
    "    json.dump(data, f, default=str)"
   ]
  },
  {
   "cell_type": "markdown",
   "metadata": {},
   "source": [
    "**How to load JSON?**"
   ]
  },
  {
   "cell_type": "code",
   "execution_count": 53,
   "metadata": {},
   "outputs": [],
   "source": [
    "f = open(config['json_file'])\n",
    "recovered_data = json.load(f)"
   ]
  },
  {
   "cell_type": "code",
   "execution_count": 56,
   "metadata": {},
   "outputs": [
    {
     "data": {
      "text/plain": [
       "'0'"
      ]
     },
     "execution_count": 56,
     "metadata": {},
     "output_type": "execute_result"
    }
   ],
   "source": [
    "list(recovered_data)[0]"
   ]
  },
  {
   "cell_type": "markdown",
   "metadata": {},
   "source": [
    "### Testing with a Random data entry"
   ]
  },
  {
   "cell_type": "code",
   "execution_count": 63,
   "metadata": {},
   "outputs": [
    {
     "name": "stdout",
     "output_type": "stream",
     "text": [
      "HCN code             (<class 'int'>): 1159480\n",
      "Institution Number   (<class 'int'>): 65\n",
      "Admit Date           (<class 'str'>): 2014-12-24 00:00:00\n",
      "Discharge Date       (<class 'str'>): 2015-01-01 00:00:00\n",
      "Readmission Code     (<class 'str'>): 5 New patient to the acute care unit\n",
      "Patient Age          (<class 'int'>): 67\n",
      "Gender               (<class 'str'>): Male\n",
      "MRDx                 (<class 'str'>): K746  Other and unspecified cirrhosis of liver\n",
      "Postal Code          (<class 'str'>): B3A2K1\n",
      "Diagnosis Code       (<class 'list'>): ['K746', 'K431', 'R18', 'K760', 'K650', 'I518', 'L988', 'L984', 'K439', 'J90']\n",
      "Diagnosis Long Text  (<class 'list'>): ['Other and unspecified cirrhosis of liver', 'Incisional hernia with gangrene', 'Ascites', 'Fatty (change of) liver, not elsewhere classified', 'Acute peritonitis', 'Other ill-defined heart diseases', 'Other specified disorders of skin and subcutaneous tissue', 'Chronic ulcer of skin, not elsewhere classified', 'Other and unspecified ventral hernia without obstruction or gangrene', 'Pleural effusion, not elsewhere classified']\n",
      "Diagnosis Type       (<class 'list'>): ['M', '1', 'W', '1', '1', '1', '1', '1', '1', '3']\n",
      "Intervention Code    (<class 'list'>): ['1OT52HHD1']\n",
      "Px Long Text         (<class 'list'>): ['Drainage, abdominal cavity using percutaneous transcatheter approach and anti infective irrigating s']\n",
      "Admit Category       (<class 'str'>): U Emergent, urgent\n",
      "Entry Code           (<class 'str'>): E Emergency Departme\n",
      "Transfusion Given    (<class 'str'>): Yes\n",
      "Main Pt Service      (<class 'str'>): Family Practice\n",
      "CMG                  (<class 'float'>): 285.0\n",
      "Comorbidity Level    (<class 'str'>): 1  Level 1 Comorbidity\n",
      "Case Weight          (<class 'float'>): 1.3894\n",
      "ALC Days             (<class 'int'>): 0\n",
      "Acute Days           (<class 'int'>): 8\n",
      "Institution To       (<class 'str'>): QE11 Health Sciences Centre\n",
      "Institution From     (<class 'str'>): Home Care NS - CIHI Disch Dispn 04, Dialysis, VON\n",
      "Institution Type     (<class 'str'>): ACUTE, ACUTE PSYCHIATRIC (0)\n",
      "Discharge Nurse Unit (<class 'str'>): D42\n",
      "CZ Status            (<class 'str'>): cz\n"
     ]
    }
   ],
   "source": [
    "for key in recovered_data['0']:\n",
    "    print(f\"{key:20} ({str(type(recovered_data['0'][key])):10}): {recovered_data['0'][key]}\")"
   ]
  },
  {
   "cell_type": "code",
   "execution_count": 55,
   "metadata": {},
   "outputs": [
    {
     "ename": "KeyError",
     "evalue": "306092",
     "output_type": "error",
     "traceback": [
      "\u001b[0;31m---------------------------------------------------------------------------\u001b[0m",
      "\u001b[0;31mKeyError\u001b[0m                                  Traceback (most recent call last)",
      "Cell \u001b[0;32mIn[55], line 2\u001b[0m\n\u001b[1;32m      1\u001b[0m ix \u001b[39m=\u001b[39m np\u001b[39m.\u001b[39mrandom\u001b[39m.\u001b[39mrandint(\u001b[39m0\u001b[39m,high\u001b[39m=\u001b[39mdf\u001b[39m.\u001b[39mshape[\u001b[39m0\u001b[39m])\n\u001b[0;32m----> 2\u001b[0m \u001b[39mfor\u001b[39;00m key \u001b[39min\u001b[39;00m recovered_data[ix]:\n\u001b[1;32m      3\u001b[0m     \u001b[39mprint\u001b[39m(\u001b[39mf\u001b[39m\u001b[39m'\u001b[39m\u001b[39m{\u001b[39;00mkey\u001b[39m}\u001b[39;00m\u001b[39m: \u001b[39m\u001b[39m{\u001b[39;00mrecovered_data[ix][key]\u001b[39m}\u001b[39;00m\u001b[39m'\u001b[39m)\n",
      "\u001b[0;31mKeyError\u001b[0m: 306092"
     ]
    }
   ],
   "source": [
    "ix = np.random.randint(0,high=df.shape[0])\n",
    "for key in recovered_data[ix]:\n",
    "    print(f'{key}: {recovered_data[ix][key]}')\n"
   ]
  },
  {
   "cell_type": "code",
   "execution_count": 42,
   "metadata": {},
   "outputs": [
    {
     "name": "stdout",
     "output_type": "stream",
     "text": [
      "Institution Number:                                                        85\n",
      "Coded HCN                                                          13003494.0\n",
      "Admit Date:                                                        2017-07-10\n",
      "Disch Date:                                                        2017-07-12\n",
      "Readmission Code:                        5 New patient to the acute care unit\n",
      "Patient Age:                                                               20\n",
      "Gender:                                                                Female\n",
      "MRDx                                          K074  Malocclusion, unspecified\n",
      "Postal Code:                                                           B3L4P9\n",
      "Diagnosis:                                                               K074\n",
      "Diagnosis Long Text                                 Malocclusion, unspecified\n",
      "Diagnosis Type                                                              M\n",
      "Intervention Code                      ['1EF80LANWK', '1FE57JA', '1EF03JAFA']\n",
      "Px Long Text                ['Repair, maxilla with mandible open approach ...\n",
      "Admit Category:                                                    L Elective\n",
      "Entry Code:                                                          D Direct\n",
      "Transfusion Given                                                          No\n",
      "Main Pt Service:                                                 Oral Surgery\n",
      "CMG                                                                      78.0\n",
      "Comorbidity Level                               0  No Significant Comorbidity\n",
      "Case Weight                                                            0.9338\n",
      "ALCDays                                                                     0\n",
      "Acute Days                                                                  2\n",
      "Institution To                                                             **\n",
      "Institution From                                                           **\n",
      "Institution Type                                                           **\n",
      "Discharge Nurse Unit                                                       3B\n",
      "is ALC Patient                                                          False\n",
      "Disch Date (year-month):                                              2017-07\n",
      "Total Days in Hospital                                                    2.0\n",
      "CZ status                                                                  cz\n",
      "Name: 83602, dtype: object\n"
     ]
    }
   ],
   "source": [
    "print(df.iloc[ix,:])"
   ]
  },
  {
   "cell_type": "markdown",
   "metadata": {},
   "source": [
    "### Checking large case weight cases"
   ]
  },
  {
   "cell_type": "code",
   "execution_count": 46,
   "metadata": {},
   "outputs": [
    {
     "name": "stdout",
     "output_type": "stream",
     "text": [
      "{'HCN code': 8244681, 'Institution Number': 77, 'Admit Date': datetime.datetime(1969, 1, 17, 0, 0), 'Discharge Date': datetime.datetime(2017, 7, 26, 0, 0), 'Readmission Code': '5 New patient to the acute care unit', 'Patient Age': 6, 'Gender': 'Male', 'MRDx': 'F718  Moderate mental retardation, other impairments of behaviour', 'Postal Code': 'B2Y3Z9', 'Diagnosis Code': ['F718', 'Z751', 'F639', 'G4090', 'K029', 'N390', 'R310'], 'Diagnosis Long Text': ['Moderate mental retardation, other impairments of behaviour', 'Person awaiting admission to adequate facility elsewhere', 'Habit and impulse disorder, unspecified', 'Epilepsy, unspecified, not stated as intractable', 'Dental caries, unspecified', 'Urinary tract infection, site not specified', 'Gross hematuria'], 'Diagnosis Type': ['M', 'W', '1', '1', '1', '2', '2'], 'Intervention Code': ['1FE29JARG', '1FE29JARG', '1FE94JA', '2PM70BA'], 'Px Long Text': ['Restoration,  tooth filling using amalgam (bonded or unbonded)', 'Restoration,  tooth filling using amalgam (bonded or unbonded)', 'Therapeutic intervention NEC, tooth using external approach', 'Inspection, bladder using endoscopic per orifice approach'], 'Admit Category': 'U Emergent, urgent', 'Entry Code': 'D Direct', 'Transfusion Given': 'No', 'Main Pt Service': 'Psychiatry', 'CMG': 709.0, 'Comorbidity Level': '0  No Significant Comorbidity', 'Case Weight': 2000.0, 'ALC Days': 379, 'Acute Days': 17343, 'Institution To': 'Dartmouth General Hospital', 'Institution From': None, 'Institution Type': 'ACUTE, ACUTE PSYCHIATRIC (0)', 'Discharge Nurse Unit': 'NEH', 'CZ Status': 'cz'}\n",
      "\n",
      "\n",
      "{'HCN code': 7100041, 'Institution Number': 87, 'Admit Date': datetime.datetime(1975, 6, 26, 0, 0), 'Discharge Date': datetime.datetime(2020, 4, 18, 0, 0), 'Readmission Code': '1', 'Patient Age': 36, 'Gender': 'Male', 'MRDx': 'F638  Other habit and impulse disorders', 'Postal Code': 'B1P1P3', 'Diagnosis Code': ['F638', 'F069', 'F200', 'F721', 'Z753', 'J440', 'Z515', 'J189', 'I500', 'R768', 'N40', 'E660', 'R4180', 'L304', 'M199', 'M179', 'I959', 'E039', 'I100', 'N492', 'S001', 'W0500', 'U9820', 'N390', 'C61'], 'Diagnosis Long Text': ['Other habit and impulse disorders', 'Unspecified mental disorder due to brain damage and dysfunction and to physical disease', 'Paranoid schizophrenia', 'Severe mental retardation, significant impairment of behaviour requiring attention or treatment', 'Unavailability and inaccessibility of health-care facilities', 'Chronic obstructive pulmonary disease with acute lower respiratory infection', 'Palliative care', 'Pneumonia, unspecified', 'Congestive heart failure', 'Other specified abnormal immunological findings in serum', 'Hyperplasia of prostate', 'Obesity due to excess calories', 'Transient alteration of awareness', 'Erythema intertrigo', 'Arthrosis, unspecified', 'Gonarthrosis, unspecified', 'Hypotension, unspecified', 'Hypothyroidism, unspecified', 'Benign hypertension', 'Inflammatory disorders of scrotum', 'Contusion of eyelid and periocular area', 'Fall involving wheelchair', 'Place of occurrence, hospital', 'Urinary tract infection, site not specified', 'Malignant neoplasm of prostate'], 'Diagnosis Type': ['M', '1', '1', '1', 'W', '1', '1', '2', '2', '2', '2', '2', '2', '2', '2', '2', '2', '2', '1', '2', '2', '9', '9', '2', '3'], 'Intervention Code': ['1TA35HAJ2'], 'Px Long Text': ['Pharmacotherapy (local), shoulder joint percutaneous needle approach using corticosteroid agent'], 'Admit Category': 'L Elective', 'Entry Code': 'D Direct', 'Transfusion Given': 'No', 'Main Pt Service': 'Psychiatry', 'CMG': 672.0, 'Comorbidity Level': '4  Level 4 Comorbidity', 'Case Weight': 1946.89, 'ALC Days': 16300, 'Acute Days': 68, 'Institution To': None, 'Institution From': '20077', 'Institution Type': None, 'Discharge Nurse Unit': 'CB.1D - ETU', 'CZ Status': 'Non-cz'}\n",
      "\n",
      "\n"
     ]
    }
   ],
   "source": [
    "for data_item in [data[ix] for ix in range(len(data)) if not data[ix]['Case Weight'] is None and data[ix]['Case Weight']>1600]:\n",
    "    print(data_item)\n",
    "    print()\n",
    "    print()"
   ]
  },
  {
   "cell_type": "code",
   "execution_count": 56,
   "metadata": {},
   "outputs": [],
   "source": [
    "\n",
    "\n"
   ]
  }
 ],
 "metadata": {
  "kernelspec": {
   "display_name": "alc",
   "language": "python",
   "name": "python3"
  },
  "language_info": {
   "codemirror_mode": {
    "name": "ipython",
    "version": 3
   },
   "file_extension": ".py",
   "mimetype": "text/x-python",
   "name": "python",
   "nbconvert_exporter": "python",
   "pygments_lexer": "ipython3",
   "version": "3.9.6"
  },
  "orig_nbformat": 4
 },
 "nbformat": 4,
 "nbformat_minor": 2
}
