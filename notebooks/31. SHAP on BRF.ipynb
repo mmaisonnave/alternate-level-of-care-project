{
 "cells": [
  {
   "cell_type": "code",
   "execution_count": 7,
   "id": "7b633cdd-85a7-45d0-997b-98bed24a6580",
   "metadata": {},
   "outputs": [],
   "source": [
    "import sys\n",
    "import pickle\n",
    "\n",
    "sys.path.append('..')\n",
    "\n",
    "from utilities import configuration\n",
    "from utilities import health_data\n",
    "config = configuration.get_config()"
   ]
  },
  {
   "cell_type": "code",
   "execution_count": 10,
   "id": "f9c216d4-7e91-41fe-8654-e929ebb58a2f",
   "metadata": {},
   "outputs": [
    {
     "name": "stdin",
     "output_type": "stream",
     "text": [
      "Enter key for decryption:  ········\n"
     ]
    },
    {
     "name": "stdout",
     "output_type": "stream",
     "text": [
      " 0 matrix.shape=(419139, 5)\n",
      " 1 matrix.shape=(419139, 68)\n",
      " 2 matrix.shape=(419139, 8011)\n",
      " 3 matrix.shape=(419139, 5572)\n",
      "(419139, 13656)\n"
     ]
    }
   ],
   "source": [
    "import json\n",
    "EXPERIMENT_CONFIGURATION_NAME = 'configuration_82'\n",
    "experiment_configurations = json.load(open(config['experiments_config'], encoding='utf-8'))\n",
    "X_train, y_train, X_test, y_test, columns = health_data.Admission.get_train_test_matrices(experiment_configurations[EXPERIMENT_CONFIGURATION_NAME])\n",
    "print(X_train.shape)"
   ]
  },
  {
   "cell_type": "code",
   "execution_count": 11,
   "id": "cd0cbde0-c92b-4a8a-8c7c-e2bdce374d08",
   "metadata": {},
   "outputs": [
    {
     "name": "stdout",
     "output_type": "stream",
     "text": [
      "(419139, 13656)\n"
     ]
    }
   ],
   "source": [
    "print(X_train.shape)"
   ]
  },
  {
   "cell_type": "code",
   "execution_count": 12,
   "id": "d98266c9-c681-44f7-8677-2df787323c76",
   "metadata": {},
   "outputs": [],
   "source": [
    "import joblib\n",
    "brf = joblib.load(config['balanced_random_forest_path'])\n"
   ]
  },
  {
   "cell_type": "code",
   "execution_count": 13,
   "id": "0b454fbb-083a-4312-b885-dc363c3a30a5",
   "metadata": {},
   "outputs": [
    {
     "name": "stdout",
     "output_type": "stream",
     "text": [
      "Test AUC score: 0.7340332487897987\n"
     ]
    }
   ],
   "source": [
    "from sklearn.metrics import roc_auc_score\n",
    "print(f'Test AUC score: {roc_auc_score(y_true=y_test, y_score=brf.predict_proba(X_test)[:,1])}')"
   ]
  },
  {
   "cell_type": "code",
   "execution_count": 15,
   "id": "2b386618-8387-4893-af59-f343e7039e36",
   "metadata": {},
   "outputs": [
    {
     "data": {
      "text/plain": [
       "(10, 13656)"
      ]
     },
     "execution_count": 15,
     "metadata": {},
     "output_type": "execute_result"
    }
   ],
   "source": [
    "X_test[:10,:].shape"
   ]
  },
  {
   "cell_type": "code",
   "execution_count": null,
   "id": "e2441380-8434-48c7-994b-936a6f2797ff",
   "metadata": {},
   "outputs": [
    {
     "name": "stderr",
     "output_type": "stream",
     "text": [
      "PermutationExplainer explainer: 100%|██████████| 10/10 [59:46<00:00, 397.23s/it]"
     ]
    }
   ],
   "source": [
    "import shap\n",
    "\n",
    "sampled_X = shap.utils.sample(X_test.toarray(), 1000)  # 100 instances for use as the background distribution\n",
    "explainer = shap.Explainer(brf.predict, sampled_X)\n",
    "shap_values = explainer(X_test[:10,:].toarray(), \n",
    "                        max_evals=2*X_test.shape[1]+1)\n",
    "\n",
    "sampled_X.shape"
   ]
  },
  {
   "cell_type": "code",
   "execution_count": null,
   "id": "9d1029c6-242f-4614-8440-2b8937057413",
   "metadata": {},
   "outputs": [],
   "source": [
    "shap.plots.beeswarm(shap_values)\n"
   ]
  },
  {
   "cell_type": "code",
   "execution_count": null,
   "id": "52db3cbf-5ce4-49c7-93d6-94b56b665140",
   "metadata": {},
   "outputs": [],
   "source": [
    "print()"
   ]
  },
  {
   "cell_type": "code",
   "execution_count": null,
   "id": "571f5b4d-94e0-4feb-961c-57d8b82e024c",
   "metadata": {},
   "outputs": [],
   "source": [
    "sampled_X.shape"
   ]
  },
  {
   "cell_type": "code",
   "execution_count": 21,
   "id": "90f5324f-8423-450a-91d9-ca9c8ab3bf55",
   "metadata": {},
   "outputs": [
    {
     "data": {
      "text/plain": [
       "scipy.sparse._csr.csr_matrix"
      ]
     },
     "execution_count": 21,
     "metadata": {},
     "output_type": "execute_result"
    }
   ],
   "source": [
    "type(X_test)"
   ]
  },
  {
   "cell_type": "code",
   "execution_count": 19,
   "id": "79bc5ca7-c64b-4d67-8002-8de0b8a10e97",
   "metadata": {},
   "outputs": [
    {
     "data": {
      "text/plain": [
       "(104884, 13656)"
      ]
     },
     "execution_count": 19,
     "metadata": {},
     "output_type": "execute_result"
    }
   ],
   "source": [
    "X_test.shape"
   ]
  },
  {
   "cell_type": "code",
   "execution_count": 16,
   "id": "43ffb002-140f-4ace-be82-e968cc60751f",
   "metadata": {},
   "outputs": [],
   "source": [
    "explainer = explainer_ebm"
   ]
  },
  {
   "cell_type": "code",
   "execution_count": null,
   "id": "8f392d7f-6085-4705-b184-b0d635fdab5c",
   "metadata": {},
   "outputs": [],
   "source": []
  },
  {
   "cell_type": "code",
   "execution_count": null,
   "id": "171b2ba2-ccb8-4acc-8454-a944971cce39",
   "metadata": {},
   "outputs": [],
   "source": [
    "shap.plots.bar(shap_values)\n"
   ]
  }
 ],
 "metadata": {
  "kernelspec": {
   "display_name": "alc",
   "language": "python",
   "name": "alc"
  },
  "language_info": {
   "codemirror_mode": {
    "name": "ipython",
    "version": 3
   },
   "file_extension": ".py",
   "mimetype": "text/x-python",
   "name": "python",
   "nbconvert_exporter": "python",
   "pygments_lexer": "ipython3",
   "version": "3.9.6"
  }
 },
 "nbformat": 4,
 "nbformat_minor": 5
}
