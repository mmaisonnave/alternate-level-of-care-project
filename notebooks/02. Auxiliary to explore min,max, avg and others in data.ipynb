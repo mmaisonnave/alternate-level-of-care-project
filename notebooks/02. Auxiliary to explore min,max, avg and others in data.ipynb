{
 "cells": [
  {
   "cell_type": "markdown",
   "metadata": {},
   "source": [
    "#### **Auxiliary notebook**\n",
    "**Used to explore counts, min, max, average, and other stats on the datasets (both CZ and Non CZ)**\n",
    "\n",
    "_Many of the cells used were used, edited and/or deleted during the process._"
   ]
  },
  {
   "cell_type": "markdown",
   "metadata": {},
   "source": [
    "# CZ Files"
   ]
  },
  {
   "cell_type": "code",
   "execution_count": 275,
   "metadata": {},
   "outputs": [],
   "source": [
    "import yaml\n",
    "import pandas as pd\n",
    "import re"
   ]
  },
  {
   "cell_type": "code",
   "execution_count": 276,
   "metadata": {},
   "outputs": [],
   "source": [
    "with open('../config/paths.yaml', 'r') as file:\n",
    "    config = yaml.safe_load(file)"
   ]
  },
  {
   "cell_type": "code",
   "execution_count": 104,
   "metadata": {},
   "outputs": [
    {
     "name": "stderr",
     "output_type": "stream",
     "text": [
      "/var/folders/d0/9279s72s163gx0_12qbmr9440000gn/T/ipykernel_9942/2576297596.py:1: DtypeWarning: Columns (18,20,21,22) have mixed types. Specify dtype option on import or set low_memory=False.\n",
      "  df = pd.read_csv(config['unified_merged_file_cz'])\n"
     ]
    },
    {
     "name": "stdout",
     "output_type": "stream",
     "text": [
      "(256006, 27)\n"
     ]
    },
    {
     "data": {
      "text/html": [
       "<div>\n",
       "<style scoped>\n",
       "    .dataframe tbody tr th:only-of-type {\n",
       "        vertical-align: middle;\n",
       "    }\n",
       "\n",
       "    .dataframe tbody tr th {\n",
       "        vertical-align: top;\n",
       "    }\n",
       "\n",
       "    .dataframe thead th {\n",
       "        text-align: right;\n",
       "    }\n",
       "</style>\n",
       "<table border=\"1\" class=\"dataframe\">\n",
       "  <thead>\n",
       "    <tr style=\"text-align: right;\">\n",
       "      <th></th>\n",
       "      <th>Institution Number:</th>\n",
       "      <th>Coded HCN</th>\n",
       "      <th>Admit Date:</th>\n",
       "      <th>Disch Date:</th>\n",
       "      <th>Readmission Code:</th>\n",
       "      <th>Patient Age:</th>\n",
       "      <th>Gender:</th>\n",
       "      <th>MRDx</th>\n",
       "      <th>Postal Code:</th>\n",
       "      <th>Diagnosis:</th>\n",
       "      <th>...</th>\n",
       "      <th>Main Pt Service:</th>\n",
       "      <th>CMG</th>\n",
       "      <th>Comorbidity Level</th>\n",
       "      <th>Case Weight</th>\n",
       "      <th>ALCDays</th>\n",
       "      <th>Acute Days</th>\n",
       "      <th>Institution To</th>\n",
       "      <th>Institution From</th>\n",
       "      <th>Institution Type</th>\n",
       "      <th>Discharge Nurse Unit</th>\n",
       "    </tr>\n",
       "  </thead>\n",
       "  <tbody>\n",
       "    <tr>\n",
       "      <th>0</th>\n",
       "      <td>65</td>\n",
       "      <td>1159480</td>\n",
       "      <td>2014/12/24</td>\n",
       "      <td>2015/01/01</td>\n",
       "      <td>5 New patient to the acute care unit</td>\n",
       "      <td>67</td>\n",
       "      <td>Male</td>\n",
       "      <td>K746  Other and unspecified cirrhosis of liver</td>\n",
       "      <td>B3A2K1</td>\n",
       "      <td>[K746, K431, R18, K760, K650, I518, L988, L984...</td>\n",
       "      <td>...</td>\n",
       "      <td>Family Practice</td>\n",
       "      <td>285</td>\n",
       "      <td>1  Level 1 Comorbidity</td>\n",
       "      <td>1.3894</td>\n",
       "      <td>0.0</td>\n",
       "      <td>8.0</td>\n",
       "      <td>QE11 Health Sciences Centre</td>\n",
       "      <td>Home Care NS - CIHI Disch Dispn 04, Dialysis, VON</td>\n",
       "      <td>ACUTE, ACUTE PSYCHIATRIC (0)</td>\n",
       "      <td>D42</td>\n",
       "    </tr>\n",
       "  </tbody>\n",
       "</table>\n",
       "<p>1 rows × 27 columns</p>\n",
       "</div>"
      ],
      "text/plain": [
       "   Institution Number: Coded HCN Admit Date: Disch Date:  \\\n",
       "0                   65   1159480  2014/12/24  2015/01/01   \n",
       "\n",
       "                      Readmission Code:  Patient Age: Gender:  \\\n",
       "0  5 New patient to the acute care unit            67    Male   \n",
       "\n",
       "                                             MRDx Postal Code:  \\\n",
       "0  K746  Other and unspecified cirrhosis of liver       B3A2K1   \n",
       "\n",
       "                                          Diagnosis:  ... Main Pt Service:  \\\n",
       "0  [K746, K431, R18, K760, K650, I518, L988, L984...  ...  Family Practice   \n",
       "\n",
       "   CMG       Comorbidity Level Case Weight ALCDays Acute Days  \\\n",
       "0  285  1  Level 1 Comorbidity      1.3894     0.0        8.0   \n",
       "\n",
       "                Institution To  \\\n",
       "0  QE11 Health Sciences Centre   \n",
       "\n",
       "                                    Institution From  \\\n",
       "0  Home Care NS - CIHI Disch Dispn 04, Dialysis, VON   \n",
       "\n",
       "               Institution Type Discharge Nurse Unit  \n",
       "0  ACUTE, ACUTE PSYCHIATRIC (0)                  D42  \n",
       "\n",
       "[1 rows x 27 columns]"
      ]
     },
     "execution_count": 104,
     "metadata": {},
     "output_type": "execute_result"
    }
   ],
   "source": [
    "df = pd.read_csv(config['unified_merged_file_cz'])\n",
    "df['Diagnosis:'] = [re.findall(\"'(.*?)'\",diagnosis_long_text) for diagnosis_long_text in df['Diagnosis:']]\n",
    "df['Diagnosis Type'] = [re.findall(\"'(.*?)'\",diagnosis_long_text) for diagnosis_long_text in df['Diagnosis Type']]\n",
    "df['Diagnosis Long Text'] = [re.findall(\"'(.*?)'\",diagnosis_long_text) for diagnosis_long_text in df['Diagnosis Long Text']]\n",
    "\n",
    "df['Intervention Code'] = [re.findall(\"'(.*?)'\",intervention_code) if '[' in intervention_code else [intervention_code]\n",
    "                                for intervention_code in df['Intervention Code']]\n",
    "\n",
    "df['Coded HCN'] = [re.sub('\\.0$','',code) for code in df['Coded HCN']]\n",
    "# df['Institution Number:'] = [re.sub('\\.0$','',inst) for inst in df['Institution Number:']]\n",
    "df = df.astype({'Patient Age:': 'int', 'Institution Number:': 'int'})\n",
    "print(df.shape)\n",
    "df.iloc[:1,]"
   ]
  },
  {
   "cell_type": "code",
   "execution_count": 277,
   "metadata": {},
   "outputs": [
    {
     "name": "stderr",
     "output_type": "stream",
     "text": [
      "/var/folders/d0/9279s72s163gx0_12qbmr9440000gn/T/ipykernel_9942/3658906804.py:1: DtypeWarning: Columns (18) have mixed types. Specify dtype option on import or set low_memory=False.\n",
      "  df = pd.read_csv(config['unified_merged_file_cz'])\n"
     ]
    }
   ],
   "source": [
    "df = pd.read_csv(config['unified_merged_file_cz'])\n"
   ]
  },
  {
   "cell_type": "code",
   "execution_count": 278,
   "metadata": {},
   "outputs": [
    {
     "data": {
      "text/plain": [
       "Institution Number:                                                    65\n",
       "Coded HCN                                                       1159480.0\n",
       "Admit Date:                                                    2014/12/24\n",
       "Disch Date:                                                    2015/01/01\n",
       "Readmission Code:                    5 New patient to the acute care unit\n",
       "Patient Age:                                                           67\n",
       "Gender:                                                              Male\n",
       "MRDx                       K746  Other and unspecified cirrhosis of liver\n",
       "Postal Code:                                                       B3A2K1\n",
       "Diagnosis:              ['K746', 'K431', 'R18', 'K760', 'K650', 'I518'...\n",
       "Diagnosis Long Text     ['Other and unspecified cirrhosis of liver', '...\n",
       "Diagnosis Type          ['M', '1', 'W', '1', '1', '1', '1', '1', '1', ...\n",
       "Intervention Code                                               1OT52HHD1\n",
       "Px Long Text            Drainage, abdominal cavity using percutaneous ...\n",
       "Admit Category:                                        U Emergent, urgent\n",
       "Entry Code:                                          E Emergency Departme\n",
       "Transfusion Given                                                     Yes\n",
       "Main Pt Service:                                          Family Practice\n",
       "CMG                                                                   285\n",
       "Comorbidity Level                                  1  Level 1 Comorbidity\n",
       "Case Weight                                                        1.3894\n",
       "ALCDays                                                                 0\n",
       "Acute Days                                                              8\n",
       "Institution To                                QE11 Health Sciences Centre\n",
       "Institution From        Home Care NS - CIHI Disch Dispn 04, Dialysis, VON\n",
       "Institution Type                             ACUTE, ACUTE PSYCHIATRIC (0)\n",
       "Discharge Nurse Unit                                                  D42\n",
       "Name: 0, dtype: object"
      ]
     },
     "execution_count": 278,
     "metadata": {},
     "output_type": "execute_result"
    }
   ],
   "source": [
    "df.iloc[0,:]"
   ]
  },
  {
   "cell_type": "markdown",
   "metadata": {},
   "source": [
    "\n",
    "# Non CZ files\n"
   ]
  },
  {
   "cell_type": "code",
   "execution_count": 167,
   "metadata": {},
   "outputs": [],
   "source": [
    "import yaml\n",
    "import pandas as pd\n",
    "import re"
   ]
  },
  {
   "cell_type": "code",
   "execution_count": 168,
   "metadata": {},
   "outputs": [],
   "source": [
    "with open('../config/paths.yaml', 'r') as file:\n",
    "    config = yaml.safe_load(file)"
   ]
  },
  {
   "cell_type": "code",
   "execution_count": 205,
   "metadata": {},
   "outputs": [
    {
     "name": "stdout",
     "output_type": "stream",
     "text": [
      "(362691, 27)\n"
     ]
    },
    {
     "name": "stderr",
     "output_type": "stream",
     "text": [
      "/var/folders/d0/9279s72s163gx0_12qbmr9440000gn/T/ipykernel_9942/3219835505.py:1: DtypeWarning: Columns (18,20) have mixed types. Specify dtype option on import or set low_memory=False.\n",
      "  df = pd.read_csv(config['unified_merged_file_noncz'])\n"
     ]
    }
   ],
   "source": [
    "df = pd.read_csv(config['unified_merged_file_noncz'])\n",
    "print(df.shape)"
   ]
  },
  {
   "cell_type": "code",
   "execution_count": 206,
   "metadata": {},
   "outputs": [
    {
     "data": {
      "text/html": [
       "<div>\n",
       "<style scoped>\n",
       "    .dataframe tbody tr th:only-of-type {\n",
       "        vertical-align: middle;\n",
       "    }\n",
       "\n",
       "    .dataframe tbody tr th {\n",
       "        vertical-align: top;\n",
       "    }\n",
       "\n",
       "    .dataframe thead th {\n",
       "        text-align: right;\n",
       "    }\n",
       "</style>\n",
       "<table border=\"1\" class=\"dataframe\">\n",
       "  <thead>\n",
       "    <tr style=\"text-align: right;\">\n",
       "      <th></th>\n",
       "      <th>Institution Number:</th>\n",
       "      <th>Coded HCN</th>\n",
       "      <th>Admit Date:</th>\n",
       "      <th>Disch Date:</th>\n",
       "      <th>Readmission Code:</th>\n",
       "      <th>Patient Age:</th>\n",
       "      <th>Gender:</th>\n",
       "      <th>MRDx</th>\n",
       "      <th>Postal Code:</th>\n",
       "      <th>Diagnosis:</th>\n",
       "      <th>...</th>\n",
       "      <th>Main Pt Service:</th>\n",
       "      <th>CMG</th>\n",
       "      <th>Comorbidity Level</th>\n",
       "      <th>Case Weight</th>\n",
       "      <th>ALCDays</th>\n",
       "      <th>Acute Days</th>\n",
       "      <th>Institution To</th>\n",
       "      <th>Institution From</th>\n",
       "      <th>Inst Type 2018</th>\n",
       "      <th>Nursing Unit:</th>\n",
       "    </tr>\n",
       "  </thead>\n",
       "  <tbody>\n",
       "    <tr>\n",
       "      <th>0</th>\n",
       "      <td>43</td>\n",
       "      <td>[4988519.0, 170805.0, 170805.0]</td>\n",
       "      <td>2014-12-22</td>\n",
       "      <td>2015-1-1</td>\n",
       "      <td>9</td>\n",
       "      <td>80</td>\n",
       "      <td>Female</td>\n",
       "      <td>I500  Congestive heart failure</td>\n",
       "      <td>B2G1Y1</td>\n",
       "      <td>['I500', 'E1152', 'J449']</td>\n",
       "      <td>...</td>\n",
       "      <td>Cardiology</td>\n",
       "      <td>196.0</td>\n",
       "      <td>0  No Significant Comorbidity</td>\n",
       "      <td>0.8487</td>\n",
       "      <td>0</td>\n",
       "      <td>10</td>\n",
       "      <td>9089</td>\n",
       "      <td>**</td>\n",
       "      <td>**</td>\n",
       "      <td>**</td>\n",
       "    </tr>\n",
       "    <tr>\n",
       "      <th>1</th>\n",
       "      <td>43</td>\n",
       "      <td>[5900259.0, 170805.0, 170805.0]</td>\n",
       "      <td>2014-12-30</td>\n",
       "      <td>2015-1-1</td>\n",
       "      <td>9</td>\n",
       "      <td>60</td>\n",
       "      <td>Male</td>\n",
       "      <td>K2214  Ulcer of oesophagus, chronic or unspeci...</td>\n",
       "      <td>B0E2G0</td>\n",
       "      <td>['K2214', 'K295', 'B980']</td>\n",
       "      <td>...</td>\n",
       "      <td>General Surgery</td>\n",
       "      <td>254.0</td>\n",
       "      <td>0  No Significant Comorbidity</td>\n",
       "      <td>0.6702</td>\n",
       "      <td>0</td>\n",
       "      <td>2</td>\n",
       "      <td>**</td>\n",
       "      <td>68</td>\n",
       "      <td>**</td>\n",
       "      <td>**</td>\n",
       "    </tr>\n",
       "    <tr>\n",
       "      <th>2</th>\n",
       "      <td>43</td>\n",
       "      <td>[8972535.0, 170805.0]</td>\n",
       "      <td>2014-12-24</td>\n",
       "      <td>2015-1-1</td>\n",
       "      <td>9</td>\n",
       "      <td>80</td>\n",
       "      <td>Male</td>\n",
       "      <td>J441  Chronic obstructive pulmonary disease wi...</td>\n",
       "      <td>B2G2M5</td>\n",
       "      <td>['J441', 'J189']</td>\n",
       "      <td>...</td>\n",
       "      <td>General Medicine</td>\n",
       "      <td>139.0</td>\n",
       "      <td>0  No Significant Comorbidity</td>\n",
       "      <td>0.7441</td>\n",
       "      <td>0</td>\n",
       "      <td>8</td>\n",
       "      <td>**</td>\n",
       "      <td>**</td>\n",
       "      <td>**</td>\n",
       "      <td>**</td>\n",
       "    </tr>\n",
       "    <tr>\n",
       "      <th>3</th>\n",
       "      <td>43</td>\n",
       "      <td>[1680780.0, 170805.0, 170805.0]</td>\n",
       "      <td>2014-12-27</td>\n",
       "      <td>2015-1-1</td>\n",
       "      <td>9</td>\n",
       "      <td>67</td>\n",
       "      <td>Female</td>\n",
       "      <td>I639  Cerebral infarction, unspecified</td>\n",
       "      <td>B0E1A0</td>\n",
       "      <td>['I639', 'E1152', 'D649']</td>\n",
       "      <td>...</td>\n",
       "      <td>General Medicine</td>\n",
       "      <td>26.0</td>\n",
       "      <td>0  No Significant Comorbidity</td>\n",
       "      <td>0.9942</td>\n",
       "      <td>0</td>\n",
       "      <td>5</td>\n",
       "      <td>**</td>\n",
       "      <td>**</td>\n",
       "      <td>**</td>\n",
       "      <td>**</td>\n",
       "    </tr>\n",
       "    <tr>\n",
       "      <th>4</th>\n",
       "      <td>43</td>\n",
       "      <td>[2071649.0, 170805.0, 170805.0, 170805.0, 1708...</td>\n",
       "      <td>2014-12-29</td>\n",
       "      <td>2015-1-1</td>\n",
       "      <td>5</td>\n",
       "      <td>37</td>\n",
       "      <td>Female</td>\n",
       "      <td>O34201  Maternal care for uterine scar due to ...</td>\n",
       "      <td>B2G1S5</td>\n",
       "      <td>['O34201', 'O14901', 'O24801', 'Z37000', 'Z302...</td>\n",
       "      <td>...</td>\n",
       "      <td>OBS Delivered</td>\n",
       "      <td>560.0</td>\n",
       "      <td>1  Level 1 Comorbidity</td>\n",
       "      <td>0.8487</td>\n",
       "      <td>0</td>\n",
       "      <td>3</td>\n",
       "      <td>**</td>\n",
       "      <td>**</td>\n",
       "      <td>**</td>\n",
       "      <td>**</td>\n",
       "    </tr>\n",
       "  </tbody>\n",
       "</table>\n",
       "<p>5 rows × 27 columns</p>\n",
       "</div>"
      ],
      "text/plain": [
       "   Institution Number:                                          Coded HCN  \\\n",
       "0                   43                    [4988519.0, 170805.0, 170805.0]   \n",
       "1                   43                    [5900259.0, 170805.0, 170805.0]   \n",
       "2                   43                              [8972535.0, 170805.0]   \n",
       "3                   43                    [1680780.0, 170805.0, 170805.0]   \n",
       "4                   43  [2071649.0, 170805.0, 170805.0, 170805.0, 1708...   \n",
       "\n",
       "  Admit Date: Disch Date: Readmission Code:  Patient Age: Gender:  \\\n",
       "0  2014-12-22    2015-1-1                 9            80  Female   \n",
       "1  2014-12-30    2015-1-1                 9            60    Male   \n",
       "2  2014-12-24    2015-1-1                 9            80    Male   \n",
       "3  2014-12-27    2015-1-1                 9            67  Female   \n",
       "4  2014-12-29    2015-1-1                 5            37  Female   \n",
       "\n",
       "                                                MRDx Postal Code:  \\\n",
       "0                     I500  Congestive heart failure       B2G1Y1   \n",
       "1  K2214  Ulcer of oesophagus, chronic or unspeci...       B0E2G0   \n",
       "2  J441  Chronic obstructive pulmonary disease wi...       B2G2M5   \n",
       "3             I639  Cerebral infarction, unspecified       B0E1A0   \n",
       "4  O34201  Maternal care for uterine scar due to ...       B2G1S5   \n",
       "\n",
       "                                          Diagnosis:  ...  Main Pt Service:  \\\n",
       "0                          ['I500', 'E1152', 'J449']  ...        Cardiology   \n",
       "1                          ['K2214', 'K295', 'B980']  ...   General Surgery   \n",
       "2                                   ['J441', 'J189']  ...  General Medicine   \n",
       "3                          ['I639', 'E1152', 'D649']  ...  General Medicine   \n",
       "4  ['O34201', 'O14901', 'O24801', 'Z37000', 'Z302...  ...     OBS Delivered   \n",
       "\n",
       "     CMG              Comorbidity Level Case Weight ALCDays Acute Days  \\\n",
       "0  196.0  0  No Significant Comorbidity      0.8487       0         10   \n",
       "1  254.0  0  No Significant Comorbidity      0.6702       0          2   \n",
       "2  139.0  0  No Significant Comorbidity      0.7441       0          8   \n",
       "3   26.0  0  No Significant Comorbidity      0.9942       0          5   \n",
       "4  560.0         1  Level 1 Comorbidity      0.8487       0          3   \n",
       "\n",
       "  Institution To Institution From Inst Type 2018 Nursing Unit:  \n",
       "0           9089               **             **            **  \n",
       "1             **               68             **            **  \n",
       "2             **               **             **            **  \n",
       "3             **               **             **            **  \n",
       "4             **               **             **            **  \n",
       "\n",
       "[5 rows x 27 columns]"
      ]
     },
     "execution_count": 206,
     "metadata": {},
     "output_type": "execute_result"
    }
   ],
   "source": [
    "df.head()"
   ]
  },
  {
   "cell_type": "code",
   "execution_count": 173,
   "metadata": {},
   "outputs": [
    {
     "data": {
      "text/plain": [
       "27"
      ]
     },
     "execution_count": 173,
     "metadata": {},
     "output_type": "execute_result"
    }
   ],
   "source": [
    "len(set(df['Institution Number:']))"
   ]
  },
  {
   "cell_type": "code",
   "execution_count": 188,
   "metadata": {},
   "outputs": [
    {
     "name": "stdout",
     "output_type": "stream",
     "text": [
      "Institution Number:   (type:int64  )->\n",
      "Coded HCN             (type:object )->\n",
      "Admit Date:           (type:object )->\n",
      "Disch Date:           (type:object )->\n",
      "Readmission Code:     (type:object )->\n",
      "Patient Age:          (type:int64  )->\n",
      "Gender:               (type:object )->\n",
      "MRDx                  (type:object )->\n",
      "Postal Code:          (type:object )->\n",
      "Diagnosis:            (type:object )->\n",
      "Diagnosis Long Text   (type:object )->\n",
      "Diagnosis Type        (type:object )->\n",
      "Intervention Code     (type:object )->\n",
      "Px Long Text          (type:object )->\n",
      "Admit Category:       (type:object )->\n",
      "Entry Code:           (type:object )->\n",
      "Transfusion Given     (type:object )->\n",
      "Main Pt Service:      (type:object )->\n",
      "CMG                   (type:object )->\n",
      "Comorbidity Level     (type:object )->\n",
      "Case Weight           (type:object )->\n",
      "ALCDays               (type:int64  )->\n",
      "Acute Days            (type:int64  )->\n",
      "Institution To        (type:object )->\n",
      "Institution From      (type:object )->\n",
      "Inst Type 2018        (type:object )->\n",
      "Nursing Unit:         (type:object )->\n"
     ]
    }
   ],
   "source": [
    "for column in df.columns: \n",
    "    print(f'{column:21} (type:{str(df[column].dtype):7})->')"
   ]
  },
  {
   "cell_type": "code",
   "execution_count": 274,
   "metadata": {},
   "outputs": [
    {
     "data": {
      "text/plain": [
       "55"
      ]
     },
     "execution_count": 274,
     "metadata": {},
     "output_type": "execute_result"
    }
   ],
   "source": [
    "len(set(df['Nursing Unit:']))"
   ]
  },
  {
   "cell_type": "code",
   "execution_count": 249,
   "metadata": {},
   "outputs": [
    {
     "data": {
      "text/plain": [
       "{'**',\n",
       " '0  No Significant Comorbidity',\n",
       " '1  Level 1 Comorbidity',\n",
       " '2  Level 2 Comorbidity',\n",
       " '3  Level 3 Comorbidity',\n",
       " '4  Level 4 Comorbidity',\n",
       " '8  Not applicable'}"
      ]
     },
     "execution_count": 249,
     "metadata": {},
     "output_type": "execute_result"
    }
   ],
   "source": [
    "set(df['Comorbidity Level'])"
   ]
  },
  {
   "cell_type": "code",
   "execution_count": null,
   "metadata": {},
   "outputs": [],
   "source": []
  }
 ],
 "metadata": {
  "kernelspec": {
   "display_name": "alc",
   "language": "python",
   "name": "python3"
  },
  "language_info": {
   "codemirror_mode": {
    "name": "ipython",
    "version": 3
   },
   "file_extension": ".py",
   "mimetype": "text/x-python",
   "name": "python",
   "nbconvert_exporter": "python",
   "pygments_lexer": "ipython3",
   "version": "3.9.6"
  },
  "orig_nbformat": 4
 },
 "nbformat": 4,
 "nbformat_minor": 2
}
