{
 "cells": [
  {
   "cell_type": "markdown",
   "metadata": {},
   "source": [
    "# Combining CZ and Non-CZ data into one file\n",
    "\n",
    "\n"
   ]
  },
  {
   "cell_type": "code",
   "execution_count": 1,
   "metadata": {},
   "outputs": [],
   "source": [
    "import pandas as pd\n",
    "import matplotlib.pyplot as plt\n",
    "from datetime import date\n",
    "import datetime\n",
    "import numpy as np\n",
    "import seaborn as sns\n",
    "import re\n",
    "import logging\n",
    "import sys\n",
    "sys.path.append('..')\n",
    "from utilities import logger\n",
    "from utilities import configuration\n",
    "\n"
   ]
  },
  {
   "cell_type": "code",
   "execution_count": 2,
   "metadata": {},
   "outputs": [
    {
     "name": "stdout",
     "output_type": "stream",
     "text": [
      "system_log                               (type: <class 'str'>)\n",
      "unified_merged_file_cz                   (type: <class 'str'>)\n",
      "unified_merged_file_noncz                (type: <class 'str'>)\n",
      "unified_merged_file                      (type: <class 'str'>)\n",
      "data_path                                (type: <class 'str'>)\n",
      "cz_files                                 (type: <class 'list'>)\n",
      "noncz_files                              (type: <class 'list'>)\n"
     ]
    }
   ],
   "source": [
    "config = configuration.get_config()\n",
    "for key in config:\n",
    "    print(f'{key:40} (type: {type(config[key])})')"
   ]
  },
  {
   "cell_type": "code",
   "execution_count": 3,
   "metadata": {},
   "outputs": [
    {
     "name": "stdout",
     "output_type": "stream",
     "text": [
      "2023-09-15 11:13:45,794 - root - DEBUG - logger has started ...\n"
     ]
    }
   ],
   "source": [
    "logger.init_logger(config['system_log'])\n",
    "logging.debug('logger has started ...')"
   ]
  },
  {
   "cell_type": "code",
   "execution_count": 50,
   "metadata": {},
   "outputs": [
    {
     "name": "stderr",
     "output_type": "stream",
     "text": [
      "/var/folders/d0/9279s72s163gx0_12qbmr9440000gn/T/ipykernel_1539/454873993.py:1: DtypeWarning: Columns (18) have mixed types. Specify dtype option on import or set low_memory=False.\n",
      "  cz_df = pd.read_csv(config['unified_merged_file_cz'])\n"
     ]
    },
    {
     "name": "stdout",
     "output_type": "stream",
     "text": [
      "2023-09-15 10:28:46,400 - root - DEBUG - All entries for dataset 'CZ' - found:      256,006 entries\n"
     ]
    },
    {
     "name": "stderr",
     "output_type": "stream",
     "text": [
      "/var/folders/d0/9279s72s163gx0_12qbmr9440000gn/T/ipykernel_1539/454873993.py:15: DtypeWarning: Columns (18,20) have mixed types. Specify dtype option on import or set low_memory=False.\n",
      "  noncz_df = pd.read_csv(config['unified_merged_file_noncz'])\n"
     ]
    },
    {
     "name": "stdout",
     "output_type": "stream",
     "text": [
      "2023-09-15 10:28:53,270 - root - DEBUG - All entries for dataset 'Non-CZ' - found:   362,691 entries\n"
     ]
    }
   ],
   "source": [
    "cz_df = pd.read_csv(config['unified_merged_file_cz'])\n",
    "cz_df['is ALC Patient'] = cz_df['ALCDays'] > 0\n",
    "cz_df['Admit Date:'] = [date.fromisoformat(date_.replace('/','-')) for date_ in cz_df['Admit Date:']]\n",
    "cz_df['Disch Date:'] = [date.fromisoformat(date_.replace('/','-')) for date_ in cz_df['Disch Date:']]\n",
    "cz_df['Disch Date (year-month):'] = [str(date_)[:7] for date_ in cz_df['Disch Date:']]\n",
    "cz_df['Total Days in Hospital'] = [1 if (discharge-admit).days==0 else (discharge-admit).days  \n",
    "                                   for admit,discharge in zip(cz_df['Admit Date:'], cz_df['Disch Date:'])]\n",
    "cz_df[['Admit Date:', 'Disch Date:', 'Patient Age:', 'ALCDays','Disch Date (year-month):']]\n",
    "\n",
    "cz_df['CZ status']=['cz']*cz_df.shape[0]\n",
    "\n",
    "logging.debug(f\"All entries for dataset 'CZ' - found:    {cz_df.shape[0]:9,} entries\")\n",
    "\n",
    "\n",
    "noncz_df = pd.read_csv(config['unified_merged_file_noncz'])\n",
    "noncz_df['is ALC Patient'] = noncz_df['ALCDays'] > 0\n",
    "noncz_df['Admit Date:'] = [None if date_=='**' else datetime.datetime.strptime(date_, \"%Y-%m-%d\") for date_ in noncz_df['Admit Date:']]\n",
    "noncz_df['Disch Date:'] = [datetime.datetime.strptime(date_, \"%Y-%m-%d\")  for date_ in noncz_df['Disch Date:']]\n",
    "noncz_df['Disch Date (year-month):'] = [str(date_)[:7] for date_ in noncz_df['Disch Date:']]\n",
    "noncz_df['Total Days in Hospital'] = [1 if (discharge-admit).days==0 else (discharge-admit).days  \n",
    "                                   for admit,discharge in zip(noncz_df['Admit Date:'], noncz_df['Disch Date:'])]\n",
    "noncz_df[['Admit Date:', 'Disch Date:', 'Patient Age:', 'ALCDays','Disch Date (year-month):']]\n",
    "\n",
    "logging.debug(f\"All entries for dataset 'Non-CZ' - found: {noncz_df.shape[0]:9,} entries\")\n",
    "\n",
    "noncz_df['CZ status']=['Non-cz']*noncz_df.shape[0]\n",
    "\n",
    "noncz_df = noncz_df.rename(columns={'Inst Type 2018':'Institution Type', 'Nursing Unit:': 'Discharge Nurse Unit'})\n"
   ]
  },
  {
   "cell_type": "code",
   "execution_count": 57,
   "metadata": {},
   "outputs": [
    {
     "name": "stdout",
     "output_type": "stream",
     "text": [
      "2023-09-15 10:36:40,306 - root - DEBUG - Combining Non-cz and cz data into a single file: /Users/marianomaisonnave/Documents/CBU Postdoc/Grant Data/Merged/2015_2022/full_database.csv\n"
     ]
    }
   ],
   "source": [
    "full_df = pd.concat([cz_df, noncz_df])\n",
    "full_df.to_csv(config['unified_merged_file'], index=False)\n",
    "\n",
    "logging.debug(f\"Combining Non-cz and cz data into a single file: {config['unified_merged_file']}\")"
   ]
  },
  {
   "cell_type": "code",
   "execution_count": null,
   "metadata": {},
   "outputs": [],
   "source": []
  }
 ],
 "metadata": {
  "kernelspec": {
   "display_name": "alc",
   "language": "python",
   "name": "python3"
  },
  "language_info": {
   "codemirror_mode": {
    "name": "ipython",
    "version": 3
   },
   "file_extension": ".py",
   "mimetype": "text/x-python",
   "name": "python",
   "nbconvert_exporter": "python",
   "pygments_lexer": "ipython3",
   "version": "3.9.6"
  },
  "orig_nbformat": 4
 },
 "nbformat": 4,
 "nbformat_minor": 2
}
