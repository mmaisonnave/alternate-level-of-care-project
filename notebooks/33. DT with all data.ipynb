{
 "cells": [
  {
   "cell_type": "code",
   "execution_count": 1,
   "id": "5a566023-3353-443a-a950-d25243dd309d",
   "metadata": {},
   "outputs": [],
   "source": [
    "import sys\n",
    "sys.path.append('..')\n",
    "from utilities import configuration\n",
    "from utilities import health_data"
   ]
  },
  {
   "cell_type": "code",
   "execution_count": 3,
   "id": "38e42381-d603-4004-9fc2-1a43ecec1304",
   "metadata": {},
   "outputs": [],
   "source": [
    "import json\n",
    "config = configuration.get_config()\n",
    "\n",
    "EXPERIMENT_CONFIGURATION_NAME='configuration_31'\n",
    "experiment_configurations = json.load(open(config['experiments_config'], encoding='utf-8'))\n",
    "experiment_configurations['diagnosis_features']=False\n",
    "experiment_configurations['intervention_features']=False"
   ]
  },
  {
   "cell_type": "code",
   "execution_count": 4,
   "id": "2bac1167-fa81-46ed-8066-c5e66780c5d9",
   "metadata": {},
   "outputs": [
    {
     "name": "stdout",
     "output_type": "stream",
     "text": [
      " 0 matrix.shape=(419139, 5)\n",
      " 1 matrix.shape=(419139, 68)\n",
      " 2 matrix.shape=(419139, 9545)\n",
      " 3 matrix.shape=(419139, 7519)\n",
      "(419139, 17137)\n"
     ]
    }
   ],
   "source": [
    "# import json\n",
    "# config = configuration.get_config()\n",
    "\n",
    "# EXPERIMENT_CONFIGURATION_NAME='configuration_31'\n",
    "# experiment_configurations = json.load(open(config['experiments_config'], encoding='utf-8'))\n",
    "X_train, y_train, X_test, y_test, columns = health_data.Admission.get_train_test_matrices(experiment_configurations[EXPERIMENT_CONFIGURATION_NAME])\n",
    "print(X_train.shape)"
   ]
  },
  {
   "cell_type": "code",
   "execution_count": 1,
   "id": "ba969bf3-9c45-4c80-a97f-9f47725f2d48",
   "metadata": {},
   "outputs": [
    {
     "name": "stdout",
     "output_type": "stream",
     "text": [
      "h\n"
     ]
    }
   ],
   "source": [
    "EXPERIMENT_CONFIGURATION_NAME = 'configuration_27' # Only numerical\n",
    "EXPERIMENT_CONFIGURATION_NAME = 'configuration_28' # Only Categorical\n",
    "EXPERIMENT_CONFIGURATION_NAME = 'configuration_85' # Only interventions min_df=2\n",
    "EXPERIMENT_CONFIGURATION_NAME = 'configuration_86' # Only diagnosis min_df=2\n"
   ]
  },
  {
   "cell_type": "code",
   "execution_count": null,
   "id": "330d7a15-6380-4b46-aaa6-9d8ab77a8927",
   "metadata": {},
   "outputs": [
    {
     "name": "stderr",
     "output_type": "stream",
     "text": [
      "IOStream.flush timed out\n"
     ]
    }
   ],
   "source": [
    "EXPERIMENT_CONFIGURATION_NAME = 'configuration_27' # Only numerical\n",
    "experiment_configurations = json.load(open(config['experiments_config'], encoding='utf-8'))\n",
    "X_train, y_train, X_test, y_test, columns = health_data.Admission.get_train_test_matrices(experiment_configurations[EXPERIMENT_CONFIGURATION_NAME])\n",
    "print(X_train.shape)"
   ]
  },
  {
   "cell_type": "code",
   "execution_count": null,
   "id": "1e7ea2ae-104b-47ba-878d-48786f1a5236",
   "metadata": {},
   "outputs": [],
   "source": [
    "DT_MODEL_CONFIGURATION_NAME = 'model_301'\n",
    "dt_model = configuration.model_from_configuration_name(DT_MODEL_CONFIGURATION_NAME)\n",
    "dt_model.fit(X_train, y_train)"
   ]
  },
  {
   "cell_type": "code",
   "execution_count": null,
   "id": "6846be5c-38bd-42f2-b8ad-3588883ebc2e",
   "metadata": {},
   "outputs": [],
   "source": [
    "from sklearn.metrics import precision_score, recall_score, f1_score, roc_auc_score, confusion_matrix\n",
    "\n",
    "\n",
    "def _get_metric_evaluations(evaluated_model, X, y_true, model_config_name, description=''):\n",
    "    y_pred = evaluated_model.predict(X)\n",
    "    y_score = evaluated_model.predict_proba(X)[:,1]\n",
    "\n",
    "    tn, fp, fn, tp = confusion_matrix(y_true, y_pred).ravel()\n",
    "    results = {'Description': description,\n",
    "                        'Precision': precision_score(y_true, y_pred),\n",
    "                        'Recal': recall_score(y_true, y_pred),\n",
    "                        'F1-Score': f1_score(y_true, y_pred),\n",
    "                        'AUC': roc_auc_score(y_true=y_true, y_score=y_score),\n",
    "                        'TN': tn,\n",
    "                        'TP': tp,\n",
    "                        'FN': fn,\n",
    "                        'FP': fp,\n",
    "                        'Model config': model_config_name\n",
    "                        }\n",
    "    results = {key: [results[key]] for key in results}\n",
    "    return pd.DataFrame(results)"
   ]
  },
  {
   "cell_type": "code",
   "execution_count": null,
   "id": "f19e483c-4d90-4465-9695-d129c8b061ae",
   "metadata": {},
   "outputs": [],
   "source": [
    "import pandas as pd\n",
    "df = pd.concat([_get_metric_evaluations(logreg, X_train, y_train, MODEL_CONFIGURATION_NAME, description='LogReg train'),\n",
    "                _get_metric_evaluations(logreg, X_test, y_test, MODEL_CONFIGURATION_NAME, description='LogReg test')])\n",
    "\n",
    "\n",
    "df"
   ]
  },
  {
   "cell_type": "code",
   "execution_count": null,
   "id": "df969bd8-7fe6-4951-979f-f64ee83e7bbf",
   "metadata": {},
   "outputs": [],
   "source": [
    "fig, ax = plt.subplots(figsize=(20,10))\n",
    "tree.plot_tree(surrogate_model, \n",
    "               feature_names=list(features_names), \n",
    "               class_names=['NR', 'R'],\n",
    "               fontsize=9,\n",
    "               impurity=False,\n",
    "               label='none',\n",
    "               filled=True,\n",
    "               )"
   ]
  }
 ],
 "metadata": {
  "kernelspec": {
   "display_name": "alc",
   "language": "python",
   "name": "alc"
  },
  "language_info": {
   "codemirror_mode": {
    "name": "ipython",
    "version": 3
   },
   "file_extension": ".py",
   "mimetype": "text/x-python",
   "name": "python",
   "nbconvert_exporter": "python",
   "pygments_lexer": "ipython3",
   "version": "3.9.6"
  }
 },
 "nbformat": 4,
 "nbformat_minor": 5
}
