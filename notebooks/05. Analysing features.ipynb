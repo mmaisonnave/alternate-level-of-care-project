{
 "cells": [
  {
   "cell_type": "code",
   "execution_count": 21,
   "metadata": {},
   "outputs": [],
   "source": [
    "import pandas as pd\n",
    "import matplotlib.pyplot as plt\n",
    "from datetime import date\n",
    "import datetime\n",
    "import numpy as np\n",
    "import seaborn as sns\n",
    "import re\n",
    "import os\n",
    "import sys\n",
    "sys.path.append('..')\n",
    "from utilities import logger\n",
    "from utilities import configuration\n"
   ]
  },
  {
   "cell_type": "code",
   "execution_count": 2,
   "metadata": {},
   "outputs": [
    {
     "name": "stdout",
     "output_type": "stream",
     "text": [
      "system_log                               (type: <class 'str'>)\n",
      "unified_merged_file_cz                   (type: <class 'str'>)\n",
      "unified_merged_file_noncz                (type: <class 'str'>)\n",
      "unified_merged_file                      (type: <class 'str'>)\n",
      "data_path                                (type: <class 'str'>)\n",
      "cz_files                                 (type: <class 'list'>)\n",
      "noncz_files                              (type: <class 'list'>)\n",
      "2023-09-21 09:33:10,565 - root - DEBUG - Logger has started ont notebook 05. Analysing features.ipynb ...\n"
     ]
    }
   ],
   "source": [
    "config = configuration.get_config()\n",
    "for key in config:\n",
    "    print(f'{key:40} (type: {type(config[key])})')\n",
    "\n",
    "\n",
    "logging = logger.init_logger(config['system_log'])\n",
    "logging.debug('Logger has started ont notebook 05. Analysing features.ipynb ...')"
   ]
  },
  {
   "cell_type": "code",
   "execution_count": 3,
   "metadata": {},
   "outputs": [
    {
     "name": "stderr",
     "output_type": "stream",
     "text": [
      "/var/folders/d0/9279s72s163gx0_12qbmr9440000gn/T/ipykernel_1054/852065790.py:1: DtypeWarning: Columns (18,20) have mixed types. Specify dtype option on import or set low_memory=False.\n",
      "  df = pd.read_csv(config['unified_merged_file'])\n"
     ]
    },
    {
     "data": {
      "text/plain": [
       "(618697, 31)"
      ]
     },
     "execution_count": 3,
     "metadata": {},
     "output_type": "execute_result"
    }
   ],
   "source": [
    "df = pd.read_csv(config['unified_merged_file'])\n",
    "df.shape"
   ]
  },
  {
   "cell_type": "code",
   "execution_count": 14,
   "metadata": {},
   "outputs": [
    {
     "data": {
      "text/plain": [
       "442263"
      ]
     },
     "execution_count": 14,
     "metadata": {},
     "output_type": "execute_result"
    }
   ],
   "source": [
    "len(set(df['Coded HCN']))"
   ]
  },
  {
   "cell_type": "code",
   "execution_count": 6,
   "metadata": {},
   "outputs": [
    {
     "data": {
      "text/plain": [
       "Institution Number:                                                        65\n",
       "Coded HCN                                                           1159480.0\n",
       "Admit Date:                                                        2014-12-24\n",
       "Disch Date:                                                        2015-01-01\n",
       "Readmission Code:                        5 New patient to the acute care unit\n",
       "Patient Age:                                                               67\n",
       "Gender:                                                                  Male\n",
       "MRDx                           K746  Other and unspecified cirrhosis of liver\n",
       "Postal Code:                                                           B3A2K1\n",
       "Diagnosis:                  ['K746', 'K431', 'R18', 'K760', 'K650', 'I518'...\n",
       "Diagnosis Long Text         ['Other and unspecified cirrhosis of liver', '...\n",
       "Diagnosis Type              ['M', '1', 'W', '1', '1', '1', '1', '1', '1', ...\n",
       "Intervention Code                                                   1OT52HHD1\n",
       "Px Long Text                Drainage, abdominal cavity using percutaneous ...\n",
       "Admit Category:                                            U Emergent, urgent\n",
       "Entry Code:                                              E Emergency Departme\n",
       "Transfusion Given                                                         Yes\n",
       "Main Pt Service:                                              Family Practice\n",
       "CMG                                                                       285\n",
       "Comorbidity Level                                      1  Level 1 Comorbidity\n",
       "Case Weight                                                            1.3894\n",
       "ALCDays                                                                     0\n",
       "Acute Days                                                                  8\n",
       "Institution To                                    QE11 Health Sciences Centre\n",
       "Institution From            Home Care NS - CIHI Disch Dispn 04, Dialysis, VON\n",
       "Institution Type                                 ACUTE, ACUTE PSYCHIATRIC (0)\n",
       "Discharge Nurse Unit                                                      D42\n",
       "is ALC Patient                                                          False\n",
       "Disch Date (year-month):                                              2015-01\n",
       "Total Days in Hospital                                                    8.0\n",
       "CZ status                                                                  cz\n",
       "Name: 0, dtype: object"
      ]
     },
     "execution_count": 6,
     "metadata": {},
     "output_type": "execute_result"
    }
   ],
   "source": [
    "df.iloc[0,:]"
   ]
  },
  {
   "cell_type": "code",
   "execution_count": 26,
   "metadata": {},
   "outputs": [],
   "source": [
    "df.sort_values(by='Total Days in Hospital', ascending=False).iloc[:1000,:].to_csv(os.path.join(config['data_path'], 'by_leng_of_stay.csv'))\n",
    "df.sort_values(by='ALCDays', ascending=False).iloc[:1000,:].to_csv(os.path.join(config['data_path'], 'by_ALCDays.csv'))\n",
    "df.sort_values(by='Acute Days', ascending=False).iloc[:1000,:].to_csv(os.path.join(config['data_path'], 'by_Acute_Days.csv'))"
   ]
  },
  {
   "cell_type": "code",
   "execution_count": 58,
   "metadata": {},
   "outputs": [
    {
     "data": {
      "text/plain": [
       "1730"
      ]
     },
     "execution_count": 58,
     "metadata": {},
     "output_type": "execute_result"
    }
   ],
   "source": [
    "ix=0\n",
    "while ix<df.shape[0] and df['Diagnosis:'].iloc[ix]!='**':\n",
    "    ix+=1\n",
    "\n",
    "ix"
   ]
  },
  {
   "cell_type": "code",
   "execution_count": 59,
   "metadata": {},
   "outputs": [
    {
     "data": {
      "text/plain": [
       "Institution Number:                                           85\n",
       "Coded HCN                                             40211217.0\n",
       "Admit Date:                                           2015-01-01\n",
       "Disch Date:                                           2015-01-05\n",
       "Readmission Code:           5 New patient to the acute care unit\n",
       "Patient Age:                                                  30\n",
       "Gender:                                                     Male\n",
       "MRDx                                                            \n",
       "Postal Code:                                              B0N2T0\n",
       "Diagnosis:                                                    **\n",
       "Diagnosis Long Text                                           **\n",
       "Diagnosis Type                                                **\n",
       "Intervention Code                                             **\n",
       "Px Long Text                                                  **\n",
       "Admit Category:                               U Emergent, urgent\n",
       "Entry Code:                                 E Emergency Departme\n",
       "Transfusion Given                                             No\n",
       "Main Pt Service:                                 General Surgery\n",
       "CMG                                                           **\n",
       "Comorbidity Level                                             **\n",
       "Case Weight                                                  NaN\n",
       "ALCDays                                                        0\n",
       "Acute Days                                                     4\n",
       "Institution To                                                **\n",
       "Institution From                                              **\n",
       "Institution Type                                              **\n",
       "Discharge Nurse Unit                                          10\n",
       "is ALC Patient                                             False\n",
       "Disch Date (year-month):                                 2015-01\n",
       "Total Days in Hospital                                       4.0\n",
       "CZ status                                                     cz\n",
       "Name: 1730, dtype: object"
      ]
     },
     "execution_count": 59,
     "metadata": {},
     "output_type": "execute_result"
    }
   ],
   "source": [
    "df.iloc[1730,:]"
   ]
  },
  {
   "cell_type": "code",
   "execution_count": 61,
   "metadata": {},
   "outputs": [
    {
     "data": {
      "text/plain": [
       "'Male'"
      ]
     },
     "execution_count": 61,
     "metadata": {},
     "output_type": "execute_result"
    }
   ],
   "source": [
    "row = df.iloc[0,:]\n",
    "row['Gender:']"
   ]
  },
  {
   "cell_type": "code",
   "execution_count": 53,
   "metadata": {},
   "outputs": [
    {
     "name": "stdout",
     "output_type": "stream",
     "text": [
      "First code: ['K746']             - MRDx = K746  Other and unspecified cirrhosis of liver\n",
      "First code: ['K8010']            - MRDx = K8010  Calculus of gallbladder with other cholecystitis without mention of obstruction\n",
      "First code: ['T8404']            - MRDx = T8404  Mechanical complication of knee prosthesis\n",
      "First code: ['S82810']           - MRDx = S82810  Trimalleolar fracture of ankle, closed\n",
      "First code: ['M179']             - MRDx = M179  Gonarthrosis, unspecified\n",
      "First code: ['M179']             - MRDx = M179  Gonarthrosis, unspecified\n",
      "First code: ['R53']              - MRDx = R53  Malaise and fatigue\n",
      "First code: ['J440']             - MRDx = J440  Chronic obstructive pulmonary disease with acute lower respiratory infection\n",
      "First code: ['I500']             - MRDx = I500  Congestive heart failure\n",
      "First code: ['J069']             - MRDx = J069  Acute upper respiratory infection, unspecified\n",
      "First code: ['I500']             - MRDx = I500  Congestive heart failure\n",
      "First code: ['K729']             - MRDx = K729  Hepatic failure, unspecified\n",
      "First code: ['F058']             - MRDx = F058  Other delirium\n",
      "First code: ['R2682']            - MRDx = R2682  Unsteadiness on feet\n",
      "First code: ['J440']             - MRDx = J440  Chronic obstructive pulmonary disease with acute lower respiratory infection\n",
      "First code: ['J440']             - MRDx = J440  Chronic obstructive pulmonary disease with acute lower respiratory infection\n",
      "First code: ['C73']              - MRDx = C73  Malignant neoplasm of thyroid gland\n",
      "First code: ['F104']             - MRDx = F104  Mental and behavioural disorders due to use of alcohol, withdrawal state with delirium\n",
      "First code: ['K831']             - MRDx = K831  Obstruction of bile duct\n",
      "First code: ['K8000']            - MRDx = K8000  Calculus of gallbladder with acute cholecystitis without mention of obstruction\n",
      "First code: ['J449']             - MRDx = J449  Chronic obstructive pulmonary disease, unspecified\n",
      "First code: ['Z515']             - MRDx = Z515  Palliative care\n",
      "First code: ['C829']             - MRDx = C829  Follicular lymphoma, unspecified\n",
      "First code: ['J101']             - MRDx = J101  Influenza with other respiratory manifestations, other influenza virus identified\n",
      "First code: ['F059']             - MRDx = F059  Delirium, unspecified\n",
      "First code: ['N359']             - MRDx = N359  Urethral stricture, unspecified\n",
      "First code: ['K353']             - MRDx = K353  Acute appendicitis with localized peritonitis\n",
      "First code: ['E042']             - MRDx = E042  Nontoxic multinodular goitre\n",
      "First code: ['K8000']            - MRDx = K8000  Calculus of gallbladder with acute cholecystitis without mention of obstruction\n",
      "First code: ['J189']             - MRDx = J189  Pneumonia, unspecified\n",
      "First code: ['K701']             - MRDx = K701  Alcoholic hepatitis\n",
      "First code: ['J90']              - MRDx = J90  Pleural effusion, not elsewhere classified\n",
      "First code: ['R113']             - MRDx = R113  Nausea with vomiting\n",
      "First code: ['K851']             - MRDx = K851  Biliary acute pancreatitis\n",
      "First code: ['N832']             - MRDx = N832  Other and unspecified ovarian cysts\n",
      "First code: ['I639']             - MRDx = I639  Cerebral infarction, unspecified\n",
      "First code: ['S32500']           - MRDx = S32500  Fracture of pubis, closed\n",
      "First code: ['K358']             - MRDx = K358  Acute appendicitis, other and unspecified\n",
      "First code: ['K358']             - MRDx = K358  Acute appendicitis, other and unspecified\n",
      "First code: ['I495']             - MRDx = I495  Sick sinus syndrome\n",
      "First code: ['R520']             - MRDx = R520  Acute pain\n",
      "First code: ['C20']              - MRDx = C20  Malignant neoplasm of rectum\n",
      "First code: ['I500']             - MRDx = I500  Congestive heart failure\n",
      "First code: ['R104']             - MRDx = R104  Other and unspecified abdominal pain\n",
      "First code: ['I211']             - MRDx = I211  Acute transmural myocardial infarction of inferior wall\n",
      "First code: ['R55']              - MRDx = R55  Syncope and collapse\n",
      "First code: ['R410']             - MRDx = R410  Disorientation, unspecified\n",
      "First code: ['Z515']             - MRDx = Z515  Palliative care\n",
      "First code: ['E1110']            - MRDx = E1110  Type 2 diabetes mellitus with ketoacidosis\n",
      "First code: ['J09']              - MRDx = J09  Influenza due to certain identified influenza virus\n",
      "First code: ['J440']             - MRDx = J440  Chronic obstructive pulmonary disease with acute lower respiratory infection\n",
      "First code: ['M191']             - MRDx = M191  Post-traumatic arthrosis of other joints\n",
      "First code: ['I500']             - MRDx = I500  Congestive heart failure\n",
      "First code: ['I500']             - MRDx = I500  Congestive heart failure\n",
      "First code: ['S82600']           - MRDx = S82600  Fracture of lateral malleolus, closed\n",
      "First code: ['H729']             - MRDx = H729  Perforation of tympanic membrane, unspecified\n",
      "First code: ['K559']             - MRDx = K559  Vascular disorder of intestine, unspecified\n",
      "First code: ['K8010']            - MRDx = K8010  Calculus of gallbladder with other cholecystitis without mention of obstruction\n",
      "First code: ['F058']             - MRDx = F058  Other delirium\n",
      "First code: ['K265']             - MRDx = K265  Duodenal ulcer, chronic or unspecified with perforation\n",
      "First code: ['R53']              - MRDx = R53  Malaise and fatigue\n",
      "First code: ['J440']             - MRDx = J440  Chronic obstructive pulmonary disease with acute lower respiratory infection\n",
      "First code: ['M4844']            - MRDx = M4844  Fatigue fracture of vertebra, thoracic region\n",
      "First code: ['E1123']            - MRDx = E1123  Type 2 diabetes mellitus with established or advanced kidney disease\n",
      "First code: ['J440']             - MRDx = J440  Chronic obstructive pulmonary disease with acute lower respiratory infection\n",
      "First code: ['N309']             - MRDx = N309  Cystitis, unspecified\n",
      "First code: ['S82300']           - MRDx = S82300  Fracture of lower (distal) end of tibia with or without fibula, closed\n",
      "First code: ['S72090']           - MRDx = S72090  Unspecified fracture of neck of femur, closed\n",
      "First code: ['K8000']            - MRDx = K8000  Calculus of gallbladder with acute cholecystitis without mention of obstruction\n",
      "First code: ['C3001']            - MRDx = C3001  Malignant neoplasm of other parts of nasal cavity\n",
      "First code: ['J441']             - MRDx = J441  Chronic obstructive pulmonary disease with acute exacerbation, unspecified\n",
      "First code: ['N938']             - MRDx = N938  Other specified abnormal uterine and vaginal bleeding\n",
      "First code: ['K353']             - MRDx = K353  Acute appendicitis with localized peritonitis\n",
      "First code: ['I632']             - MRDx = I632  Cerebral infarction due to unspecified occlusion or stenosis of precerebral arteries\n",
      "First code: ['M320']             - MRDx = M320  Drug-induced systemic lupus erythematosus\n",
      "First code: ['J22']              - MRDx = J22  Unspecified acute lower respiratory infection\n",
      "First code: ['A410']             - MRDx = A410  Sepsis due to Staphylococcus aureus\n",
      "First code: ['I2510']            - MRDx = I2510  Atherosclerotic heart disease of native coronary artery\n",
      "First code: ['M169']             - MRDx = M169  Coxarthrosis, unspecified\n",
      "First code: ['I500']             - MRDx = I500  Congestive heart failure\n",
      "First code: ['K8010']            - MRDx = K8010  Calculus of gallbladder with other cholecystitis without mention of obstruction\n",
      "First code: ['R111']             - MRDx = R111  Nausea alone\n",
      "First code: ['E8318']            - MRDx = E8318  Other disorders of iron metabolism\n",
      "First code: ['M170']             - MRDx = M170  Primary gonarthrosis, bilateral\n",
      "First code: ['E871']             - MRDx = E871  Hypo-osmolality and hyponatraemia\n",
      "First code: ['H811']             - MRDx = H811  Benign paroxysmal vertigo\n",
      "First code: ['N40']              - MRDx = N40  Hyperplasia of prostate\n",
      "First code: ['M179']             - MRDx = M179  Gonarthrosis, unspecified\n",
      "First code: ['K264']             - MRDx = K264  Duodenal ulcer, chronic or unspecified with haemorrhage\n",
      "First code: ['T831']             - MRDx = T831  Mechanical complication of other urinary devices and implants\n",
      "First code: ['C833']             - MRDx = C833  Diffuse large B-cell lymphoma\n",
      "First code: ['S43000']           - MRDx = S43000  Anterior dislocation of shoulder, closed\n",
      "First code: ['K861']             - MRDx = K861  Other chronic pancreatitis\n",
      "First code: ['J441']             - MRDx = J441  Chronic obstructive pulmonary disease with acute exacerbation, unspecified\n",
      "First code: ['K921']             - MRDx = K921  Melaena\n",
      "First code: ['K8000']            - MRDx = K8000  Calculus of gallbladder with acute cholecystitis without mention of obstruction\n",
      "First code: ['K8000']            - MRDx = K8000  Calculus of gallbladder with acute cholecystitis without mention of obstruction\n",
      "First code: ['C184']             - MRDx = C184  Malignant neoplasm of transverse colon\n",
      "First code: ['J441']             - MRDx = J441  Chronic obstructive pulmonary disease with acute exacerbation, unspecified\n",
      "First code: ['N390']             - MRDx = N390  Urinary tract infection, site not specified\n"
     ]
    }
   ],
   "source": [
    "for row_ix in range(100):#df.shape[0]):\n",
    "    row = df.iloc[row_ix,:]\n",
    "    if row['Diagnosis:'] == '**':\n",
    "        diagnosis_codes = []\n",
    "    elif '[' in row['Diagnosis:'] and ']' in row['Diagnosis:'] :       \n",
    "        diagnosis_codes = re.findall(\"'(.*?)'\", row['Diagnosis:'] )\n",
    "    else:\n",
    "        diagnosis_codes = [row['Diagnosis:']]\n",
    "    if df['MRDx'].iloc[row_ix]\n",
    "    print(f\"First code: {str(diagnosis_codes[0:1]):20} - MRDx = {df['MRDx'].iloc[row_ix]}\")\n",
    "    # assert df['MRDx'].iloc[row_ix].startswith()\n",
    "    \n",
    "\n"
   ]
  },
  {
   "cell_type": "code",
   "execution_count": 47,
   "metadata": {},
   "outputs": [
    {
     "data": {
      "text/plain": [
       "(618697, 18)"
      ]
     },
     "execution_count": 47,
     "metadata": {},
     "output_type": "execute_result"
    }
   ],
   "source": [
    "df.drop(columns=['Institution Number:',\n",
    "                 'Coded HCN',\n",
    "                 'Postal Code:',\n",
    "                 'Diagnosis:',\n",
    "                 'Diagnosis Type',\n",
    "                 'Intervention Code',\n",
    "                 'Institution From',\n",
    "                 'Institution To',\n",
    "                 'Institution Type',\n",
    "                 'Discharge Nurse Unit',\n",
    "                 'Disch Date (year-month):',\n",
    "                 'is ALC Patient',\n",
    "                 'Total Days in Hospital'\n",
    "                 ]).shape"
   ]
  },
  {
   "cell_type": "code",
   "execution_count": 45,
   "metadata": {},
   "outputs": [
    {
     "data": {
      "text/plain": [
       "1.8073578002770827"
      ]
     },
     "execution_count": 45,
     "metadata": {},
     "output_type": "execute_result"
    }
   ],
   "source": [
    "values=[]\n",
    "for value in df['Case Weight']:\n",
    "    if value!='**':\n",
    "        if isinstance(value, str):\n",
    "            value = float(value.replace(',', ''))\n",
    "        values.append(value)\n",
    "        \n",
    "values = np.array([values])\n",
    "np.average(values[~np.isnan(values)])"
   ]
  },
  {
   "cell_type": "code",
   "execution_count": 7,
   "metadata": {},
   "outputs": [
    {
     "data": {
      "text/plain": [
       "0       1159480.0\n",
       "1       2232961.0\n",
       "2       9938495.0\n",
       "3      12350498.0\n",
       "4    8000546788.0\n",
       "5       8419505.0\n",
       "6       7264068.0\n",
       "7       3605266.0\n",
       "8       8321248.0\n",
       "9       7444249.0\n",
       "Name: Coded HCN, dtype: object"
      ]
     },
     "execution_count": 7,
     "metadata": {},
     "output_type": "execute_result"
    }
   ],
   "source": [
    "set(df['Coded HCN'].iloc[:10])"
   ]
  },
  {
   "cell_type": "markdown",
   "metadata": {},
   "source": [
    "Discards obviously irrelevant, see what is left.\n"
   ]
  },
  {
   "cell_type": "code",
   "execution_count": null,
   "metadata": {},
   "outputs": [],
   "source": []
  }
 ],
 "metadata": {
  "kernelspec": {
   "display_name": "alc",
   "language": "python",
   "name": "python3"
  },
  "language_info": {
   "codemirror_mode": {
    "name": "ipython",
    "version": 3
   },
   "file_extension": ".py",
   "mimetype": "text/x-python",
   "name": "python",
   "nbconvert_exporter": "python",
   "pygments_lexer": "ipython3",
   "version": "3.9.6"
  },
  "orig_nbformat": 4
 },
 "nbformat": 4,
 "nbformat_minor": 2
}
