{
 "cells": [
  {
   "cell_type": "code",
   "execution_count": 1,
   "metadata": {},
   "outputs": [],
   "source": [
    "import pandas as pd\n",
    "import matplotlib.pyplot as plt\n",
    "from datetime import date\n",
    "import datetime\n",
    "import numpy as np\n",
    "import seaborn as sns\n",
    "import re\n",
    "import os\n",
    "import sys\n",
    "sys.path.append('..')\n",
    "from utilities import logger\n",
    "from utilities import configuration\n"
   ]
  },
  {
   "cell_type": "code",
   "execution_count": 2,
   "metadata": {},
   "outputs": [
    {
     "name": "stdout",
     "output_type": "stream",
     "text": [
      "system_log                               (type: <class 'str'>)\n",
      "unified_merged_file_cz                   (type: <class 'str'>)\n",
      "unified_merged_file_noncz                (type: <class 'str'>)\n",
      "unified_merged_file                      (type: <class 'str'>)\n",
      "data_path                                (type: <class 'str'>)\n",
      "cz_files                                 (type: <class 'list'>)\n",
      "noncz_files                              (type: <class 'list'>)\n",
      "2023-09-27 11:42:33,850 - root - DEBUG - Logger has started ont notebook 05. Analysing features.ipynb ...\n"
     ]
    }
   ],
   "source": [
    "config = configuration.get_config()\n",
    "for key in config:\n",
    "    print(f'{key:40} (type: {type(config[key])})')\n",
    "\n",
    "\n",
    "logging = logger.init_logger(config['system_log'])\n",
    "logging.debug('Logger has started ont notebook 05. Analysing features.ipynb ...')"
   ]
  },
  {
   "cell_type": "code",
   "execution_count": 3,
   "metadata": {},
   "outputs": [
    {
     "name": "stderr",
     "output_type": "stream",
     "text": [
      "/var/folders/d0/9279s72s163gx0_12qbmr9440000gn/T/ipykernel_5546/852065790.py:1: DtypeWarning: Columns (18,20) have mixed types. Specify dtype option on import or set low_memory=False.\n",
      "  df = pd.read_csv(config['unified_merged_file'])\n"
     ]
    },
    {
     "data": {
      "text/plain": [
       "(618697, 31)"
      ]
     },
     "execution_count": 3,
     "metadata": {},
     "output_type": "execute_result"
    }
   ],
   "source": [
    "df = pd.read_csv(config['unified_merged_file'])\n",
    "df.shape"
   ]
  },
  {
   "cell_type": "code",
   "execution_count": 9,
   "metadata": {},
   "outputs": [
    {
     "name": "stdout",
     "output_type": "stream",
     "text": [
      "ALC patient count: 22,230\n",
      "Percentage = 3.59 %\n"
     ]
    }
   ],
   "source": [
    "print(f\"ALC patient count: {np.sum(df['ALCDays']>0):,}\")\n",
    "print(f\"Percentage = {100*(np.sum(df['ALCDays']>0)/df.shape[0]):.2f} %\")"
   ]
  },
  {
   "cell_type": "code",
   "execution_count": 14,
   "metadata": {},
   "outputs": [
    {
     "data": {
      "text/plain": [
       "442263"
      ]
     },
     "execution_count": 14,
     "metadata": {},
     "output_type": "execute_result"
    }
   ],
   "source": [
    "len(set(df['Coded HCN']))"
   ]
  },
  {
   "cell_type": "code",
   "execution_count": 6,
   "metadata": {},
   "outputs": [
    {
     "data": {
      "text/plain": [
       "Institution Number:                                                        65\n",
       "Coded HCN                                                           1159480.0\n",
       "Admit Date:                                                        2014-12-24\n",
       "Disch Date:                                                        2015-01-01\n",
       "Readmission Code:                        5 New patient to the acute care unit\n",
       "Patient Age:                                                               67\n",
       "Gender:                                                                  Male\n",
       "MRDx                           K746  Other and unspecified cirrhosis of liver\n",
       "Postal Code:                                                           B3A2K1\n",
       "Diagnosis:                  ['K746', 'K431', 'R18', 'K760', 'K650', 'I518'...\n",
       "Diagnosis Long Text         ['Other and unspecified cirrhosis of liver', '...\n",
       "Diagnosis Type              ['M', '1', 'W', '1', '1', '1', '1', '1', '1', ...\n",
       "Intervention Code                                                   1OT52HHD1\n",
       "Px Long Text                Drainage, abdominal cavity using percutaneous ...\n",
       "Admit Category:                                            U Emergent, urgent\n",
       "Entry Code:                                              E Emergency Departme\n",
       "Transfusion Given                                                         Yes\n",
       "Main Pt Service:                                              Family Practice\n",
       "CMG                                                                       285\n",
       "Comorbidity Level                                      1  Level 1 Comorbidity\n",
       "Case Weight                                                            1.3894\n",
       "ALCDays                                                                     0\n",
       "Acute Days                                                                  8\n",
       "Institution To                                    QE11 Health Sciences Centre\n",
       "Institution From            Home Care NS - CIHI Disch Dispn 04, Dialysis, VON\n",
       "Institution Type                                 ACUTE, ACUTE PSYCHIATRIC (0)\n",
       "Discharge Nurse Unit                                                      D42\n",
       "is ALC Patient                                                          False\n",
       "Disch Date (year-month):                                              2015-01\n",
       "Total Days in Hospital                                                    8.0\n",
       "CZ status                                                                  cz\n",
       "Name: 0, dtype: object"
      ]
     },
     "execution_count": 6,
     "metadata": {},
     "output_type": "execute_result"
    }
   ],
   "source": [
    "df.iloc[0,:]"
   ]
  },
  {
   "cell_type": "code",
   "execution_count": 26,
   "metadata": {},
   "outputs": [],
   "source": [
    "df.sort_values(by='Total Days in Hospital', ascending=False).iloc[:1000,:].to_csv(os.path.join(config['data_path'], 'by_leng_of_stay.csv'))\n",
    "df.sort_values(by='ALCDays', ascending=False).iloc[:1000,:].to_csv(os.path.join(config['data_path'], 'by_ALCDays.csv'))\n",
    "df.sort_values(by='Acute Days', ascending=False).iloc[:1000,:].to_csv(os.path.join(config['data_path'], 'by_Acute_Days.csv'))"
   ]
  },
  {
   "cell_type": "code",
   "execution_count": 58,
   "metadata": {},
   "outputs": [
    {
     "data": {
      "text/plain": [
       "1730"
      ]
     },
     "execution_count": 58,
     "metadata": {},
     "output_type": "execute_result"
    }
   ],
   "source": [
    "ix=0\n",
    "while ix<df.shape[0] and df['Diagnosis:'].iloc[ix]!='**':\n",
    "    ix+=1\n",
    "\n",
    "ix"
   ]
  },
  {
   "cell_type": "code",
   "execution_count": 59,
   "metadata": {},
   "outputs": [
    {
     "data": {
      "text/plain": [
       "Institution Number:                                           85\n",
       "Coded HCN                                             40211217.0\n",
       "Admit Date:                                           2015-01-01\n",
       "Disch Date:                                           2015-01-05\n",
       "Readmission Code:           5 New patient to the acute care unit\n",
       "Patient Age:                                                  30\n",
       "Gender:                                                     Male\n",
       "MRDx                                                            \n",
       "Postal Code:                                              B0N2T0\n",
       "Diagnosis:                                                    **\n",
       "Diagnosis Long Text                                           **\n",
       "Diagnosis Type                                                **\n",
       "Intervention Code                                             **\n",
       "Px Long Text                                                  **\n",
       "Admit Category:                               U Emergent, urgent\n",
       "Entry Code:                                 E Emergency Departme\n",
       "Transfusion Given                                             No\n",
       "Main Pt Service:                                 General Surgery\n",
       "CMG                                                           **\n",
       "Comorbidity Level                                             **\n",
       "Case Weight                                                  NaN\n",
       "ALCDays                                                        0\n",
       "Acute Days                                                     4\n",
       "Institution To                                                **\n",
       "Institution From                                              **\n",
       "Institution Type                                              **\n",
       "Discharge Nurse Unit                                          10\n",
       "is ALC Patient                                             False\n",
       "Disch Date (year-month):                                 2015-01\n",
       "Total Days in Hospital                                       4.0\n",
       "CZ status                                                     cz\n",
       "Name: 1730, dtype: object"
      ]
     },
     "execution_count": 59,
     "metadata": {},
     "output_type": "execute_result"
    }
   ],
   "source": [
    "df.iloc[1730,:]"
   ]
  },
  {
   "cell_type": "code",
   "execution_count": 82,
   "metadata": {},
   "outputs": [
    {
     "data": {
      "text/plain": [
       "[\"['M', '1', 'W', '1', '1', '1', '1', '1', '1', '3']\",\n",
       " \"['M', '3']\",\n",
       " \"['M', '3', '9']\"]"
      ]
     },
     "execution_count": 82,
     "metadata": {},
     "output_type": "execute_result"
    }
   ],
   "source": [
    "list(df['Diagnosis Type'].iloc[:3])"
   ]
  },
  {
   "cell_type": "code",
   "execution_count": 75,
   "metadata": {},
   "outputs": [],
   "source": [
    "for row_ix in range(df.shape[0]):\n",
    "    row = df.iloc[row_ix,:]\n",
    "    if row['Diagnosis:'] == '**':\n",
    "        diagnosis_codes = []\n",
    "    elif '[' in row['Diagnosis:'] and ']' in row['Diagnosis:'] :       \n",
    "        diagnosis_codes = re.findall(\"'(.*?)'\", row['Diagnosis:'] )\n",
    "    else:\n",
    "        diagnosis_codes = [row['Diagnosis:']]\n",
    "\n",
    "    if row['MRDx'].strip()=='':\n",
    "        assert diagnosis_codes==[]\n",
    "    else:\n",
    "        assert row['MRDx'].startswith(diagnosis_codes[0])\n",
    "    # assert df['MRDx'].iloc[row_ix].startswith()\n",
    "    \n",
    "\n"
   ]
  },
  {
   "cell_type": "code",
   "execution_count": 47,
   "metadata": {},
   "outputs": [
    {
     "data": {
      "text/plain": [
       "(618697, 18)"
      ]
     },
     "execution_count": 47,
     "metadata": {},
     "output_type": "execute_result"
    }
   ],
   "source": [
    "df.drop(columns=['Institution Number:',\n",
    "                 'Coded HCN',\n",
    "                 'Postal Code:',\n",
    "                 'Diagnosis:',\n",
    "                 'Diagnosis Type',\n",
    "                 'Intervention Code',\n",
    "                 'Institution From',\n",
    "                 'Institution To',\n",
    "                 'Institution Type',\n",
    "                 'Discharge Nurse Unit',\n",
    "                 'Disch Date (year-month):',\n",
    "                 'is ALC Patient',\n",
    "                 'Total Days in Hospital'\n",
    "                 ]).shape"
   ]
  },
  {
   "cell_type": "code",
   "execution_count": 45,
   "metadata": {},
   "outputs": [
    {
     "data": {
      "text/plain": [
       "1.8073578002770827"
      ]
     },
     "execution_count": 45,
     "metadata": {},
     "output_type": "execute_result"
    }
   ],
   "source": [
    "values=[]\n",
    "for value in df['Case Weight']:\n",
    "    if value!='**':\n",
    "        if isinstance(value, str):\n",
    "            value = float(value.replace(',', ''))\n",
    "        values.append(value)\n",
    "        \n",
    "values = np.array([values])\n",
    "np.average(values[~np.isnan(values)])"
   ]
  },
  {
   "cell_type": "code",
   "execution_count": 7,
   "metadata": {},
   "outputs": [
    {
     "data": {
      "text/plain": [
       "0       1159480.0\n",
       "1       2232961.0\n",
       "2       9938495.0\n",
       "3      12350498.0\n",
       "4    8000546788.0\n",
       "5       8419505.0\n",
       "6       7264068.0\n",
       "7       3605266.0\n",
       "8       8321248.0\n",
       "9       7444249.0\n",
       "Name: Coded HCN, dtype: object"
      ]
     },
     "execution_count": 7,
     "metadata": {},
     "output_type": "execute_result"
    }
   ],
   "source": [
    "set(df['Coded HCN'].iloc[:10])"
   ]
  },
  {
   "cell_type": "markdown",
   "metadata": {},
   "source": [
    "Discards obviously irrelevant, see what is left.\n"
   ]
  },
  {
   "cell_type": "code",
   "execution_count": null,
   "metadata": {},
   "outputs": [],
   "source": []
  }
 ],
 "metadata": {
  "kernelspec": {
   "display_name": "alc",
   "language": "python",
   "name": "python3"
  },
  "language_info": {
   "codemirror_mode": {
    "name": "ipython",
    "version": 3
   },
   "file_extension": ".py",
   "mimetype": "text/x-python",
   "name": "python",
   "nbconvert_exporter": "python",
   "pygments_lexer": "ipython3",
   "version": "3.9.6"
  },
  "orig_nbformat": 4
 },
 "nbformat": 4,
 "nbformat_minor": 2
}
