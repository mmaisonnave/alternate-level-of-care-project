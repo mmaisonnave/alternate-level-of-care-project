{
 "cells": [
  {
   "cell_type": "code",
   "execution_count": 1,
   "metadata": {},
   "outputs": [],
   "source": [
    "import pandas as pd\n",
    "import numpy as np\n",
    "import json\n",
    "from sklearn.metrics import confusion_matrix, precision_score, recall_score, f1_score, roc_auc_score\n",
    "import os\n",
    "import sys\n",
    "sys.path.append('..')\n",
    "\n",
    "from utilities import configuration\n",
    "from utilities import logger\n",
    "from utilities import health_data\n",
    "\n",
    "from imblearn.over_sampling import SMOTE"
   ]
  },
  {
   "cell_type": "code",
   "execution_count": 3,
   "metadata": {},
   "outputs": [
    {
     "data": {
      "text/html": [
       "<style>#sk-container-id-1 {color: black;}#sk-container-id-1 pre{padding: 0;}#sk-container-id-1 div.sk-toggleable {background-color: white;}#sk-container-id-1 label.sk-toggleable__label {cursor: pointer;display: block;width: 100%;margin-bottom: 0;padding: 0.3em;box-sizing: border-box;text-align: center;}#sk-container-id-1 label.sk-toggleable__label-arrow:before {content: \"▸\";float: left;margin-right: 0.25em;color: #696969;}#sk-container-id-1 label.sk-toggleable__label-arrow:hover:before {color: black;}#sk-container-id-1 div.sk-estimator:hover label.sk-toggleable__label-arrow:before {color: black;}#sk-container-id-1 div.sk-toggleable__content {max-height: 0;max-width: 0;overflow: hidden;text-align: left;background-color: #f0f8ff;}#sk-container-id-1 div.sk-toggleable__content pre {margin: 0.2em;color: black;border-radius: 0.25em;background-color: #f0f8ff;}#sk-container-id-1 input.sk-toggleable__control:checked~div.sk-toggleable__content {max-height: 200px;max-width: 100%;overflow: auto;}#sk-container-id-1 input.sk-toggleable__control:checked~label.sk-toggleable__label-arrow:before {content: \"▾\";}#sk-container-id-1 div.sk-estimator input.sk-toggleable__control:checked~label.sk-toggleable__label {background-color: #d4ebff;}#sk-container-id-1 div.sk-label input.sk-toggleable__control:checked~label.sk-toggleable__label {background-color: #d4ebff;}#sk-container-id-1 input.sk-hidden--visually {border: 0;clip: rect(1px 1px 1px 1px);clip: rect(1px, 1px, 1px, 1px);height: 1px;margin: -1px;overflow: hidden;padding: 0;position: absolute;width: 1px;}#sk-container-id-1 div.sk-estimator {font-family: monospace;background-color: #f0f8ff;border: 1px dotted black;border-radius: 0.25em;box-sizing: border-box;margin-bottom: 0.5em;}#sk-container-id-1 div.sk-estimator:hover {background-color: #d4ebff;}#sk-container-id-1 div.sk-parallel-item::after {content: \"\";width: 100%;border-bottom: 1px solid gray;flex-grow: 1;}#sk-container-id-1 div.sk-label:hover label.sk-toggleable__label {background-color: #d4ebff;}#sk-container-id-1 div.sk-serial::before {content: \"\";position: absolute;border-left: 1px solid gray;box-sizing: border-box;top: 0;bottom: 0;left: 50%;z-index: 0;}#sk-container-id-1 div.sk-serial {display: flex;flex-direction: column;align-items: center;background-color: white;padding-right: 0.2em;padding-left: 0.2em;position: relative;}#sk-container-id-1 div.sk-item {position: relative;z-index: 1;}#sk-container-id-1 div.sk-parallel {display: flex;align-items: stretch;justify-content: center;background-color: white;position: relative;}#sk-container-id-1 div.sk-item::before, #sk-container-id-1 div.sk-parallel-item::before {content: \"\";position: absolute;border-left: 1px solid gray;box-sizing: border-box;top: 0;bottom: 0;left: 50%;z-index: -1;}#sk-container-id-1 div.sk-parallel-item {display: flex;flex-direction: column;z-index: 1;position: relative;background-color: white;}#sk-container-id-1 div.sk-parallel-item:first-child::after {align-self: flex-end;width: 50%;}#sk-container-id-1 div.sk-parallel-item:last-child::after {align-self: flex-start;width: 50%;}#sk-container-id-1 div.sk-parallel-item:only-child::after {width: 0;}#sk-container-id-1 div.sk-dashed-wrapped {border: 1px dashed gray;margin: 0 0.4em 0.5em 0.4em;box-sizing: border-box;padding-bottom: 0.4em;background-color: white;}#sk-container-id-1 div.sk-label label {font-family: monospace;font-weight: bold;display: inline-block;line-height: 1.2em;}#sk-container-id-1 div.sk-label-container {text-align: center;}#sk-container-id-1 div.sk-container {/* jupyter's `normalize.less` sets `[hidden] { display: none; }` but bootstrap.min.css set `[hidden] { display: none !important; }` so we also need the `!important` here to be able to override the default hidden behavior on the sphinx rendered scikit-learn.org. See: https://github.com/scikit-learn/scikit-learn/issues/21755 */display: inline-block !important;position: relative;}#sk-container-id-1 div.sk-text-repr-fallback {display: none;}</style><div id=\"sk-container-id-1\" class=\"sk-top-container\"><div class=\"sk-text-repr-fallback\"><pre>LogisticRegression(max_iter=7000,\n",
       "                   random_state=RandomState(MT19937) at 0x156054C40)</pre><b>In a Jupyter environment, please rerun this cell to show the HTML representation or trust the notebook. <br />On GitHub, the HTML representation is unable to render, please try loading this page with nbviewer.org.</b></div><div class=\"sk-container\" hidden><div class=\"sk-item\"><div class=\"sk-estimator sk-toggleable\"><input class=\"sk-toggleable__control sk-hidden--visually\" id=\"sk-estimator-id-1\" type=\"checkbox\" checked><label for=\"sk-estimator-id-1\" class=\"sk-toggleable__label sk-toggleable__label-arrow\">LogisticRegression</label><div class=\"sk-toggleable__content\"><pre>LogisticRegression(max_iter=7000,\n",
       "                   random_state=RandomState(MT19937) at 0x156054C40)</pre></div></div></div></div></div>"
      ],
      "text/plain": [
       "LogisticRegression(max_iter=7000,\n",
       "                   random_state=RandomState(MT19937) at 0x156054C40)"
      ]
     },
     "execution_count": 3,
     "metadata": {},
     "output_type": "execute_result"
    }
   ],
   "source": [
    "configuration_dict = {\n",
    "    \"fix_skew\": False,\n",
    "    \"normalize\": False,\n",
    "    \"fix_missing_in_testing\": True,\n",
    "    \"numerical_features\": True,\n",
    "    \"categorical_features\": True,\n",
    "    \"diagnosis_features\": True,\n",
    "    \"intervention_features\": True,\n",
    "    \"use_idf\": False,\n",
    "    \"class_balanced\": False,\n",
    "    \"remove_outliers\": True\n",
    "}\n",
    "model_dict = {\n",
    "        \"model_name\": \"MLPClassifier\",\n",
    "        \"hidden_layer_sizes\": [\n",
    "            100\n",
    "        ],\n",
    "        \"activation\": \"relu\",\n",
    "        \"solver\": \"adam\",\n",
    "        \"alpha\": 0.0001,\n",
    "        \"batch_size\": \"auto\",\n",
    "        \"learning_rate\": \"constant\",\n",
    "        \"learning_rate_init\": 0.001,\n",
    "        \"power_t\": 0.5,\n",
    "        \"max_iter\": 1000,\n",
    "        \"shuffle\": True,\n",
    "        \"random_state\": None,\n",
    "        \"tol\": 0.0001,\n",
    "        \"verbose\": False,\n",
    "        \"warm_start\": False,\n",
    "        \"momentum\": 0.9,\n",
    "        \"nesterovs_momentum\": True,\n",
    "        \"early_stopping\": False,\n",
    "        \"validation_fraction\": 0.1,\n",
    "        \"beta_1\": 0.9,\n",
    "        \"beta_2\": 0.999,\n",
    "        \"epsilon\": 1e-08,\n",
    "        \"n_iter_no_change\": 10,\n",
    "        \"max_fun\": 15000\n",
    "    }\n",
    "\n",
    "log_reg = {\n",
    "        \"model_name\": \"LogisticRegression\",\n",
    "        \"penalty\": \"l2\",\n",
    "        \"dual\": False,\n",
    "        \"tol\": 0.0001,\n",
    "        \"C\": 1.0,\n",
    "        \"fit_intercept\": True,\n",
    "        \"intercept_scaling\": 1,\n",
    "        \"class_weight\": None,\n",
    "        \"random_state\": None,\n",
    "        \"solver\": \"lbfgs\",\n",
    "        \"max_iter\": 7000,\n",
    "        \"multi_class\": \"auto\",\n",
    "        \"verbose\": 0,\n",
    "        \"warm_start\": False,\n",
    "        \"n_jobs\": None,\n",
    "        \"l1_ratio\": None\n",
    "    }\n",
    "model_seed = 1270833263\n",
    "model_random_state=np.random.RandomState(model_seed)\n",
    "logreg = configuration.model_from_configuration(log_reg,model_random_state )\n",
    "logreg"
   ]
  },
  {
   "cell_type": "code",
   "execution_count": 4,
   "metadata": {},
   "outputs": [],
   "source": [
    "config = configuration.get_config()\n",
    "\n",
    "\n",
    "# Retrieving model and experiment configurations \n",
    "model_configurations = json.load(open(config['models_config'], encoding='utf-8'))\n",
    "experiment_configurations = json.load(open(config['experiments_config'], encoding='utf-8'))\n",
    "\n",
    "params = configuration_dict\n",
    "\n",
    "# Computing training and testing matrices.\n",
    "X_train, y_train, X_test, y_test, columns = health_data.Admission.get_train_test_matrices(\n",
    "        fix_missing_in_testing=params['fix_missing_in_testing'],\n",
    "        normalize=params['normalize'],\n",
    "        fix_skew=params['fix_skew'],\n",
    "        numerical_features=params['numerical_features'],\n",
    "        categorical_features=params['categorical_features'],\n",
    "        diagnosis_features=params['diagnosis_features'],\n",
    "        intervention_features=params['intervention_features'],\n",
    "        use_idf=params['use_idf'],\n",
    "        remove_outliers=params['remove_outliers'],\n",
    "        )\n"
   ]
  },
  {
   "cell_type": "code",
   "execution_count": 10,
   "metadata": {},
   "outputs": [
    {
     "name": "stdout",
     "output_type": "stream",
     "text": [
      "(416877, 17136)\n",
      "(416877,)\n",
      "399,507\n",
      " 17,370\n"
     ]
    }
   ],
   "source": [
    "print(X_train.shape)\n",
    "print(y_train.shape)\n",
    "\n",
    "\n",
    "print(f'{np.sum(y_train==0):7,}')\n",
    "print(f'{np.sum(y_train==1):7,}')\n"
   ]
  },
  {
   "cell_type": "code",
   "execution_count": 90,
   "metadata": {},
   "outputs": [
    {
     "name": "stdout",
     "output_type": "stream",
     "text": [
      "Majority: 399,507\n",
      "Minority:  17,370\n",
      "(55930, 17136)\n",
      "Majority:  27,965 (1.0X the minority)\n",
      "Minority:  27,965\n"
     ]
    }
   ],
   "source": [
    "from imblearn.under_sampling import RandomUnderSampler\n",
    "from imblearn.pipeline import Pipeline\n",
    "\n",
    "print(f'Majority: {np.sum(y_train==0):7,}')\n",
    "print(f'Minority: {np.sum(y_train==1):7,}')\n",
    "\n",
    "\n",
    "over = SMOTE(sampling_strategy=0.07)\n",
    "under = RandomUnderSampler(sampling_strategy=1)\n",
    "\n",
    "steps = [('o', over), ('u', under)]\n",
    "# steps = [('u', under)]\n",
    "# steps = [('o', over)]\n",
    "\n",
    "pipeline = Pipeline(steps=steps)\n",
    "\n",
    "x, y = pipeline.fit_resample(X_train, y_train)\n",
    "print(x.shape)\n",
    "\n",
    "print(f'Majority: {np.sum(y==0):7,} ({np.sum(y==0)/np.sum(y==1):.1f}X the minority)')\n",
    "print(f'Minority: {np.sum(y==1):7,}')"
   ]
  },
  {
   "cell_type": "code",
   "execution_count": 91,
   "metadata": {},
   "outputs": [
    {
     "name": "stderr",
     "output_type": "stream",
     "text": [
      "/Users/marianomaisonnave/Environments/alc/lib/python3.9/site-packages/sklearn/linear_model/_logistic.py:460: ConvergenceWarning: lbfgs failed to converge (status=1):\n",
      "STOP: TOTAL NO. of ITERATIONS REACHED LIMIT.\n",
      "\n",
      "Increase the number of iterations (max_iter) or scale the data as shown in:\n",
      "    https://scikit-learn.org/stable/modules/preprocessing.html\n",
      "Please also refer to the documentation for alternative solver options:\n",
      "    https://scikit-learn.org/stable/modules/linear_model.html#logistic-regression\n",
      "  n_iter_i = _check_optimize_result(\n"
     ]
    },
    {
     "data": {
      "text/html": [
       "<style>#sk-container-id-17 {color: black;}#sk-container-id-17 pre{padding: 0;}#sk-container-id-17 div.sk-toggleable {background-color: white;}#sk-container-id-17 label.sk-toggleable__label {cursor: pointer;display: block;width: 100%;margin-bottom: 0;padding: 0.3em;box-sizing: border-box;text-align: center;}#sk-container-id-17 label.sk-toggleable__label-arrow:before {content: \"▸\";float: left;margin-right: 0.25em;color: #696969;}#sk-container-id-17 label.sk-toggleable__label-arrow:hover:before {color: black;}#sk-container-id-17 div.sk-estimator:hover label.sk-toggleable__label-arrow:before {color: black;}#sk-container-id-17 div.sk-toggleable__content {max-height: 0;max-width: 0;overflow: hidden;text-align: left;background-color: #f0f8ff;}#sk-container-id-17 div.sk-toggleable__content pre {margin: 0.2em;color: black;border-radius: 0.25em;background-color: #f0f8ff;}#sk-container-id-17 input.sk-toggleable__control:checked~div.sk-toggleable__content {max-height: 200px;max-width: 100%;overflow: auto;}#sk-container-id-17 input.sk-toggleable__control:checked~label.sk-toggleable__label-arrow:before {content: \"▾\";}#sk-container-id-17 div.sk-estimator input.sk-toggleable__control:checked~label.sk-toggleable__label {background-color: #d4ebff;}#sk-container-id-17 div.sk-label input.sk-toggleable__control:checked~label.sk-toggleable__label {background-color: #d4ebff;}#sk-container-id-17 input.sk-hidden--visually {border: 0;clip: rect(1px 1px 1px 1px);clip: rect(1px, 1px, 1px, 1px);height: 1px;margin: -1px;overflow: hidden;padding: 0;position: absolute;width: 1px;}#sk-container-id-17 div.sk-estimator {font-family: monospace;background-color: #f0f8ff;border: 1px dotted black;border-radius: 0.25em;box-sizing: border-box;margin-bottom: 0.5em;}#sk-container-id-17 div.sk-estimator:hover {background-color: #d4ebff;}#sk-container-id-17 div.sk-parallel-item::after {content: \"\";width: 100%;border-bottom: 1px solid gray;flex-grow: 1;}#sk-container-id-17 div.sk-label:hover label.sk-toggleable__label {background-color: #d4ebff;}#sk-container-id-17 div.sk-serial::before {content: \"\";position: absolute;border-left: 1px solid gray;box-sizing: border-box;top: 0;bottom: 0;left: 50%;z-index: 0;}#sk-container-id-17 div.sk-serial {display: flex;flex-direction: column;align-items: center;background-color: white;padding-right: 0.2em;padding-left: 0.2em;position: relative;}#sk-container-id-17 div.sk-item {position: relative;z-index: 1;}#sk-container-id-17 div.sk-parallel {display: flex;align-items: stretch;justify-content: center;background-color: white;position: relative;}#sk-container-id-17 div.sk-item::before, #sk-container-id-17 div.sk-parallel-item::before {content: \"\";position: absolute;border-left: 1px solid gray;box-sizing: border-box;top: 0;bottom: 0;left: 50%;z-index: -1;}#sk-container-id-17 div.sk-parallel-item {display: flex;flex-direction: column;z-index: 1;position: relative;background-color: white;}#sk-container-id-17 div.sk-parallel-item:first-child::after {align-self: flex-end;width: 50%;}#sk-container-id-17 div.sk-parallel-item:last-child::after {align-self: flex-start;width: 50%;}#sk-container-id-17 div.sk-parallel-item:only-child::after {width: 0;}#sk-container-id-17 div.sk-dashed-wrapped {border: 1px dashed gray;margin: 0 0.4em 0.5em 0.4em;box-sizing: border-box;padding-bottom: 0.4em;background-color: white;}#sk-container-id-17 div.sk-label label {font-family: monospace;font-weight: bold;display: inline-block;line-height: 1.2em;}#sk-container-id-17 div.sk-label-container {text-align: center;}#sk-container-id-17 div.sk-container {/* jupyter's `normalize.less` sets `[hidden] { display: none; }` but bootstrap.min.css set `[hidden] { display: none !important; }` so we also need the `!important` here to be able to override the default hidden behavior on the sphinx rendered scikit-learn.org. See: https://github.com/scikit-learn/scikit-learn/issues/21755 */display: inline-block !important;position: relative;}#sk-container-id-17 div.sk-text-repr-fallback {display: none;}</style><div id=\"sk-container-id-17\" class=\"sk-top-container\"><div class=\"sk-text-repr-fallback\"><pre>LogisticRegression(max_iter=7000,\n",
       "                   random_state=RandomState(MT19937) at 0x156054C40)</pre><b>In a Jupyter environment, please rerun this cell to show the HTML representation or trust the notebook. <br />On GitHub, the HTML representation is unable to render, please try loading this page with nbviewer.org.</b></div><div class=\"sk-container\" hidden><div class=\"sk-item\"><div class=\"sk-estimator sk-toggleable\"><input class=\"sk-toggleable__control sk-hidden--visually\" id=\"sk-estimator-id-17\" type=\"checkbox\" checked><label for=\"sk-estimator-id-17\" class=\"sk-toggleable__label sk-toggleable__label-arrow\">LogisticRegression</label><div class=\"sk-toggleable__content\"><pre>LogisticRegression(max_iter=7000,\n",
       "                   random_state=RandomState(MT19937) at 0x156054C40)</pre></div></div></div></div></div>"
      ],
      "text/plain": [
       "LogisticRegression(max_iter=7000,\n",
       "                   random_state=RandomState(MT19937) at 0x156054C40)"
      ]
     },
     "execution_count": 91,
     "metadata": {},
     "output_type": "execute_result"
    }
   ],
   "source": [
    "logreg.fit(x, y)"
   ]
  },
  {
   "cell_type": "code",
   "execution_count": 92,
   "metadata": {},
   "outputs": [
    {
     "name": "stdout",
     "output_type": "stream",
     "text": [
      "0.5\n"
     ]
    },
    {
     "data": {
      "text/html": [
       "<div>\n",
       "<style scoped>\n",
       "    .dataframe tbody tr th:only-of-type {\n",
       "        vertical-align: middle;\n",
       "    }\n",
       "\n",
       "    .dataframe tbody tr th {\n",
       "        vertical-align: top;\n",
       "    }\n",
       "\n",
       "    .dataframe thead th {\n",
       "        text-align: right;\n",
       "    }\n",
       "</style>\n",
       "<table border=\"1\" class=\"dataframe\">\n",
       "  <thead>\n",
       "    <tr style=\"text-align: right;\">\n",
       "      <th></th>\n",
       "      <th>Model</th>\n",
       "      <th>split</th>\n",
       "      <th>TN</th>\n",
       "      <th>FP</th>\n",
       "      <th>FN</th>\n",
       "      <th>TP</th>\n",
       "      <th>Precision</th>\n",
       "      <th>Recall</th>\n",
       "      <th>F1-Score</th>\n",
       "      <th>AUC</th>\n",
       "    </tr>\n",
       "  </thead>\n",
       "  <tbody>\n",
       "    <tr>\n",
       "      <th>0</th>\n",
       "      <td>LogReg</td>\n",
       "      <td>TRAIN</td>\n",
       "      <td>252348</td>\n",
       "      <td>147159</td>\n",
       "      <td>4671</td>\n",
       "      <td>12699</td>\n",
       "      <td>0.0794392523364486</td>\n",
       "      <td>0.7310880829015544</td>\n",
       "      <td>0.14330692667072922</td>\n",
       "      <td>0.6813682948430831</td>\n",
       "    </tr>\n",
       "    <tr>\n",
       "      <th>1</th>\n",
       "      <td>LogReg</td>\n",
       "      <td>TEST</td>\n",
       "      <td>63648</td>\n",
       "      <td>36703</td>\n",
       "      <td>1465</td>\n",
       "      <td>3068</td>\n",
       "      <td>0.077141635865329</td>\n",
       "      <td>0.6768144716523273</td>\n",
       "      <td>0.13849765258215962</td>\n",
       "      <td>0.655534120461095</td>\n",
       "    </tr>\n",
       "  </tbody>\n",
       "</table>\n",
       "</div>"
      ],
      "text/plain": [
       "    Model  split      TN      FP    FN     TP           Precision  \\\n",
       "0  LogReg  TRAIN  252348  147159  4671  12699  0.0794392523364486   \n",
       "1  LogReg   TEST   63648   36703  1465   3068   0.077141635865329   \n",
       "\n",
       "               Recall             F1-Score                 AUC  \n",
       "0  0.7310880829015544  0.14330692667072922  0.6813682948430831  \n",
       "1  0.6768144716523273  0.13849765258215962   0.655534120461095  "
      ]
     },
     "execution_count": 92,
     "metadata": {},
     "output_type": "execute_result"
    }
   ],
   "source": [
    "y_true = y_train\n",
    "model = logreg\n",
    "y_pred = model.predict(X_train)\n",
    "y_score= model.predict_proba(X_train)\n",
    "model_name = 'LogReg'\n",
    "columns = ['Model',\n",
    "            'split',\n",
    "            'TN',\n",
    "            'FP',\n",
    "            'FN',\n",
    "            'TP',\n",
    "            'Precision',\n",
    "            'Recall',\n",
    "            'F1-Score',\n",
    "            'AUC',\n",
    "            ]\n",
    "\n",
    "tn, fp, fn, tp = confusion_matrix(y_true, y_pred).ravel()\n",
    "vec1 = [model_name,\n",
    "        'TRAIN',\n",
    "        tn,\n",
    "        fp,\n",
    "        fn,\n",
    "        tp,\n",
    "        precision_score(y_true, y_pred,),\n",
    "        recall_score(y_true, y_pred,),\n",
    "        f1_score(y_true, y_pred,),\n",
    "        roc_auc_score(y_true=y_true, y_score=y_pred),\n",
    "        ]\n",
    "\n",
    "# Evaluating metrics on TESTING\n",
    "y_true = y_test\n",
    "y_pred = model.predict(X_test)\n",
    "y_score= model.predict_proba(X_test)\n",
    "\n",
    "tn, fp, fn, tp = confusion_matrix(y_true, y_pred).ravel()    \n",
    "vec2 = [model_name,\n",
    "        'TEST',\n",
    "        tn,\n",
    "        fp,\n",
    "        fn,\n",
    "        tp,\n",
    "        precision_score(y_true, y_pred,),\n",
    "        recall_score(y_true, y_pred,),\n",
    "        f1_score(y_true, y_pred,),\n",
    "        roc_auc_score(y_true=y_true, y_score=y_pred),\n",
    "        ]\n",
    "m = np.vstack([vec1, vec2])\n",
    "new_df = pd.DataFrame(m, columns=columns)\n",
    "\n",
    "print(sampling_strategy)\n",
    "new_df\n"
   ]
  },
  {
   "cell_type": "code",
   "execution_count": 72,
   "metadata": {},
   "outputs": [
    {
     "data": {
      "text/plain": [
       "(799014, 17136)"
      ]
     },
     "execution_count": 72,
     "metadata": {},
     "output_type": "execute_result"
    }
   ],
   "source": [
    "x.shape"
   ]
  },
  {
   "cell_type": "code",
   "execution_count": 6,
   "metadata": {},
   "outputs": [],
   "source": []
  },
  {
   "cell_type": "code",
   "execution_count": 7,
   "metadata": {},
   "outputs": [
    {
     "ename": "ValueError",
     "evalue": "The specified ratio required to generate new sample in the majority class while trying to remove samples. Please increase the ratio.",
     "output_type": "error",
     "traceback": [
      "\u001b[0;31m---------------------------------------------------------------------------\u001b[0m",
      "\u001b[0;31mValueError\u001b[0m                                Traceback (most recent call last)",
      "\u001b[1;32m/Users/marianomaisonnave/Repositories/alternate-level-of-care-project/notebooks/21. Undersampling.ipynb Cell 10\u001b[0m line \u001b[0;36m1\n\u001b[0;32m----> <a href='vscode-notebook-cell:/Users/marianomaisonnave/Repositories/alternate-level-of-care-project/notebooks/21.%20Undersampling.ipynb#X12sZmlsZQ%3D%3D?line=0'>1</a>\u001b[0m X, y \u001b[39m=\u001b[39m pipeline\u001b[39m.\u001b[39;49mfit_resample(X_train, y_train)\n\u001b[1;32m      <a href='vscode-notebook-cell:/Users/marianomaisonnave/Repositories/alternate-level-of-care-project/notebooks/21.%20Undersampling.ipynb#X12sZmlsZQ%3D%3D?line=1'>2</a>\u001b[0m \u001b[39mprint\u001b[39m(X\u001b[39m.\u001b[39mshape)\n\u001b[1;32m      <a href='vscode-notebook-cell:/Users/marianomaisonnave/Repositories/alternate-level-of-care-project/notebooks/21.%20Undersampling.ipynb#X12sZmlsZQ%3D%3D?line=2'>3</a>\u001b[0m \u001b[39mprint\u001b[39m(X_train\u001b[39m.\u001b[39mshape)\n",
      "File \u001b[0;32m~/Environments/alc/lib/python3.9/site-packages/imblearn/pipeline.py:380\u001b[0m, in \u001b[0;36mPipeline.fit_resample\u001b[0;34m(self, X, y, **fit_params)\u001b[0m\n\u001b[1;32m    378\u001b[0m fit_params_last_step \u001b[39m=\u001b[39m fit_params_steps[\u001b[39mself\u001b[39m\u001b[39m.\u001b[39msteps[\u001b[39m-\u001b[39m\u001b[39m1\u001b[39m][\u001b[39m0\u001b[39m]]\n\u001b[1;32m    379\u001b[0m \u001b[39mif\u001b[39;00m \u001b[39mhasattr\u001b[39m(last_step, \u001b[39m\"\u001b[39m\u001b[39mfit_resample\u001b[39m\u001b[39m\"\u001b[39m):\n\u001b[0;32m--> 380\u001b[0m     \u001b[39mreturn\u001b[39;00m last_step\u001b[39m.\u001b[39;49mfit_resample(Xt, yt, \u001b[39m*\u001b[39;49m\u001b[39m*\u001b[39;49mfit_params_last_step)\n",
      "File \u001b[0;32m~/Environments/alc/lib/python3.9/site-packages/imblearn/base.py:208\u001b[0m, in \u001b[0;36mBaseSampler.fit_resample\u001b[0;34m(self, X, y)\u001b[0m\n\u001b[1;32m    187\u001b[0m \u001b[39m\u001b[39m\u001b[39m\"\"\"Resample the dataset.\u001b[39;00m\n\u001b[1;32m    188\u001b[0m \n\u001b[1;32m    189\u001b[0m \u001b[39mParameters\u001b[39;00m\n\u001b[0;32m   (...)\u001b[0m\n\u001b[1;32m    205\u001b[0m \u001b[39m    The corresponding label of `X_resampled`.\u001b[39;00m\n\u001b[1;32m    206\u001b[0m \u001b[39m\"\"\"\u001b[39;00m\n\u001b[1;32m    207\u001b[0m \u001b[39mself\u001b[39m\u001b[39m.\u001b[39m_validate_params()\n\u001b[0;32m--> 208\u001b[0m \u001b[39mreturn\u001b[39;00m \u001b[39msuper\u001b[39;49m()\u001b[39m.\u001b[39;49mfit_resample(X, y)\n",
      "File \u001b[0;32m~/Environments/alc/lib/python3.9/site-packages/imblearn/base.py:108\u001b[0m, in \u001b[0;36mSamplerMixin.fit_resample\u001b[0;34m(self, X, y)\u001b[0m\n\u001b[1;32m    105\u001b[0m arrays_transformer \u001b[39m=\u001b[39m ArraysTransformer(X, y)\n\u001b[1;32m    106\u001b[0m X, y, binarize_y \u001b[39m=\u001b[39m \u001b[39mself\u001b[39m\u001b[39m.\u001b[39m_check_X_y(X, y)\n\u001b[0;32m--> 108\u001b[0m \u001b[39mself\u001b[39m\u001b[39m.\u001b[39msampling_strategy_ \u001b[39m=\u001b[39m check_sampling_strategy(\n\u001b[1;32m    109\u001b[0m     \u001b[39mself\u001b[39;49m\u001b[39m.\u001b[39;49msampling_strategy, y, \u001b[39mself\u001b[39;49m\u001b[39m.\u001b[39;49m_sampling_type\n\u001b[1;32m    110\u001b[0m )\n\u001b[1;32m    112\u001b[0m output \u001b[39m=\u001b[39m \u001b[39mself\u001b[39m\u001b[39m.\u001b[39m_fit_resample(X, y)\n\u001b[1;32m    114\u001b[0m y_ \u001b[39m=\u001b[39m (\n\u001b[1;32m    115\u001b[0m     label_binarize(output[\u001b[39m1\u001b[39m], classes\u001b[39m=\u001b[39mnp\u001b[39m.\u001b[39munique(y)) \u001b[39mif\u001b[39;00m binarize_y \u001b[39melse\u001b[39;00m output[\u001b[39m1\u001b[39m]\n\u001b[1;32m    116\u001b[0m )\n",
      "File \u001b[0;32m~/Environments/alc/lib/python3.9/site-packages/imblearn/utils/_validation.py:550\u001b[0m, in \u001b[0;36mcheck_sampling_strategy\u001b[0;34m(sampling_strategy, y, sampling_type, **kwargs)\u001b[0m\n\u001b[1;32m    543\u001b[0m     \u001b[39mif\u001b[39;00m sampling_strategy \u001b[39m<\u001b[39m\u001b[39m=\u001b[39m \u001b[39m0\u001b[39m \u001b[39mor\u001b[39;00m sampling_strategy \u001b[39m>\u001b[39m \u001b[39m1\u001b[39m:\n\u001b[1;32m    544\u001b[0m         \u001b[39mraise\u001b[39;00m \u001b[39mValueError\u001b[39;00m(\n\u001b[1;32m    545\u001b[0m             \u001b[39mf\u001b[39m\u001b[39m\"\u001b[39m\u001b[39mWhen \u001b[39m\u001b[39m'\u001b[39m\u001b[39msampling_strategy\u001b[39m\u001b[39m'\u001b[39m\u001b[39m is a float, it should be \u001b[39m\u001b[39m\"\u001b[39m\n\u001b[1;32m    546\u001b[0m             \u001b[39mf\u001b[39m\u001b[39m\"\u001b[39m\u001b[39min the range (0, 1]. Got \u001b[39m\u001b[39m{\u001b[39;00msampling_strategy\u001b[39m}\u001b[39;00m\u001b[39m instead.\u001b[39m\u001b[39m\"\u001b[39m\n\u001b[1;32m    547\u001b[0m         )\n\u001b[1;32m    548\u001b[0m     \u001b[39mreturn\u001b[39;00m OrderedDict(\n\u001b[1;32m    549\u001b[0m         \u001b[39msorted\u001b[39m(\n\u001b[0;32m--> 550\u001b[0m             _sampling_strategy_float(sampling_strategy, y, sampling_type)\u001b[39m.\u001b[39mitems()\n\u001b[1;32m    551\u001b[0m         )\n\u001b[1;32m    552\u001b[0m     )\n\u001b[1;32m    553\u001b[0m \u001b[39melif\u001b[39;00m \u001b[39mcallable\u001b[39m(sampling_strategy):\n\u001b[1;32m    554\u001b[0m     sampling_strategy_ \u001b[39m=\u001b[39m sampling_strategy(y, \u001b[39m*\u001b[39m\u001b[39m*\u001b[39mkwargs)\n",
      "File \u001b[0;32m~/Environments/alc/lib/python3.9/site-packages/imblearn/utils/_validation.py:409\u001b[0m, in \u001b[0;36m_sampling_strategy_float\u001b[0;34m(sampling_strategy, y, sampling_type)\u001b[0m\n\u001b[1;32m    398\u001b[0m     sampling_strategy_ \u001b[39m=\u001b[39m {\n\u001b[1;32m    399\u001b[0m         key: \u001b[39mint\u001b[39m(n_sample_minority \u001b[39m/\u001b[39m sampling_strategy)\n\u001b[1;32m    400\u001b[0m         \u001b[39mfor\u001b[39;00m (key, value) \u001b[39min\u001b[39;00m target_stats\u001b[39m.\u001b[39mitems()\n\u001b[1;32m    401\u001b[0m         \u001b[39mif\u001b[39;00m key \u001b[39m!=\u001b[39m class_minority\n\u001b[1;32m    402\u001b[0m     }\n\u001b[1;32m    403\u001b[0m     \u001b[39mif\u001b[39;00m \u001b[39many\u001b[39m(\n\u001b[1;32m    404\u001b[0m         [\n\u001b[1;32m    405\u001b[0m             n_samples \u001b[39m>\u001b[39m target_stats[target]\n\u001b[1;32m    406\u001b[0m             \u001b[39mfor\u001b[39;00m target, n_samples \u001b[39min\u001b[39;00m sampling_strategy_\u001b[39m.\u001b[39mitems()\n\u001b[1;32m    407\u001b[0m         ]\n\u001b[1;32m    408\u001b[0m     ):\n\u001b[0;32m--> 409\u001b[0m         \u001b[39mraise\u001b[39;00m \u001b[39mValueError\u001b[39;00m(\n\u001b[1;32m    410\u001b[0m             \u001b[39m\"\u001b[39m\u001b[39mThe specified ratio required to generate new \u001b[39m\u001b[39m\"\u001b[39m\n\u001b[1;32m    411\u001b[0m             \u001b[39m\"\u001b[39m\u001b[39msample in the majority class while trying to \u001b[39m\u001b[39m\"\u001b[39m\n\u001b[1;32m    412\u001b[0m             \u001b[39m\"\u001b[39m\u001b[39mremove samples. Please increase the ratio.\u001b[39m\u001b[39m\"\u001b[39m\n\u001b[1;32m    413\u001b[0m         )\n\u001b[1;32m    414\u001b[0m \u001b[39melse\u001b[39;00m:\n\u001b[1;32m    415\u001b[0m     \u001b[39mraise\u001b[39;00m \u001b[39mValueError\u001b[39;00m(\n\u001b[1;32m    416\u001b[0m         \u001b[39m\"\u001b[39m\u001b[39m'\u001b[39m\u001b[39mclean-sampling\u001b[39m\u001b[39m'\u001b[39m\u001b[39m methods do let the user specify the sampling ratio.\u001b[39m\u001b[39m\"\u001b[39m\n\u001b[1;32m    417\u001b[0m     )\n",
      "\u001b[0;31mValueError\u001b[0m: The specified ratio required to generate new sample in the majority class while trying to remove samples. Please increase the ratio."
     ]
    }
   ],
   "source": [
    "print(X.shape)\n",
    "print(X_train.shape)\n",
    "# model.fit(X,y)"
   ]
  },
  {
   "cell_type": "code",
   "execution_count": 22,
   "metadata": {},
   "outputs": [
    {
     "data": {
      "text/plain": [
       "(119850, 17136)"
      ]
     },
     "execution_count": 22,
     "metadata": {},
     "output_type": "execute_result"
    }
   ],
   "source": [
    "X.shape"
   ]
  },
  {
   "cell_type": "markdown",
   "metadata": {},
   "source": [
    "### Under Sampling\n"
   ]
  },
  {
   "cell_type": "code",
   "execution_count": null,
   "metadata": {},
   "outputs": [],
   "source": [
    "number_of_positives_in_training = np.sum(y_train)\n",
    "number_of_positives_in_training\n",
    "\n",
    "positive_x = X_train[y_train==1,:]\n",
    "negative_x = X_train[y_train==0,:]\n",
    "\n",
    "print(positive_x.shape)\n",
    "print(negative_x.shape)\n",
    "\n",
    "under_sampling_ix = np.random.choice(range(negative_x.shape[0]), size=number_of_positives_in_training, replace=False)\n",
    "\n",
    "under_sampled_negative_x = negative_x[under_sampling_ix,:]\n",
    "\n",
    "print(positive_x.shape)\n",
    "print(under_sampled_negative_x.shape)\n",
    "\n",
    "undersampled_x = np.vstack([positive_x,under_sampled_negative_x])\n",
    "\n",
    "print(undersampled_x.shape)\n",
    "\n",
    "undersampled_y = np.array([1]*number_of_positives_in_training + [0]*number_of_positives_in_training)\n",
    "\n",
    "print(undersampled_y.shape)\n",
    "# X_train_under_sampled = X_train[under_sampling_ix,:]\n",
    "# X_train_under_sampled.shape\n"
   ]
  }
 ],
 "metadata": {
  "kernelspec": {
   "display_name": "alc",
   "language": "python",
   "name": "python3"
  },
  "language_info": {
   "codemirror_mode": {
    "name": "ipython",
    "version": 3
   },
   "file_extension": ".py",
   "mimetype": "text/x-python",
   "name": "python",
   "nbconvert_exporter": "python",
   "pygments_lexer": "ipython3",
   "version": "3.9.6"
  }
 },
 "nbformat": 4,
 "nbformat_minor": 2
}
