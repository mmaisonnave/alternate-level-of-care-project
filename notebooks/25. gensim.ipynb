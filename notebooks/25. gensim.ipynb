{
 "cells": [
  {
   "cell_type": "code",
   "execution_count": 1,
   "metadata": {},
   "outputs": [
    {
     "name": "stderr",
     "output_type": "stream",
     "text": [
      "/Users/marianomaisonnave/Environments/alc/lib/python3.9/site-packages/urllib3/__init__.py:34: NotOpenSSLWarning: urllib3 v2.0 only supports OpenSSL 1.1.1+, currently the 'ssl' module is compiled with 'LibreSSL 2.8.3'. See: https://github.com/urllib3/urllib3/issues/3020\n",
      "  warnings.warn(\n"
     ]
    }
   ],
   "source": [
    "import gensim\n",
    "import logging\n",
    "import collections\n",
    "import numpy as np\n",
    "import os\n",
    "import sys\n",
    "sys.path.append('..')\n",
    "\n",
    "from utilities import health_data\n",
    "from utilities import configuration\n",
    "\n",
    "config = configuration.get_config()\n",
    "\n",
    "logging.basicConfig(filename=config['gensim_log'], \n",
    "                    format='%(asctime)s : %(levelname)s : %(message)s', \n",
    "                    level=logging.INFO)\n"
   ]
  },
  {
   "cell_type": "code",
   "execution_count": 2,
   "metadata": {},
   "outputs": [],
   "source": [
    "train, testing = health_data.Admission.get_training_testing_data()"
   ]
  },
  {
   "cell_type": "code",
   "execution_count": 4,
   "metadata": {},
   "outputs": [
    {
     "name": "stdout",
     "output_type": "stream",
     "text": [
      "Computing diagnosis embeddings ...\n"
     ]
    }
   ],
   "source": [
    "df = health_data.Admission.diagnosis_embeddings(train+testing, model_name='diag_conf_4')"
   ]
  },
  {
   "cell_type": "code",
   "execution_count": 25,
   "metadata": {},
   "outputs": [
    {
     "data": {
      "text/plain": [
       "<gensim.models.doc2vec.Doc2Vec at 0x3806f05b0>"
      ]
     },
     "execution_count": 25,
     "metadata": {},
     "output_type": "execute_result"
    }
   ],
   "source": [
    "model = gensim.models.doc2vec.Doc2Vec.load(os.path.join(config['gensim_model_folder'], 'diag_conf_12'))\n",
    "model"
   ]
  },
  {
   "cell_type": "code",
   "execution_count": 26,
   "metadata": {},
   "outputs": [
    {
     "name": "stdout",
     "output_type": "stream",
     "text": [
      "Selected instance: \"15,378\"\n",
      "Vector representation for document: [ 0.09563132 -0.24646254 -0.9265186   0.3144989  -0.29238382 ... ]\n",
      "T8453          : {'Other complications of internal orthopaedic prosthetic devices, implants and g\n",
      "U821           : {'Resistance to methicillin'}\n",
      "Y831           : {'Other surgical procedures as the cause of abnormal reaction or later complicat\n",
      "Z720           : {'Personal history of tobacco abuse', 'Drug use', 'Tobacco use'}\n",
      "\n",
      "Document similar to:\n",
      "     15378: 0.863\n",
      "    194613: 0.720\n",
      "    433199: 0.708\n",
      "    169709: 0.692\n",
      "     42806: 0.688\n",
      "\n",
      "Document 15378:\n",
      "T8453          : {'Other complications of internal orthopaedic prosthetic devices, implants and g\n",
      "U821           : {'Resistance to methicillin'}\n",
      "Y831           : {'Other surgical procedures as the cause of abnormal reaction or later complicat\n",
      "Z720           : {'Personal history of tobacco abuse', 'Drug use', 'Tobacco use'}\n",
      "\n",
      "Document 194613:\n",
      "T8453          : {'Other complications of internal orthopaedic prosthetic devices, implants and g\n",
      "U821           : {'Resistance to methicillin'}\n",
      "Y831           : {'Other surgical procedures as the cause of abnormal reaction or later complicat\n",
      "I4890          : {'Atrial fibrillation, unspecified'}\n",
      "\n",
      "Document 433199:\n",
      "T8453          : {'Other complications of internal orthopaedic prosthetic devices, implants and g\n",
      "Y831           : {'Other surgical procedures as the cause of abnormal reaction or later complicat\n",
      "Z720           : {'Personal history of tobacco abuse', 'Drug use', 'Tobacco use'}\n",
      "\n",
      "Document 169709:\n",
      "T8453          : {'Other complications of internal orthopaedic prosthetic devices, implants and g\n",
      "Y831           : {'Other surgical procedures as the cause of abnormal reaction or later complicat\n",
      "\n",
      "Document 42806:\n",
      "T8453          : {'Other complications of internal orthopaedic prosthetic devices, implants and g\n",
      "B956           : {'Pneumonia, unspecified', 'Staphylococcus aureus as the cause of diseases class\n",
      "U821           : {'Resistance to methicillin'}\n",
      "Y831           : {'Other surgical procedures as the cause of abnormal reaction or later complicat\n",
      "Z720           : {'Personal history of tobacco abuse', 'Drug use', 'Tobacco use'}\n",
      "\n",
      "Document 55082:\n",
      "T8453          : {'Other complications of internal orthopaedic prosthetic devices, implants and g\n",
      "Y831           : {'Other surgical procedures as the cause of abnormal reaction or later complicat\n",
      "Z8531          : {'Personal history of malignant neoplasm of left breast', 'Personal history of m\n",
      "Z9011          : {'Acquired absence of left breast'}\n",
      "\n",
      "Document 56783:\n",
      "T8453          : {'Other complications of internal orthopaedic prosthetic devices, implants and g\n",
      "Y831           : {'Other surgical procedures as the cause of abnormal reaction or later complicat\n",
      "\n",
      "Document 141467:\n",
      "T8453          : {'Other complications of internal orthopaedic prosthetic devices, implants and g\n",
      "Y831           : {'Other surgical procedures as the cause of abnormal reaction or later complicat\n",
      "\n",
      "Document 140439:\n",
      "T8453          : {'Other complications of internal orthopaedic prosthetic devices, implants and g\n",
      "Y831           : {'Other surgical procedures as the cause of abnormal reaction or later complicat\n",
      "\n",
      "Document 109763:\n",
      "T8453          : {'Other complications of internal orthopaedic prosthetic devices, implants and g\n",
      "T817           : {'Vascular complications following a procedure, not elsewhere classified'}\n",
      "I269           : {'Pulmonary embolism without mention of acute cor pulmonale', 'Arthrosis, unspec\n",
      "Y831           : {'Other surgical procedures as the cause of abnormal reaction or later complicat\n",
      "\n",
      "Document 143955:\n",
      "T8453          : {'Other complications of internal orthopaedic prosthetic devices, implants and g\n",
      "Y831           : {'Other surgical procedures as the cause of abnormal reaction or later complicat\n",
      "\n",
      "Document 169875:\n",
      "T8453          : {'Other complications of internal orthopaedic prosthetic devices, implants and g\n",
      "Y831           : {'Other surgical procedures as the cause of abnormal reaction or later complicat\n",
      "\n",
      "Document 125480:\n",
      "T8453          : {'Other complications of internal orthopaedic prosthetic devices, implants and g\n",
      "Y831           : {'Other surgical procedures as the cause of abnormal reaction or later complicat\n",
      "\n",
      "Document 96957:\n",
      "T8453          : {'Other complications of internal orthopaedic prosthetic devices, implants and g\n",
      "Y831           : {'Other surgical procedures as the cause of abnormal reaction or later complicat\n",
      "\n",
      "Document 266565:\n",
      "T8453          : {'Other complications of internal orthopaedic prosthetic devices, implants and g\n",
      "Y831           : {'Other surgical procedures as the cause of abnormal reaction or later complicat\n",
      "\n",
      "Document 171938:\n",
      "T8453          : {'Other complications of internal orthopaedic prosthetic devices, implants and g\n",
      "Y831           : {'Other surgical procedures as the cause of abnormal reaction or later complicat\n",
      "\n",
      "Document 8223:\n",
      "T8453          : {'Other complications of internal orthopaedic prosthetic devices, implants and g\n",
      "Y831           : {'Other surgical procedures as the cause of abnormal reaction or later complicat\n",
      "\n",
      "Document 381152:\n",
      "T8453          : {'Other complications of internal orthopaedic prosthetic devices, implants and g\n",
      "Y831           : {'Other surgical procedures as the cause of abnormal reaction or later complicat\n",
      "\n",
      "Document 102285:\n",
      "T8453          : {'Other complications of internal orthopaedic prosthetic devices, implants and g\n",
      "Y831           : {'Other surgical procedures as the cause of abnormal reaction or later complicat\n",
      "\n",
      "Document 9801:\n",
      "T8453          : {'Other complications of internal orthopaedic prosthetic devices, implants and g\n",
      "Y831           : {'Other surgical procedures as the cause of abnormal reaction or later complicat\n",
      "\n",
      "Common codes: {'T8453', 'Y831'}\n"
     ]
    }
   ],
   "source": [
    "import numpy as np\n",
    "\n",
    "train_test = train+testing\n",
    "\n",
    "loaded_model = gensim.models.doc2vec.Doc2Vec.load(os.path.join(config['gensim_model_folder'], 'diag_conf_9'))\n",
    "rng = np.random.default_rng(seed=7164770206861631272)\n",
    "\n",
    "example_ix = rng.choice(range(len(train_test)), size=1)[0]\n",
    "example_ix = rng.choice(range(len(train_test)), size=1)[0]\n",
    "example_ix = rng.choice(range(len(train_test)), size=1)[0]\n",
    "example_ix = rng.choice(range(len(train_test)), size=1)[0]\n",
    "\n",
    "\n",
    "print(f'Selected instance: \"{example_ix:,}\"')\n",
    "print(f'Vector representation for document: {str(loaded_model.infer_vector(train_test[example_ix].diagnosis.codes)[:5])[:-1]} ... ]')\n",
    "\n",
    "diagnosis_mapping = health_data.Admission.get_diagnoses_mapping()\n",
    "for code in train_test[example_ix].diagnosis.codes:\n",
    "    print(f'{code:15}: {str(diagnosis_mapping[code])[:80]}')\n",
    "print()\n",
    "\n",
    "print('Document similar to:')\n",
    "inferred_vector = loaded_model.infer_vector(train_test[example_ix].diagnosis.codes)\n",
    "for doc_id, score in loaded_model.dv.most_similar([inferred_vector], topn=5):\n",
    "    print(f'{doc_id:10}: {score:4.3f}')\n",
    "print()\n",
    "\n",
    "\n",
    "for doc_id, _ in loaded_model.dv.most_similar([inferred_vector], topn=20):\n",
    "    print(f'Document {doc_id}:')\n",
    "    for code in train_test[doc_id].diagnosis.codes:\n",
    "        print(f'{code:15}: {str(diagnosis_mapping[code])[:80]}')\n",
    "    print()\n",
    "\n",
    "print(f'Common codes: {set(train_test[doc_id].diagnosis.codes).intersection(set(train_test[example_ix].diagnosis.codes))}')"
   ]
  },
  {
   "cell_type": "code",
   "execution_count": 29,
   "metadata": {},
   "outputs": [
    {
     "data": {
      "text/plain": [
       "array([-0.36471707, -0.21521375,  0.0995309 , -0.25640723, -0.7617536 ,\n",
       "        0.37681812, -0.9136413 ,  0.39022243, -0.6875718 ,  0.10444845],\n",
       "      dtype=float32)"
      ]
     },
     "execution_count": 29,
     "metadata": {},
     "output_type": "execute_result"
    }
   ],
   "source": [
    "model.wv['T8453']"
   ]
  },
  {
   "cell_type": "code",
   "execution_count": 47,
   "metadata": {},
   "outputs": [
    {
     "ename": "AttributeError",
     "evalue": "The vocab attribute was removed from KeyedVector in Gensim 4.0.0.\nUse KeyedVector's .key_to_index dict, .index_to_key list, and methods .get_vecattr(key, attr) and .set_vecattr(key, attr, new_val) instead.\nSee https://github.com/RaRe-Technologies/gensim/wiki/Migrating-from-Gensim-3.x-to-4",
     "output_type": "error",
     "traceback": [
      "\u001b[0;31m---------------------------------------------------------------------------\u001b[0m",
      "\u001b[0;31mAttributeError\u001b[0m                            Traceback (most recent call last)",
      "Cell \u001b[0;32mIn[47], line 1\u001b[0m\n\u001b[0;32m----> 1\u001b[0m \u001b[43mmodel\u001b[49m\u001b[38;5;241;43m.\u001b[39;49m\u001b[43mwv\u001b[49m\u001b[38;5;241;43m.\u001b[39;49m\u001b[43mvocab\u001b[49m[ix]\n",
      "File \u001b[0;32m~/Environments/alc/lib/python3.9/site-packages/gensim/models/keyedvectors.py:734\u001b[0m, in \u001b[0;36mKeyedVectors.vocab\u001b[0;34m(self)\u001b[0m\n\u001b[1;32m    732\u001b[0m \u001b[38;5;129m@property\u001b[39m\n\u001b[1;32m    733\u001b[0m \u001b[38;5;28;01mdef\u001b[39;00m \u001b[38;5;21mvocab\u001b[39m(\u001b[38;5;28mself\u001b[39m):\n\u001b[0;32m--> 734\u001b[0m     \u001b[38;5;28;01mraise\u001b[39;00m \u001b[38;5;167;01mAttributeError\u001b[39;00m(\n\u001b[1;32m    735\u001b[0m         \u001b[38;5;124m\"\u001b[39m\u001b[38;5;124mThe vocab attribute was removed from KeyedVector in Gensim 4.0.0.\u001b[39m\u001b[38;5;130;01m\\n\u001b[39;00m\u001b[38;5;124m\"\u001b[39m\n\u001b[1;32m    736\u001b[0m         \u001b[38;5;124m\"\u001b[39m\u001b[38;5;124mUse KeyedVector\u001b[39m\u001b[38;5;124m'\u001b[39m\u001b[38;5;124ms .key_to_index dict, .index_to_key list, and methods \u001b[39m\u001b[38;5;124m\"\u001b[39m\n\u001b[1;32m    737\u001b[0m         \u001b[38;5;124m\"\u001b[39m\u001b[38;5;124m.get_vecattr(key, attr) and .set_vecattr(key, attr, new_val) instead.\u001b[39m\u001b[38;5;130;01m\\n\u001b[39;00m\u001b[38;5;124m\"\u001b[39m\n\u001b[1;32m    738\u001b[0m         \u001b[38;5;124m\"\u001b[39m\u001b[38;5;124mSee https://github.com/RaRe-Technologies/gensim/wiki/Migrating-from-Gensim-3.x-to-4\u001b[39m\u001b[38;5;124m\"\u001b[39m\n\u001b[1;32m    739\u001b[0m     )\n",
      "\u001b[0;31mAttributeError\u001b[0m: The vocab attribute was removed from KeyedVector in Gensim 4.0.0.\nUse KeyedVector's .key_to_index dict, .index_to_key list, and methods .get_vecattr(key, attr) and .set_vecattr(key, attr, new_val) instead.\nSee https://github.com/RaRe-Technologies/gensim/wiki/Migrating-from-Gensim-3.x-to-4"
     ]
    }
   ],
   "source": [
    "model.wv.index2word"
   ]
  },
  {
   "cell_type": "code",
   "execution_count": 87,
   "metadata": {},
   "outputs": [],
   "source": [
    "model = gensim.models.doc2vec.Doc2Vec.load(os.path.join(config['gensim_model_folder'], 'diag_conf_9'))\n"
   ]
  },
  {
   "cell_type": "code",
   "execution_count": 99,
   "metadata": {},
   "outputs": [
    {
     "name": "stdout",
     "output_type": "stream",
     "text": [
      "target_code=M759 ({'Shoulder lesion, unspecified site'})\n",
      "M6652            : {'Spontaneous rupture of unspecified tendon, upper arm'}\n",
      "S330             : {'Traumatic rupture of lumbar intervertebral disc'}\n",
      "M6591            : {'Synovitis and tenosynovitis, unspecified, shoulder region'}\n",
      "Y535             : {'Digestants causing adverse effect in therapeutic use'}\n",
      "N500             : {'Atrophy of testis'}\n",
      "N4500            : {'Epididymitis with abscess'}\n",
      "M7985            : {'Other specified soft tissue disorders, pelvic region and thigh'}\n",
      "O89404           : {'Spinal and epidural anaesthesia-induced headache during the puerperium, postpartum condition or comp'}\n",
      "K614             : {'Intrasphincteric abscess'}\n",
      "M2411            : {'Other articular cartilage disorders, shoulder region'}\n"
     ]
    }
   ],
   "source": [
    "\n",
    "ix = np.random.choice(range(len(model.wv)), size=1)[0]\n",
    "\n",
    "\n",
    "target_code = model.wv.index_to_key[ix]\n",
    "print(f'target_code={target_code} ({diagnosis_mapping[target_code]})')\n",
    "for code, score in model.wv.similar_by_key(target_code):\n",
    "    print(f'{code:17}: {diagnosis_mapping[code]}')"
   ]
  },
  {
   "cell_type": "code",
   "execution_count": null,
   "metadata": {},
   "outputs": [],
   "source": []
  },
  {
   "cell_type": "code",
   "execution_count": 8,
   "metadata": {},
   "outputs": [
    {
     "data": {
      "text/plain": [
       "Diagnosis(codes=['K8010', 'Z720'], texts=['Calculus of gallbladder with other cholecystitis without mention of obstruction', 'Tobacco use'], types=['M', '3'])"
      ]
     },
     "execution_count": 8,
     "metadata": {},
     "output_type": "execute_result"
    }
   ],
   "source": [
    "train[0].diagnosis"
   ]
  },
  {
   "cell_type": "code",
   "execution_count": 16,
   "metadata": {},
   "outputs": [
    {
     "data": {
      "text/html": [
       "<div>\n",
       "<style scoped>\n",
       "    .dataframe tbody tr th:only-of-type {\n",
       "        vertical-align: middle;\n",
       "    }\n",
       "\n",
       "    .dataframe tbody tr th {\n",
       "        vertical-align: top;\n",
       "    }\n",
       "\n",
       "    .dataframe thead th {\n",
       "        text-align: right;\n",
       "    }\n",
       "</style>\n",
       "<table border=\"1\" class=\"dataframe\">\n",
       "  <thead>\n",
       "    <tr style=\"text-align: right;\">\n",
       "      <th></th>\n",
       "      <th>0</th>\n",
       "      <th>1</th>\n",
       "      <th>2</th>\n",
       "      <th>3</th>\n",
       "      <th>4</th>\n",
       "      <th>5</th>\n",
       "      <th>6</th>\n",
       "      <th>7</th>\n",
       "      <th>8</th>\n",
       "      <th>9</th>\n",
       "      <th>...</th>\n",
       "      <th>91</th>\n",
       "      <th>92</th>\n",
       "      <th>93</th>\n",
       "      <th>94</th>\n",
       "      <th>95</th>\n",
       "      <th>96</th>\n",
       "      <th>97</th>\n",
       "      <th>98</th>\n",
       "      <th>99</th>\n",
       "      <th>100</th>\n",
       "    </tr>\n",
       "  </thead>\n",
       "  <tbody>\n",
       "    <tr>\n",
       "      <th>0</th>\n",
       "      <td>0.0</td>\n",
       "      <td>-0.063161</td>\n",
       "      <td>-0.248457</td>\n",
       "      <td>-0.130698</td>\n",
       "      <td>0.085834</td>\n",
       "      <td>0.028198</td>\n",
       "      <td>-0.201195</td>\n",
       "      <td>-0.281639</td>\n",
       "      <td>0.405608</td>\n",
       "      <td>-0.065389</td>\n",
       "      <td>...</td>\n",
       "      <td>0.015082</td>\n",
       "      <td>0.227208</td>\n",
       "      <td>-0.099438</td>\n",
       "      <td>-0.069197</td>\n",
       "      <td>-0.256359</td>\n",
       "      <td>0.066998</td>\n",
       "      <td>0.028146</td>\n",
       "      <td>-0.151062</td>\n",
       "      <td>-0.162603</td>\n",
       "      <td>-0.266917</td>\n",
       "    </tr>\n",
       "    <tr>\n",
       "      <th>1</th>\n",
       "      <td>1.0</td>\n",
       "      <td>0.413227</td>\n",
       "      <td>-0.911897</td>\n",
       "      <td>0.254760</td>\n",
       "      <td>0.742982</td>\n",
       "      <td>-0.316985</td>\n",
       "      <td>0.220133</td>\n",
       "      <td>-0.503356</td>\n",
       "      <td>-0.264264</td>\n",
       "      <td>0.092758</td>\n",
       "      <td>...</td>\n",
       "      <td>0.274872</td>\n",
       "      <td>0.451071</td>\n",
       "      <td>-0.037354</td>\n",
       "      <td>0.841485</td>\n",
       "      <td>-0.960242</td>\n",
       "      <td>-0.056485</td>\n",
       "      <td>-0.326613</td>\n",
       "      <td>0.095859</td>\n",
       "      <td>0.324437</td>\n",
       "      <td>-0.461155</td>\n",
       "    </tr>\n",
       "    <tr>\n",
       "      <th>2</th>\n",
       "      <td>2.0</td>\n",
       "      <td>-1.658434</td>\n",
       "      <td>-1.653236</td>\n",
       "      <td>1.028106</td>\n",
       "      <td>-0.871340</td>\n",
       "      <td>-0.447459</td>\n",
       "      <td>0.241639</td>\n",
       "      <td>-0.240287</td>\n",
       "      <td>0.016931</td>\n",
       "      <td>0.228959</td>\n",
       "      <td>...</td>\n",
       "      <td>-1.770697</td>\n",
       "      <td>1.732234</td>\n",
       "      <td>1.983951</td>\n",
       "      <td>-0.828193</td>\n",
       "      <td>0.410257</td>\n",
       "      <td>1.319523</td>\n",
       "      <td>-1.029812</td>\n",
       "      <td>1.725796</td>\n",
       "      <td>2.287525</td>\n",
       "      <td>1.430981</td>\n",
       "    </tr>\n",
       "    <tr>\n",
       "      <th>3</th>\n",
       "      <td>3.0</td>\n",
       "      <td>0.218941</td>\n",
       "      <td>-0.080762</td>\n",
       "      <td>-0.129898</td>\n",
       "      <td>-0.065770</td>\n",
       "      <td>0.270290</td>\n",
       "      <td>0.133499</td>\n",
       "      <td>-0.007811</td>\n",
       "      <td>-0.115128</td>\n",
       "      <td>-0.134931</td>\n",
       "      <td>...</td>\n",
       "      <td>0.188024</td>\n",
       "      <td>0.398111</td>\n",
       "      <td>0.324744</td>\n",
       "      <td>-0.273500</td>\n",
       "      <td>-0.096209</td>\n",
       "      <td>-0.011448</td>\n",
       "      <td>-0.071246</td>\n",
       "      <td>0.187279</td>\n",
       "      <td>-0.162962</td>\n",
       "      <td>-0.054224</td>\n",
       "    </tr>\n",
       "    <tr>\n",
       "      <th>4</th>\n",
       "      <td>4.0</td>\n",
       "      <td>-0.025808</td>\n",
       "      <td>-0.328370</td>\n",
       "      <td>-0.678773</td>\n",
       "      <td>-0.222535</td>\n",
       "      <td>0.211497</td>\n",
       "      <td>-1.260752</td>\n",
       "      <td>0.312203</td>\n",
       "      <td>0.693779</td>\n",
       "      <td>0.453954</td>\n",
       "      <td>...</td>\n",
       "      <td>1.055395</td>\n",
       "      <td>-0.014712</td>\n",
       "      <td>0.869090</td>\n",
       "      <td>-0.669505</td>\n",
       "      <td>0.202122</td>\n",
       "      <td>1.025176</td>\n",
       "      <td>-0.338622</td>\n",
       "      <td>0.032626</td>\n",
       "      <td>0.254966</td>\n",
       "      <td>-0.145903</td>\n",
       "    </tr>\n",
       "    <tr>\n",
       "      <th>...</th>\n",
       "      <td>...</td>\n",
       "      <td>...</td>\n",
       "      <td>...</td>\n",
       "      <td>...</td>\n",
       "      <td>...</td>\n",
       "      <td>...</td>\n",
       "      <td>...</td>\n",
       "      <td>...</td>\n",
       "      <td>...</td>\n",
       "      <td>...</td>\n",
       "      <td>...</td>\n",
       "      <td>...</td>\n",
       "      <td>...</td>\n",
       "      <td>...</td>\n",
       "      <td>...</td>\n",
       "      <td>...</td>\n",
       "      <td>...</td>\n",
       "      <td>...</td>\n",
       "      <td>...</td>\n",
       "      <td>...</td>\n",
       "      <td>...</td>\n",
       "    </tr>\n",
       "    <tr>\n",
       "      <th>245</th>\n",
       "      <td>245.0</td>\n",
       "      <td>-0.637477</td>\n",
       "      <td>-1.025891</td>\n",
       "      <td>1.191061</td>\n",
       "      <td>0.660186</td>\n",
       "      <td>-0.762446</td>\n",
       "      <td>0.650027</td>\n",
       "      <td>0.801506</td>\n",
       "      <td>0.520393</td>\n",
       "      <td>-0.138521</td>\n",
       "      <td>...</td>\n",
       "      <td>0.928185</td>\n",
       "      <td>0.369692</td>\n",
       "      <td>-0.194334</td>\n",
       "      <td>-0.194816</td>\n",
       "      <td>-0.692744</td>\n",
       "      <td>-0.203267</td>\n",
       "      <td>0.200329</td>\n",
       "      <td>0.763800</td>\n",
       "      <td>0.414888</td>\n",
       "      <td>-1.053449</td>\n",
       "    </tr>\n",
       "    <tr>\n",
       "      <th>246</th>\n",
       "      <td>246.0</td>\n",
       "      <td>-0.150698</td>\n",
       "      <td>-0.418549</td>\n",
       "      <td>-0.012652</td>\n",
       "      <td>-0.237934</td>\n",
       "      <td>0.174071</td>\n",
       "      <td>-0.165665</td>\n",
       "      <td>-0.330649</td>\n",
       "      <td>0.436257</td>\n",
       "      <td>-0.054562</td>\n",
       "      <td>...</td>\n",
       "      <td>-0.221336</td>\n",
       "      <td>0.083653</td>\n",
       "      <td>-0.151271</td>\n",
       "      <td>0.012909</td>\n",
       "      <td>0.031156</td>\n",
       "      <td>-0.216929</td>\n",
       "      <td>-0.180516</td>\n",
       "      <td>-0.357873</td>\n",
       "      <td>-0.204578</td>\n",
       "      <td>-0.138453</td>\n",
       "    </tr>\n",
       "    <tr>\n",
       "      <th>247</th>\n",
       "      <td>247.0</td>\n",
       "      <td>-0.281151</td>\n",
       "      <td>-0.577415</td>\n",
       "      <td>0.092399</td>\n",
       "      <td>-0.395507</td>\n",
       "      <td>0.248444</td>\n",
       "      <td>0.285106</td>\n",
       "      <td>-0.456880</td>\n",
       "      <td>-0.135471</td>\n",
       "      <td>0.053767</td>\n",
       "      <td>...</td>\n",
       "      <td>-0.113131</td>\n",
       "      <td>0.552096</td>\n",
       "      <td>-0.017792</td>\n",
       "      <td>-0.311864</td>\n",
       "      <td>-0.388670</td>\n",
       "      <td>0.140746</td>\n",
       "      <td>-0.073323</td>\n",
       "      <td>0.052377</td>\n",
       "      <td>-0.315365</td>\n",
       "      <td>-0.499371</td>\n",
       "    </tr>\n",
       "    <tr>\n",
       "      <th>248</th>\n",
       "      <td>248.0</td>\n",
       "      <td>0.074712</td>\n",
       "      <td>-0.153854</td>\n",
       "      <td>-0.027818</td>\n",
       "      <td>0.029288</td>\n",
       "      <td>0.021287</td>\n",
       "      <td>-0.035748</td>\n",
       "      <td>-0.057293</td>\n",
       "      <td>0.022977</td>\n",
       "      <td>0.018381</td>\n",
       "      <td>...</td>\n",
       "      <td>0.043534</td>\n",
       "      <td>0.119104</td>\n",
       "      <td>0.072128</td>\n",
       "      <td>-0.065186</td>\n",
       "      <td>-0.152789</td>\n",
       "      <td>0.122465</td>\n",
       "      <td>-0.015940</td>\n",
       "      <td>0.005998</td>\n",
       "      <td>0.013325</td>\n",
       "      <td>-0.209880</td>\n",
       "    </tr>\n",
       "    <tr>\n",
       "      <th>249</th>\n",
       "      <td>249.0</td>\n",
       "      <td>0.693605</td>\n",
       "      <td>-0.167207</td>\n",
       "      <td>0.374161</td>\n",
       "      <td>1.356355</td>\n",
       "      <td>-0.516034</td>\n",
       "      <td>-0.664708</td>\n",
       "      <td>-0.220458</td>\n",
       "      <td>1.648055</td>\n",
       "      <td>-1.020696</td>\n",
       "      <td>...</td>\n",
       "      <td>2.327212</td>\n",
       "      <td>-0.017341</td>\n",
       "      <td>-1.046472</td>\n",
       "      <td>-0.162913</td>\n",
       "      <td>-0.637184</td>\n",
       "      <td>0.194366</td>\n",
       "      <td>0.056808</td>\n",
       "      <td>0.324248</td>\n",
       "      <td>1.028977</td>\n",
       "      <td>-0.598295</td>\n",
       "    </tr>\n",
       "  </tbody>\n",
       "</table>\n",
       "<p>250 rows × 101 columns</p>\n",
       "</div>"
      ],
      "text/plain": [
       "       0         1         2         3         4         5         6    \\\n",
       "0      0.0 -0.063161 -0.248457 -0.130698  0.085834  0.028198 -0.201195   \n",
       "1      1.0  0.413227 -0.911897  0.254760  0.742982 -0.316985  0.220133   \n",
       "2      2.0 -1.658434 -1.653236  1.028106 -0.871340 -0.447459  0.241639   \n",
       "3      3.0  0.218941 -0.080762 -0.129898 -0.065770  0.270290  0.133499   \n",
       "4      4.0 -0.025808 -0.328370 -0.678773 -0.222535  0.211497 -1.260752   \n",
       "..     ...       ...       ...       ...       ...       ...       ...   \n",
       "245  245.0 -0.637477 -1.025891  1.191061  0.660186 -0.762446  0.650027   \n",
       "246  246.0 -0.150698 -0.418549 -0.012652 -0.237934  0.174071 -0.165665   \n",
       "247  247.0 -0.281151 -0.577415  0.092399 -0.395507  0.248444  0.285106   \n",
       "248  248.0  0.074712 -0.153854 -0.027818  0.029288  0.021287 -0.035748   \n",
       "249  249.0  0.693605 -0.167207  0.374161  1.356355 -0.516034 -0.664708   \n",
       "\n",
       "          7         8         9    ...       91        92        93   \\\n",
       "0   -0.281639  0.405608 -0.065389  ...  0.015082  0.227208 -0.099438   \n",
       "1   -0.503356 -0.264264  0.092758  ...  0.274872  0.451071 -0.037354   \n",
       "2   -0.240287  0.016931  0.228959  ... -1.770697  1.732234  1.983951   \n",
       "3   -0.007811 -0.115128 -0.134931  ...  0.188024  0.398111  0.324744   \n",
       "4    0.312203  0.693779  0.453954  ...  1.055395 -0.014712  0.869090   \n",
       "..        ...       ...       ...  ...       ...       ...       ...   \n",
       "245  0.801506  0.520393 -0.138521  ...  0.928185  0.369692 -0.194334   \n",
       "246 -0.330649  0.436257 -0.054562  ... -0.221336  0.083653 -0.151271   \n",
       "247 -0.456880 -0.135471  0.053767  ... -0.113131  0.552096 -0.017792   \n",
       "248 -0.057293  0.022977  0.018381  ...  0.043534  0.119104  0.072128   \n",
       "249 -0.220458  1.648055 -1.020696  ...  2.327212 -0.017341 -1.046472   \n",
       "\n",
       "          94        95        96        97        98        99        100  \n",
       "0   -0.069197 -0.256359  0.066998  0.028146 -0.151062 -0.162603 -0.266917  \n",
       "1    0.841485 -0.960242 -0.056485 -0.326613  0.095859  0.324437 -0.461155  \n",
       "2   -0.828193  0.410257  1.319523 -1.029812  1.725796  2.287525  1.430981  \n",
       "3   -0.273500 -0.096209 -0.011448 -0.071246  0.187279 -0.162962 -0.054224  \n",
       "4   -0.669505  0.202122  1.025176 -0.338622  0.032626  0.254966 -0.145903  \n",
       "..        ...       ...       ...       ...       ...       ...       ...  \n",
       "245 -0.194816 -0.692744 -0.203267  0.200329  0.763800  0.414888 -1.053449  \n",
       "246  0.012909  0.031156 -0.216929 -0.180516 -0.357873 -0.204578 -0.138453  \n",
       "247 -0.311864 -0.388670  0.140746 -0.073323  0.052377 -0.315365 -0.499371  \n",
       "248 -0.065186 -0.152789  0.122465 -0.015940  0.005998  0.013325 -0.209880  \n",
       "249 -0.162913 -0.637184  0.194366  0.056808  0.324248  1.028977 -0.598295  \n",
       "\n",
       "[250 rows x 101 columns]"
      ]
     },
     "execution_count": 16,
     "metadata": {},
     "output_type": "execute_result"
    }
   ],
   "source": [
    "import pandas as pd\n",
    "pd.DataFrame(np.hstack([admit_ids.reshape(-1,1),matrix]))"
   ]
  },
  {
   "cell_type": "code",
   "execution_count": 11,
   "metadata": {},
   "outputs": [],
   "source": [
    "def get_diagnosis_generator(tokens_only=False):\n",
    "    if tokens_only:\n",
    "        return (admission.diagnosis.codes for admission in train)\n",
    "    else:\n",
    "        return (gensim.models.doc2vec.TaggedDocument(admission.diagnosis.codes, [ix]) \n",
    "                                                     for ix,admission in enumerate(train))\n",
    "dianosis_training = list(get_diagnosis_generator())"
   ]
  },
  {
   "cell_type": "code",
   "execution_count": 4,
   "metadata": {},
   "outputs": [],
   "source": [
    "from gensim.models.callbacks import CallbackAny2Vec\n",
    "\n",
    "class EpochLogger(CallbackAny2Vec):\n",
    "    '''Callback to log information about training'''\n",
    "    \n",
    "    def __init__(self):\n",
    "        self.epoch = 1\n",
    "\n",
    "    def on_epoch_begin(self, model):\n",
    "        pass\n",
    "        # print(\"Epoch #{} start\".format(self.epoch))\n",
    "\n",
    "    def on_epoch_end(self, model):\n",
    "        print(f\"Epoch #{self.epoch}/{model.epochs}\")\n",
    "        self.epoch+=1\n",
    "\n"
   ]
  },
  {
   "cell_type": "code",
   "execution_count": 5,
   "metadata": {},
   "outputs": [
    {
     "data": {
      "text/plain": [
       "array([ 0.00522794, -0.01538932,  0.01137994,  0.0151439 , -0.00510857,\n",
       "       -0.00802645, -0.01921924,  0.00983716,  0.0058222 ,  0.01749465,\n",
       "        0.0066006 , -0.00580401,  0.00711611,  0.01725426,  0.01846576,\n",
       "        0.015289  , -0.0171082 , -0.01513529,  0.01452215, -0.01488672,\n",
       "        0.00650162,  0.01604915, -0.00641403,  0.01351849, -0.01630941,\n",
       "        0.0129769 ,  0.01118381,  0.00667422, -0.01624993,  0.01832152,\n",
       "        0.01645675, -0.00312845,  0.00821485,  0.01274883, -0.00347945,\n",
       "        0.010975  , -0.00806845, -0.00255003, -0.00241554, -0.00832321,\n",
       "       -0.00141643, -0.01540412,  0.00728663,  0.018116  ,  0.00956351,\n",
       "        0.01276748, -0.00947212,  0.00972408, -0.01336554, -0.00994097],\n",
       "      dtype=float32)"
      ]
     },
     "execution_count": 5,
     "metadata": {},
     "output_type": "execute_result"
    }
   ],
   "source": [
    "epoch_number=5\n",
    "model = gensim.models.doc2vec.Doc2Vec(vector_size=50, \n",
    "                                      min_count=2, \n",
    "                                      epochs=epoch_number, \n",
    "                                      )\n",
    "model.build_vocab(dianosis_training)\n",
    "model.wv['K8010']\n"
   ]
  },
  {
   "cell_type": "code",
   "execution_count": 6,
   "metadata": {},
   "outputs": [
    {
     "name": "stdout",
     "output_type": "stream",
     "text": [
      "Epoch #1/5\n",
      "Epoch #2/5\n",
      "Epoch #3/5\n",
      "Epoch #4/5\n",
      "Epoch #5/5\n"
     ]
    }
   ],
   "source": [
    "model.train(dianosis_training, \n",
    "            total_examples=model.corpus_count, \n",
    "            epochs=epoch_number,\n",
    "            callbacks=[EpochLogger()]\n",
    "            )"
   ]
  },
  {
   "cell_type": "code",
   "execution_count": 52,
   "metadata": {},
   "outputs": [
    {
     "name": "stdout",
     "output_type": "stream",
     "text": [
      "Rank;diag_conf_1\n",
      "-1;8595\n",
      "1;785\n",
      "2;175\n",
      "3;113\n",
      "4;78\n",
      "5;62\n",
      "6;51\n",
      "7;43\n",
      "8;45\n",
      "9;21\n",
      "10;32\n"
     ]
    }
   ],
   "source": [
    "\n",
    "model_name = 'diag_conf_1'\n",
    "model = gensim.models.doc2vec.Doc2Vec.load(os.path.join(config['gensim_model_folder'], model_name))\n",
    "\n",
    "random_sample_size=10000\n",
    "rng = np.random.default_rng(seed=1299137873036141205)\n",
    "\n",
    "random_sample_ix = rng.choice(range(len(dianosis_training)), size=random_sample_size, replace=False)\n",
    "random_sample = [dianosis_training[ix] for ix in random_sample_ix]\n",
    "\n",
    "considered_ranks=10\n",
    "\n",
    "ranks = []\n",
    "for doc_id, words in [(item.tags[0],item.words) for item in random_sample]:\n",
    "    inferred_vector = model.infer_vector(words)\n",
    "    sims = model.dv.most_similar([inferred_vector], topn=considered_ranks)\n",
    "    if doc_id in [docid for docid, sim in sims]:\n",
    "        rank = [docid for docid, sim in sims].index(doc_id)+1\n",
    "    else:\n",
    "        rank = -1\n",
    "    ranks.append(rank)\n",
    "\n",
    "freq = collections.Counter(ranks)\n",
    "print(f'Rank;{model_name}')\n",
    "for rank in range(-1,considered_ranks+1):\n",
    "    if rank==0:\n",
    "        continue\n",
    "    if rank not in freq:\n",
    "        freq[rank]=0\n",
    "    print(f'{rank};{freq[rank]}')\n",
    "                          "
   ]
  },
  {
   "cell_type": "code",
   "execution_count": 39,
   "metadata": {},
   "outputs": [
    {
     "data": {
      "text/plain": [
       "[(-1, 406),\n",
       " (1, 490),\n",
       " (2, 20),\n",
       " (3, 20),\n",
       " (4, 10),\n",
       " (5, 9),\n",
       " (6, 5),\n",
       " (7, 10),\n",
       " (8, 5),\n",
       " (9, 3),\n",
       " (10, 5),\n",
       " (11, 2),\n",
       " (13, 1),\n",
       " (14, 3),\n",
       " (15, 3),\n",
       " (16, 1),\n",
       " (17, 3),\n",
       " (18, 2),\n",
       " (19, 1),\n",
       " (20, 1)]"
      ]
     },
     "execution_count": 39,
     "metadata": {},
     "output_type": "execute_result"
    }
   ],
   "source": [
    "\n",
    "sorted(collections.Counter(ranks).items(), key=lambda x:int(x[0]))"
   ]
  },
  {
   "cell_type": "code",
   "execution_count": 31,
   "metadata": {},
   "outputs": [
    {
     "data": {
      "text/plain": [
       "258361"
      ]
     },
     "execution_count": 31,
     "metadata": {},
     "output_type": "execute_result"
    }
   ],
   "source": []
  },
  {
   "cell_type": "code",
   "execution_count": 15,
   "metadata": {},
   "outputs": [],
   "source": [
    "import collections"
   ]
  },
  {
   "cell_type": "code",
   "execution_count": 14,
   "metadata": {},
   "outputs": [],
   "source": [
    "inferred_vector = model.infer_vector(random_sample[doc_id].words)\n",
    "sims = model.dv.most_similar([inferred_vector], topn=len(model.dv))\n",
    "rank = [docid for docid, sim in sims].index(doc_id)\n",
    "ranks.append(rank)"
   ]
  },
  {
   "cell_type": "code",
   "execution_count": 17,
   "metadata": {},
   "outputs": [
    {
     "name": "stdout",
     "output_type": "stream",
     "text": [
      "999\n"
     ]
    },
    {
     "data": {
      "text/plain": [
       "[(214549, 0.8077465295791626),\n",
       " (401862, 0.7366076707839966),\n",
       " (252168, 0.7119101881980896),\n",
       " (234414, 0.6901050209999084),\n",
       " (26843, 0.6899646520614624),\n",
       " (245430, 0.6748766899108887),\n",
       " (414156, 0.668571949005127),\n",
       " (66104, 0.6504617929458618),\n",
       " (254604, 0.6502533555030823),\n",
       " (149395, 0.6461442708969116),\n",
       " (123838, 0.6273596286773682),\n",
       " (154612, 0.6259123682975769),\n",
       " (34189, 0.6242959499359131),\n",
       " (139811, 0.6226596832275391),\n",
       " (356020, 0.618524968624115),\n",
       " (242409, 0.6158811450004578),\n",
       " (293933, 0.6156178116798401),\n",
       " (41133, 0.6154081225395203),\n",
       " (404, 0.6115264296531677),\n",
       " (281208, 0.6103981733322144)]"
      ]
     },
     "execution_count": 17,
     "metadata": {},
     "output_type": "execute_result"
    }
   ],
   "source": [
    "print(doc_id)\n",
    "sims[:20]"
   ]
  },
  {
   "cell_type": "code",
   "execution_count": 11,
   "metadata": {},
   "outputs": [
    {
     "name": "stdout",
     "output_type": "stream",
     "text": [
      "Counter({263174: 2, 46218: 2, 5640: 2, 61908: 1, 314075: 1, 63603: 1, 383707: 1, 339352: 1, 157694: 1, 133279: 1, 317545: 1, 217185: 1, 129301: 1, 44240: 1, 112924: 1, 406838: 1, 337967: 1, 273260: 1, 263575: 1, 86933: 1, 417067: 1, 247804: 1, 252781: 1, 299967: 1, 145708: 1, 134183: 1, 103664: 1, 83077: 1, 363585: 1, 400814: 1, 98421: 1, 75211: 1, 289604: 1, 266249: 1, 218048: 1, 375966: 1, 242416: 1, 138693: 1, 409726: 1, 35448: 1, 32194: 1, 60746: 1, 380642: 1, 61389: 1, 3647: 1, 98684: 1, 7767: 1, 14671: 1, 310117: 1, 385498: 1, 249268: 1, 6919: 1, 397782: 1, 75726: 1, 404284: 1, 389058: 1, 181556: 1, 232448: 1, 20415: 1, 140725: 1, 196257: 1, 418353: 1, 252314: 1, 213101: 1, 389719: 1, 62952: 1, 236151: 1, 73236: 1, 1470: 1, 184077: 1, 59417: 1, 381047: 1, 68203: 1, 350403: 1, 210610: 1, 335621: 1, 18183: 1, 325336: 1, 142296: 1, 318869: 1, 22628: 1, 309307: 1, 304284: 1, 205621: 1, 60027: 1, 287050: 1, 86239: 1, 99414: 1, 358461: 1, 76702: 1, 377432: 1, 379908: 1, 249321: 1, 380296: 1, 302849: 1, 354297: 1, 207627: 1, 396566: 1, 286411: 1, 229236: 1, 266258: 1, 390050: 1, 99938: 1, 238322: 1, 371760: 1, 42997: 1, 30958: 1, 282383: 1, 65499: 1, 133392: 1, 95236: 1, 84538: 1, 165169: 1, 33623: 1, 111694: 1, 357350: 1, 189180: 1, 85580: 1, 1181: 1, 214651: 1, 376432: 1, 395302: 1, 102188: 1, 260810: 1, 71092: 1, 33923: 1, 184888: 1, 317605: 1, 79049: 1, 408803: 1, 10344: 1, 7716: 1, 286609: 1, 30229: 1, 30166: 1, 54125: 1, 316118: 1, 39637: 1, 264383: 1, 13356: 1, 306402: 1, 285629: 1, 332993: 1, 60211: 1, 353528: 1, 199123: 1, 154341: 1, 230994: 1, 853: 1, 411329: 1, 327909: 1, 352060: 1, 297954: 1, 418581: 1, 291397: 1, 62626: 1, 381782: 1, 263258: 1, 186615: 1, 311909: 1, 63778: 1, 227688: 1, 382323: 1, 183328: 1, 101218: 1, 277999: 1, 202165: 1, 358857: 1, 163361: 1, 86935: 1, 203058: 1, 58152: 1, 28873: 1, 364663: 1, 295038: 1, 287487: 1, 276846: 1, 148011: 1, 84998: 1, 90597: 1, 378548: 1, 325444: 1, 12298: 1, 327885: 1, 296439: 1, 340100: 1, 137016: 1, 332587: 1, 169810: 1, 48599: 1, 340472: 1, 272592: 1, 292287: 1, 367766: 1, 390303: 1, 209340: 1, 176832: 1, 290889: 1, 32479: 1, 380120: 1, 180998: 1, 119966: 1, 5102: 1, 344059: 1, 196902: 1, 131843: 1, 300179: 1, 81487: 1, 26863: 1, 95772: 1, 21458: 1, 326490: 1, 354090: 1, 2523: 1, 162534: 1, 83300: 1, 250899: 1, 279576: 1, 315487: 1, 316912: 1, 17469: 1, 396878: 1, 99444: 1, 367964: 1, 382258: 1, 144992: 1, 97557: 1, 193187: 1, 113351: 1, 143927: 1, 329405: 1, 216253: 1, 297439: 1, 122997: 1, 351791: 1, 356661: 1, 91377: 1, 369969: 1, 413871: 1, 310568: 1, 252783: 1, 5190: 1, 124895: 1, 186686: 1, 102882: 1, 36674: 1, 16794: 1, 391801: 1, 114506: 1, 132929: 1, 151401: 1, 126775: 1, 155183: 1, 238119: 1, 150434: 1, 398659: 1, 411583: 1, 259713: 1, 187914: 1, 241697: 1, 127349: 1, 272909: 1, 212070: 1, 267376: 1, 347254: 1, 139149: 1, 158223: 1, 414963: 1, 120950: 1, 241329: 1, 228010: 1, 298438: 1, 356072: 1, 76045: 1, 320960: 1, 229040: 1, 317201: 1, 413911: 1, 248748: 1, 319217: 1, 341625: 1, 258265: 1, 322870: 1, 48736: 1, 383321: 1, 113865: 1, 45214: 1, 263393: 1, 351732: 1, 399326: 1, 231862: 1, 352371: 1, 300174: 1, 106516: 1, 41485: 1, 192688: 1, 347532: 1, 277205: 1, 347354: 1, 403697: 1, 43991: 1, 261385: 1, 367682: 1, 203284: 1, 79888: 1, 177691: 1, 214502: 1, 330425: 1, 370281: 1, 204491: 1, 156188: 1, 166035: 1, 281303: 1, 26456: 1, 94325: 1, 54937: 1, 407226: 1, 401847: 1, 161958: 1, 179510: 1, 30919: 1, 85329: 1, 342093: 1, 343528: 1, 357255: 1, 374214: 1, 106581: 1, 57913: 1, 12016: 1, 191090: 1, 272155: 1, 207513: 1, 119002: 1, 329286: 1, 76608: 1, 217687: 1, 99873: 1, 213530: 1, 264408: 1, 405032: 1, 3134: 1, 135914: 1, 8944: 1, 71259: 1, 210018: 1, 178305: 1, 243015: 1, 155378: 1, 360838: 1, 149947: 1, 118529: 1, 245459: 1, 251311: 1, 416467: 1, 262158: 1, 70680: 1, 230673: 1, 111058: 1, 96279: 1, 30378: 1, 224620: 1, 198115: 1, 91743: 1, 157222: 1, 229309: 1, 335543: 1, 83758: 1, 212943: 1, 286452: 1, 172017: 1, 26272: 1, 319094: 1, 21125: 1, 342153: 1, 252111: 1, 139541: 1, 340660: 1, 339078: 1, 92939: 1, 232714: 1, 17416: 1, 200326: 1, 379918: 1, 37263: 1, 329798: 1, 150549: 1, 231475: 1, 324094: 1, 417385: 1, 155538: 1, 10512: 1, 266925: 1, 216529: 1, 356433: 1, 157647: 1, 90007: 1, 415240: 1, 384749: 1, 8033: 1, 330451: 1, 75071: 1, 32541: 1, 70851: 1, 283808: 1, 248089: 1, 413: 1, 214027: 1, 133260: 1, 134746: 1, 270813: 1, 210702: 1, 217093: 1, 24113: 1, 291645: 1, 14329: 1, 136973: 1, 406773: 1, 41048: 1, 57165: 1, 60810: 1, 396447: 1, 163429: 1, 79327: 1, 97804: 1, 298346: 1, 51919: 1, 287053: 1, 26124: 1, 119207: 1, 160468: 1, 342446: 1, 251433: 1, 386856: 1, 286950: 1, 408351: 1, 279815: 1, 74528: 1, 156301: 1, 11453: 1, 27440: 1, 32650: 1, 106507: 1, 215331: 1, 129325: 1, 274446: 1, 93874: 1, 341541: 1, 243791: 1, 131915: 1, 161900: 1, 345770: 1, 54046: 1, 249934: 1, 281381: 1, 256372: 1, 390662: 1, 370654: 1, 81200: 1, 115388: 1, 347968: 1, 117110: 1, 298317: 1, 350276: 1, 317998: 1, 6552: 1, 324299: 1, 266985: 1, 100034: 1, 65902: 1, 128831: 1, 259228: 1, 387324: 1, 236672: 1, 222593: 1, 416042: 1, 196839: 1, 212089: 1, 347430: 1, 387378: 1, 159575: 1, 1466: 1, 291956: 1, 38198: 1, 82413: 1, 194792: 1, 278989: 1, 5192: 1, 305276: 1, 198488: 1, 12728: 1, 340152: 1, 301179: 1, 309050: 1, 68695: 1, 223975: 1, 415913: 1, 236665: 1, 49817: 1, 39646: 1, 249611: 1, 409585: 1, 246159: 1, 127668: 1, 79662: 1, 177710: 1, 261561: 1, 133605: 1, 323543: 1, 178642: 1, 198656: 1, 149689: 1, 371854: 1, 275564: 1, 116289: 1, 186345: 1, 238082: 1, 64368: 1, 35380: 1, 61071: 1, 256269: 1, 171554: 1, 243664: 1, 109190: 1, 112309: 1, 179318: 1, 100976: 1, 251358: 1, 397243: 1, 302015: 1, 131462: 1, 36465: 1, 108073: 1, 17133: 1, 252973: 1, 136110: 1, 23328: 1, 205158: 1, 346463: 1, 207535: 1, 198821: 1, 413486: 1, 38076: 1, 213627: 1, 21497: 1, 286342: 1, 294613: 1, 41540: 1, 49030: 1, 326335: 1, 358324: 1, 328667: 1, 236392: 1, 51832: 1, 142667: 1, 71471: 1, 358727: 1, 42002: 1, 55306: 1, 49998: 1, 168147: 1, 309450: 1, 217999: 1, 26063: 1, 55437: 1, 378864: 1, 28982: 1, 80108: 1, 133603: 1, 161960: 1, 184388: 1, 67992: 1, 345637: 1, 16286: 1, 94123: 1, 248723: 1, 131598: 1, 291276: 1, 2976: 1, 376655: 1, 165790: 1, 35670: 1, 231350: 1, 257158: 1, 125504: 1, 105171: 1, 20728: 1, 129751: 1, 230659: 1, 384062: 1, 47196: 1, 181771: 1, 189831: 1, 307141: 1, 197224: 1, 136419: 1, 377153: 1, 93507: 1, 357177: 1, 284278: 1, 225748: 1, 156119: 1, 364193: 1, 362906: 1, 384442: 1, 176596: 1, 42570: 1, 197494: 1, 351092: 1, 304143: 1, 255433: 1, 65288: 1, 57994: 1, 380350: 1, 269716: 1, 161904: 1, 323946: 1, 301566: 1, 335012: 1, 152280: 1, 291394: 1, 26496: 1, 118687: 1, 157833: 1, 197347: 1, 339362: 1, 232089: 1, 256847: 1, 411838: 1, 119527: 1, 99654: 1, 154670: 1, 59855: 1, 195131: 1, 357063: 1, 198406: 1, 112991: 1, 313860: 1, 169389: 1, 182887: 1, 366493: 1, 11069: 1, 376513: 1, 335692: 1, 370366: 1, 28424: 1, 251075: 1, 104061: 1, 190658: 1, 257068: 1, 406979: 1, 284325: 1, 2451: 1, 347351: 1, 103437: 1, 13568: 1, 263952: 1, 268131: 1, 22907: 1, 233637: 1, 312454: 1, 416966: 1, 83102: 1, 209839: 1, 293525: 1, 312771: 1, 11044: 1, 149420: 1, 353907: 1, 388220: 1, 280193: 1, 25791: 1, 282972: 1, 142393: 1, 112869: 1, 116875: 1, 211282: 1, 258452: 1, 117462: 1, 354760: 1, 89724: 1, 4012: 1, 115583: 1, 92367: 1, 398027: 1, 386884: 1, 186986: 1, 105958: 1, 194572: 1, 178024: 1, 271762: 1, 416565: 1, 176646: 1, 201815: 1, 275940: 1, 24176: 1, 273828: 1, 319611: 1, 41156: 1, 388833: 1, 348158: 1, 211149: 1, 394059: 1, 114493: 1, 247649: 1, 402479: 1, 254364: 1, 344917: 1, 338830: 1, 97998: 1, 13643: 1, 23695: 1, 132885: 1, 117510: 1, 384579: 1, 131716: 1, 22414: 1, 62615: 1, 398357: 1, 164950: 1, 384990: 1, 304338: 1, 322542: 1, 51358: 1, 356974: 1, 352276: 1, 186424: 1, 108123: 1, 161257: 1, 333405: 1, 340212: 1, 192543: 1, 292135: 1, 415852: 1, 192260: 1, 263384: 1, 3233: 1, 128790: 1, 198910: 1, 169239: 1, 403621: 1, 256337: 1, 412848: 1, 415506: 1, 44177: 1, 186976: 1, 107442: 1, 117167: 1, 217344: 1, 155064: 1, 379602: 1, 24582: 1, 358510: 1, 304476: 1, 330387: 1, 133369: 1, 225594: 1, 86150: 1, 339390: 1, 361817: 1, 360507: 1, 326095: 1, 328842: 1, 176607: 1, 264492: 1, 385143: 1, 107519: 1, 299994: 1, 18725: 1, 331288: 1, 383831: 1, 27912: 1, 191191: 1, 373245: 1, 250834: 1, 25874: 1, 415031: 1, 244402: 1, 64897: 1, 360325: 1, 47350: 1, 19912: 1, 113505: 1, 332801: 1, 36925: 1, 175820: 1, 204872: 1, 215781: 1, 129800: 1, 232580: 1, 117172: 1, 83388: 1, 324762: 1, 417168: 1, 10615: 1, 180567: 1, 387143: 1, 215314: 1, 32205: 1, 328424: 1, 339134: 1, 392390: 1, 52763: 1, 51800: 1, 179427: 1, 264805: 1, 358804: 1, 414811: 1, 359249: 1, 78293: 1, 134238: 1, 292553: 1, 121357: 1, 306305: 1, 260138: 1, 322959: 1, 50569: 1, 177858: 1, 329324: 1, 74624: 1, 308569: 1, 95652: 1, 328844: 1, 315979: 1, 233244: 1, 19153: 1, 217636: 1, 402983: 1, 102428: 1, 341188: 1, 245621: 1, 77365: 1, 384839: 1, 162353: 1, 323163: 1, 236649: 1, 307073: 1, 131728: 1, 294288: 1, 195347: 1, 225938: 1, 64824: 1, 67144: 1, 282491: 1, 289159: 1, 249848: 1, 171949: 1, 189811: 1, 80152: 1, 100449: 1, 51018: 1, 35881: 1, 60326: 1, 46262: 1, 221783: 1, 322093: 1, 23279: 1, 79363: 1, 397091: 1, 6638: 1, 157370: 1, 106524: 1, 133149: 1, 392600: 1, 245353: 1, 9828: 1, 90684: 1, 382854: 1, 185350: 1, 103886: 1, 199353: 1, 156093: 1, 330216: 1, 259718: 1, 187352: 1, 372606: 1, 326869: 1, 224862: 1, 63142: 1, 328137: 1, 356388: 1, 31245: 1, 240379: 1, 207666: 1, 359280: 1, 19227: 1, 143962: 1, 308437: 1, 288580: 1, 69163: 1, 202273: 1, 240785: 1, 291805: 1, 118046: 1, 112151: 1, 87396: 1, 122397: 1, 95357: 1, 73685: 1, 412339: 1, 156973: 1, 373604: 1, 358128: 1, 316915: 1, 196380: 1, 404743: 1, 79322: 1, 232082: 1, 221900: 1, 272197: 1, 212904: 1, 72701: 1, 112506: 1, 64862: 1, 138438: 1, 264701: 1, 236896: 1, 50087: 1, 248993: 1, 306490: 1, 398089: 1, 117376: 1, 241671: 1, 255530: 1, 302971: 1, 389930: 1, 223122: 1, 370774: 1, 170744: 1, 402081: 1, 354327: 1, 19292: 1, 75364: 1, 55368: 1, 5357: 1, 137584: 1, 32134: 1, 142984: 1, 20242: 1, 400210: 1, 133024: 1, 186769: 1, 269850: 1, 54245: 1, 273874: 1, 320359: 1, 12767: 1, 277697: 1, 164418: 1, 68147: 1, 411662: 1, 276025: 1, 107193: 1, 173152: 1, 344308: 1, 404591: 1, 307642: 1, 140030: 1, 37083: 1, 143865: 1, 154244: 1, 306915: 1, 34632: 1, 12758: 1, 248558: 1, 404207: 1, 129007: 1, 30782: 1, 259801: 1, 268153: 1, 193380: 1, 248680: 1, 115845: 1, 335592: 1, 308040: 1, 353291: 1, 407766: 1, 29511: 1, 387745: 1, 24016: 1, 89039: 1, 27641: 1, 250656: 1, 239324: 1, 360919: 1, 122750: 1, 109588: 1, 23063: 1, 224636: 1, 120249: 1, 279628: 1, 15836: 1, 101092: 1, 386161: 1, 219750: 1, 399460: 1, 286646: 1, 57556: 1})\n"
     ]
    }
   ],
   "source": []
  },
  {
   "cell_type": "code",
   "execution_count": null,
   "metadata": {},
   "outputs": [],
   "source": [
    "# model.compute_loss=True\n",
    "# for epoch in range(1,1+epoch_number):\n",
    "#     print(model.compute_loss)\n",
    "#     model.train(dianosis_training, \n",
    "#                 total_examples=model.corpus_count, \n",
    "#                 epochs=1,\n",
    "#                 )\n",
    "#     print(f'Epoch {epoch:3}/{epoch_number} - loss: {model.get_latest_training_loss():.12f}')\n",
    "#     print(model.compute_loss)\n",
    "#     print()\n",
    "# # model.save(config['daignosis_model'])\n"
   ]
  },
  {
   "cell_type": "code",
   "execution_count": null,
   "metadata": {},
   "outputs": [
    {
     "data": {
      "text/plain": [
       "False"
      ]
     },
     "execution_count": 23,
     "metadata": {},
     "output_type": "execute_result"
    }
   ],
   "source": [
    "model.compute_loss"
   ]
  },
  {
   "cell_type": "code",
   "execution_count": null,
   "metadata": {},
   "outputs": [
    {
     "data": {
      "text/plain": [
       "False"
      ]
     },
     "execution_count": 16,
     "metadata": {},
     "output_type": "execute_result"
    }
   ],
   "source": [
    "model.compute_loss"
   ]
  },
  {
   "cell_type": "code",
   "execution_count": 13,
   "metadata": {},
   "outputs": [
    {
     "name": "stdout",
     "output_type": "stream",
     "text": [
      "Selected instance: \"37,636\"\n",
      "Vector representation for document: [ 0.01109267 -0.33016816 -0.15295595  0.6982465  -0.86605644 ... ]\n",
      "E840           : {'Cystic fibrosis, unspecified', 'Cystic fibrosis with intestinal manifestations\n",
      "E1364          : {'Type 2 diabetes mellitus with poor control, so described', 'Other specified di\n",
      "B370           : {'Candidal stomatitis'}\n",
      "B956           : {'Pneumonia, unspecified', 'Staphylococcus aureus as the cause of diseases class\n",
      "B965           : {'Other bacterial infections of unspecified site', 'Pseudomonas (aeruginosa) as \n",
      "\n",
      "Document similar to:\n",
      "     37636: 0.776\n",
      "     23930: 0.564\n",
      "     78562: 0.559\n",
      "    195571: 0.526\n",
      "    314772: 0.514\n",
      "\n",
      "Document 37636:\n",
      "E840           : {'Cystic fibrosis, unspecified', 'Cystic fibrosis with intestinal manifestations\n",
      "E1364          : {'Type 2 diabetes mellitus with poor control, so described', 'Other specified di\n",
      "B370           : {'Candidal stomatitis'}\n",
      "B956           : {'Pneumonia, unspecified', 'Staphylococcus aureus as the cause of diseases class\n",
      "B965           : {'Other bacterial infections of unspecified site', 'Pseudomonas (aeruginosa) as \n",
      "\n",
      "Common codes: {'B965', 'B956', 'E840', 'B370', 'E1364'}\n"
     ]
    }
   ],
   "source": [
    "import numpy as np\n",
    "\n",
    "loaded_model = gensim.models.doc2vec.Doc2Vec.load(os.path.join(config['gensim_model_folder'], 'diag_conf_4'))\n",
    "rng = np.random.default_rng(seed=7164770206861631271)\n",
    "\n",
    "example_ix = rng.choice(range(len(train)), size=1)[0]\n",
    "example_ix = rng.choice(range(len(train)), size=1)[0]\n",
    "example_ix\n",
    "\n",
    "print(f'Selected instance: \"{example_ix:,}\"')\n",
    "print(f'Vector representation for document: {str(loaded_model.infer_vector(dianosis_training[example_ix].words)[:5])[:-1]} ... ]')\n",
    "\n",
    "diagnosis_mapping = health_data.Admission.get_diagnoses_mapping()\n",
    "for code in dianosis_training[example_ix].words:\n",
    "    print(f'{code:15}: {str(diagnosis_mapping[code])[:80]}')\n",
    "print()\n",
    "\n",
    "print('Document similar to:')\n",
    "inferred_vector = loaded_model.infer_vector(dianosis_training[example_ix].words)\n",
    "for doc_id, score in loaded_model.dv.most_similar([inferred_vector], topn=5):\n",
    "    print(f'{doc_id:10}: {score:4.3f}')\n",
    "print()\n",
    "\n",
    "\n",
    "doc_id, score = loaded_model.dv.most_similar([inferred_vector], topn=5)[0]\n",
    "print(f'Document {doc_id}:')\n",
    "for code in dianosis_training[doc_id].words:\n",
    "    print(f'{code:15}: {str(diagnosis_mapping[code])[:80]}')\n",
    "print()\n",
    "\n",
    " \n",
    "print(f'Common codes: {set(dianosis_training[doc_id].words).intersection(set(dianosis_training[example_ix].words))}')"
   ]
  },
  {
   "cell_type": "code",
   "execution_count": null,
   "metadata": {},
   "outputs": [],
   "source": [
    "model"
   ]
  },
  {
   "cell_type": "code",
   "execution_count": null,
   "metadata": {},
   "outputs": [],
   "source": [
    "import collections\n",
    "\n",
    "counter = collections.Counter(ranks)\n",
    "print(counter)"
   ]
  },
  {
   "cell_type": "code",
   "execution_count": null,
   "metadata": {},
   "outputs": [
    {
     "data": {
      "text/plain": [
       "(50,)"
      ]
     },
     "execution_count": 81,
     "metadata": {},
     "output_type": "execute_result"
    }
   ],
   "source": [
    "model.infer_vector(dianosis_training[example_ix].words).shape"
   ]
  },
  {
   "cell_type": "code",
   "execution_count": null,
   "metadata": {},
   "outputs": [
    {
     "data": {
      "text/plain": [
       "[(187664, 0.9398481249809265),\n",
       " (362666, 0.923190712928772),\n",
       " (340631, 0.9211763143539429),\n",
       " (306256, 0.9189252257347107),\n",
       " (183517, 0.9149316549301147)]"
      ]
     },
     "execution_count": 59,
     "metadata": {},
     "output_type": "execute_result"
    }
   ],
   "source": [
    "inferred_vector = model.infer_vector(dianosis_training[10].words)\n",
    "sims = model.dv.most_similar([inferred_vector], topn=5)\n",
    "sims"
   ]
  },
  {
   "cell_type": "code",
   "execution_count": null,
   "metadata": {},
   "outputs": [
    {
     "data": {
      "text/plain": [
       "TaggedDocument(words=['C73', 'E063'], tags=[10])"
      ]
     },
     "execution_count": 60,
     "metadata": {},
     "output_type": "execute_result"
    }
   ],
   "source": [
    "dianosis_training[10]"
   ]
  },
  {
   "cell_type": "code",
   "execution_count": null,
   "metadata": {},
   "outputs": [
    {
     "data": {
      "text/plain": [
       "TaggedDocument(words=['O62001', 'O48001', 'O61001', 'Z37000'], tags=[187664])"
      ]
     },
     "execution_count": 61,
     "metadata": {},
     "output_type": "execute_result"
    }
   ],
   "source": [
    "dianosis_training[187664]"
   ]
  },
  {
   "cell_type": "code",
   "execution_count": null,
   "metadata": {},
   "outputs": [
    {
     "name": "stdout",
     "output_type": "stream",
     "text": [
      "{'Primary inadequate contractions, delivered, with or without mention of antepartum condition'}\n",
      "{'Prolonged pregnancy, delivered, with or without mention of antepartum condition'}\n",
      "{'Failed medical induction of labour, delivered, with or without mention of antepartum condition'}\n",
      "{'Single live birth, pregnancy resulting from both spontaneous ovulation and conception'}\n"
     ]
    }
   ],
   "source": [
    "for code in ['O62001', 'O48001', 'O61001', 'Z37000']:\n",
    "    print(health_data.Admission.get_diagnoses_mapping()[code])"
   ]
  },
  {
   "cell_type": "code",
   "execution_count": null,
   "metadata": {},
   "outputs": [
    {
     "name": "stdout",
     "output_type": "stream",
     "text": [
      "{'Malignant neoplasm of thyroid gland'}\n",
      "{'Autoimmune thyroiditis'}\n"
     ]
    }
   ],
   "source": [
    "for code in ['C73', 'E063']:\n",
    "    print(health_data.Admission.get_diagnoses_mapping()[code])"
   ]
  },
  {
   "cell_type": "code",
   "execution_count": null,
   "metadata": {},
   "outputs": [
    {
     "name": "stderr",
     "output_type": "stream",
     "text": [
      "/Users/marianomaisonnave/Environments/alc/lib/python3.9/site-packages/urllib3/__init__.py:34: NotOpenSSLWarning: urllib3 v2.0 only supports OpenSSL 1.1.1+, currently the 'ssl' module is compiled with 'LibreSSL 2.8.3'. See: https://github.com/urllib3/urllib3/issues/3020\n",
      "  warnings.warn(\n"
     ]
    },
    {
     "data": {
      "text/plain": [
       "<gensim.corpora.dictionary.Dictionary at 0x2b9843790>"
      ]
     },
     "execution_count": 5,
     "metadata": {},
     "output_type": "execute_result"
    }
   ],
   "source": [
    "from gensim import corpora\n",
    "dictionary = corpora.Dictionary([admission.diagnosis.codes for admission in train])\n",
    "dictionary"
   ]
  },
  {
   "cell_type": "code",
   "execution_count": null,
   "metadata": {},
   "outputs": [
    {
     "name": "stdout",
     "output_type": "stream",
     "text": [
      "{'K8010': 0, 'Z720': 1, 'M2546': 2, 'T8404': 3, 'Y831': 4, 'E860': 5, 'I832': 6, 'M179': 7, 'R113': 8, 'R53': 9, 'Z501': 10, 'Z758': 11, 'Z950': 12, 'E1152': 13, 'I100': 14, 'I500': 15, 'J069': 16, 'R55': 17, 'Z8642': 18, 'I272': 19, 'J90': 20, 'K729': 21, 'K746': 22, 'R18': 23, 'E119': 24, 'F058': 25, 'M549': 26, 'Y450': 27, 'Y471': 28, 'Y521': 29, 'Y524': 30, 'Y530': 31, 'Z911': 32, 'J100': 33, 'J440': 34, 'I249': 35, 'J189': 36, 'N141': 37, 'N189': 38, 'Y544': 39, 'C73': 40, 'E063': 41, 'F104': 42, 'C241': 43, 'K831': 44, 'R112': 45, 'K571': 46, 'K650': 47, 'K8000': 48, 'K8050': 49, 'K838': 50, 'R33': 51, 'T8188': 52, 'Y836': 53, 'B962': 54, 'J449': 55, 'N390': 56, 'G20': 57, 'I460': 58, 'I4890': 59, 'J841': 60, 'R296': 61, 'Z515': 62, 'Z850': 63, 'C829': 64, 'F209': 65, 'J101': 66, 'T783': 67, 'U980': 68, 'X599': 69, 'B9681': 70, 'C259': 71, 'F059': 72, 'I64': 73, 'R630': 74, 'D649': 75, 'E1178': 76, 'N131': 77, 'N328': 78, 'N359': 79, 'R310': 80, 'E042': 81, 'T810': 82, 'J4590': 83, 'E149': 84, 'E871': 85, 'E876': 86, 'F101': 87, 'K292': 88, 'K701': 89, 'J181': 90, 'J9810': 91, 'K589': 92, 'L405': 93, 'M073': 94, 'R071': 95, 'A099': 96, 'K8040': 97, 'K810': 98, 'K811': 99, 'K851': 100, 'D259': 101, 'N801': 102, 'N832': 103, 'I639': 104, 'Z8670': 105, 'Z921': 106, 'N179': 107, 'R410': 108, 'S32500': 109, 'W19': 110, 'K358': 111, 'I495': 112, 'J980': 113, 'K509': 114, 'K613': 115, 'R3918': 116, 'R520': 117, 'R798': 118, 'Y838': 119, 'C20': 120, 'E039': 121, 'E1123': 122, 'I340': 123, 'N0839': 124, 'I99': 125, 'N200': 126, 'R060': 127, 'R104': 128, 'I211': 129, 'I2510': 130, 'R9430': 131, 'Z951': 132, 'I447': 133, 'I620': 134, 'R451': 135, 'Z742': 136, 'Z853': 137, 'Z8580': 138, 'E059': 139, 'E1110': 140, 'J09': 141, 'G4738': 142, 'M191': 143, 'M2531': 144, 'M758': 145, 'G4730': 146, 'I050': 147, 'S82600': 148, 'U989': 149, 'W01': 150, 'H612': 151, 'H729': 152, 'H908': 153, 'Z514': 154, 'A419': 155, 'F051': 156, 'N419': 157, 'R5688': 158, 'Z751': 159, 'E872': 160, 'I959': 161, 'K265': 162, 'N990': 163, 'R572': 164, 'T811': 165, 'T814': 166, 'Y839': 167, 'E1142': 168, 'E1170': 169, 'G990': 170, 'K567': 171, 'M4807': 172, 'M6286': 173, 'S22010': 174, 'J690': 175, 'B9688': 176, 'E1163': 177, 'M4844': 178, 'Z509': 179, 'F03': 180, 'J110': 181, 'N309': 182, 'Z855': 183, 'S52590': 184, 'S72090': 185, 'J441': 186, 'N938': 187, 'N946': 188, 'E1452': 189, 'G8199': 190, 'I632': 191, 'R471': 192, 'K658': 193, 'M320': 194, 'Y578': 195, 'M169': 196, 'M751': 197, 'R111': 198, 'Y834': 199, 'M170': 200, 'Z9661': 201, 'R000': 202, 'K264': 203, 'Y453': 204, 'C786': 205, 'D630': 206, 'E875': 207, 'T831': 208, 'Z854': 209, 'A499': 210, 'C833': 211, 'D619': 212, 'S43000': 213, 'S4608': 214, 'W0500': 215, 'K861': 216, 'Z904': 217, 'R938': 218, 'C184': 219, 'K529': 220, 'N800': 221, 'N833': 222, 'N838': 223, 'N840': 224, 'K829': 225, 'Z538': 226, 'B974': 227, 'H024': 228, 'I252': 229, 'R090': 230, 'B961': 231, 'I517': 232, 'E1464': 233, 'E668': 234, 'J9691': 235, 'R600': 236, 'S82800': 237, 'W00': 238, 'S82810': 239, 'C787': 240, 'C795': 241, 'B951': 242, 'N136': 243, 'N72': 244, 'N736': 245, 'N939': 246, 'J111': 247, 'D27': 248, 'N830': 249, 'I471': 250, 'F103': 251, 'F412': 252, 'K703': 253, 'K920': 254, 'K37': 255, 'E1168': 256, 'F067': 257, 'F845': 258, 'L898': 259, 'Y835': 260, 'Z540': 261, 'I698': 262, 'K297': 263, 'R470': 264, 'J984': 265, 'C61': 266, 'K449': 267, 'S72300': 268, 'W18': 269, 'W10': 270, 'B370': 271, 'E1133': 272, 'H360': 273, 'K590': 274, 'I11': 275, 'I255': 276, 'I7020': 277, 'C180': 278, 'F102': 279, 'F329': 280, 'T435': 281, 'X61': 282, 'I676': 283, 'C160': 284, 'C771': 285, 'K222': 286, 'B374': 287, 'D529': 288, 'N312': 289, 'R1950': 290, 'R650': 291, 'T835': 292, 'Y848': 293, 'S72080': 294, 'K255': 295, 'K660': 296, 'C3499': 297, 'I214': 298, 'R9431': 299, 'J849': 300, 'R4188': 301, 'L0311': 302, 'D251': 303, 'N920': 304, 'R877': 305, 'E1010': 306, 'I2511': 307, 'D500': 308, 'K573': 309, 'I4800': 310, 'I519': 311, 'E1428': 312, 'G931': 313, 'R688': 314, 'T796': 315, 'U983': 316, 'X50': 317, 'C831': 318, 'H920': 319, 'K228': 320, 'T854': 321, 'F019': 322, 'E46': 323, 'K912': 324, 'Z932': 325, 'C181': 326, 'K353': 327, 'K913': 328, 'Y482': 329, 'G934': 330, 'R628': 331, 'S72100': 332, 'U982': 333, 'K388': 334, 'K566': 335, 'K574': 336, 'K632': 337, 'K9143': 338, 'Y833': 339, 'I269': 340, 'T817': 341, 'Z933': 342, 'C900': 343, 'J14': 344, 'B99': 345, 'K226': 346, 'Y556': 347, 'Z5188': 348, 'S36511': 349, 'T812': 350, 'Y600': 351, 'K432': 352, 'L270': 353, 'Y408': 354, 'F445': 355, 'J931': 356, 'F419': 357, 'Z634': 358, 'Z722': 359, 'K8030': 360, 'K859': 361, 'N185': 362, 'Z992': 363, 'C3410': 364, 'C780': 365, 'Z923': 366, 'Z938': 367, 'A084': 368, 'R509': 369, 'F220': 370, 'M1390': 371, 'T424': 372, 'Y11': 373, 'Z548': 374, 'E1423': 375, 'N40': 376, 'N201': 377, 'D509': 378, 'C3401': 379, 'C782': 380, 'E789': 381, 'G459': 382, 'L905': 383, 'M705': 384, 'T8419': 385, 'O001': 386, 'O0810': 387, 'D069': 388, 'I859': 389, 'K317': 390, 'K922': 391, 'I472': 392, 'C921': 393, 'E834': 394, 'K521': 395, 'Y531': 396, 'K649': 397, 'K921': 398, 'R138': 399, 'R318': 400, 'R9438': 401, 'Y409': 402, 'Y410': 403, 'D751': 404, 'I278': 405, 'E1028': 406, 'E1050': 407, 'E1052': 408, 'I792': 409, 'J9601': 410, 'J9699': 411, 'J9818': 412, 'M712': 413, 'J9580': 414, 'Y844': 415, 'F100': 416, 'M2401': 417, 'S42101': 418, 'S4600': 419, 'X99': 420, 'Z22300': 421, 'M8402': 422, 'E1128': 423, 'E1164': 424, 'E160': 425, 'Y423': 426, 'Z9222': 427, 'I442': 428, 'I4891': 429, 'K519': 430, 'K565': 431, 'Z980': 432, 'D539': 433, 'I674': 434, 'C775': 435, 'N10': 436, 'Q600': 437, 'D252': 438, 'E109': 439, 'I4900': 440, 'R074': 441, 'Z895': 442, 'Z940': 443, 'C3430': 444, 'I200': 445, 'R001': 446, 'Y523': 447, 'I209': 448, 'Z508': 449, 'S72410': 450, 'Z544': 451, 'C770': 452, 'C7988': 453, 'I951': 454, 'R42': 455, 'Y525': 456, 'N0838': 457, 'S42200': 458, 'Z750': 459, 'G4060': 460, 'K436': 461, 'B009': 462, 'K429': 463, 'R068': 464, 'S7111': 465, 'W31': 466, 'K8001': 467, 'K8011': 468, 'T793': 469, 'U988': 470, 'U99020': 471, 'W2207': 472, 'D62': 473, 'K602': 474, 'K625': 475, 'R15': 476, 'R32': 477, 'R400': 478, 'R91': 479, 'C187': 480, 'J170': 481, 'A412': 482, 'F319': 483, 'I440': 484, 'C3411': 485, 'C800': 486, 'E835': 487, 'G992': 488, 'M199': 489, 'J955': 490, 'J9609': 491, 'M069': 492, 'R202': 493, 'Z33': 494, 'Z955': 495, 'N808': 496, 'R102': 497, 'S37211': 498, 'R51': 499, 'Y832': 500, 'N811': 501, 'K8041': 502, 'S36170': 503, 'E1478': 504, 'M1090': 505, 'N62': 506, 'Q909': 507, 'F609': 508, 'C773': 509, 'M2551': 510, 'E1171': 511, 'I808': 512, 'G553': 513, 'M5413': 514, 'G309': 515, 'I219': 516, 'I352': 517, 'N19': 518, 'K635': 519, 'E1141': 520, 'E222': 521, 'F200': 522, 'G551': 523, 'G632': 524, 'M511': 525, 'K623': 526, 'K628': 527, 'J019': 528, 'R040': 529, 'Y442': 530, 'D075': 531, 'K514': 532, 'J22': 533, 'R073': 534, 'Z857': 535, 'A490': 536, 'B956': 537, 'L022': 538, 'K420': 539, 'K430': 540, 'S72010': 541, 'S42290': 542, 'S72190': 543, 'I313': 544, 'I319': 545, 'S82300': 546, 'Z8678': 547, 'I350': 548, 'Y840': 549, 'M6225': 550, 'N508': 551, 'Z8641': 552, 'B372': 553, 'S204': 554, 'S92300': 555, 'K603': 556, 'K611': 557, 'R4180': 558, 'R522': 559, 'H052': 560, 'Y445': 561, 'K433': 562, 'E1160': 563, 'M146': 564, 'M2555': 565, 'M7960': 566, 'U985': 567, 'K821': 568, 'S82000': 569, 'D513': 570, 'I831': 571, 'M2571': 572, 'E612': 573, 'E1140': 574, 'G590': 575, 'H532': 576, 'H811': 577, 'L890': 578, 'I221': 579, 'C569': 580, 'C785': 581, 'K123': 582, 'Y433': 583, 'Z851': 584, 'Z842': 585, 'C442': 586, 'L570': 587, 'J448': 588, 'S22000': 589, 'N320': 590, 'N139': 591, 'Z530': 592, 'D110': 593, 'B972': 594, 'M2441': 595, 'L089': 596, 'S066': 597, 'S3080': 598, 'T0120': 599, 'M8617': 600, 'M8667': 601, 'E878': 602, 'M503': 603, 'Y516': 604, 'C713': 605, 'C790': 606, 'C797': 607, 'C97': 608, 'R298': 609, 'I213': 610, 'R452': 611, 'N831': 612, 'Q506': 613, 'Z824': 614, 'K8302': 615, 'Y842': 616, 'N888': 617, 'Z975': 618, 'R1039': 619, 'S0180': 620, 'S12000': 621, 'S12100': 622, 'E052': 623, 'L928': 624, 'L500': 625, 'Y575': 626, 'E662': 627, 'H669': 628, 'A4151': 629, 'C931': 630, 'I802': 631, 'K766': 632, 'R161': 633, 'R601': 634, 'D869': 635, 'M545': 636, 'M7961': 637, 'R21': 638, 'C3490': 639, 'R05': 640, 'E1023': 641, 'E1063': 642, 'S62600': 643, 'V435': 644, 'R64': 645, 'N803': 646, 'K140': 647, 'C111': 648, 'D700': 649, 'N133': 650, 'N701': 651, 'C189': 652, 'R17': 653, 'S82200': 654, 'V484': 655, 'I81': 656, 'C793': 657, 'B980': 658, 'K259': 659, 'K298': 660, 'S32400': 661, 'W0501': 662, 'S060': 663, 'S065': 664, 'A498': 665, 'I850': 666, 'I864': 667, 'K760': 668, 'L032': 669, 'S208': 670, 'W55': 671, 'S22490': 672, 'S27200': 673, 'E1378': 674, 'Y420': 675, 'E877': 676, 'C182': 677, 'C772': 678, 'C443': 679, 'B182': 680, 'F191': 681, 'R208': 682, 'S700': 683, 'S73000': 684, 'S7408': 685, 'W0203': 686, 'B004': 687, 'G051': 688, 'K0714': 689, 'K0718': 690, 'N850': 691, 'E868': 692, 'L891': 693, 'J329': 694, 'D261': 695, 'G628': 696, 'K210': 697, 'K227': 698, 'N210': 699, 'N300': 700, 'Y517': 701, 'F072': 702, 'S0100': 703, 'S02890': 704, 'S0626': 705, 'C240': 706, 'I210': 707, 'J351': 708, 'D683': 709, 'M1097': 710, 'B029': 711, 'B349': 712, 'R2682': 713, 'Z588': 714, 'G35': 715, 'S82890': 716, 'R478': 717, 'A410': 718, 'M2557': 719, 'R58': 720, 'M150': 721, 'M161': 722, 'B964': 723, 'G4080': 724, 'M8583': 725, 'S000': 726, 'S698': 727, 'T110': 728, 'E870': 729, 'K20': 730, 'T855': 731, 'I631': 732, 'M6280': 733, 'K604': 734, 'E669': 735, 'N134': 736, 'N319': 737, 'Q628': 738, 'H010': 739, 'H109': 740, 'I700': 741, 'L299': 742, 'Z8640': 743, 'M1396': 744, 'M2321': 745, 'M2325': 746, 'M2361': 747, 'D735': 748, 'K559': 749, 'K550': 750, 'K551': 751, 'J010': 752, 'S42280': 753, 'S52600': 754, 'U99041': 755, 'W0200': 756, 'S6190': 757, 'Z602': 758, 'A4150': 759, 'E213': 760, 'F009': 761, 'E1410': 762, 'F431': 763, 'A86': 764, 'R748': 765, 'M0005': 766, 'T172': 767, 'W90': 768, 'Z931': 769, 'F121': 770, 'C64': 771, 'G439': 772, 'S52300': 773, 'S62590': 774, 'E1470': 775, 'E512': 776, 'F106': 777, 'G328': 778, 'U981': 779, 'D414': 780, 'M512': 781, 'C678': 782, 'M513': 783, 'M548': 784, 'S309': 785, 'J342': 786, 'J3488': 787, 'G82292': 788, 'G904': 789, 'Z935': 790, 'A047': 791, 'L97': 792, 'G438': 793, 'R529': 794, 'R092': 795, 'S22400': 796, 'D489': 797, 'E041': 798, 'M907': 799, 'N394': 800, 'I611': 801, 'M2411': 802, 'M2320': 803, 'K9145': 804, 'K578': 805, 'Z433': 806, 'W06': 807, 'D287': 808, 'E1463': 809, 'F411': 810, 'K269': 811, 'R031': 812, 'C799': 813, 'I730': 814, 'M329': 815, 'G510': 816, 'C911': 817, 'J121': 818, 'R1010': 819, 'R12': 820, 'C320': 821, 'K768': 822, 'K2219': 823, 'C5099': 824, 'D34': 825, 'K759': 826, 'Y400': 827, 'R132': 828, 'K572': 829, 'E1064': 830, 'F113': 831, 'R258': 832, 'Y501': 833, 'L023': 834, 'L0335': 835, 'M316': 836, 'M2456': 837, 'C19': 838, 'M8795': 839, 'R1012': 840, 'I428': 841, 'I514': 842, 'M6211': 843, 'D176': 844, 'K409': 845, 'K0712': 846, 'K0713': 847, 'C221': 848, 'D860': 849, 'S82400': 850, 'I610': 851, 'C220': 852, 'K720': 853, 'K112': 854, 'K118': 855, 'F799': 856, 'I081': 857, 'Z752': 858, 'D124': 859, 'R002': 860, 'S36510': 861, 'Y604': 862, 'U821': 863, 'K824': 864, 'I803': 865, 'D260': 866, 'N700': 867, 'N739': 868, 'N802': 869, 'N889': 870, 'N948': 871, 'S36611': 872, 'D508': 873, 'N281': 874, 'F193': 875, 'I958': 876, 'I7021': 877, 'R935': 878, 'N433': 879, 'R1031': 880, 'R048': 881, 'K8020': 882, 'T403': 883, 'X62': 884, 'L509': 885, 'M1391': 886, 'M6591': 887, 'M752': 888, 'I880': 889, 'K435': 890, 'K624': 891, 'T481': 892, 'X64': 893, 'N0835': 894, 'B965': 895, 'R251': 896, 'C5081': 897, 'L892': 898, 'A090': 899, 'D696': 900, 'G730': 901, 'Z432': 902, 'K254': 903, 'B279': 904, 'T509': 905, 'I469': 906, 'C5051': 907, 'M7936': 908, 'C679': 909, 'R73811': 910, 'M819': 911, 'S82100': 912, 'Z721': 913, 'L539': 914, 'K219': 915, 'S36171': 916, 'M160': 917, 'L899': 918, 'M8698': 919, 'J80': 920, 'K850': 921, 'E049': 922, 'E162': 923, 'J939': 924, 'I724': 925, 'K704': 926, 'I2513': 927, 'S52120': 928, 'U984': 929, 'F022': 930, 'G10': 931, 'Z944': 932, 'K500': 933, 'Z741': 934, 'B24': 935, 'G629': 936, 'K047': 937, 'L984': 938, 'B001': 939, 'F111': 940, 'I501': 941, 'F432': 942, 'T393': 943, 'X60': 944, 'Z915': 945, 'K769': 946, 'E559': 947, 'G918': 948, 'R629': 949, 'Z38001': 950, 'J81': 951, 'N12': 952, 'Z22302': 953, 'C779': 954, 'Z926': 955, 'T827': 956, 'K0703': 957, 'K852': 958, 'E050': 959, 'C250': 960, 'I259': 961, 'N411': 962, 'B963': 963, 'I425': 964, 'H740': 965, 'H743': 966, 'C920': 967, 'A4158': 968, 'J952': 969, 'M6228': 970, 'N170': 971, 'T813': 972, 'T391': 973, 'T510': 974, 'X65': 975, 'Z952': 976, 'K115': 977, 'K122': 978, 'J180': 979, 'E1041': 980, 'N852': 981, 'E210': 982, 'M2547': 983, 'D695': 984, 'M1096': 985, 'R042': 986, 'Y444': 987, 'R5680': 988, 'J9600': 989, 'W84': 990, 'B373': 991, 'N771': 992, 'W46': 993, 'I518': 994, 'T838': 995, 'Y846': 996, 'G479': 997, 'E1468': 998, 'I429': 999, 'J9690': 1000, 'D121': 1001, 'F013': 1002, 'Y427': 1003, 'J039': 1004, 'M546': 1005, 'M1099': 1006, 'Z730': 1007, 'K073': 1008, 'K295': 1009, 'K3188': 1010, 'C186': 1011, 'R845': 1012, 'T383': 1013, 'X44': 1014, 'I451': 1015, 'I616': 1016, 'E833': 1017, 'S7618': 1018, 'G9380': 1019, 'N132': 1020, 'T8454': 1021, 'C560': 1022, 'I2088': 1023, 'R190': 1024, 'F259': 1025, 'Q860': 1026, 'T68': 1027, 'X31': 1028, 'F112': 1029, 'Z764': 1030, 'W17': 1031, 'M1000': 1032, 'J9588': 1033, 'Z896': 1034, 'E880': 1035, 'K311': 1036, 'N308': 1037, 'R065': 1038, 'Z960': 1039, 'K510': 1040, 'S42291': 1041, 'S42301': 1042, 'D6938': 1043, 'D689': 1044, 'D685': 1045, 'G318': 1046, 'J40': 1047, 'G433': 1048, 'M544': 1049, 'E1150': 1050, 'M6289': 1051, 'M2556': 1052, 'Z539': 1053, 'G1220': 1054, 'K121': 1055, 'Z590': 1056, 'Z598': 1057, 'Q231': 1058, 'Z9480': 1059, 'R590': 1060, 'S72200': 1061, 'J118': 1062, 'M4806': 1063, 'E538': 1064, 'V784': 1065, 'K8051': 1066, 'I635': 1067, 'C269': 1068, 'G4061': 1069, 'G410': 1070, 'G451': 1071, 'R441': 1072, 'K528': 1073, 'J42': 1074, 'N879': 1075, 'Q225': 1076, 'W11': 1077, 'J152': 1078, 'Z852': 1079, 'Z930': 1080, 'B909': 1081, 'J986': 1082, 'K011': 1083, 'C859': 1084, 'S32000': 1085, 'C788': 1086, 'J339': 1087, 'Z958': 1088, 'K2214': 1089, 'G3081': 1090, 'S42090': 1091, 'I420': 1092, 'C3001': 1093, 'J205': 1094, 'J869': 1095, 'J320': 1096, 'F132': 1097, 'S004': 1098, 'Y00': 1099, 'B9780': 1100, 'M7185': 1101, 'E1068': 1102, 'G1221': 1103, 'K403': 1104, 'D65': 1105, 'G82591': 1106, 'I952': 1107, 'J47': 1108, 'T179': 1109, 'W44': 1110, 'M45': 1111, 'S22300': 1112, 'D638': 1113, 'M8697': 1114, 'D250': 1115, 'S37291': 1116, 'T886': 1117, 'Y579': 1118, 'J36': 1119, 'A4180': 1120, 'Y636': 1121, 'G950': 1122, 'S42480': 1123, 'Z755': 1124, 'Z5180': 1125, 'B008': 1126, 'E1352': 1127, 'S72800': 1128, 'S36150': 1129, 'T043': 1130, 'V030': 1131, 'Z507': 1132, 'Z740': 1133, 'Z936': 1134, 'C159': 1135, 'C781': 1136, 'E43': 1137, 'K709': 1138, 'E1450': 1139, 'T821': 1140, 'S82500': 1141, 'L088': 1142, 'L893': 1143, 'C260': 1144, 'I509': 1145, 'S02100': 1146, 'S0635': 1147, 'U986': 1148, 'N760': 1149, 'N764': 1150, 'R1011': 1151, 'I691': 1152, 'L409': 1153, 'M7918': 1154, 'A081': 1155, 'B022': 1156, 'G530': 1157, 'A411': 1158, 'M4692': 1159, 'G464': 1160, 'I679': 1161, 'S409': 1162, 'X40': 1163, 'M773': 1164, 'I4802': 1165, 'E1441': 1166, 'R54': 1167, 'G952': 1168, 'S52100': 1169, 'Z9660': 1170, 'G470': 1171, 'D469': 1172, 'B351': 1173, 'Z748': 1174, 'S52500': 1175, 'T068': 1176, 'M2326': 1177, 'E1112': 1178, 'C3491': 1179, 'E271': 1180, 'R234': 1181, 'R2688': 1182, 'D728': 1183, 'S27000': 1184, 'F322': 1185, 'C252': 1186, 'M8695': 1187, 'C792': 1188, 'G4070': 1189, 'C329': 1190, 'T200': 1191, 'T210': 1192, 'T280': 1193, 'T281': 1194, 'T3100': 1195, 'I710': 1196, 'Z753': 1197, 'G700': 1198, 'H919': 1199, 'E139': 1200, 'F023': 1201, 'J209': 1202, 'C3431': 1203, 'S52800': 1204, 'I714': 1205, 'A054': 1206, 'A4188': 1207, 'L0333': 1208, 'M7268': 1209, 'I742': 1210, 'S0181': 1211, 'S150': 1212, 'C718': 1213, 'K750': 1214, 'N301': 1215, 'C451': 1216, 'S36461': 1217, 'R570': 1218, 'I634': 1219, 'Y609': 1220, 'S42020': 1221, 'J158': 1222, 'L0330': 1223, 'F29': 1224, 'F603': 1225, 'Z599': 1226, 'Z653': 1227, 'M7910': 1228, 'S36460': 1229, 'D225': 1230, 'Z953': 1231, 'K918': 1232, 'M349': 1233, 'K758': 1234, 'S0150': 1235, 'S025': 1236, 'S1100': 1237, 'S12800': 1238, 'V8658': 1239, 'Y830': 1240, 'D519': 1241, 'I982': 1242, 'R162': 1243, 'H813': 1244, 'I878': 1245, 'I890': 1246, 'Z631': 1247, 'T823': 1248, 'R238': 1249, 'A4152': 1250, 'I12': 1251, 'K286': 1252, 'S37111': 1253, 'T86101': 1254, 'J150': 1255, 'J398': 1256, 'J850': 1257, 'J851': 1258, 'M542': 1259, 'M8696': 1260, 'S358': 1261, 'S52000': 1262, 'J040': 1263, 'D430': 1264, 'B3780': 1265, 'G312': 1266, 'K659': 1267, 'G4010': 1268, 'S62110': 1269, 'K000': 1270, 'K082': 1271, 'M7919': 1272, 'G919': 1273, 'H498': 1274, 'I615': 1275, 'R1030': 1276, 'T858': 1277, 'Y841': 1278, 'E1070': 1279, 'C258': 1280, 'C439': 1281, 'Q446': 1282, 'K078': 1283, 'Y658': 1284, 'D303': 1285, 'N302': 1286, 'R358': 1287, 'R3913': 1288, 'K668': 1289, 'N898': 1290, 'C169': 1291, 'Z731': 1292, 'K450': 1293, 'V584': 1294, 'K36': 1295, 'T8746': 1296, 'Z292': 1297, 'K626': 1298, 'L024': 1299, 'S92000': 1300, 'F410': 1301, 'F429': 1302, 'F928': 1303, 'M7267': 1304, 'E1030': 1305, 'H160': 1306, 'Z947': 1307, 'F21': 1308, 'K290': 1309, 'G550': 1310, 'G834': 1311, 'J3801': 1312, 'J385': 1313, 'R061': 1314, 'R945': 1315, 'T430': 1316, 'T450': 1317, 'T485': 1318, 'A408': 1319, 'R066': 1320, 'K8300': 1321, 'I839': 1322, 'R390': 1323, 'S355': 1324, 'K763': 1325, 'D611': 1326, 'Z902': 1327, 'C541': 1328, 'J948': 1329, 'S8321': 1330, 'R416': 1331, 'I652': 1332, 'C539': 1333, 'C711': 1334, 'T828': 1335, 'R198': 1336, 'D172': 1337, 'F125': 1338, 'Z560': 1339, 'F002': 1340, 'G3088': 1341, 'R482': 1342, 'E883': 1343, 'K631': 1344, 'M500': 1345, 'N492': 1346, 'F131': 1347, 'F141': 1348, 'Y8438': 1349, 'D175': 1350, 'K561': 1351, 'M1227': 1352, 'T432': 1353, 'Z635': 1354, 'E1151': 1355, 'K029': 1356, 'M966': 1357, 'Z754': 1358, 'G720': 1359, 'R270': 1360, 'L059': 1361, 'J383': 1362, 'Z4000': 1363, 'J129': 1364, 'S31400': 1365, 'B028': 1366, 'B3788': 1367, 'Z961': 1368, 'K220': 1369, 'C915': 1370, 'I871': 1371, 'C847': 1372, 'C796': 1373, 'I671': 1374, 'S12700': 1375, 'R300': 1376, 'Y459': 1377, 'I739': 1378, 'Y451': 1379, 'J938': 1380, 'Y483': 1381, 'F020': 1382, 'G3102': 1383, 'T402': 1384, 'T405': 1385, 'T407': 1386, 'X42': 1387, 'X45': 1388, 'A491': 1389, 'K299': 1390, 'K761': 1391, 'M1002': 1392, 'K570': 1393, 'Q430': 1394, 'M4316': 1395, 'M8448': 1396, 'H71': 1397, 'S82001': 1398, 'V496': 1399, 'G82222': 1400, 'H353': 1401, 'H409': 1402, 'T8756': 1403, 'S6101': 1404, 'W26': 1405, 'E1451': 1406, 'E1471': 1407, 'S750': 1408, 'K518': 1409, 'K0700': 1410, 'K0705': 1411, 'C438': 1412, 'I633': 1413, 'T202': 1414, 'T222': 1415, 'T232': 1416, 'T3112': 1417, 'X00': 1418, 'I212': 1419, 'H534': 1420, 'I672': 1421, 'F105': 1422, 'S12210': 1423, 'S131': 1424, 'S1418': 1425, 'T8423': 1426, 'B348': 1427, 'Z856': 1428, 'M4809': 1429, 'I809': 1430, 'I828': 1431, 'L0310': 1432, 'N470': 1433, 'I606': 1434, 'C880': 1435, 'R508': 1436, 'K5520': 1437, 'Q054': 1438, 'T850': 1439, 'G4021': 1440, 'K6411': 1441, 'D690': 1442, 'N055': 1443, 'Z510': 1444, 'B59': 1445, 'J173': 1446, 'G82191': 1447, 'I2381': 1448, 'K868': 1449, 'T178': 1450, 'W80': 1451, 'S2410': 1452, 'S7648': 1453, 'W13': 1454, 'S02300': 1455, 'K072': 1456, 'S72490': 1457, 'Y15': 1458, 'R3912': 1459, 'Z450': 1460, 'G82491': 1461, 'K592': 1462, 'S31001': 1463, 'S4171': 1464, 'X9509': 1465, 'R502': 1466, 'Y466': 1467, 'C432': 1468, 'C434': 1469, 'G060': 1470, 'S83100': 1471, 'S83110': 1472, 'U99002': 1473, 'C3400': 1474, 'D391': 1475, 'H663': 1476, 'M8416': 1477, 'M8646': 1478, 'T8464': 1479, 'Z638': 1480, 'K224': 1481, 'M501': 1482, 'R232': 1483, 'Y401': 1484, 'E840': 1485, 'E848': 1486, 'I498': 1487, 'J9500': 1488, 'Y418': 1489, 'M2553': 1490, 'B002': 1491, 'C865': 1492, 'R72': 1493, 'Y446': 1494, 'C760': 1495, 'N028': 1496, 'Y434': 1497, 'Z490': 1498, 'B9788': 1499, 'I330': 1500, 'I341': 1501, 'Z511': 1502, 'K0763': 1503, 'H903': 1504, 'T856': 1505, 'E1162': 1506, 'E232': 1507, 'G930': 1508, 'M7916': 1509, 'M235': 1510, 'T830': 1511, 'Z991': 1512, 'J439': 1513, 'K402': 1514, 'H269': 1515, 'I309': 1516, 'C819': 1517, 'C155': 1518, 'M2566': 1519, 'C480': 1520, 'K822': 1521, 'K079': 1522, 'D350': 1523, 'C672': 1524, 'C674': 1525, 'N412': 1526, 'N4591': 1527, 'D122': 1528, 'S064': 1529, 'V134': 1530, 'E41': 1531, 'C099': 1532, 'Z532': 1533, 'I422': 1534, 'M171': 1535, 'J391': 1536, 'M8618': 1537, 'M163': 1538, 'Q652': 1539, 'N998': 1540, 'S26811': 1541, 'K858': 1542, 'K863': 1543, 'B441': 1544, 'J998': 1545, 'C185': 1546, 'F985': 1547, 'S12200': 1548, 'V485': 1549, 'G500': 1550, 'S682': 1551, 'W27': 1552, 'Z637': 1553, 'E780': 1554, 'B957': 1555, 'Z713': 1556, 'G903': 1557, 'F135': 1558, 'F602': 1559, 'G588': 1560, 'I693': 1561, 'I230': 1562, 'L308': 1563, 'R411': 1564, 'M8988': 1565, 'M543': 1566, 'R680': 1567, 'I351': 1568, 'C342': 1569, 'I4801': 1570, 'C492': 1571, 'S42010': 1572, 'R030': 1573, 'S850': 1574, 'C55': 1575, 'M234': 1576, 'I38': 1577, 'K661': 1578, 'T8403': 1579, 'T808': 1580, 'K8308': 1581, 'S053': 1582, 'S057': 1583, 'W49': 1584, 'F502': 1585, 'C66': 1586, 'J852': 1587, 'K860': 1588, 'Y732': 1589, 'Z421': 1590, 'D237': 1591, 'F959': 1592, 'I713': 1593, 'J951': 1594, 'N709': 1595, 'N202': 1596, 'S22200': 1597, 'S26800': 1598, 'S62310': 1599, 'G319': 1600, 'F252': 1601, 'L020': 1602, 'H251': 1603, 'H300': 1604, 'H441': 1605, 'N410': 1606, 'G373': 1607, 'H900': 1608, 'K0762': 1609, 'K0764': 1610, 'J338': 1611, 'J330': 1612, 'C251': 1613, 'C445': 1614, 'F201': 1615, 'S02001': 1616, 'S0686': 1617, 'E1078': 1618, 'J219': 1619, 'R944': 1620, 'J942': 1621, 'I229': 1622, 'Y440': 1623, 'M8418': 1624, 'E278': 1625, 'I400': 1626, 'Z8581': 1627, 'I609': 1628, 'E1042': 1629, 'B309': 1630, 'H131': 1631, 'S02420': 1632, 'S22410': 1633, 'S36091': 1634, 'T857': 1635, 'G4030': 1636, 'G936': 1637, 'G9388': 1638, 'Q282': 1639, 'I830': 1640, 'N61': 1641, 'M353': 1642, 'Y630': 1643, 'S36211': 1644, 'Z566': 1645, 'M5416': 1646, 'M4712': 1647, 'M4802': 1648, 'J122': 1649, 'T519': 1650, 'I083': 1651, 'J155': 1652, 'C229': 1653, 'Z918': 1654, 'C249': 1655, 'D868': 1656, 'N162': 1657, 'C5090': 1658, 'D67': 1659, 'G4041': 1660, 'A630': 1661, 'C901': 1662, 'T86001': 1663, 'K869': 1664, 'D125': 1665, 'K580': 1666, 'J323': 1667, 'T404': 1668, 'C903': 1669, 'Z038': 1670, 'T568': 1671, 'S22100': 1672, 'S22500': 1673, 'S27100': 1674, 'S42190': 1675, 'S609': 1676, 'V475': 1677, 'D300': 1678, 'C139': 1679, 'L039': 1680, 'D179': 1681, 'T250': 1682, 'T3101': 1683, 'X19': 1684, 'I062': 1685, 'I771': 1686, 'S82801': 1687, 'I712': 1688, 'S37110': 1689, 'N298': 1690, 'T86100': 1691, 'K754': 1692, 'I493': 1693, 'D333': 1694, 'C01': 1695, 'S27841': 1696, 'K319': 1697, 'Z865': 1698, 'J386': 1699, 'K114': 1700, 'S27810': 1701, 'T181': 1702, 'T8181': 1703, 'T958': 1704, 'Y86': 1705, 'K819': 1706, 'A403': 1707, 'G442': 1708, 'J940': 1709, 'S27310': 1710, 'K562': 1711, 'S82820': 1712, 'U992': 1713, 'V681': 1714, 'M8438': 1715, 'K627': 1716, 'K0887': 1717, 'D320': 1718, 'G4020': 1719, 'L218': 1720, 'H538': 1721, 'E854': 1722, 'I431': 1723, 'K137': 1724, 'I484': 1725, 'R73812': 1726, 'I300': 1727, 'R730': 1728, 'G231': 1729, 'H571': 1730, 'S37610': 1731, 'K835': 1732, 'M8411': 1733, 'Z458': 1734, 'I499': 1735, 'M2402': 1736, 'S52090': 1737, 'T8400': 1738, 'A281': 1739, 'I743': 1740, 'M6593': 1741, 'M931': 1742, 'G573': 1743, 'I728': 1744, 'K316': 1745, 'K630': 1746, 'C493': 1747, 'L82': 1748, 'Z800': 1749, 'I770': 1750, 'G958': 1751, 'N488': 1752, 'F134': 1753, 'K862': 1754, 'I513': 1755, 'S3908': 1756, 'S42191': 1757, 'S02670': 1758, 'W07': 1759, 'C433': 1760, 'C440': 1761, 'D229': 1762, 'M8445': 1763, 'M8585': 1764, 'V855': 1765, 'K610': 1766, 'K900': 1767, 'M0097': 1768, 'K700': 1769, 'M502': 1770, 'Y04': 1771, 'J128': 1772, 'M165': 1773, 'D352': 1774, 'E220': 1775, 'G049': 1776, 'I281': 1777, 'I719': 1778, 'E273': 1779, 'I744': 1780, 'N049': 1781, 'Z905': 1782, 'M2540': 1783, 'C495': 1784, 'K501': 1785, 'K512': 1786, 'C051': 1787, 'N321': 1788, 'G910': 1789, 'I602': 1790, 'K560': 1791, 'F050': 1792, 'D3612': 1793, 'Z524': 1794, 'I822': 1795, 'V020': 1796, 'D150': 1797, 'J350': 1798, 'T282': 1799, 'G250': 1800, 'E242': 1801, 'G4731': 1802, 'E260': 1803, 'S02200': 1804, 'S069': 1805, 'S27300': 1806, 'S32300': 1807, 'S332': 1808, 'S72700': 1809, 'V031': 1810, 'L0300': 1811, 'T8742': 1812, 'I659': 1813, 'S02490': 1814, 'W2103': 1815, 'D1804': 1816, 'M142': 1817, 'T8410': 1818, 'J341': 1819, 'Q878': 1820, 'D170': 1821, 'H431': 1822, 'C778': 1823, 'N258': 1824, 'Q631': 1825, 'E65': 1826, 'Z8600': 1827, 'K291': 1828, 'K644': 1829, 'Y467': 1830, 'I653': 1831, 'G4091': 1832, 'G729': 1833, 'T86200': 1834, 'A045': 1835, 'J324': 1836, 'Q232': 1837, 'A312': 1838, 'C578': 1839, 'I228': 1840, 'Z630': 1841, 'E58': 1842, 'K579': 1843, 'S26810': 1844, 'A590': 1845, 'D591': 1846, 'M8998': 1847, 'Z907': 1848, 'Z8601': 1849, 'K0704': 1850, 'G9609': 1851, 'C402': 1852, 'S31300': 1853, 'S32501': 1854, 'S32700': 1855, 'S32801': 1856, 'S36800': 1857, 'S72191': 1858, 'I359': 1859, 'I071': 1860, 'T427': 1861, 'S0636': 1862, 'M702': 1863, 'C671': 1864, 'D682': 1865, 'J392': 1866, 'V8650': 1867, 'I441': 1868, 'L853': 1869, 'C162': 1870, 'C170': 1871, 'A085': 1872, 'F39': 1873, 'T426': 1874, 'K711': 1875, 'R34': 1876, 'N813': 1877, 'G82223': 1878, 'M213': 1879, 'C839': 1880, 'M1394': 1881, 'T8412': 1882, 'N209': 1883, 'K439': 1884, 'M8705': 1885, 'S32100': 1886, 'Q211': 1887, 'C437': 1888, 'C774': 1889, 'E785': 1890, 'J029': 1891, 'I459': 1892, 'Q249': 1893, 'C519': 1894, 'J9508': 1895, 'C52': 1896, 'N823': 1897, 'H501': 1898, 'B967': 1899, 'Q180': 1900, 'S83580': 1901, 'S8418': 1902, 'A46': 1903, 'B955': 1904, 'C183': 1905, 'N824': 1906, 'U830': 1907, 'S32020': 1908, 'X590': 1909, 'W78': 1910, 'M510': 1911, 'C811': 1912, 'M2486': 1913, 'T848': 1914, 'M8412': 1915, 'H502': 1916, 'L209': 1917, 'M2550': 1918, 'S72900': 1919, 'V234': 1920, 'M5412': 1921, 'Y703': 1922, 'R609': 1923, 'H330': 1924, 'N735': 1925, 'R252': 1926, 'M4196': 1927, 'M4317': 1928, 'S3418': 1929, 'F332': 1930, 'M247': 1931, 'S090': 1932, 'S1110': 1933, 'S1180': 1934, 'S152': 1935, 'X78': 1936, 'A568': 1937, 'H400': 1938, 'M7138': 1939, 'L988': 1940, 'Q623': 1941, 'E893': 1942, 'F309': 1943, 'Y540': 1944, 'Z818': 1945, 'C413': 1946, 'E038': 1947, 'I483': 1948, 'V685': 1949, 'D020': 1950, 'R591': 1951, 'R933': 1952, 'M313': 1953, 'N085': 1954, 'D681': 1955, 'D571': 1956, 'D131': 1957, 'M6006': 1958, 'K225': 1959, 'M779': 1960, 'S9100': 1961, 'S998': 1962, 'M5327': 1963, 'C715': 1964, 'N4848': 1965, 'W2201': 1966, 'D072': 1967, 'S771': 1968, 'V839': 1969, 'I723': 1970, 'A401': 1971, 'B377': 1972, 'C866': 1973, 'C910': 1974, 'F323': 1975, 'Z608': 1976, 'D444': 1977, 'G4040': 1978, 'J860': 1979, 'J982': 1980, 'K074': 1981, 'I080': 1982, 'Q37': 1983, 'M8415': 1984, 'T824': 1985, 'C851': 1986, 'M8098': 1987, 'H531': 1988, 'D140': 1989, 'N350': 1990, 'I270': 1991, 'J328': 1992, 'N7688': 1993, 'J432': 1994, 'R3914': 1995, 'S36310': 1996, 'M495': 1997, 'N4288': 1998, 'C4101': 1999, 'F509': 2000, 'N289': 2001, 'S42220': 2002, 'M167': 2003, 'S2908': 2004, 'T115': 2005, 'Z9483': 2006, 'K621': 2007, 'K6388': 2008, 'B86': 2009, 'D351': 2010, 'Q453': 2011, 'F604': 2012, 'F606': 2013, 'F608': 2014, 'C784': 2015, 'C791': 2016, 'I629': 2017, 'N059': 2018, 'D570': 2019, 'H613': 2020, 'N130': 2021, 'S055': 2022, 'C150': 2023, 'J9501': 2024, 'F607': 2025, 'F681': 2026, 'Y492': 2027, 'J159': 2028, 'K419': 2029, 'D212': 2030, 'R398': 2031, 'T851': 2032, 'F318': 2033, 'F400': 2034, 'R011': 2035, 'S02700': 2036, 'C670': 2037, 'C675': 2038, 'L259': 2039, 'K3180': 2040, 'B958': 2041, 'Q648': 2042, 'G809': 2043, 'N323': 2044, 'I279': 2045, 'I630': 2046, 'M1094': 2047, 'S42300': 2048, 'M175': 2049, 'G8119': 2050, 'H912': 2051, 'H931': 2052, 'R260': 2053, 'T8414': 2054, 'F601': 2055, 'S27611': 2056, 'H902': 2057, 'T8453': 2058, 'Y792': 2059, 'M6226': 2060, 'E065': 2061, 'X08': 2062, 'M8986': 2063, 'S32800': 2064, 'S4428': 2065, 'K823': 2066, 'I708': 2067, 'S27201': 2068, 'T797': 2069, 'Q431': 2070, 'Q828': 2071, 'E1328': 2072, 'L080': 2073, 'M1123': 2074, 'S153': 2075, 'K296': 2076, 'Y14': 2077, 'C950': 2078, 'Y431': 2079, 'R458': 2080, 'L680': 2081, 'D165': 2082, 'I711': 2083, 'H570': 2084, 'T436': 2085, 'M4352': 2086, 'M1257': 2087, 'R070': 2088, 'H313': 2089, 'S051': 2090, 'H578': 2091, 'N994': 2092, 'E249': 2093, 'G061': 2094, 'M4625': 2095, 'M4636': 2096, 'S709': 2097, 'F449': 2098, 'F459': 2099, 'G419': 2100, 'M963': 2101, 'S6100': 2102, 'W2208': 2103, 'J340': 2104, 'D143': 2105, 'S37010': 2106, 'M210': 2107, 'K413': 2108, 'S0625': 2109, 'I983': 2110, 'R80': 2111, 'N184': 2112, 'C959': 2113, 'I608': 2114, 'F122': 2115, 'S1190': 2116, 'S5620': 2117, 'S6610': 2118, 'K431': 2119, 'T175': 2120, 'N500': 2121, 'I778': 2122, 'Z7688': 2123, 'S43100': 2124, 'N3930': 2125, 'T8468': 2126, 'F328': 2127, 'D66': 2128, 'G560': 2129, 'S6618': 2130, 'Y29': 2131, 'C714': 2132, 'M2532': 2133, 'S37210': 2134, 'D164': 2135, 'C154': 2136, 'G961': 2137, 'S32010': 2138, 'H215': 2139, 'H270': 2140, 'H310': 2141, 'D480': 2142, 'Z9668': 2143, 'G240': 2144, 'T8748': 2145, 'T8758': 2146, 'G549': 2147, 'M518': 2148, 'N4590': 2149, 'G009': 2150, 'M6005': 2151, 'N2888': 2152, 'M202': 2153, 'D126': 2154, 'I491': 2155, 'S43090': 2156, 'S0488': 2157, 'F311': 2158, 'C924': 2159, 'I722': 2160, 'N280': 2161, 'M8095': 2162, 'X58': 2163, 'F208': 2164, 'J384': 2165, 'M6594': 2166, 'N178': 2167, 'K6410': 2168, 'S300': 2169, 'I059': 2170, 'G548': 2171, 'S31700': 2172, 'G251': 2173, 'Y493': 2174, 'Z941': 2175, 'V535': 2176, 'T345': 2177, 'T348': 2178, 'G518': 2179, 'K148': 2180, 'T908': 2181, 'Y870': 2182, 'Z420': 2183, 'I601': 2184, 'J168': 2185, 'D379': 2186, 'J988': 2187, 'R768': 2188, 'G048': 2189, 'Z878': 2190, 'K721': 2191, 'C449': 2192, 'W23': 2193, 'G620': 2194, 'L598': 2195, 'M8688': 2196, 'D134': 2197, 'D1802': 2198, 'D680': 2199, 'M8568': 2200, 'M080': 2201, 'Z901': 2202, 'E611': 2203, 'R02': 2204, 'B379': 2205, 'D332': 2206, 'M314': 2207, 'Y513': 2208, 'R192': 2209, 'C435': 2210, 'K0701': 2211, 'C37': 2212, 'R934': 2213, 'L923': 2214, 'F381': 2215, 'M5326': 2216, 'H524': 2217, 'D1808': 2218, 'M8938': 2219, 'Q279': 2220, 'B948': 2221, 'M6028': 2222, 'Q039': 2223, 'Z982': 2224, 'M8403': 2225, 'S27801': 2226, 'R453': 2227, 'M6086': 2228, 'M7266': 2229, 'B332': 2230, 'I430': 2231, 'Y515': 2232, 'Z897': 2233, 'S62490': 2234, 'S63031': 2235, 'S6418': 2236, 'S678': 2237, 'V040': 2238, 'D130': 2239, 'K6380': 2240, 'D3616': 2241, 'F900': 2242, 'T184': 2243, 'E348': 2244, 'G935': 2245, 'I678': 2246, 'M5322': 2247, 'S052': 2248, 'S058': 2249, 'S1419': 2250, 'S36801': 2251, 'S72801': 2252, 'T794': 2253, 'V445': 2254, 'I820': 2255, 'K075': 2256, 'M158': 2257, 'B371': 2258, 'E873': 2259, 'K0888': 2260, 'Q656': 2261, 'S050': 2262, 'I603': 2263, 'T825': 2264, 'G9602': 2265, 'H950': 2266, 'Q018': 2267, 'S005': 2268, 'S008': 2269, 'T355': 2270, 'Y452': 2271, 'H113': 2272, 'N304': 2273, 'J985': 2274, 'M1256': 2275, 'M2323': 2276, 'M6596': 2277, 'H108': 2278, 'Y549': 2279, 'H334': 2280, 'H5988': 2281, 'S36410': 2282, 'F04': 2283, 'S27001': 2284, 'M2575': 2285, 'S7608': 2286, 'D128': 2287, 'N358': 2288, 'Y608': 2289, 'R454': 2290, 'T659': 2291, 'X46': 2292, 'Y478': 2293, 'L021': 2294, 'Z861': 2295, 'F316': 2296, 'S1411': 2297, 'J9611': 2298, 'C673': 2299, 'C321': 2300, 'J387': 2301, 'D073': 2302, 'N23': 2303, 'F630': 2304, 'G710': 2305, 'I619': 2306, 'M7988': 2307, 'M190': 2308, 'G912': 2309, 'M321': 2310, 'F151': 2311, 'F195': 2312, 'D091': 2313, 'C179': 2314, 'E340': 2315, 'W0201': 2316, 'F192': 2317, 'C491': 2318, 'L720': 2319, 'E1161': 2320, 'E802': 2321, 'L14': 2322, 'T8408': 2323, 'N422': 2324, 'E1036': 2325, 'H420': 2326, 'D375': 2327, 'D022': 2328, 'D688': 2329, 'M8615': 2330, 'M4786': 2331, 'R311': 2332, 'Z743': 2333, 'F418': 2334, 'D059': 2335, 'B9548': 2336, 'M4199': 2337, 'C5091': 2338, 'I201': 2339, 'I409': 2340, 'D197': 2341, 'J700': 2342, 'K9142': 2343, 'T543': 2344, 'X49': 2345, 'G600': 2346, 'R634': 2347, 'T140': 2348, 'S809': 2349, 'D609': 2350, 'I721': 2351, 'M8687': 2352, 'J151': 2353, 'M224': 2354, 'C040': 2355, 'M4882': 2356, 'D173': 2357, 'D071': 2358, 'C23': 2359, 'G562': 2360, 'M6743': 2361, 'G911': 2362, 'C029': 2363, 'C109': 2364, 'L599': 2365, 'C712': 2366, 'M0096': 2367, 'J188': 2368, 'T834': 2369, 'C253': 2370, 'M4629': 2371, 'M4644': 2372, 'T847': 2373, 'C412': 2374, 'I745': 2375, 'I456': 2376, 'S36090': 2377, 'S36890': 2378, 'I454': 2379, 'H701': 2380, 'K381': 2381, 'I426': 2382, 'I720': 2383, 'N137': 2384, 'C140': 2385, 'I898': 2386, 'I458': 2387, 'V889': 2388, 'V98': 2389, 'N421': 2390, 'C696': 2391, 'R579': 2392, 'S36120': 2393, 'S72491': 2394, 'S82401': 2395, 'S851': 2396, 'V039': 2397, 'H618': 2398, 'C763': 2399, 'Q859': 2400, 'S6430': 2401, 'S680': 2402, 'I358': 2403, 'T826': 2404, 'I253': 2405, 'K520': 2406, 'N3939': 2407, 'Q059': 2408, 'U85': 2409, 'N135': 2410, 'N039': 2411, 'H333': 2412, 'K083': 2413, 'X41': 2414, 'A310': 2415, 'I288': 2416, 'F54': 2417, 'K740': 2418, 'S83501': 2419, 'E282': 2420, 'T885': 2421, 'C830': 2422, 'T905': 2423, 'Y871': 2424, 'D177': 2425, 'Q230': 2426, 'F640': 2427, 'T144': 2428, 'Q2732': 2429, 'R571': 2430, 'K9280': 2431, 'H810': 2432, 'M8665': 2433, 'Y850': 2434, 'T950': 2435, 'Y872': 2436, 'Z954': 2437, 'C470': 2438, 'C476': 2439, 'H951': 2440, 'T451': 2441, 'Z9482': 2442, 'Z981': 2443, 'C450': 2444, 'M7987': 2445, 'R072': 2446, 'K633': 2447, 'R490': 2448, 'J00': 2449, 'X69': 2450, 'C020': 2451, 'L859': 2452, 'K440': 2453, 'M192': 2454, 'M216': 2455, 'M670': 2456, 'G039': 2457, 'Z988': 2458, 'N858': 2459, 'T71': 2460, 'X70': 2461, 'I236': 2462, 'R1958': 2463, 'J390': 2464, 'Q308': 2465, 'Q36': 2466, 'G610': 2467, 'H907': 2468, 'K250': 2469, 'I776': 2470, 'M317': 2471, 'Z4001': 2472, 'Z4008': 2473, 'J13': 2474, 'H933': 2475, 'K828': 2476, 'G838': 2477, 'C794': 2478, 'L0331': 2479, 'R160': 2480, 'F341': 2481, 'H728': 2482, 'C3419': 2483, 'F450': 2484, 'Z429': 2485, 'T213': 2486, 'T223': 2487, 'X17': 2488, 'K612': 2489, 'M2535': 2490, 'Q868': 2491, 'C824': 2492, 'C561': 2493, 'M2506': 2494, 'H549': 2495, 'G4090': 2496, 'L300': 2497, 'H368': 2498, 'B449': 2499, 'J172': 2500, 'K261': 2501, 'Q630': 2502, 'M211': 2503, 'G970': 2504, 'J018': 2505, 'M1126': 2506, 'Z596': 2507, 'K120': 2508, 'R008': 2509, 'Z080': 2510, 'Q613': 2511, 'J154': 2512, 'Q061': 2513, 'G062': 2514, 'J011': 2515, 'M1395': 2516, 'M2415': 2517, 'M6595': 2518, 'F840': 2519, 'R440': 2520, 'E1442': 2521, 'C028': 2522, 'D382': 2523, 'M707': 2524, 'M6646': 2525, 'V684': 2526, 'C518': 2527, 'B953': 2528, 'M8735': 2529, 'M968': 2530, 'Y522': 2531, 'L219': 2532, 'F028': 2533, 'K3181': 2534, 'C004': 2535, 'Y495': 2536, 'W79': 2537, 'I664': 2538, 'M6000': 2539, 'Q396': 2540, 'N420': 2541, 'J108': 2542, 'Z874': 2543, 'T8413': 2544, 'M6787': 2545, 'M766': 2546, 'M926': 2547, 'S02620': 2548, 'L721': 2549, 'S2190': 2550, 'S3081': 2551, 'S31130': 2552, 'F522': 2553, 'F444': 2554, 'F952': 2555, 'K056': 2556, 'T801': 2557, 'I779': 2558, 'J848': 2559, 'M7986': 2560, 'T884': 2561, 'T8422': 2562, 'C3480': 2563, 'Y12': 2564, 'M8417': 2565, 'S36180': 2566, 'D45': 2567, 'K0761': 2568, 'T86400': 2569, 'R653': 2570, 'H050': 2571, 'R250': 2572, 'B018': 2573, 'H604': 2574, 'M2466': 2575, 'H901': 2576, 'C031': 2577, 'S42800': 2578, 'Q278': 2579, 'M0095': 2580, 'I2519': 2581, 'E849': 2582, 'E274': 2583, 'I638': 2584, 'D473': 2585, 'S898': 2586, 'B950': 2587, 'N250': 2588, 'K068': 2589, 'M2405': 2590, 'M2505': 2591, 'S73090': 2592, 'S7319': 2593, 'V446': 2594, 'D733': 2595, 'K2210': 2596, 'H659': 2597, 'D421': 2598, 'N809': 2599, 'I888': 2600, 'N814': 2601, 'S36411': 2602, 'Z884': 2603, 'I052': 2604, 'C694': 2605, 'S5618': 2606, 'M341': 2607, 'C844': 2608, 'J61': 2609, 'I726': 2610, 'Q870': 2611, 'S72420': 2612, 'G9600': 2613, 'S0408': 2614, 'V804': 2615, 'F819': 2616, 'Z899': 2617, 'Z900': 2618, 'Z2238': 2619, 'S36311': 2620, 'h491': 2621, 'I240': 2622, 'B259': 2623, 'G839': 2624, 'M6613': 2625, 'Z465': 2626, 'Z803': 2627, 'Z8040': 2628, 'R062': 2629, 'Z604': 2630, 'C165': 2631, 'M173': 2632, 'G9608': 2633, 'M4805': 2634, 'D561': 2635, 'L120': 2636, 'M8691': 2637, 'S02480': 2638, 'S0120': 2639, 'S02101': 2640, 'S02201': 2641, 'S82201': 2642, 'G8191': 2643, 'U837': 2644, 'K575': 2645, 'F232': 2646, 'S7170': 2647, 'Y28': 2648, 'S4628': 2649, 'I701': 2650, 'Z862': 2651, 'D321': 2652, 'C719': 2653, 'E1364': 2654, 'K508': 2655, 'H938': 2656, 'Y541': 2657, 'I492': 2658, 'Q031': 2659, 'Q038': 2660, 'Q761': 2661, 'F988': 2662, 'C119': 2663, 'K767': 2664, 'G214': 2665, 'S02600': 2666, 'G82192': 2667, 'W40': 2668, 'G82590': 2669, 'R632': 2670, 'C510': 2671, 'L538': 2672, 'D136': 2673, 'C049': 2674, 'M7926': 2675, 'G978': 2676, 'J041': 2677, 'D120': 2678, 'C499': 2679, 'G546': 2680, 'Q892': 2681, 'F140': 2682, 'K0768': 2683, 'F320': 2684, 'G709': 2685, 'N841': 2686, 'F848': 2687, 'E269': 2688, 'G255': 2689, 'R091': 2690, 'W54': 2691, 'G621': 2692, 'Q433': 2693, 'B07': 2694, 'F313': 2695, 'F605': 2696, 'B179': 2697, 'K5521': 2698, 'D481': 2699, 'S82301': 2700, 'I716': 2701, 'R443': 2702, 'G800': 2703, 'H188': 2704, 'H210': 2705, 'H318': 2706, 'Z807': 2707, 'D162': 2708, 'L0301': 2709, 'F123': 2710, 'F130': 2711, 'S36020': 2712, 'H838': 2713, 'K458': 2714, 'D141': 2715, 'M4029': 2716, 'Q046': 2717, 'H438': 2718, 'N5018': 2719, 'C3409': 2720, 'I318': 2721, 'G82293': 2722, 'S351': 2723, 'Z906': 2724, 'F09': 2725, 'M1280': 2726, 'M2580': 2727, 'F165': 2728, 'H544': 2729, 'L732': 2730, 'D730': 2731, 'G001': 2732, 'C164': 2733, 'N360': 2734, 'Q311': 2735, 'S5190': 2736, 'Z942': 2737, 'I421': 2738, 'C482': 2739, 'H182': 2740, 'S059': 2741, 'D372': 2742, 'T390': 2743, 'Y10': 2744, 'W0208': 2745, 'D731': 2746, 'I868': 2747, 'L989': 2748, 'H918': 2749, 'R220': 2750, 'Y565': 2751, 'Z8048': 2752, 'D520': 2753, 'G721': 2754, 'H905': 2755, 'S098': 2756, 'G111': 2757, 'Q663': 2758, 'Q667': 2759, 'Q668': 2760, 'M2583': 2761, 'S007': 2762, 'S2418': 2763, 'I2382': 2764, 'M4804': 2765, 'Y543': 2766, 'G002': 2767, 'G951': 2768, 'I738': 2769, 'I978': 2770, 'S354': 2771, 'W50': 2772, 'I254': 2773, 'S331': 2774, 'Z609': 2775, 'M2533': 2776, 'G379': 2777, 'G959': 2778, 'E1111': 2779, 'J82': 2780, 'T174': 2781, 'Y458': 2782, 'Q858': 2783, 'E8310': 2784, 'M2585': 2785, 'M761': 2786, 'N251': 2787, 'Q210': 2788, 'M5387': 2789, 'K743': 2790, 'G003': 2791, 'G249': 2792, 'C809': 2793, 'S158': 2794, 'I618': 2795, 'S8680': 2796, 'M1009': 2797, 'F194': 2798, 'T658': 2799, 'Y19': 2800, 'F239': 2801, 'M7265': 2802, 'M6285': 2803, 'Z801': 2804, 'N140': 2805, 'F115': 2806, 'I600': 2807, 'C845': 2808, 'W5103': 2809, 'N63': 2810, 'C172': 2811, 'T064': 2812, 'D684': 2813, 'M217': 2814, 'E1138': 2815, 'H021': 2816, 'H162': 2817, 'H189': 2818, 'M706': 2819, 'Y443': 2820, 'I692': 2821, 'N9952': 2822, 'D1803': 2823, 'S909': 2824, 'W5107': 2825, 'G9381': 2826, 'F108': 2827, 'D474': 2828, 'M301': 2829, 'S32090': 2830, 'T8428': 2831, 'A810': 2832, 'Y566': 2833, 'M1392': 2834, 'S5348': 2835, 'S9342': 2836, 'S1438': 2837, 'V299': 2838, 'S7600': 2839, 'T428': 2840, 'R093': 2841, 'I970': 2842, 'E1051': 2843, 'E1071': 2844, 'F173': 2845, 'R897': 2846, 'E250': 2847, 'K6421': 2848, 'Z894': 2849, 'A020': 2850, 'H812': 2851, 'D686': 2852, 'G453': 2853, 'Z21': 2854, 'F28': 2855, 'Y432': 2856, 'G448': 2857, 'S0685': 2858, 'H054': 2859, 'I256': 2860, 'M2182': 2861, 'N052': 2862, 'S353': 2863, 'A022': 2864, 'M902': 2865, 'I741': 2866, 'M2185': 2867, 'K266': 2868, 'J2088': 2869, 'K648': 2870, 'E110': 2871, 'H041': 2872, 'Z593': 2873, 'D618': 2874, 'S4408': 2875, 'S53110': 2876, 'T243': 2877, 'T253': 2878, 'T270': 2879, 'T293': 2880, 'T3156': 2881, 'X76': 2882, 'Z733': 2883, 'C676': 2884, 'G724': 2885, 'M1183': 2886, 'T652': 2887, 'K639': 2888, 'G540': 2889, 'E890': 2890, 'H738': 2891, 'S52591': 2892, 'H062': 2893, 'W20': 2894, 'S72301': 2895, 'W2200': 2896, 'T749': 2897, 'Y078': 2898, 'G589': 2899, 'S72901': 2900, 'J853': 2901, 'Q850': 2902, 'S608': 2903, 'S109': 2904, 'V892': 2905, 'H540': 2906, 'W08': 2907, 'T471': 2908, 'C5030': 2909, 'D051': 2910, 'Z559': 2911, 'M7984': 2912, 'F500': 2913, 'F89': 2914, 'B49': 2915, 'I051': 2916, 'S37000': 2917, 'V929': 2918, 'S37311': 2919, 'K564': 2920, 'U828': 2921, 'C749': 2922, 'L741': 2923, 'M4186': 2924, 'M960': 2925, 'K910': 2926, 'K8021': 2927, 'I668': 2928, 'Y527': 2929, 'G608': 2930, 'S5180': 2931, 'G638': 2932, 'L309': 2933, 'Q874': 2934, 'O99404': 2935, 'M064': 2936, 'E1433': 2937, 'A480': 2938, 'S92100': 2939, 'H402': 2940, 'J6799': 2941, 'M8645': 2942, 'C436': 2943, 'J156': 2944, 'U838': 2945, 'I444': 2946, 'L858': 2947, 'Q2733': 2948, 'W0204': 2949, 'A414': 2950, 'N324': 2951, 'G513': 2952, 'C171': 2953, 'I614': 2954, 'O040': 2955, 'N648': 2956, 'G932': 2957, 'K315': 2958, 'K8031': 2959, 'T913': 2960, 'J358': 2961, 'C021': 2962, 'V953': 2963, 'Z018': 2964, 'F233': 2965, 'N952': 2966, 'T212': 2967, 'T242': 2968, 'T3110': 2969, 'W36': 2970, 'E02': 2971, 'B258': 2972, 'D738': 2973, 'C323': 2974, 'I748': 2975, 'O88804': 2976, 'O90304': 2977, 'D313': 2978, 'F120': 2979, 'Z916': 2980, 'R278': 2981, 'F133': 2982, 'F143': 2983, 'F61': 2984, 'F079': 2985, 'F310': 2986, 'F709': 2987, 'F068': 2988, 'F205': 2989, 'F128': 2990, 'F339': 2991, 'H609': 2992, 'F107': 2993, 'Z2251': 2994, 'S62390': 2995, 'T230': 2996, 'T240': 2997, 'U9820': 2998, 'T82701': 2999, 'C7809': 3000, 'M797': 3001, 'D589': 3002, 'B354': 3003, 'W1809': 3004, 'E100': 3005, 'Z85110': 3006, 'C7801': 3007, 'C210': 3008, 'L304': 3009, 'Z8531': 3010, 'G211': 3011, 'R4029': 3012, 'H000': 3013, 'B181': 3014, 'R1019': 3015, 'R619': 3016, 'C914': 3017, 'Q2738': 3018, 'G042': 3019, 'H700': 3020, 'T090': 3021, 'M2421': 3022, 'K289': 3023, 'M311': 3024, 'H018': 3025, 'N045': 3026, 'A328': 3027, 'K260': 3028, 'D090': 3029, 'T8460': 3030, 'K0711': 3031, 'I301': 3032, 'M9660': 3033, 'H221': 3034, 'B356': 3035, 'Z9501': 3036, 'Z8539': 3037, 'Z9010': 3038, 'Z9011': 3039, 'R263': 3040, 'T8157': 3041, 'Y616': 3042, 'I443': 3043, 'T8183': 3044, 'Q754': 3045, 'U9828': 3046, 'Z8530': 3047, 'G8322': 3048, 'A5488': 3049, 'K671': 3050, 'Z85111': 3051, 'Z9021': 3052, 'K593': 3053, 'E1460': 3054, 'Z9500': 3055, 'J3802': 3056, 'S37090': 3057, 'T188': 3058, 'S42210': 3059, 'S6180': 3060, 'G458': 3061, 'B9540': 3062, 'C446': 3063, 'S9110': 3064, 'T461': 3065, 'T502': 3066, 'J9619': 3067, 'J020': 3068, 'N816': 3069, 'T887': 3070, 'K904': 3071, 'T398': 3072, 'J628': 3073, 'F402': 3074, 'E268': 3075, 'I680': 3076, 'H808': 3077, 'J123': 3078, 'M925': 3079, 'N926': 3080, 'D390': 3081, 'G8190': 3082, 'D377': 3083, 'D381': 3084, 'R947': 3085, 'T751': 3086, 'W70': 3087, 'Q760': 3088, 'A879': 3089, 'T7808': 3090, 'L258': 3091, 'H748': 3092, 'S92301': 3093, 'W3409': 3094, 'Z9019': 3095, 'M7911': 3096, 'M1381': 3097, 'E230': 3098, 'Z993': 3099, 'L52': 3100, 'K563': 3101, 'C414': 3102, 'C7800': 3103, 'M1124': 3104, 'K108': 3105, 'J920': 3106, 'N481': 3107, 'J702': 3108, 'S908': 3109, 'W1802': 3110, 'A858': 3111, 'C717': 3112, 'V284': 3113, 'M300': 3114, 'N429': 3115, 'D123': 3116, 'N870': 3117, 'G259': 3118, 'E161': 3119, 'N950': 3120, 'E1440': 3121, 'Y849': 3122, 'T84033': 3123, 'Y909': 3124, 'S001': 3125, 'S62700': 3126, 'C917': 3127, 'R4688': 3128, 'R75': 3129, 'T496': 3130, 'R130': 3131, 'S100': 3132, 'T741': 3133, 'Y070': 3134, 'D043': 3135, 'C841': 3136, 'G454': 3137, 'H509': 3138, 'E0781': 3139, 'V280': 3140, 'C444': 3141, 'S168': 3142, 'U998': 3143, 'K263': 3144, 'R739': 3145, 'K9141': 3146, 'N921': 3147, 'C5039': 3148, 'S499': 3149, 'S799': 3150, 'N160': 3151, 'R14': 3152, 'H809': 3153, 'Z85119': 3154, 'Z9029': 3155, 'L600': 3156, 'S0130': 3157, 'M159': 3158, 'G82212': 3159, 'T8279': 3160, 'Z547': 3161, 'L740': 3162, 'C069': 3163, 'Z022': 3164, 'L291': 3165, 'G939': 3166, 'M7982': 3167, 'M2543': 3168, 'Q938': 3169, 'L88': 3170, 'S202': 3171, 'T455': 3172, 'J120': 3173, 'Q390': 3174, 'S36010': 3175, 'S36221': 3176, 'S62801': 3177, 'S6670': 3178, 'S82101': 3179, 'V494': 3180, 'E781': 3181, 'H101': 3182, 'D648': 3183, 'T0250': 3184, 'T58': 3185, 'X47': 3186, 'C6291': 3187, 'R946': 3188, 'Y490': 3189, 'Y496': 3190, 'F312': 3191, 'S73080': 3192, 'G252': 3193, 'M201': 3194, 'I694': 3195, 'Q051': 3196, 'I455': 3197, 'N483': 3198, 'S36811': 3199, 'W03': 3200, 'S02410': 3201, 'T8415': 3202, 'T8465': 3203, 'D171': 3204, 'R309': 3205, 'D7588': 3206, 'R71': 3207, 'T82700': 3208, 'D801': 3209, 'F446': 3210, 'M350': 3211, 'N164': 3212, 'S8101': 3213, 'W4509': 3214, 'Z470': 3215, 'M2577': 3216, 'S0110': 3217, 'S42120': 3218, 'H356': 3219, 'H490': 3220, 'S808': 3221, 'W269': 3222, 'V814': 3223, 'S42400': 3224, 'S02400': 3225, 'S352': 3226, 'C07': 3227, 'V932': 3228, 'I740': 3229, 'C925': 3230, 'G444': 3231, 'A059': 3232, 'H332': 3233, 'H440': 3234, 'U820': 3235, 'J030': 3236, 'H350': 3237, 'L708': 3238, 'S32040': 3239, 'S43200': 3240, 'T791': 3241, 'V436': 3242, 'T84042': 3243, 'S708': 3244, 'M0094': 3245, 'M6514': 3246, 'S6630': 3247, 'W268': 3248, 'T273': 3249, 'T3141': 3250, 'T82709': 3251, 'T86841': 3252, 'T8182': 3253, 'D446': 3254, 'G971': 3255, 'T820': 3256, 'M4197': 3257, 'B019': 3258, 'L929': 3259, 'M6656': 3260, 'H045': 3261, 'K090': 3262, 'Z765': 3263, 'U99048': 3264, 'Z592': 3265, 'E1136': 3266, 'H55': 3267, 'O24504': 3268, 'O86204': 3269, 'T84032': 3270, 'G941': 3271, 'I101': 3272, 'G258': 3273, 'M4646': 3274, 'S27101': 3275, 'M198': 3276, 'S22090': 3277, 'B488': 3278, 'V854': 3279, 'S233': 3280, 'E90': 3281, 'M8989': 3282, 'S27800': 3283, 'D441': 3284, 'E896': 3285, 'I1580': 3286, 'K523': 3287, 'T84040': 3288, 'M7155': 3289, 'E275': 3290, 'J991': 3291, 'M351': 3292, 'T528': 3293, 'X66': 3294, 'A170': 3295, 'G01': 3296, 'H492': 3297, 'Q048': 3298, 'Y568': 3299, 'S62000': 3300, 'I371': 3301, 'Q871': 3302, 'G801': 3303, 'I872': 3304, 'K414': 3305, 'S63110': 3306, 'B448': 3307, 'M059': 3308, 'E221': 3309, 'R651': 3310, 'E248': 3311, 'Q614': 3312, 'W25': 3313, 'K437': 3314, 'H681': 3315, 'H921': 3316, 'N431': 3317, 'N4592': 3318, 'D708': 3319, 'M310': 3320, 'F109': 3321, 'I361': 3322, 'C884': 3323, 'T809': 3324, 'E272': 3325, 'T009': 3326, 'E8318': 3327, 'N029': 3328, 'I311': 3329, 'S258': 3330, 'M2537': 3331, 'M332': 3332, 'K081': 3333, 'C823': 3334, 'H699': 3335, 'S32030': 3336, 'Y557': 3337, 'Y713': 3338, 'S36191': 3339, 'T8151': 3340, 'Y610': 3341, 'M533': 3342, 'G08': 3343, 'M8796': 3344, 'T84044': 3345, 'G253': 3346, 'Y404': 3347, 'S31000': 3348, 'M172': 3349, 'C496': 3350, 'W38': 3351, 'F148': 3352, 'D861': 3353, 'D142': 3354, 'M166': 3355, 'Q651': 3356, 'A280': 3357, 'E079': 3358, 'D0510': 3359, 'D484': 3360, 'L050': 3361, 'Y498': 3362, 'S22401': 3363, 'B338': 3364, 'C227': 3365, 'N471': 3366, 'Z972': 3367, 'S2101': 3368, 'S4111': 3369, 'S5191': 3370, 'S8181': 3371, 'K9144': 3372, 'K223': 3373, 'A400': 3374, 'T781': 3375, 'D135': 3376, 'O99804': 3377, 'I372': 3378, 'Q2038': 3379, 'S6191': 3380, 'I424': 3381, 'S42390': 3382, 'Z422': 3383, 'Y606': 3384, 'M1093': 3385, 'Z4501': 3386, 'Z591': 3387, 'E806': 3388, 'G372': 3389, 'T447': 3390, 'Y13': 3391, 'N399': 3392, 'M8614': 3393, 'R098': 3394, 'C846': 3395, 'M0150': 3396, 'F919': 3397, 'S02000': 3398, 'S02301': 3399, 'S02430': 3400, 'K9162': 3401, 'S6600': 3402, 'L940': 3403, 'Y545': 3404, 'F250': 3405, 'K558': 3406, 'U987': 3407, 'N493': 3408, 'H342': 3409, 'G728': 3410, 'Z031': 3411, 'K30': 3412, 'I328': 3413, 'T84030': 3414, 'L958': 3415, 'V180': 3416, 'I801': 3417, 'J153': 3418, 'S22201': 3419, 'S22301': 3420, 'G9601': 3421, 'O34299': 3422, 'O43209': 3423, 'O46099': 3424, 'O99809': 3425, 'S0140': 3426, 'S36151': 3427, 'D721': 3428, 'K909': 3429, 'T003': 3430, 'Y09': 3431, 'B451': 3432, 'G021': 3433, 'E1130': 3434, 'D580': 3435, 'Y919': 3436, 'Y464': 3437, 'S407': 3438, 'S602': 3439, 'T131': 3440, 'R930': 3441, 'D410': 3442, 'G4050': 3443, 'S508': 3444, 'V421': 3445, 'Y859': 3446, 'M8508': 3447, 'W5102': 3448, 'O91104': 3449, 'F189': 3450, 'M8901': 3451, 'O10001': 3452, 'O34201': 3453, 'O99401': 3454, 'Z3580': 3455, 'Z37000': 3456, 'H163': 3457, 'S62320': 3458, 'Y497': 3459, 'Z973': 3460, 'S27840': 3461, 'M4642': 3462, 'S82811': 3463, 'Q254': 3464, 'H401': 3465, 'R253': 3466, 'N318': 3467, 'D200': 3468, 'R740': 3469, 'W5108': 3470, 'N641': 3471, 'I2514': 3472, 'C608': 3473, 'I613': 3474, 'M7938': 3475, 'D443': 3476, 'J941': 3477, 'Z808': 3478, 'S8100': 3479, 'I677': 3480, 'L728': 3481, 'N825': 3482, 'H169': 3483, 'R790': 3484, 'Y542': 3485, 'R3910': 3486, 'S36140': 3487, 'S36190': 3488, 'W1800': 3489, 'E1012': 3490, 'E807': 3491, 'M4194': 3492, 'M1007': 3493, 'F802': 3494, 'J438': 3495, 'O16002': 3496, 'O62201': 3497, 'O68001': 3498, 'O69201': 3499, 'O72102': 3500, 'O99201': 3501, 'O99501': 3502, 'O99801': 3503, 'Y403': 3504, 'H539': 3505, 'N368': 3506, 'F349': 3507, 'F258': 3508, 'J381': 3509, 'H331': 3510, 'M4024': 3511, 'J321': 3512, 'R578': 3513, 'R895': 3514, 'J051': 3515, 'D472': 3516, 'M6208': 3517, 'D7581': 3518, 'C65': 3519, 'C447': 3520, 'D160': 3521, 'C188': 3522, 'I651': 3523, 'V476': 3524, 'V919': 3525, 'M7112': 3526, 'E236': 3527, 'S099': 3528, 'W2209': 3529, 'M0001': 3530, 'M6002': 3531, 'T743': 3532, 'K102': 3533, 'M130': 3534, 'S27411': 3535, 'S27511': 3536, 'T928': 3537, 'Y899': 3538, 'T84041': 3539, 'S36490': 3540, 'S36810': 3541, 'C211': 3542, 'L589': 3543, 'B269': 3544, 'L271': 3545, 'Y462': 3546, 'C153': 3547, 'T597': 3548, 'R73802': 3549, 'F300': 3550, 'F314': 3551, 'S52601': 3552, 'V800': 3553, 'N829': 3554, 'S52101': 3555, 'S5340': 3556, 'A402': 3557, 'M738': 3558, 'D174': 3559, 'S93000': 3560, 'L920': 3561, 'N907': 3562, 'C7980': 3563, 'T182': 3564, 'N159': 3565, 'D376': 3566, 'K818': 3567, 'H263': 3568, 'H521': 3569, 'Y520': 3570, 'Y429': 3571, 'G131': 3572, 'T8767': 3573, 'H590': 3574, 'E1436': 3575, 'H314': 3576, 'H444': 3577, 'Z859': 3578, 'N820': 3579, 'Q625': 3580, 'K640': 3581, 'D3610': 3582, 'Z9020': 3583, 'C3000': 3584, 'M8784': 3585, 'S681': 3586, 'S0170': 3587, 'M6641': 3588, 'S36030': 3589, 'V285': 3590, 'N601': 3591, 'M6282': 3592, 'Q791': 3593, 'S253': 3594, 'Q245': 3595, 'M228': 3596, 'M6786': 3597, 'K513': 3598, 'E1060': 3599, 'C840': 3600, 'G418': 3601, 'L292': 3602, 'S003': 3603, 'S7640': 3604, 'Q441': 3605, 'T84034': 3606, 'S62100': 3607, 'S6378': 3608, 'S42000': 3609, 'Y519': 3610, 'Y572': 3611, 'M189': 3612, 'S36491': 3613, 'T8158': 3614, 'C384': 3615, 'E891': 3616, 'T8463': 3617, 'G579': 3618, 'Y711': 3619, 'C710': 3620, 'C001': 3621, 'E899': 3622, 'T844': 3623, 'T84043': 3624, 'D392': 3625, 'N151': 3626, 'I604': 3627, 'G82521': 3628, 'G731': 3629, 'I438': 3630, 'G82291': 3631, 'M436': 3632, 'I1500': 3633, 'O85004': 3634, 'L739': 3635, 'C322': 3636, 'W57': 3637, 'Z048': 3638, 'H114': 3639, 'L131': 3640, 'I861': 3641, 'Z9502': 3642, 'M063': 3643, 'N322': 3644, 'M8085': 3645, 'D269': 3646, 'F333': 3647, 'C852': 3648, 'N0833': 3649, 'Z411': 3650, 'S2419': 3651, 'S3419': 3652, 'T0240': 3653, 'O99004': 3654, 'M7989': 3655, 'M5418': 3656, 'M8565': 3657, 'K591': 3658, 'S5341': 3659, 'N480': 3660, 'D067': 3661, 'C3439': 3662, 'G519': 3663, 'M755': 3664, 'F438': 3665, 'G1228': 3666, 'H470': 3667, 'O98804': 3668, 'C579': 3669, 'S551': 3670, 'Y605': 3671, 'D485': 3672, 'D023': 3673, 'Q188': 3674, 'S37310': 3675, 'D397': 3676, 'H913': 3677, 'P350': 3678, 'D420': 3679, 'C104': 3680, 'N138': 3681, 'M720': 3682, 'T8757': 3683, 'S4170': 3684, 'M9668': 3685, 'Y526': 3686, 'M221': 3687, 'E1131': 3688, 'M204': 3689, 'G521': 3690, 'T86201': 3691, 'M1397': 3692, 'N905': 3693, 'T201': 3694, 'T292': 3695, 'T3140': 3696, 'M8902': 3697, 'Z8618': 3698, 'Z8602': 3699, 'D863': 3700, 'I427': 3701, 'H209': 3702, 'H354': 3703, 'Q131': 3704, 'S032': 3705, 'D137': 3706, 'S27691': 3707, 'C161': 3708, 'M368': 3709, 'M794': 3710, 'M0021': 3711, 'Z209': 3712, 'M2485': 3713, 'H218': 3714, 'N022': 3715, 'Y563': 3716, 'S259': 3717, 'S92401': 3718, 'S9610': 3719, 'W29': 3720, 'L038': 3721, 'V270': 3722, 'N903': 3723, 'N4408': 3724, 'M2542': 3725, 'Y465': 3726, 'D471': 3727, 'S854': 3728, 'K036': 3729, 'Z491': 3730, 'N342': 3731, 'B509': 3732, 'O039': 3733, 'K739': 3734, 'G569': 3735, 'S5100': 3736, 'K006': 3737, 'K035': 3738, 'D224': 3739, 'C6299': 3740, 'M6288': 3741, 'Z512': 3742, 'Y405': 3743, 'S52700': 3744, 'M206': 3745, 'S83500': 3746, 'S83511': 3747, 'E720': 3748, 'M0090': 3749, 'M4658': 3750, 'T822': 3751, 'S83401': 3752, 'C837': 3753, 'M7928': 3754, 'T84048': 3755, 'M6517': 3756, 'T146': 3757, 'M8722': 3758, 'M5419': 3759, 'S2121': 3760, 'S27301': 3761, 'S298': 3762, 'X83': 3763, 'M950': 3764, 'Z998': 3765, 'T0180': 3766, 'F913': 3767, 'S31800': 3768, 'K634': 3769, 'T399': 3770, 'I718': 3771, 'E858': 3772, 'N084': 3773, 'C058': 3774, 'N821': 3775, 'Z492': 3776, 'T84031': 3777, 'M4313': 3778, 'Q612': 3779, 'S4180': 3780, 'Z632': 3781, 'T843': 3782, 'V283': 3783, 'D6930': 3784, 'T511': 3785, 'T918': 3786, 'N111': 3787, 'I661': 3788, 'B005': 3789, 'H191': 3790, 'K745': 3791, 'C108': 3792, 'C163': 3793, 'D367': 3794, 'Z22308': 3795, 'H471': 3796, 'G431': 3797, 'V912': 3798, 'M6216': 3799, 'S26000': 3800, 'M6624': 3801, 'M6284': 3802, 'K412': 3803, 'Z302': 3804, 'S27311': 3805, 'Y479': 3806, 'S32101': 3807, 'S63111': 3808, 'S27891': 3809, 'T464': 3810, 'M1393': 3811, 'D431': 3812, 'J3809': 3813, 'U99001': 3814, 'A600': 3815, 'N518': 3816, 'C817': 3817, 'S701': 3818, 'Z866': 3819, 'M7262': 3820, 'S5101': 3821, 'S254': 3822, 'V486': 3823, 'I838': 3824, 'V200': 3825, 'H605': 3826, 'V495': 3827, 'M8447': 3828, 'D0500': 3829, 'F718': 3830, 'K469': 3831, 'H405': 3832, 'H430': 3833, 'H46': 3834, 'K8301': 3835, 'S7610': 3836, 'T66': 3837, 'G913': 3838, 'N211': 3839, 'Q540': 3840, 'S900': 3841, 'K6430': 3842, 'K600': 3843, 'V184': 3844, 'I310': 3845, 'Z603': 3846, 'A521': 3847, 'H818': 3848, 'D210': 3849, 'L980': 3850, 'S26001': 3851, 'N882': 3852, 'M8099': 3853, 'C609': 3854, 'I241': 3855, 'I13': 3856, 'M4856': 3857, 'S83411': 3858, 'C479': 3859, 'S251': 3860, 'V204': 3861, 'I663': 3862, 'Y534': 3863, 'D017': 3864, 'Q251': 3865, 'R788': 3866, 'F849': 3867, 'C411': 3868, 'I891': 3869, 'N398': 3870, 'T888': 3871, 'Z8718': 3872, 'J990': 3873, 'M051': 3874, 'E211': 3875, 'M5417': 3876, 'S42700': 3877, 'H500': 3878, 'L0339': 3879, 'A370': 3880, 'Y494': 3881, 'V499': 3882, 'M954': 3883, 'L0334': 3884, 'S62500': 3885, 'K352': 3886, 'D694': 3887, 'N26': 3888, 'C857': 3889, 'M2552': 3890, 'A483': 3891, 'J930': 3892, 'S092': 3893, 'M8588': 3894, 'T84039': 3895, 'T84038': 3896, 'D151': 3897, 'J4591': 3898, 'S4378': 3899, 'M8488': 3900, 'G636': 3901, 'C5049': 3902, 'Z430': 3903, 'F110': 3904, 'L401': 3905, 'S62300': 3906, 'F000': 3907, 'G300': 3908, 'E889': 3909, 'S451': 3910, 'S651': 3911, 'V680': 3912, 'S02701': 3913, 'S02810': 3914, 'W37': 3915, 'E804': 3916, 'N053': 3917, 'J704': 3918, 'G030': 3919, 'T8766': 3920, 'N719': 3921, 'M6585': 3922, 'N423': 3923, 'T185': 3924, 'M8435': 3925, 'I494': 3926, 'M1006': 3927, 'S1170': 3928, 'D573': 3929, 'N902': 3930, 'C062': 3931, 'M8995': 3932, 'G991': 3933, 'S688': 3934, 'I772': 3935, 'E851': 3936, 'E853': 3937, 'G633': 3938, 'I1510': 3939, 'F719': 3940, 'G244': 3941, 'Z639': 3942, 'F155': 3943, 'F161': 3944, 'F317': 3945, 'Y499': 3946, 'J304': 3947, 'N912': 3948, 'T909': 3949, 'S72000': 3950, 'F798': 3951, 'F452': 3952, 'B659': 3953, 'L010': 3954, 'N643': 3955, 'Z615': 3956, 'I1520': 3957, 'O16003': 3958, 'S9349': 3959, 'N86': 3960, 'N941': 3961, 'Y510': 3962, 'N851': 3963, 'B000': 3964, 'M4052': 3965, 'S359': 3966, 'S9131': 3967, 'E778': 3968, 'G563': 3969, 'M0006': 3970, 'S92400': 3971, 'S92500': 3972, 'F142': 3973, 'C5040': 3974, 'S92700': 3975, 'L719': 3976, 'T446': 3977, 'T466': 3978, 'X63': 3979, 'J680': 3980, 'T598': 3981, 'R350': 3982, 'A327': 3983, 'R222': 3984, 'R73800': 3985, 'A260': 3986, 'E830': 3987, 'F181': 3988, 'R110': 3989, 'S002': 3990, 'T381': 3991, 'Z633': 3992, 'A044': 3993, 'M5410': 3994, 'A692': 3995, 'M9326': 3996, 'R413': 3997, 'M704': 3998, 'V019': 3999, 'M750': 4000, 'Q504': 4001, 'K274': 4002, 'S83410': 4003, 'R631': 4004, 'R221': 4005, 'Y533': 4006, 'G1229': 4007, 'S999': 4008, 'N730': 4009, 'K6420': 4010, 'S52001': 4011, 'B358': 4012, 'M061': 4013, 'S798': 4014, 'C969': 4015, 'D759': 4016, 'T84049': 4017, 'A481': 4018, 'I082': 4019, 'A321': 4020, 'G050': 4021, 'M7957': 4022, 'M754': 4023, 'K2213': 4024, 'K280': 4025, 'I950': 4026, 'K718': 4027, 'K0760': 4028, 'K451': 4029, 'Q248': 4030, 'S82891': 4031, 'V274': 4032, 'B270': 4033, 'V114': 4034, 'L503': 4035, 'G450': 4036, 'L910': 4037, 'M1125': 4038, 'C481': 4039, 'N329': 4040, 'N839': 4041, 'C783': 4042, 'R948': 4043, 'T8768': 4044, 'S4688': 4045, 'M4796': 4046, 'V845': 4047, 'S807': 4048, 'S32200': 4049, 'S836': 4050, 'N9951': 4051, 'V439': 4052, 'S6181': 4053, 'H830': 4054, 'I461': 4055, 'H742': 4056, 'C490': 4057, 'M0026': 4058, 'S6428': 4059, 'S6440': 4060, 'H181': 4061, 'N343': 4062, 'D0599': 4063, 'S42180': 4064, 'V585': 4065, 'Z659': 4066, 'N600': 4067, 'C310': 4068, 'M8045': 4069, 'D047': 4070, 'J698': 4071, 'F388': 4072, 'G4081': 4073, 'E841': 4074, 'H103': 4075, 'G463': 4076, 'Q283': 4077, 'I2512': 4078, 'S92290': 4079, 'L255': 4080, 'H168': 4081, 'H408': 4082, 'F55': 4083, 'M348': 4084, 'M2545': 4085, 'Y654': 4086, 'F012': 4087, 'M1004': 4088, 'I220': 4089, 'I729': 4090, 'S31190': 4091, 'I1590': 4092, 'T798': 4093, 'Y08': 4094, 'T8747': 4095, 'T149': 4096, 'Y415': 4097, 'D127': 4098, 'C693': 4099, 'Y538': 4100, 'A870': 4101, 'G020': 4102, 'N183': 4103, 'G82520': 4104, 'I308': 4105, 'I099': 4106, 'F401': 4107, 'I392': 4108, 'R224': 4109, 'L943': 4110, 'M6590': 4111, 'L238': 4112, 'M0007': 4113, 'M6007': 4114, 'R392': 4115, 'M7260': 4116, 'N082': 4117, 'T832': 4118, 'Y593': 4119, 'S1120': 4120, 'S37290': 4121, 'R932': 4122, 'D301': 4123, 'X04': 4124, 'M8449': 4125, 'Q359': 4126, 'G552': 4127, 'M200': 4128, 'S92210': 4129, 'S93310': 4130, 'S507': 4131, 'M2455': 4132, 'V198': 4133, 'S8618': 4134, 'V298': 4135, 'T408': 4136, 'T620': 4137, 'F063': 4138, 'H051': 4139, 'E639': 4140, 'G634': 4141, 'M6525': 4142, 'C6290': 4143, 'J322': 4144, 'I823': 4145, 'H022': 4146, 'Z658': 4147, 'E8880': 4148, 'G82511': 4149, 'A192': 4150, 'A523': 4151, 'N904': 4152, 'R233': 4153, 'U994': 4154, 'W1801': 4155, 'M8088': 4156, 'D465': 4157, 'D181': 4158, 'E031': 4159, 'K6381': 4160, 'T443': 4161, 'T433': 4162, 'T449': 4163, 'T467': 4164, 'M4846': 4165, 'S400': 4166, 'G902': 4167, 'M6645': 4168, 'Z9508': 4169, 'I453': 4170, 'S9130': 4171, 'E212': 4172, 'M8690': 4173, 'D464': 4174, 'T86811': 4175, 'S699': 4176, 'N144': 4177, 'S27510': 4178, 'T421': 4179, 'O99603': 4180, 'V586': 4181, 'I248': 4182, 'R847': 4183, 'T406': 4184, 'T130': 4185, 'E671': 4186, 'H698': 4187, 'Z451': 4188, 'J9503': 4189, 'F145': 4190, 'S8678': 4191, 'M6224': 4192, 'M7285': 4193, 'D231': 4194, 'B966': 4195, 'H690': 4196, 'L930': 4197, 'Y23': 4198, 'F331': 4199, 'F251': 4200, 'G441': 4201, 'R652': 4202, 'R931': 4203, 'C400': 4204, 'K404': 4205, 'M5385': 4206, 'H433': 4207, 'S52400': 4208, 'C060': 4209, 'S37900': 4210, 'V235': 4211, 'R448': 4212, 'C5019': 4213, 'E1368': 4214, 'A520': 4215, 'I688': 4216, 'S0101': 4217, 'V837': 4218, 'M6095': 4219, 'U99008': 4220, 'W2100': 4221, 'S5181': 4222, 'I339': 4223, 'Q675': 4224, 'M2333': 4225, 'K9140': 4226, 'Z452': 4227, 'M2332': 4228, 'D594': 4229, 'B169': 4230, 'M703': 4231, 'G465': 4232, 'H721': 4233, 'H744': 4234, 'X98': 4235, 'K253': 4236, 'H601': 4237, 'S92001': 4238, 'S92201': 4239, 'H179': 4240, 'S02601': 4241, 'H200': 4242, 'H608': 4243, 'H709': 4244, 'M8668': 4245, 'H271': 4246, 'W39': 4247, 'K614': 4248, 'M7920': 4249, 'S0448': 4250, 'S903': 4251, 'S978': 4252, 'M4792': 4253, 'D7580': 4254, 'Z8041': 4255, 'N021': 4256, 'K0702': 4257, 'M1008': 4258, 'N228': 4259, 'H023': 4260, 'U822': 4261, 'C680': 4262, 'V482': 4263, 'B027': 4264, 'V041': 4265, 'V296': 4266, 'S92901': 4267, 'V244': 4268, 'Y547': 4269, 'D487': 4270, 'N491': 4271, 'Q780': 4272, 'G98': 4273, 'K116': 4274, 'D77': 4275, 'M7111': 4276, 'M2586': 4277, 'S758': 4278, 'M8406': 4279, 'S8498': 4280, 'S2120': 4281, 'U99085': 4282, 'V923': 4283, 'S607': 4284, 'Q890': 4285, 'W12': 4286, 'F530': 4287, 'Y546': 4288, 'N142': 4289, 'S5640': 4290, 'R223': 4291, 'O99003': 4292, 'M315': 4293, 'M889': 4294, 'A083': 4295, 'Q438': 4296, 'A413': 4297, 'C4100': 4298, 'C431': 4299, 'D3614': 4300, 'S6688': 4301, 'M4854': 4302, 'E061': 4303, 'C311': 4304, 'H186': 4305, 'D734': 4306, 'K441': 4307, 'S62200': 4308, 'G478': 4309, 'D802': 4310, 'D804': 4311, 'M2423': 4312, 'Y430': 4313, 'N805': 4314, 'S02800': 4315, 'K132': 4316, 'W0508': 4317, 'J701': 4318, 'N486': 4319, 'Z428': 4320, 'W16': 4321, 'D839': 4322, 'L400': 4323, 'L408': 4324, 'M8414': 4325, 'D510': 4326, 'T271': 4327, 'D462': 4328, 'N909': 4329, 'H610': 4330, 'G378': 4331, 'M7983': 4332, 'S878': 4333, 'V8668': 4334, 'D849': 4335, 'S36100': 4336, 'L298': 4337, 'C068': 4338, 'L403': 4339, 'S2420': 4340, 'T098': 4341, 'L580': 4342, 'D612': 4343, 'T8469': 4344, 'M7915': 4345, 'R456': 4346, 'M8798': 4347, 'H906': 4348, 'S62691': 4349, 'S8329': 4350, 'S8688': 4351, 'M6155': 4352, 'Z516': 4353, 'Q665': 4354, 'M8666': 4355, 'D71': 4356, 'C33': 4357, 'H428': 4358, 'T852': 4359, 'D475': 4360, 'T782': 4361, 'S52701': 4362, 'Q898': 4363, 'S8670': 4364, 'Q764': 4365, 'S62601': 4366, 'M0091': 4367, 'L987': 4368, 'R230': 4369, 'S27610': 4370, 'K8080': 4371, 'M2563': 4372, 'M2564': 4373, 'M4195': 4374, 'T904': 4375, 'T8462': 4376, 'D315': 4377, 'N042': 4378, 'N4820': 4379, 'K620': 4380, 'Y793': 4381, 'M212': 4382, 'M7985': 4383, 'C916': 4384, 'M2362': 4385, 'H491': 4386, 'M6281': 4387, 'M8990': 4388, 'L280': 4389, 'Q783': 4390, 'K052': 4391, 'S5630': 4392, 'S6410': 4393, 'H839': 4394, 'Z201': 4395, 'S27600': 4396, 'S034': 4397, 'C380': 4398, 'S151': 4399, 'A850': 4400, 'V808': 4401, 'D132': 4402, 'S52301': 4403, 'M6252': 4404, 'S42110': 4405, 'Q394': 4406, 'U99033': 4407, 'G92': 4408, 'S27680': 4409, 'S42410': 4410, 'N031': 4411, 'Q872': 4412, 'M8505': 4413, 'D0590': 4414, 'M1226': 4415, 'B023': 4416, 'H588': 4417, 'E1033': 4418, 'G635': 4419, 'D599': 4420, 'T203': 4421, 'T241': 4422, 'T3130': 4423, 'X03': 4424, 'G4011': 4425, 'G468': 4426, 'H201': 4427, 'D0005': 4428, 'O71604': 4429, 'O72104': 4430, 'O98803': 4431, 'O99403': 4432, 'O99503': 4433, 'A029': 4434, 'S3428': 4435, 'N011': 4436, 'S9680': 4437, 'M4156': 4438, 'V536': 4439, 'M8790': 4440, 'I650': 4441, 'F153': 4442, 'Y742': 4443, 'S37390': 4444, 'W260': 4445, 'M8985': 4446, 'M7922': 4447, 'S1410': 4448, 'T853': 4449, 'S853': 4450, 'M6096': 4451, 'D355': 4452, 'K061': 4453, 'W5104': 4454, 'K719': 4455, 'Q688': 4456, 'E1132': 4457, 'R481': 4458, 'S881': 4459, 'Q070': 4460, 'S72411': 4461, 'T285': 4462, 'S8180': 4463, 'D331': 4464, 'T234': 4465, 'T3200': 4466, 'C457': 4467, 'L239': 4468, 'D166': 4469, 'Y712': 4470, 'W2205': 4471, 'D3611': 4472, 'K515': 4473, 'L561': 4474, 'S82601': 4475, 'S93001': 4476, 'M4722': 4477, 'V430': 4478, 'M7929': 4479, 'I749': 4480, 'N608': 4481, 'G972': 4482, 'K9288': 4483, 'G119': 4484, 'S6359': 4485, 'K717': 4486, 'S83000': 4487, 'Q774': 4488, 'M6258': 4489, 'G82420': 4490, 'I312': 4491, 'M632': 4492, 'M4312': 4493, 'M4852': 4494, 'F458': 4495, 'S43010': 4496, 'M8405': 4497, 'D3613': 4498, 'R838': 4499, 'M2595': 4500, 'N001': 4501, 'M8797': 4502, 'C383': 4503, 'S62800': 4504, 'T0251': 4505, 'D1800': 4506, 'Z434': 4507, 'Z488': 4508, 'M6205': 4509, 'V8608': 4510, 'K832': 4511, 'S054': 4512, 'B888': 4513, 'R460': 4514, 'S37800': 4515, 'S72201': 4516, 'T921': 4517, 'K051': 4518, 'Q767': 4519, 'C110': 4520, 'H309': 4521, 'S83190': 4522, 'N143': 4523, 'D0511': 4524, 'H058': 4525, 'Q603': 4526, 'W30': 4527, 'M4020': 4528, 'M4306': 4529, 'L578': 4530, 'G82311': 4531, 'S36610': 4532, 'S7100': 4533, 'I971': 4534, 'C724': 4535, 'G432': 4536, 'M7912': 4537, 'Z802': 4538, 'T849': 4539, 'Z466': 4540, 'I800': 4541, 'K130': 4542, 'Q239': 4543, 'C574': 4544, 'G968': 4545, 'F114': 4546, 'S3020': 4547, 'S62150': 4548, 'C168': 4549, 'C048': 4550, 'N992': 4551, 'Q256': 4552, 'C257': 4553, 'D227': 4554, 'S8191': 4555, 'E539': 4556, 'G008': 4557, 'O99203': 4558, 'F728': 4559, 'F932': 4560, 'L501': 4561, 'Z726': 4562, 'F203': 4563, 'F430': 4564, 'K117': 4565, 'F238': 4566, 'F439': 4567, 'G238': 4568, 'S800': 4569, 'M1383': 4570, 'Z8610': 4571, 'T220': 4572, 'X16': 4573, 'Z305': 4574, 'Q615': 4575, 'S5170': 4576, 'S801': 4577, 'S62140': 4578, 'E058': 4579, 'L233': 4580, 'T286': 4581, 'M6296': 4582, 'Z408': 4583, 'N908': 4584, 'C951': 4585, 'H505': 4586, 'H660': 4587, 'T465': 4588, 'M8436': 4589, 'I521': 4590, 'Z2250': 4591, 'Z809': 4592, 'K839': 4593, 'J359': 4594, 'M2576': 4595, 'D117': 4596, 'R455': 4597, 'D374': 4598, 'G732': 4599, 'M1186': 4600, 'T211': 4601, 'L982': 4602, 'G718': 4603, 'L235': 4604, 'j350': 4605, 'M8431': 4606, 'E859': 4607, 'K6431': 4608, 'R1032': 4609, 'N836': 4610, 'V199': 4611, 'Y551': 4612, 'K853': 4613, 'C5020': 4614, 'J4500': 4615, 'J703': 4616, 'T7800': 4617, 'G831': 4618, 'S62690': 4619, 'M8090': 4620, 'X71': 4621, 'M908': 4622, 'K460': 4623, 'M6255': 4624, 'S200': 4625, 'G14': 4626, 'F69': 4627, 'S500': 4628, 'F069': 4629, 'R229': 4630, 'F018': 4631, 'L659': 4632, 'E1035': 4633, 'H280': 4634, 'W2202': 4635, 'V193': 4636, 'L918': 4637, 'Y718': 4638, 'S7318': 4639, 'D692': 4640, 'C050': 4641, 'A599': 4642, 'N361': 4643, 'T911': 4644, 'D373': 4645, 'H904': 4646, 'L42': 4647, 'V939': 4648, 'M6097': 4649, 'M6597': 4650, 'E279': 4651, 'E881': 4652, 'H348': 4653, 'T86800': 4654, 'L818': 4655, 'R401': 4656, 'C12': 4657, 'M4799': 4658, 'C741': 4659, 'M2525': 4660, 'F920': 4661, 'S83510': 4662, 'V8698': 4663, 'M6782': 4664, 'H82': 4665, 'Q444': 4666, 'N979': 4667, 'S5428': 4668, 'Q513': 4669, 'I510': 4670, 'K911': 4671, 'Z934': 4672, 'J6790': 4673, 'Y419': 4674, 'Y560': 4675, 'M4647': 4676, 'S670': 4677, 'G630': 4678, 'B508': 4679, 'V470': 4680, 'W2204': 4681, 'E801': 4682, 'B850': 4683, 'C022': 4684, 'M8737': 4685, 'B250': 4686, 'J171': 4687, 'A428': 4688, 'W91': 4689, 'A561': 4690, 'N511': 4691, 'M911': 4692, 'G808': 4693, 'K0769': 4694, 'T930': 4695, 'L959': 4696, 'M0087': 4697, 'C820': 4698, 'H741': 4699, 'M4015': 4700, 'Y798': 4701, 'M4115': 4702, 'M6583': 4703, 'M8783': 4704, 'N4500': 4705, 'N4501': 4706, 'S62470': 4707, 'V245': 4708, 'S32301': 4709, 'S3900': 4710, 'S02900': 4711, 'H341': 4712, 'K778': 4713, 'N048': 4714, 'M8785': 4715, 'G803': 4716, 'Z924': 4717, 'Q220': 4718, 'Q221': 4719, 'Q222': 4720, 'H720': 4721, 'C218': 4722, 'B852': 4723, 'J014': 4724, 'S160': 4725, 'S36110': 4726, 'V489': 4727, 'A492': 4728, 'S330': 4729, 'Q204': 4730, 'Q258': 4731, 'S36040': 4732, 'V481': 4733, 'T463': 4734, 'B780': 4735, 'B810': 4736, 'V904': 4737, 'C540': 4738, 'T84035': 4739, 'S4630': 4740, 'T8451': 4741, 'M0023': 4742, 'S36691': 4743, 'L511': 4744, 'C902': 4745, 'Q079': 4746, 'C098': 4747, 'F708': 4748, 'J9581': 4749, 'D551': 4750, 'M359': 4751, 'X06': 4752, 'N603': 4753, 'L22': 4754, 'D538': 4755, 'M4187': 4756, 'E892': 4757, 'T86830': 4758, 'K284': 4759, 'N766': 4760, 'M2484': 4761, 'E748': 4762, 'F011': 4763, 'D763': 4764, 'E743': 4765, 'L040': 4766, 'E752': 4767, 'S1430': 4768, 'N051': 4769, 'S36690': 4770, 'V911': 4771, 'T802': 4772, 'E310': 4773, 'F510': 4774, 'S250': 4775, 'M5396': 4776, 'M4845': 4777, 'V487': 4778, 'C601': 4779, 'Z729': 4780, 'M6198': 4781, 'M8413': 4782, 'R770': 4783, 'M8725': 4784, 'S4100': 4785, 'I348': 4786, 'R498': 4787, 'D729': 4788, 'M8408': 4789, 'Q224': 4790, 'S52200': 4791, 'M2465': 4792, 'T231': 4793, 'X10': 4794, 'M7116': 4795, 'M238': 4796, 'E643': 4797, 'O71804': 4798, 'D691': 4799, 'M1316': 4800, 'Z448': 4801, 'M6712': 4802, 'H473': 4803, 'I725': 4804, 'T960': 4805, 'Y880': 4806, 'D103': 4807, 'T111': 4808, 'Z436': 4809, 'X02': 4810, 'V864': 4811, 'S855': 4812, 'S501': 4813, 'M6785': 4814, 'W14': 4815, 'R682': 4816, 'I774': 4817, 'T183': 4818, 'R292': 4819, 'I780': 4820, 'Q266': 4821, 'A199': 4822, 'L512': 4823, 'T806': 4824, 'S42481': 4825, 'Y752': 4826, 'K382': 4827, 'M2425': 4828, 'C080': 4829, 'L251': 4830, 'Z614': 4831, 'D448': 4832, 'C030': 4833, 'V139': 4834, 'Z873': 4835, 'H055': 4836, 'M2186': 4837, 'S36130': 4838, 'L028': 4839, 'Q758': 4840, 'Q748': 4841, 'A488': 4842, 'Q2731': 4843, 'C419': 4844, 'Z4500': 4845, 'J9502': 4846, 'C409': 4847, 'C530': 4848, 'D033': 4849, 'M068': 4850, 'M2463': 4851, 'N812': 4852, 'S509': 4853, 'S8190': 4854, 'D371': 4855, 'K294': 4856, 'M1317': 4857, 'T252': 4858, 'X11': 4859, 'H819': 4860, 'S0450': 4861, 'V434': 4862, 'S4420': 4863, 'M7954': 4864, 'X93': 4865, 'F515': 4866, 'M7958': 4867, 'G564': 4868, 'S92220': 4869, 'Q341': 4870, 'M9437': 4871, 'M1020': 4872, 'Y548': 4873, 'C822': 4874, 'T191': 4875, 'R599': 4876, 'S009': 4877, 'S36000': 4878, 'B171': 4879, 'D119': 4880, 'M6592': 4881, 'Q790': 4882, 'T274': 4883, 'M2443': 4884, 'V090': 4885, 'Y618': 4886, 'H445': 4887, 'M8093': 4888, 'I607': 4889, 'N509': 4890, 'E261': 4891, 'S1460': 4892, 'H031': 4893, 'G561': 4894, 'Z035': 4895, 'I715': 4896, 'Y455': 4897, 'C821': 4898, 'C700': 4899, 'S92200': 4900, 'D038': 4901, 'I511': 4902, 'M9421': 4903, 'D528': 4904, 'K279': 4905, 'S62221': 4906, 'V941': 4907, 'C835': 4908, 'F321': 4909, 'D0591': 4910, 'M6647': 4911, 'H261': 4912, 'H448': 4913, 'I479': 4914, 'V847': 4915, 'S381': 4916, 'T002': 4917, 'Z2258': 4918, 'G901': 4919, 'G360': 4920, 'L231': 4921, 'M1253': 4922, 'L121': 4923, 'E214': 4924, 'S63080': 4925, 'D282': 4926, 'S301': 4927, 'N644': 4928, 'Z636': 4929, 'W86': 4930, 'D032': 4931, 'T8420': 4932, 'M2517': 4933, 'T8455': 4934, 'C328': 4935, 'D226': 4936, 'S36780': 4937, 'E229': 4938, 'I515': 4939, 'S02421': 4940, 'Q030': 4941, 'S0480': 4942, 'S0910': 4943, 'M4800': 4944, 'D841': 4945, 'H522': 4946, 'B3781': 4947, 'C173': 4948, 'T86401': 4949, 'I452': 4950, 'S2110': 4951, 'S31110': 4952, 'W33': 4953, 'I258': 4954, 'G541': 4955, 'M4328': 4956, 'C313': 4957, 'H029': 4958, 'D530': 4959, 'N762': 4960, 'M0004': 4961, 'M8694': 4962, 'K069': 4963, 'Y813': 4964, 'S52580': 4965, 'S62410': 4966, 'S83191': 4967, 'M074': 4968, 'N017': 4969, 'S707': 4970, 'S62701': 4971, 'S650': 4972, 'R789': 4973, 'T16': 4974, 'A409': 4975, 'S6111': 4976, 'K742': 4977, 'K089': 4978, 'D107': 4979, 'Q313': 4980, 'D1801': 4981, 'Y422': 4982, 'N2883': 4983, 'N4821': 4984, 'Z567': 4985, 'Z597': 4986, 'K032': 4987, 'Y8430': 4988, 'F302': 4989, 'F660': 4990, 'M8955': 4991, 'W0905': 4992, 'Y722': 4993, 'M6268': 4994, 'N871': 4995, 'M8091': 4996, 'H653': 4997, 'Q658': 4998, 'G702': 4999, 'S6448': 5000, 'M2581': 5001, 'S3083': 5002, 'G8109': 5003, 'R879': 5004, 'G3101': 5005, 'Z920': 5006, 'L83': 5007, 'S7620': 5008, 'J353': 5009, 'K262': 5010, 'K522': 5011, 'X30': 5012, 'I260': 5013, 'Y441': 5014, 'S0458': 5015, 'C494': 5016, 'Z967': 5017, 'G527': 5018, 'S32701': 5019, 'R635': 5020, 'T401': 5021, 'Z098': 5022, 'C740': 5023, 'Y823': 5024, 'S37191': 5025, 'Q676': 5026, 'R262': 5027, 'I2388': 5028, 'H027': 5029, 'K712': 5030, 'F428': 5031, 'S1191': 5032, 'S27860': 5033, 'S62160': 5034, 'I512': 5035, 'Q261': 5036, 'E1430': 5037, 'R041': 5038, 'R231': 5039, 'C512': 5040, 'G032': 5041, 'H150': 5042, 'M508': 5043, 'U99062': 5044, 'B376': 5045, 'I398': 5046, 'I061': 5047, 'N750': 5048, 'S36500': 5049, 'X7409': 5050, 'M940': 5051, 'D330': 5052, 'Q602': 5053, 'M8788': 5054, 'M8685': 5055, 'B479': 5056, 'Q822': 5057, 'C940': 5058, 'P960': 5059, 'S82501': 5060, 'B977': 5061, 'D215': 5062, 'S9170': 5063, 'M8616': 5064, 'C148': 5065, 'D045': 5066, 'H105': 5067, 'S198': 5068, 'S4101': 5069, 'D133': 5070, 'C061': 5071, 'Y491': 5072, 'M7924': 5073, 'I369': 5074, 'M8699': 5075, 'E1462': 5076, 'M461': 5077, 'N911': 5078, 'Q784': 5079, 'Y480': 5080, 'F021': 5081, 'M4620': 5082, 'F202': 5083, 'G523': 5084, 'M8738': 5085, 'M509': 5086, 'C5080': 5087, 'S8608': 5088, 'T061': 5089, 'M912': 5090, 'D898': 5091, 'C631': 5092, 'S7110': 5093, 'M4314': 5094, 'K9161': 5095, 'Z968': 5096, 'O86004': 5097, 'O99204': 5098, 'O99604': 5099, 'O99704': 5100, 'M2454': 5101, 'Q969': 5102, 'E740': 5103, 'W24': 5104, 'R261': 5105, 'S231': 5106, 'G529': 5107, 'D550': 5108, 'E288': 5109, 'M1092': 5110, 'M1192': 5111, 'G900': 5112, 'J959': 5113, 'y433': 5114, 'Z831': 5115, 'L718': 5116, 'M8589': 5117, 'E1032': 5118, 'L119': 5119, 'L249': 5120, 'S43402': 5121, 'E328': 5122, 'N119': 5123, 'G522': 5124, 'O99009': 5125, 'S061': 5126, 'S081': 5127, 'S52501': 5128, 'M8647': 5129, 'O0811': 5130, 'W41': 5131, 'N991': 5132, 'B353': 5133, 'D223': 5134, 'C5041': 5135, 'G933': 5136, 'T221': 5137, 'T3111': 5138, 'S452': 5139, 'B976': 5140, 'D601': 5141, 'C418': 5142, 'K598': 5143, 'S030': 5144, 'D191': 5145, 'D291': 5146, 'S52020': 5147, 'C471': 5148, 'C473': 5149, 'I690': 5150, 'C059': 5151, 'D168': 5152, 'Q650': 5153, 'S52010': 5154, 'V8660': 5155, 'N478': 5156, 'Q6438': 5157, 'M821': 5158, 'M4157': 5159, 'D479': 5160, 'M0025': 5161, 'H801': 5162, 'S27811': 5163, 'M6246': 5164, 'N731': 5165, 'M4023': 5166, 'O22403': 5167, 'L530': 5168, 'M8404': 5169, 'S62511': 5170, 'A363': 5171, 'L950': 5172, 'N165': 5173, 'S4110': 5174, 'J4501': 5175, 'Q201': 5176, 'T859': 5177, 'T287': 5178, 'N040': 5179, 'N041': 5180, 'D434': 5181, 'S62610': 5182, 'U99040': 5183, 'D761': 5184, 'G058': 5185, 'M7932': 5186, 'X80': 5187, 'B582': 5188, 'G052': 5189, 'A028': 5190, 'D0007': 5191, 'N8350': 5192, 'T133': 5193, 'N485': 5194, 'S751': 5195, 'T8459': 5196, 'C5010': 5197, 'N711': 5198, 'K400': 5199, 'Q351': 5200, 'M7283': 5201, 'S3420': 5202, 'C5061': 5203, 'S0151': 5204, 'S02801': 5205, 'T180': 5206, 'M183': 5207, 'N362': 5208, 'M7956': 5209, 'S93100': 5210, 'A872': 5211, 'S5420': 5212, 'E722': 5213, 'O24804': 5214, 'O71504': 5215, 'O72004': 5216, 'M220': 5217, 'S27890': 5218, 'C158': 5219, 'M8611': 5220, 'N002': 5221, 'N032': 5222, 'Y847': 5223, 'H040': 5224, 'S27410': 5225, 'D1809': 5226, 'R3911': 5227, 'C549': 5228, 'C5701': 5229, 'S108': 5230, 'I612': 5231, 'C3481': 5232, 'M5386': 5233, 'K136': 5234, 'S101': 5235, 'M1313': 5236, 'M8442': 5237, 'M8992': 5238, 'M0027': 5239, 'M1005': 5240, 'Q605': 5241, 'M6748': 5242, 'M4727': 5243, 'D590': 5244, 'D37030': 5245, 'T388': 5246, 'M8506': 5247, 'C725': 5248, 'H403': 5249, 'W2102': 5250, 'A420': 5251, 'H259': 5252, 'R194': 5253, 'A514': 5254, 'H220': 5255, 'L208': 5256, 'S4400': 5257, 'C5700': 5258, 'N007': 5259, 'M4155': 5260, 'S52021': 5261, 'J038': 5262, 'G713': 5263, 'Q998': 5264, 'P229': 5265, 'F118': 5266, 'Y733': 5267, 'I235': 5268, 'P7880': 5269, 'S901': 5270, 'S971': 5271, 'Z033': 5272, 'S0111': 5273, 'E741': 5274, 'C318': 5275, 'S899': 5276, 'N4402': 5277, 'S02610': 5278, 'M4803': 5279, 'N009': 5280, 'N168': 5281, 'N413': 5282, 'S82821': 5283, 'Q200': 5284, 'C860': 5285, 'S497': 5286, 'N172': 5287, 'N0834': 5288, 'R491': 5289, 'Y426': 5290, 'H185': 5291, 'V124': 5292, 'S9341': 5293, 'S9348': 5294, 'Z423': 5295, 'Y518': 5296, 'F911': 5297, 'F070': 5298, 'C5031': 5299, 'O99303': 5300, 'e119': 5301, 'Z837': 5302, 'D034': 5303, 'Y638': 5304, 'T370': 5305, 'K119': 5306, 'I669': 5307, 'S62510': 5308, 'N859': 5309, 'Y411': 5310, 'T412': 5311, 'S4620': 5312, 'E8888': 5313, 'K716': 5314, 'L029': 5315, 'Z820': 5316, 'R937': 5317, 'C762': 5318, 'M8786': 5319, 'Y700': 5320, 'T438': 5321, 'M6008': 5322, 'M4840': 5323, 'H192': 5324, 'Q796': 5325, 'T501': 5326, 'X43': 5327, 'M4628': 5328, 'Y511': 5329, 'I731': 5330, 'M768': 5331, 'S8170': 5332, 'S8628': 5333, 'I250': 5334, 'K041': 5335, 'M8711': 5336, 'J343': 5337, 'K028': 5338, 'U999': 5339, 'S8320': 5340, 'Y535': 5341, 'S399': 5342, 'G82411': 5343, 'D201': 5344, 'G528': 5345, 'Q213': 5346, 'H4728': 5347, 'H5980': 5348, 'S02671': 5349, 'D432': 5350, 'Y822': 5351, 'M0093': 5352, 'S9690': 5353, 'F198': 5354, 'N512': 5355, 'Y407': 5356, 'E882': 5357, 'S581': 5358, 'S684': 5359, 'M653': 5360, 'Z468': 5361, 'S6368': 5362, 'S6480': 5363, 'K045': 5364, 'Q040': 5365, 'M961': 5366, 'M4025': 5367, 'N951': 5368, 'E8319': 5369, 'S42100': 5370, 'H268': 5371, 'N182': 5372, 'Q459': 5373, 'R636': 5374, 'M494': 5375, 'R063': 5376, 'G587': 5377, 'S63190': 5378, 'H831': 5379, 'L519': 5380, 'C966': 5381, 'M6589': 5382, 'S6680': 5383, 'M9486': 5384, 'M331': 5385, 'E561': 5386, 'Z825': 5387, 'T368': 5388, 'D862': 5389, 'S72101': 5390, 'D167': 5391, 'U99004': 5392, 'O88204': 5393, 'K0719': 5394, 'V092': 5395, 'S6358': 5396, 'Q654': 5397, 'I621': 5398, 'M4726': 5399, 'L301': 5400, 'M6256': 5401, 'S37200': 5402, 'T492': 5403, 'T478': 5404, 'M775': 5405, 'D808': 5406, 'J382': 5407, 'G4051': 5408, 'M2452': 5409, 'M339': 5410, 'D213': 5411, 'S62291': 5412, 'Z890': 5413, 'M2431': 5414, 'M5323': 5415, 'S92501': 5416, 'T86831': 5417, 'J068': 5418, 'N498': 5419, 'M4709': 5420, 'Z939': 5421, 'H110': 5422, 'S31801': 5423, 'A368': 5424, 'T926': 5425, 'L850': 5426, 'D044': 5427, 'E035': 5428, 'G474': 5429, 'T912': 5430, 'S6400': 5431, 'S6420': 5432, 'B178': 5433, 'G467': 5434, 'S5408': 5435, 'N161': 5436, 'Q255': 5437, 'M081': 5438, 'Z9488': 5439, 'L942': 5440, 'S37810': 5441, 'W0202': 5442, 'S36220': 5443, 'G508': 5444, 'E1363': 5445, 'Q310': 5446, 'F061': 5447, 'Z4508': 5448, 'G618': 5449, 'S252': 5450, 'S7418': 5451, 'K251': 5452, 'K113': 5453, 'D302': 5454, 'I862': 5455, 'I662': 5456, 'T8401': 5457, 'G512': 5458, 'E678': 5459, 'Y577': 5460, 'I342': 5461, 'M6248': 5462, 'Z526': 5463, 'Z528': 5464, 'M7115': 5465, 'Q355': 5466, 'E702': 5467, 'U99064': 5468, 'L983': 5469, 'O14904': 5470, 'O90404': 5471, 'M6099': 5472, 'Z739': 5473, 'Q244': 5474, 'V170': 5475, 'L253': 5476, 'Y599': 5477, 'D369': 5478, 'M0003': 5479, 'D572': 5480, 'M6796': 5481, 'M952': 5482, 'S62501': 5483, 'M4714': 5484, 'Y514': 5485, 'T836': 5486, 'S9172': 5487, 'S982': 5488, 'W28': 5489, 'S02440': 5490, 'S36011': 5491, 'Q838': 5492, 'E048': 5493, 'D042': 5494, 'S26880': 5495, 'Y611': 5496, 'S6170': 5497, 'R787': 5498, 'S8610': 5499, 'I232': 5500, 'S1420': 5501, 'O75884': 5502, 'Q740': 5503, 'S36991': 5504, 'S36200': 5505, 'H503': 5506, 'U993': 5507, 'M4645': 5508, 'J028': 5509, 'L210': 5510, 'S83130': 5511, 'C602': 5512, 'A180': 5513, 'M0110': 5514, 'S2180': 5515, 'V224': 5516, 'K055': 5517, 'C441': 5518, 'I058': 5519, 'I446': 5520, 'K048': 5521, 'U99074': 5522, 'C919': 5523, 'H355': 5524, 'F409': 5525, 'T080': 5526, 'W2203': 5527, 'V010': 5528, 'B392': 5529, 'T3121': 5530, 'M8437': 5531, 'C511': 5532, 'M205': 5533, 'F629': 5534, 'Z505': 5535, 'X67': 5536, 'G230': 5537, 'T474': 5538, 'S0190': 5539, 'M930': 5540, 'M4640': 5541, 'S42201': 5542, 'X94': 5543, 'J840': 5544, 'I660': 5545, 'V220': 5546, 'D0501': 5547, 'U99031': 5548, 'S32021': 5549, 'S32031': 5550, 'S36111': 5551, 'S398': 5552, 'S42401': 5553, 'O26804': 5554, 'N806': 5555, 'B369': 5556, 'U99086': 5557, 'V405': 5558, 'S936': 5559, 'I418': 5560, 'S27380': 5561, 'F199': 5562, 'J370': 5563, 'T86820': 5564, 'K053': 5565, 'D105': 5566, 'I060': 5567, 'E530': 5568, 'N733': 5569, 'T420': 5570, 'R457': 5571, 'L84': 5572, 'F172': 5573, 'S37411': 5574, 'J672': 5575, 'K010': 5576, 'M2554': 5577, 'N738': 5578, 'R868': 5579, 'N924': 5580, 'M0185': 5581, 'T7804': 5582, 'N645': 5583, 'S3088': 5584, 'O034': 5585, 'Q268': 5586, 'X09': 5587, 'K629': 5588, 'B359': 5589, 'G622': 5590, 'Z38000': 5591, 'H619': 5592, 'S408': 5593, 'G576': 5594, 'Q163': 5595, 'C151': 5596, 'Y454': 5597, 'S1468': 5598, 'S42490': 5599, 'T0121': 5600, 'D401': 5601, 'F909': 5602, 'V479': 5603, 'M6240': 5604, 'Q164': 5605, 'S9670': 5606, 'K753': 5607, 'K149': 5608, 'S333': 5609, 'Q240': 5610, 'H020': 5611, 'D100': 5612, 'S2191': 5613, 'F330': 5614, 'E790': 5615, 'L102': 5616, 'M4699': 5617, 'D483': 5618, 'N822': 5619, 'Q419': 5620, 'O14104': 5621, 'Y438': 5622, 'D3708': 5623, 'W15': 5624, 'S93311': 5625, 'S9600': 5626, 'D486': 5627, 'N857': 5628, 'K275': 5629, 'S6690': 5630, 'I972': 5631, 'O88803': 5632, 'M8900': 5633, 'M969': 5634, 'K833': 5635, 'W64': 5636, 'L293': 5637, 'E209': 5638, 'A048': 5639, 'M358': 5640, 'M4307': 5641, 'S53190': 5642, 'W73': 5643, 'N499': 5644, 'B199': 5645, 'Z848': 5646, 'C810': 5647, 'M2446': 5648, 'D477': 5649, 'M1120': 5650, 'M8987': 5651, 'S1181': 5652, 'S83180': 5653, 'E441': 5654, 'T173': 5655, 'G114': 5656, 'L508': 5657, 'S8600': 5658, 'S396': 5659, 'G82193': 5660, 'C543': 5661, 'Q798': 5662, 'B447': 5663, 'T409': 5664, 'Y821': 5665, 'S2448': 5666, 'M0085': 5667, 'S42391': 5668, 'S9688': 5669, 'Q161': 5670, 'K738': 5671, 'M0081': 5672, 'S8400': 5673, 'M1384': 5674, 'R683': 5675, 'S62411': 5676, 'N890': 5677, 'Y617': 5678, 'I605': 5679, 'M2541': 5680, 'M6287': 5681, 'K702': 5682, 'S5650': 5683, 'F119': 5684, 'Z136': 5685, 'C848': 5686, 'S9340': 5687, 'R633': 5688, 'N842': 5689, 'M8407': 5690, 'G711': 5691, 'Q626': 5692, 'A749': 5693, 'N765': 5694, 'L439': 5695, 'M1398': 5696, 'V931': 5697, 'F642': 5698, 'H358': 5699, 'S62570': 5700, 'I773': 5701, 'M8582': 5702, 'O20003': 5703, 'O21003': 5704, 'O22303': 5705, 'O99103': 5706, 'F481': 5707, 'B159': 5708, 'M753': 5709, 'M8791': 5710, 'V913': 5711, 'N370': 5712, 'J9610': 5713, 'D234': 5714, 'S0141': 5715, 'G568': 5716, 'H028': 5717, 'F989': 5718, 'M4022': 5719, 'S62370': 5720, 'M8792': 5721, 'M688': 5722, 'B952': 5723, 'V575': 5724, 'U991': 5725, 'S52091': 5726, 'R064': 5727, 'K938': 5728, 'V849': 5729, 'M2329': 5730, 'M2457': 5731, 'M4886': 5732, 'V781': 5733, 'I781': 5734, 'V587': 5735, 'I8708': 5736, 'S5171': 5737, 'S8171': 5738, 'T033': 5739, 'Q330': 5740, 'M8648': 5741, 'I2080': 5742, 'H525': 5743, 'S980': 5744, 'V593': 5745, 'H432': 5746, 'S37190': 5747, 'M1191': 5748, 'M1382': 5749, 'M6581': 5750, 'C5709': 5751, 'Q824': 5752, 'N770': 5753, 'G1222': 5754, 'S9120': 5755, 'U99010': 5756, 'M814': 5757, 'S6171': 5758, 'S550': 5759, 'Q646': 5760, 'G802': 5761, 'C131': 5762, 'C944': 5763, 'H602': 5764, 'Q172': 5765, 'T941': 5766, 'N649': 5767, 'Y406': 5768, 'G472': 5769, 'E1062': 5770, 'G82490': 5771, 'S52121': 5772, 'M6222': 5773, 'S31100': 5774, 'Q984': 5775, 'D314': 5776, 'M8710': 5777, 'K915': 5778, 'Z435': 5779, 'K314': 5780, 'Z563': 5781, 'N751': 5782, 'P080': 5783, 'O21103': 5784, 'T387': 5785, 'Z833': 5786, 'O008': 5787, 'G440': 5788, 'W0509': 5789, 'M1098': 5790, 'T460': 5791, 'H512': 5792, 'S8698': 5793, 'C761': 5794, 'D644': 5795, 'A1691': 5796, 'D598': 5797, 'Z418': 5798, 'A390': 5799, 'S7628': 5800, 'M060': 5801, 'M1196': 5802, 'M759': 5803, 'E511': 5804, 'W04': 5805, 'U99003': 5806, 'T357': 5807, 'D610': 5808, 'M722': 5809, 'C6210': 5810, 'Z478': 5811, 'I233': 5812, 'H042': 5813, 'K098': 5814, 'M2428': 5815, 'M4797': 5816, 'Q2030': 5817, 'R638': 5818, 'Y30': 5819, 'Z300': 5820, 'Z424': 5821, 'Q170': 5822, 'V335': 5823, 'O12004': 5824, 'O13004': 5825, 'S42420': 5826, 'K421': 5827, 'Z8648': 5828, 'H102': 5829, 'V8618': 5830, 'J989': 5831, 'M4836': 5832, 'J202': 5833, 'R760': 5834, 'R778': 5835, 'Y428': 5836, 'M1251': 5837, 'S6408': 5838, 'M4634': 5839, 'H048': 5840, 'D139': 5841, 'G038': 5842, 'A438': 5843, 'C838': 5844, 'S52401': 5845, 'F453': 5846, 'O92704': 5847, 'U99011': 5848, 'E1040': 5849, 'M6090': 5850, 'Y881': 5851, 'H749': 5852, 'S3021': 5853, 'S6379': 5854, 'K038': 5855, 'M1225': 5856, 'S31191': 5857, 'K599': 5858, 'L518': 5859, 'S42021': 5860, 'G940': 5861, 'C688': 5862, 'L729': 5863, 'K030': 5864, 'I675': 5865, 'D821': 5866, 'V576': 5867, 'M2322': 5868, 'M7981': 5869, 'Q632': 5870, 'K143': 5871, 'K834': 5872, 'H133': 5873, 'V099': 5874, 'F508': 5875, 'M8732': 5876, 'S52801': 5877, 'Q302': 5878, 'M2515': 5879, 'D002': 5880, 'K765': 5881, 'M8692': 5882, 'C548': 5883, 'H111': 5884, 'R942': 5885, 'T520': 5886, 'H406': 5887, 'S37011': 5888, 'S92101': 5889, 'H652': 5890, 'Z875': 5891, 'B588': 5892, 'S997': 5893, 'Z38010': 5894, 'M0092': 5895, 'Y27': 5896, 'V323': 5897, 'M6298': 5898, 'M4795': 5899, 'O69801': 5900, 'O99001': 5901, 'O99202': 5902, 'M0086': 5903, 'F813': 5904, 'T931': 5905, 'Y484': 5906, 'M6223': 5907, 'I370': 5908, 'T87028': 5909, 'Y33': 5910, 'G835': 5911, 'E1120': 5912, 'F129': 5913, 'F190': 5914, 'H932': 5915, 'A78': 5916, 'F149': 5917, 'M1314': 5918, 'H449': 5919, 'Z125': 5920, 'Q622': 5921, 'M0131': 5922, 'S9608': 5923, 'V275': 5924, 'G82421': 5925, 'Q452': 5926, 'D890': 5927, 'R900': 5928, 'S72421': 5929, 'S53130': 5930, 'S759': 5931, 'S52080': 5932, 'N088': 5933, 'Z043': 5934, 't831': 5935, 'S7400': 5936, 'T158': 5937, 'E713': 5938, 'E519': 5939, 'M8686': 5940, 'M5329': 5941, 'G412': 5942, 'C460': 5943, 'C4671': 5944, 'S4480': 5945, 'T981': 5946, 'Y449': 5947, 'T8424': 5948, 'S36131': 5949, 'M6747': 5950, 'M362': 5951, 'Q228': 5952, 'Q233': 5953, 'B970': 5954, 'C130': 5955, 'M4302': 5956, 'N734': 5957, 'E1323': 5958, 'S578': 5959, 'H814': 5960, 'M660': 5961, 'M0000': 5962, 'B440': 5963, 'S6360': 5964, 'Q620': 5965, 'Q381': 5966, 'Q386': 5967, 'O36531': 5968, 'O60301': 5969, 'O94': 5970, 'Q265': 5971, 'N080': 5972, 'J310': 5973, 'S36210': 5974, 'A378': 5975, 'Z823': 5976, 'T484': 5977, 'S31120': 5978, 'M8716': 5979, 'M2184': 5980, 'X75': 5981, 'F315': 5982, 'M2336': 5983, 'G908': 5984, 'M1027': 5985, 'M6726': 5986, 'J4580': 5987, 'K389': 5988, 'T423': 5989, 'D569': 5990, 'Z208': 5991, 'S36001': 5992, 'G542': 5993, 'D060': 5994, 'T042': 5995, 'K601': 5996, 'W2108': 5997, 'N4828': 5998, 'M2330': 5999, 'I070': 6000, 'N834': 6001, 'M888': 6002, 'R521': 6003, 'H664': 6004, 'K283': 6005, 'J399': 6006, 'K929': 6007, 'A609': 6008, 'Y068': 6009, 'Z549': 6010, 'E54': 6011, 'S62210': 6012, 'G040': 6013, 'Q057': 6014, 'Q185': 6015, 'S255': 6016, 'R700': 6017, 'M360': 6018, 'U99083': 6019, 'C472': 6020, 'M6788': 6021, 'M7955': 6022, 'H187': 6023, 'M1180': 6024, 'S600': 6025, 'T800': 6026, 'R412': 6027, 'M6516': 6028, 'C538': 6029, 'S8410': 6030, 'H477': 6031, 'C132': 6032, 'D596': 6033, 'K741': 6034, 'O26604': 6035, 'O72304': 6036, 'T803': 6037, 'Y650': 6038, 'T490': 6039, 'E1340': 6040, 'N340': 6041, 'K312': 6042, 'M058': 6043, 'A440': 6044, 'D3619': 6045, 'V545': 6046, 'M154': 6047, 'S655': 6048, 'C5050': 6049, 'W4500': 6050, 'Z315': 6051, 'M2445': 6052, 'T790': 6053, 'W5100': 6054, 'R442': 6055, 'M4119': 6056, 'N9950': 6057, 'A601': 6058, 'N018': 6059, 'I709': 6060, 'G4031': 6061, 'C632': 6062, 'M6029': 6063, 'E164': 6064, 'Z542': 6065, 'Y624': 6066, 'Y69': 6067, 'C720': 6068, 'F440': 6069, 'H832': 6070, 'Z9481': 6071, 'M4036': 6072, 'F480': 6073, 'H198': 6074, 'A560': 6075, 'M5324': 6076, 'L709': 6077, 'S36021': 6078, 'G578': 6079, 'Q393': 6080, 'Q728': 6081, 'S1428': 6082, 'J393': 6083, 'U99043': 6084, 'T650': 6085, 'M2521': 6086, 'S4680': 6087, 'D762': 6088, 'R829': 6089, 'I011': 6090, 'N949': 6091, 'D613': 6092, 'Z090': 6093, 'Q6432': 6094, 'D482': 6095, 'K229': 6096, 'Y532': 6097, 'E1461': 6098, 'M318': 6099, 'Z903': 6100, 'M7930': 6101, 'S36450': 6102, 'H499': 6103, 'M4713': 6104, 'Q773': 6105, 'M4622': 6106, 'T452': 6107, 'M2558': 6108, 'S1440': 6109, 'S72400': 6110, 'M162': 6111, 'H184': 6112, 'X79': 6113, 'D732': 6114, 'S36911': 6115, 'V915': 6116, 'Q391': 6117, 'N8352': 6118, 'O86404': 6119, 'K908': 6120, 'T380': 6121, 'C5011': 6122, 'C102': 6123, 'U99080': 6124, 'C041': 6125, 'C923': 6126, 'C319': 6127, 'V465': 6128, 'T86881': 6129, 'G000': 6130, 'V230': 6131, 'G452': 6132, 'G248': 6133, 'E1310': 6134, 'R856': 6135, 'M8997': 6136, 'H178': 6137, 'M1121': 6138, 'Q019': 6139, 'S6361': 6140, 'F150': 6141, 'M2502': 6142, 'O021': 6143, 'M1003': 6144, 'M8643': 6145, 'S8638': 6146, 'Y902': 6147, 'B360': 6148, 'F82': 6149, 'F340': 6150, 'M2559': 6151, 'L248': 6152, 'I788': 6153, 'M708': 6154, 'L303': 6155, 'O009': 6156, 'M5414': 6157, 'R876': 6158, 'L639': 6159, 'R100': 6160, 'L711': 6161, 'G969': 6162, 'A080': 6163, 'N872': 6164, 'G82122': 6165, 'M941': 6166, 'M8586': 6167, 'G736': 6168, 'T512': 6169, 'A1531': 6170, 'T8411': 6171, 'T8461': 6172, 'L0332': 6173, 'Q992': 6174, 'S599': 6175, 'Z541': 6176, 'F001': 6177, 'G301': 6178, 'M4725': 6179, 'V934': 6180, 'E1412': 6181, 'M2442': 6182, 'S52201': 6183, 'E1342': 6184, 'S37890': 6185, 'V8600': 6186, 'M4632': 6187, 'M6082': 6188, 'M0082': 6189, 'Z76807': 6190, 'O88203': 6191, 'H651': 6192, 'A072': 6193, 'D445': 6194, 'N079': 6195, 'S62201': 6196, 'T008': 6197, 'V437': 6198, 'Y576': 6199, 'V820': 6200, 'Z017': 6201, 'V380': 6202, 'G737': 6203, 'T444': 6204, 'D899': 6205, 'M9488': 6206, 'Q383': 6207, 'T792': 6208, 'S1348': 6209, 'Y751': 6210, 'H518': 6211, 'M2412': 6212, 'C166': 6213, 'S92221': 6214, 'Q442': 6215, 'M8082': 6216, 'S52190': 6217, 'D593': 6218, 'N930': 6219, 'D592': 6220, 'E638': 6221, 'E739': 6222, 'M089': 6223, 'Z558': 6224, 'S0131': 6225, 'S6660': 6226, 'S697': 6227, 'S37300': 6228, 'W0902': 6229, 'N901': 6230, 'G82112': 6231, 'F159': 6232, 'E631': 6233, 'Q777': 6234, 'V933': 6235, 'S031': 6236, 'S498': 6237, 'S63090': 6238, 'V942': 6239, 'B9781': 6240, 'B021': 6241, 'T8421': 6242, 'V172': 6243, 'T063': 6244, 'Y812': 6245, 'C827': 6246, 'S5410': 6247, 'M2450': 6248, 'S31121': 6249, 'O99504': 6250, 'Q928': 6251, 'Y468': 6252, 'Q250': 6253, 'V844': 6254, 'Y475': 6255, 'M1184': 6256, 'S62321': 6257, 'S634': 6258, 'M7263': 6259, 'K605': 6260, 'R761': 6261, 'T816': 6262, 'M2584': 6263, 'D169': 6264, 'X90': 6265, 'M5402': 6266, 'T901': 6267, 'G948': 6268, 'A071': 6269, 'M1037': 6270, 'D219': 6271, 'M1281': 6272, 'F600': 6273, 'Y652': 6274, 'D440': 6275, 'K2217': 6276, 'R908': 6277, 'T8450': 6278, 'Q271': 6279, 'M6215': 6280, 'Q043': 6281, 'N005': 6282, 'M2468': 6283, 'A530': 6284, 'M6290': 6285, 'S36390': 6286, 'T549': 6287, 'Q439': 6288, 'E618': 6289, 'S83581': 6290, 'V878': 6291, 'T0100': 6292, 'T542': 6293, 'C765': 6294, 'Q759': 6295, 'M8931': 6296, 'T938': 6297, 'M8693': 6298, 'T261': 6299, 'S199': 6300, 'A812': 6301, 'S92900': 6302, 'S52191': 6303, 'M8782': 6304, 'T290': 6305, 'T3134': 6306, 'B003': 6307, 'J301': 6308, 'M8567': 6309, 'V99': 6310, 'Q049': 6311, 'L252': 6312, 'M4649': 6313, 'B941': 6314, 'H722': 6315, 'S203': 6316, 'I636': 6317, 'R823': 6318, 'T413': 6319, 'K751': 6320, 'N038': 6321, 'E243': 6322, 'S983': 6323, 'S36891': 6324, 'Y828': 6325, 'F842': 6326, 'M2436': 6327, 'A329': 6328, 'Y421': 6329, 'D698': 6330, 'Q410': 6331, 'Q263': 6332, 'O049': 6333, 'R4680': 6334, 'T750': 6335, 'V174': 6336, 'S6369': 6337, 'L440': 6338, 'C138': 6339, 'E349': 6340, 'H911': 6341, 'C312': 6342, 'B09': 6343, 'B020': 6344, 'M1103': 6345, 'P351': 6346, 'M6227': 6347, 'M6254': 6348, 'R462': 6349, 'X54': 6350, 'V799': 6351, 'D046': 6352, 'O031': 6353, 'K252': 6354, 'S42900': 6355, 'M1399': 6356, 'H650': 6357, 'D035': 6358, 'M0080': 6359, 'A539': 6360, 'D442': 6361, 'A049': 6362, 'S36101': 6363, 'S62290': 6364, 'M8669': 6365, 'V189': 6366, 'M6200': 6367, 'd333': 6368, 'Z877': 6369, 'T833': 6370, 'Y762': 6371, 'V930': 6372, 'A181': 6373, 'A318': 6374, 'N330': 6375, 'Y580': 6376, 'Z9228': 6377, 'J949': 6378, 'T8741': 6379, 'S981': 6380, 'S350': 6381, 'G256': 6382, 'S299': 6383, 'S559': 6384, 'M6089': 6385, 'Z22301': 6386, 'M1385': 6387, 'T670': 6388, 'S552': 6389, 'S42111': 6390, 'S92211': 6391, 'B91': 6392, 'R828': 6393, 'S26890': 6394, 'M4652': 6395, 'S232': 6396, 'V294': 6397, 'V786': 6398, 'G430': 6399, 'N303': 6400, 'O23003': 6401, 'I528': 6402, 'T284': 6403, 'U99037': 6404, 'C753': 6405, 'O99803': 6406, 'F230': 6407, 'S132': 6408, 'S3460': 6409, 'M7288': 6410, 'M4014': 6411, 'S62400': 6412, 'A179': 6413, 'T392': 6414, 'T483': 6415, 'k573': 6416, 'X73': 6417, 'L550': 6418, 'L551': 6419, 'S859': 6420, 'A010': 6421, 'F88': 6422, 'J929': 6423, 'V144': 6424, 'T448': 6425, 'S53120': 6426, 'R227': 6427, 'M0020': 6428, 'Y750': 6429, 'V635': 6430, 'Q891': 6431, 'T929': 6432, 'M6598': 6433, 'Q010': 6434, 'H019': 6435, 'C913': 6436, 'T0241': 6437, 'T983': 6438, 'Y883': 6439, 'B80': 6440, 'K461': 6441, 'S27580': 6442, 'U99079': 6443, 'K744': 6444, 'C224': 6445, 'G09': 6446, 'X12': 6447, 'S234': 6448, 'S335': 6449, 'M922': 6450, 'D0008': 6451, 'S097': 6452, 'M361': 6453, 'V790': 6454, 'X82': 6455, 'M1387': 6456, 'U99018': 6457, 'S63180': 6458, 'B189': 6459, 'Q068': 6460, 'Q212': 6461, 'Q238': 6462, 'T065': 6463, 'L048': 6464, 'D0002': 6465, 'M4190': 6466, 'T919': 6467, 'W69': 6468, 'G82390': 6469, 'H118': 6470, 'R196': 6471, 'O056': 6472, 'O0813': 6473, 'E723': 6474, 'V947': 6475, 'S52110': 6476, 'T364': 6477, 'L605': 6478, 'E874': 6479, 'S837': 6480, 'D24': 6481, 'B011': 6482, 'S63000': 6483, 'D803': 6484, 'A838': 6485, 'M6744': 6486, 'N900': 6487, 'M6283': 6488, 'R821': 6489, 'B981': 6490, 'Y904': 6491, 'C381': 6492, 'N027': 6493, 'F918': 6494, 'Z618': 6495, 'F639': 6496, 'F791': 6497, 'Y573': 6498, 'F711': 6499, 'H264': 6500, 'T470': 6501, 'B059': 6502, 'K111': 6503, 'R659': 6504, 'R480': 6505, 'M6259': 6506, 'T819': 6507, 'M2561': 6508, 'F137': 6509, 'F139': 6510, 'T0130': 6511, 'K046': 6512, 'L0336': 6513, 'D329': 6514, 'M239': 6515, 'M4813': 6516, 'Z251': 6517, 'Z489': 6518, 'M2339': 6519, 'M4819': 6520, 'S52081': 6521, 'G533': 6522, 'M0286': 6523, 'M6797': 6524, 'B303': 6525, 'V890': 6526, 'G82211': 6527, 'L404': 6528, 'T507': 6529, 'Q7620': 6530, 'M340': 6531, 'M0280': 6532, 'S72091': 6533, 'I234': 6534, 'H043': 6535, 'M352': 6536, 'M4897': 6537, 'E1370': 6538, 'M815': 6539, 'M8983': 6540, 'Y780': 6541, 'S36451': 6542, 'B971': 6543, 'M1185': 6544, 'G571': 6545, 'J691': 6546, 'S2438': 6547, 'C701': 6548, 'G631': 6549, 'T0160': 6550, 'C690': 6551, 'E568': 6552, 'Z005': 6553, 'E440': 6554, 'D076': 6555, 'M8952': 6556, 'M1386': 6557, 'S63100': 6558, 'D360': 6559, 'Z271': 6560, 'S92701': 6561, 'S035': 6562, 'G609': 6563, 'M7995': 6564, 'M308': 6565, 'N609': 6566, 'S43001': 6567, 'V580': 6568, 'J303': 6569, 'F527': 6570, 'Y612': 6571, 'N057': 6572, 'M8566': 6573, 'M214': 6574, 'T091': 6575, 'T932': 6576, 'M1193': 6577, 'Q851': 6578, 'M519': 6579, 'T048': 6580, 'Q264': 6581, 'L981': 6582, 'G570': 6583, 'C5021': 6584, 'L700': 6585, 'M1034': 6586, 'M6633': 6587, 'M8703': 6588, 'T135': 6589, 'M8446': 6590, 'T86810': 6591, 'Q208': 6592, 'T924': 6593, 'Q5568': 6594, 'M7980': 6595, 'O23403': 6596, 'O34203': 6597, 'P140': 6598, 'O13003': 6599, 'O26803': 6600, 'S02621': 6601, 'T86000': 6602, 'N899': 6603, 'D353': 6604, 'M6513': 6605, 'R464': 6606, 'S757': 6607, 'S37901': 6608, 'H044': 6609, 'H940': 6610, 'Q604': 6611, 'H252': 6612, 'Y350': 6613, 'D101': 6614, 'Y655': 6615, 'W56': 6616, 'M8996': 6617, 'R749': 6618, 'T982': 6619, 'M7917': 6620, 'M2183': 6621, 'K9160': 6622, 'Z467': 6623, 'F638': 6624, 'H161': 6625, 'K8081': 6626, 'M1190': 6627, 'D013': 6628, 'G130': 6629, 'S3438': 6630, 'H063': 6631, 'G4000': 6632, 'R779': 6633, 'R293': 6634, 'D211': 6635, 'I00': 6636, 'G909': 6637, 'T539': 6638, 'X68': 6639, 'N818': 6640, 'A021': 6641, 'O0820': 6642, 'N050': 6643, 'Y554': 6644, 'M4850': 6645, 'G471': 6646, 'M0290': 6647, 'C459': 6648, 'D582': 6649, 'T497': 6650, 'G210': 6651, 'M6094': 6652, 'M7927': 6653, 'V498': 6654, 'M0084': 6655, 'T233': 6656, 'X1500': 6657, 'M6528': 6658, 'N171': 6659, 'S9428': 6660, 'T480': 6661, 'Y555': 6662, 'Z503': 6663, 'M4152': 6664, 'B375': 6665, 'E1038': 6666, 'L042': 6667, 'O24803': 6668, 'I072': 6669, 'S450': 6670, 'K434': 6671, 'I411': 6672, 'M6084': 6673, 'Q823': 6674, 'G558': 6675, 'V745': 6676, 'N118': 6677, 'Q206': 6678, 'M4639': 6679, 'M2587': 6680, 'M4899': 6681, 'Q741': 6682, 'Z749': 6683, 'D563': 6684, 'L743': 6685, 'M6714': 6686, 'O24809': 6687, 'Y34': 6688, 'Z523': 6689, 'M2407': 6690, 'L590': 6691, 'M7923': 6692, 'T335': 6693, 'T338': 6694, 'Q189': 6695, 'M2453': 6696, 'D892': 6697, 'M7998': 6698, 'M6586': 6699, 'V899': 6700, 'H319': 6701, 'C006': 6702, 'Q078': 6703, 'Z089': 6704, 'D074': 6705, 'O10004': 6706, 'T458': 6707, 'F514': 6708, 'S088': 6709, 'E786': 6710, 'S36600': 6711, 'X51': 6712, 'H138': 6713, 'S7410': 6714, 'S62101': 6715, 'N4502': 6716, 'C716': 6717, 'M9425': 6718, 'S689': 6719, 'M6716': 6720, 'O16004': 6721, 'M0011': 6722, 'M0012': 6723, 'M0013': 6724, 'M0016': 6725, 'U829': 6726, 'U831': 6727, 'M6657': 6728, 'F648': 6729, 'N4849': 6730, 'D070': 6731, 'G531': 6732, 'J312': 6733, 'S307': 6734, 'I670': 6735, 'Q272': 6736, 'C178': 6737, 'J060': 6738, 'C448': 6739, 'Y730': 6740, 'C091': 6741, 'L985': 6742, 'K820': 6743, 'C089': 6744, 'C750': 6745, 'M2568': 6746, 'Z76805': 6747, 'C090': 6748, 'M5415': 6749, 'G443': 6750, 'E168': 6751, 'K257': 6752, 'F064': 6753, 'R36': 6754, 'R430': 6755, 'Z832': 6756, 'G82510': 6757, 'S37021': 6758, 'S4638': 6759, 'M1032': 6760, 'M1036': 6761, 'D400': 6762, 'F801': 6763, 'S5628': 6764, 'G121': 6765, 'B968': 6766, 'T4021': 6767, 'T4022': 6768, 'K281': 6769, 'K594': 6770, 'M8096': 6771, 'Y4502': 6772, 'Y4509': 6773, 'A4021': 6774, 'A418': 6775, 'B9521': 6776, 'M8958': 6777, 'Y590': 6778, 'N0832': 6779, 'M6080': 6780, 'M1127': 6781, 'T839': 6782, 'I470': 6783, 'M8715': 6784, 'T4020': 6785, 'Y598': 6786, 'S9498': 6787, 'Q670': 6788, 'G943': 6789, 'Y4503': 6790, 'Q2058': 6791, 'Y4506': 6792, 'A4020': 6793, 'K256': 6794, 'T84045': 6795, 'G712': 6796, 'T159': 6797, 'F454': 6798, 'Y4501': 6799, 'Z38100': 6800, 'Z5181': 6801, 'M1095': 6802, 'M8097': 6803, 'R799': 6804, 'Z480': 6805, 'V943': 6806, 'X72': 6807, 'Q677': 6808, 'E788': 6809, 'K0882': 6810, 'R92': 6811, 'G82213': 6812, 'P700': 6813, 'M4630': 6814, 'I889': 6815, 'U99087': 6816, 'M701': 6817, 'Q743': 6818, 'L138': 6819, 'Q521': 6820, 'Y723': 6821, 'T141': 6822, 'E721': 6823, 'M7935': 6824, 'G501': 6825, 'M1389': 6826, 'U839': 6827, 'Q336': 6828, 'S42491': 6829, 'Q642': 6830, 'T8458': 6831, 'S32401': 6832, 'S858': 6833, 'T86821': 6834, 'Z525': 6835, 'Q6218': 6836, 'S12900': 6837, 'D214': 6838, 'N490': 6839, 'M6261': 6840, 'Q935': 6841, 'Q742': 6842, 'L438': 6843, 'T445': 6844, 'M4893': 6845, 'Y425': 6846, 'Y4504': 6847, 'Z76804': 6848, 'S140': 6849, 'T291': 6850, 'B883': 6851, 'H308': 6852, 'L418': 6853, 'R492': 6854, 'S8620': 6855, 'T4028': 6856, 'O044': 6857, 'I378': 6858, 'Y760': 6859, 'S36031': 6860, 'D334': 6861, 'O26801': 6862, 'O60101': 6863, 'O98701': 6864, 'Z37100': 6865, 'M5399': 6866, 'H059': 6867, 'G232': 6868, 'N008': 6869, 'G461': 6870, 'S9111': 6871, 'M9327': 6872, 'S83111': 6873, 'H104': 6874, 'D239': 6875, 'S42430': 6876, 'S02481': 6877, 'S02891': 6878, 'B678': 6879, 'K770': 6880, 'B343': 6881, 'M8727': 6882, 'T3123': 6883, 'W85': 6884, 'S6350': 6885, 'M8664': 6886, 'T07': 6887, 'M6196': 6888, 'S36591': 6889, 'Q253': 6890, 'N058': 6891, 'N061': 6892, 'F531': 6893, 'M2591': 6894, 'N895': 6895, 'L244': 6896, 'X472': 6897, 'T0231': 6898, 'k610': 6899, 'S83481': 6900, 'H731': 6901, 'C498': 6902, 'D220': 6903, 'M4656': 6904, 'R003': 6905, 'X673': 6906, 'S31101': 6907, 'S0121': 6908, 'Y26': 6909, 'L608': 6910, 'F179': 6911, 'W5105': 6912, 'G82023': 6913, 'M4159': 6914, 'N081': 6915, 'S5610': 6916, 'S6470': 6917, 'S6620': 6918, 'L139': 6919, 'M4637': 6920, 'Y4505': 6921, 'A64': 6922, 'Z738': 6923, 'F144': 6924, 'T829': 6925, 'M8637': 6926, 'M2418': 6927, 'Z359': 6928, 'Z3588': 6929, 'K270': 6930, 'M765': 6931, 'E701': 6932, 'B9520': 6933, 'Z600': 6934, 'H219': 6935, 'M4694': 6936, 'S4698': 6937, 'I4901': 6938, 'C000': 6939, 'F501': 6940, 'S5680': 6941, 'V809': 6942, 'T264': 6943, 'D0006': 6944, 'T260': 6945, 'T272': 6946, 'Y614': 6947, 'M1029': 6948, 'B084': 6949, 'S658': 6950, 'E032': 6951, 'X672': 6952, 'M6584': 6953, 'Y758': 6954, 'M771': 6955, 'V694': 6956, 'M8058': 6957, 'M6195': 6958, 'H335': 6959, 'A41': 6960, 'M8547': 6961, 'F301': 6962, 'Z029': 6963, 'Z4502': 6964, 'Y845': 6965, 'M4832': 6966, 'r190': 6967, 'D823': 6968, 'T675': 6969, 'W92': 6970, 'S5670': 6971, 'E069': 6972, 'N5010': 6973, 'K662': 6974, 'Y710': 6975, 'Y079': 6976, 'M6637': 6977, 'S558': 6978, 'X81': 6979, 'B485': 6980, 'G466': 6981, 'T55': 6982, 'S63010': 6983, 'O68003': 6984, 'O75203': 6985, 'O75883': 6986, 'N810': 6987, 'G254': 6988, 'S37030': 6989, 'F649': 6990, 'T4041': 6991, 'E291': 6992, 'D3615': 6993, 'S43020': 6994, 'Y731': 6995, 'S870': 6996, 'B3782': 6997, 'C928': 6998, 'C024': 6999, 'Y562': 7000, 'A1621': 7001, 'M2424': 7002, 'M9435': 7003, 'L531': 7004, 'S82700': 7005, 'M4842': 7006, 'M4855': 7007, 'S4410': 7008, 'S453': 7009, 'O86804': 7010, 'S02811': 7011, 'C768': 7012, 'Z735': 7013, 'H579': 7014, 'V385': 7015, 'Z724': 7016, 'S83400': 7017, 'S9420': 7018, 'E1438': 7019, 'M2495': 7020, 'S9171': 7021, 'T038': 7022, 'T4023': 7023, 'F124': 7024, 'V420': 7025, 'G580': 7026, 'A1521': 7027, 'A188': 7028, 'O25003': 7029, 'O26603': 7030, 'O98003': 7031, 'm1281': 7032, 'O91204': 7033, 'M222': 7034, 'M6266': 7035, 'G572': 7036, 'Q388': 7037, 'Z728': 7038, 'V493': 7039, 'Y791': 7040, 'M8561': 7041, 'L949': 7042, 'A151': 7043, 'D806': 7044, 'M2596': 7045, 'Y649': 7046, 'M2335': 7047, 'B870': 7048, 'T740': 7049, 'Y061': 7050, 'A319': 7051, 'S5349': 7052, 'W76': 7053, 'S37410': 7054, 'F99': 7055, 'Z586': 7056, 'M8425': 7057, 'P073': 7058, 'Q549': 7059, 'E215': 7060, 'O43201': 7061, 'S435': 7062, 'V293': 7063, 'Z4180': 7064, 'S340': 7065, 'M6588': 7066, 'V682': 7067, 'V891': 7068, 'S93300': 7069, 'H530': 7070, 'V686': 7071, 'M8558': 7072, 'N0831': 7073, 'S657': 7074, 'M8980': 7075, 'X674': 7076, 'N891': 7077, 'H600': 7078, 'F700': 7079, 'Z438': 7080, 'T375': 7081, 'M6085': 7082, 'H025': 7083, 'T915': 7084, 'Z431': 7085, 'I829': 7086, 'Q395': 7087, 'T3133': 7088, 'N158': 7089, 'M8584': 7090, 'M088': 7091, 'H519': 7092, 'W3408': 7093, 'H049': 7094, 'Z291': 7095, 'L900': 7096, 'U8228': 7097, 'A888': 7098, 'A809': 7099, 'B450': 7100, 'M810': 7101, 'M2582': 7102, 'A690': 7103, 'F422': 7104, 'X470': 7105, 'S72701': 7106, 'A158': 7107, 'M8991': 7108, 'D893': 7109, 'M8982': 7110, 'Z531': 7111, 'K092': 7112, 'K100': 7113, 'T3188': 7114, 'M4894': 7115, 'E055': 7116, 'T504': 7117, 'M0296': 7118, 'S5400': 7119, 'N804': 7120, 'S7630': 7121, 'M8794': 7122, 'M6088': 7123, 'N906': 7124, 'M818': 7125, 'Z714': 7126, 'E839': 7127, 'S7488': 7128, 'R855': 7129, 'S5418': 7130, 'T3185': 7131, 'Y355': 7132, 'F841': 7133, 'E237': 7134, 'S83490': 7135, 'H922': 7136, 'W52': 7137, 'M6009': 7138, 'T139': 7139, 'E725': 7140, 'J620': 7141, 'C962': 7142, 'S2170': 7143, 'L998': 7144, 'M164': 7145, 'H661': 7146, 'S9490': 7147, 'M7264': 7148, 'T454': 7149, 'T951': 7150, 'T952': 7151, 'S9101': 7152, 'M6098': 7153, 'Q531': 7154, 'T935': 7155, 'M8968': 7156, 'Q214': 7157, 'M2462': 7158, 'C759': 7159, 'M4715': 7160, 'S3448': 7161, 'M091': 7162, 'M8048': 7163, 'G320': 7164, 'Z126': 7165, 'N893': 7166, 'S37811': 7167, 'S37001': 7168, 'I078': 7169, 'W0502': 7170, 'M2534': 7171, 'U99015': 7172, 'S4438': 7173, 'C039': 7174, 'T0221': 7175, 'Y508': 7176, 'Q398': 7177, 'C488': 7178, 'M4801': 7179, 'V579': 7180, 'K050': 7181, 'J708': 7182, 'M6158': 7183, 'S02901': 7184, 'S557': 7185, 'S5678': 7186, 'T8405': 7187, 'T86840': 7188, 'S36400': 7189, 'Z891': 7190, 'T0280': 7191, 'W0408': 7192, 'D106': 7193, 'M8422': 7194, 'H442': 7195, 'K271': 7196, 'C968': 7197, 'F078': 7198, 'T8402': 7199, 'M8613': 7200, 'M2447': 7201, 'Q309': 7202, 'L129': 7203, 'S31131': 7204, 'S83120': 7205, 'T3120': 7206, 'W89': 7207, 'A449': 7208, 'J042': 7209, 'M8432': 7210, 'S1413': 7211, 'S136': 7212, 'M6295': 7213, 'V8690': 7214, 'D281': 7215, 'C677': 7216, 'Z76802': 7217, 'O019': 7218, 'Y631': 7219, 'C922': 7220, 'A1690': 7221, 'S7171': 7222, 'B789': 7223, 'D385': 7224, 'Z519': 7225, 'L281': 7226, 'K2216': 7227, 'E329': 7228, 'U832': 7229, 'M1187': 7230, 'M8684': 7231, 'M6001': 7232, 'Y356': 7233, 'S598': 7234, 'V375': 7235, 'B89': 7236, 'V887': 7237, 'M8981': 7238, 'T883': 7239, 'E140': 7240, 'Q529': 7241, 'R771': 7242, 'J178': 7243, 'C475': 7244, 'Z513': 7245, 'Y635': 7246, 'T0220': 7247, 'G532': 7248, 'M2157': 7249, 'Q6418': 7250, 'N035': 7251, 'C542': 7252, 'V843': 7253, 'S27390': 7254, 'Z9669': 7255, 'S056': 7256, 'D109': 7257, 'D449': 7258, 'S570': 7259, 'Z619': 7260, 'M8564': 7261, 'T702': 7262, 'V581': 7263, 'F489': 7264, 'R5609': 7265, 'T939': 7266, 'B350': 7267, 'K919': 7268, 'C403': 7269, 'D739': 7270, 'F171': 7271, 'Q246': 7272, 'N110': 7273, 'Z736': 7274, 'S36910': 7275, 'F229': 7276, 'N489': 7277, 'T8762': 7278, 'S5648': 7279, 'N642': 7280, 'L043': 7281, 'C382': 7282, 'Z087': 7283, 'Q218': 7284, 'F661': 7285, 'K669': 7286, 'Z046': 7287, 'A527': 7288, 'Y364': 7289, 'Z409': 7290, 'M203': 7291, 'D383': 7292, 'Z094': 7293, 'V289': 7294, 'T148': 7295, 'M6125': 7296, 'T738': 7297, 'X57': 7298, 'M906': 7299, 'S37020': 7300, 'I091': 7301, 'S31701': 7302, 'F659': 7303, 'S52581': 7304, 'V480': 7305, 'V867': 7306, 'H158': 7307, 'S12101': 7308, 'H523': 7309, 'H180': 7310, 'M2444': 7311, 'L814': 7312, 'S1121': 7313, 'M7248': 7314, 'C577': 7315, 'S93101': 7316, 'S2100': 7317, 'C689': 7318, 'S459': 7319, 'T360': 7320, 'T378': 7321, 'S62120': 7322, 'M2562': 7323, 'S4618': 7324, 'S72081': 7325, 'T3153': 7326, 'H100': 7327, 'Q280': 7328, 'B308': 7329, 'H130': 7330, 'G544': 7331, 'Q181': 7332, 'Z734': 7333, 'F154': 7334, 'M1289': 7335, 'W0402': 7336, 'M8008': 7337, 'S532': 7338, 'O23503': 7339, 'Y639': 7340, 'L908': 7341, 'G243': 7342, 'D036': 7343, 'L011': 7344, 'M1380': 7345, 'S907': 7346, 'S37391': 7347, 'S7428': 7348, 'E610': 7349, 'V281': 7350, 'V205': 7351, 'V483': 7352, 'M8502': 7353, 'C118': 7354, 'R836': 7355, 'V546': 7356, 'P2918': 7357, 'H535': 7358, 'P390': 7359, 'Z298': 7360, 'E708': 7361, 'M8610': 7362, 'M958': 7363, 'S62391': 7364, 'X01': 7365, 'C6211': 7366, 'V693': 7367, 'S62491': 7368, 'T4048': 7369, 'D222': 7370, 'J954': 7371, 'G460': 7372, 'S0400': 7373, 'I988': 7374, 'O15204': 7375, 'O87104': 7376, 'O90204': 7377, 'W0901': 7378, 'S36181': 7379, 'T190': 7380, 'T3145': 7381, 'S36290': 7382, 'S612': 7383, 'S62111': 7384, 'S62471': 7385, 'K310': 7386, 'S36420': 7387, 'T7805': 7388, 'H119': 7389, 'H439': 7390, 'X670': 7391, 'M8787': 7392, 'L852': 7393, 'E660': 7394, 'L1080': 7395, 'A541': 7396, 'M0136': 7397, 'B690': 7398, 'G998': 7399, 'O88301': 7400, 'O98401': 7401, 'O98801': 7402, 'O99301': 7403, 'O99601': 7404, 'Z221': 7405, 'E1320': 7406, 'N369': 7407, 'G82121': 7408, 'J157': 7409, 'G830': 7410, 'M8681': 7411, 'M2448': 7412, 'V455': 7413, 'D380': 7414, 'H958': 7415, 'V214': 7416, 'I682': 7417, 'M9496': 7418, 'Q069': 7419, 'M8581': 7420, 'S53100': 7421, 'T3199': 7422, 'T4040': 7423, 'Q138': 7424, 'F812': 7425, 'S889': 7426, 'X678': 7427, 'M4782': 7428, 'C862': 7429, 'D531': 7430, 'Y653': 7431, 'M6229': 7432, 'L738': 7433, 'M6242': 7434, 'J4511': 7435, 'M6721': 7436, 'S3082': 7437, 'M363': 7438, 'D824': 7439, 'S36391': 7440, 'W0405': 7441, 'Y481': 7442, 'T0290': 7443, 'J953': 7444, 'O21903': 7445, 'S984': 7446, 'S22501': 7447, 'S4181': 7448, 'S457': 7449, 'Y22': 7450, 'M2593': 7451, 'D749': 7452, 'C946': 7453, 'C301': 7454, 'M904': 7455, 'L904': 7456, 'Y01': 7457, 'I408': 7458, 'S22801': 7459, 'Q399': 7460, 'C531': 7461, 'A5486': 7462, 'K710': 7463, 'F152': 7464, 'M1283': 7465, 'M5383': 7466, 'H301': 7467, 'E1341': 7468, 'N078': 7469, 'P071': 7470, 'P072': 7471, 'P220': 7472, 'P704': 7473, 'P819': 7474, 'Z38310': 7475, 'A431': 7476, 'H508': 7477, 'C113': 7478, 'D354': 7479, 'M4848': 7480, 'M076': 7481, 'S27700': 7482, 'W0404': 7483, 'M8587': 7484, 'O033': 7485, 'O0802': 7486, 'K276': 7487, 'M2461': 7488, 'A394': 7489, 'M4643': 7490, 'G509': 7491, 'Z805': 7492, 'X92': 7493, 'O12101': 7494, 'O30001': 7495, 'O68101': 7496, 'O75402': 7497, 'Q451': 7498, 'Q558': 7499, 'C709': 7500, 'M8401': 7501, 'S42221': 7502, 'H208': 7503, 'Z76800': 7504, 'H357': 7505, 'B487': 7506, 'A369': 7507, 'K752': 7508, 'M7939': 7509, 'F633': 7510, 'Q809': 7511, 'F338': 7512, 'V645': 7513, 'F158': 7514, 'A544': 7515, 'M0135': 7516, 'S473': 7517, 'M9906': 7518, 'M8984': 7519, 'G719': 7520, 'C268': 7521, 'D595': 7522, 'T3189': 7523, 'L649': 7524, 'I516': 7525, 'O43813': 7526, 'T361': 7527, 'T882': 7528, 'S62190': 7529, 'Q2032': 7530, 'T0181': 7531, 'W53': 7532, 'M709': 7533, 'Y447': 7534, 'S36421': 7535, 'U072': 7536, 'Z115': 7537, 'D518': 7538, 'H739': 7539, 'Y602': 7540, 'U847': 7541, 'T170': 7542, 'W5109': 7543, 'U99025': 7544, 'Z041': 7545, 'O0880': 7546, 'S02441': 7547, 'B878': 7548, 'H510': 7549, 'P615': 7550, 'O71704': 7551, 'S2111': 7552, 'C052': 7553, 'Y95': 7554, 'E711': 7555, 'Y424': 7556, 'W0406': 7557, 'G723': 7558, 'D384': 7559, 'S52011': 7560, 'Y536': 7561, 'M6118': 7562, 'M8560': 7563, 'S070': 7564, 'S071': 7565, 'S170': 7566, 'Z129': 7567, 'Z097': 7568, 'M2467': 7569, 'E240': 7570, 'S26881': 7571, 'A183': 7572, 'K930': 7573, 'Z044': 7574, 'S52900': 7575, 'S32041': 7576, 'T703': 7577, 'Q289': 7578, 'D467': 7579, 'J160': 7580, 'J709': 7581, 'E060': 7582, 'C254': 7583, 'W0403': 7584, 'Q120': 7585, 'A35': 7586, 'M433': 7587, 'A1620': 7588, 'Z032': 7589, 'R467': 7590, 'S334': 7591, 'S7420': 7592, 'C6219': 7593, 'A671': 7594, 'I289': 7595, 'C751': 7596, 'M4849': 7597, 'Y648': 7598, 'C849': 7599, 'Z227': 7600, 'O21801': 7601, 'O46901': 7602, 'N418': 7603, 'S3480': 7604, 'A064': 7605, 'Y16': 7606, 'C023': 7607, 'U071': 7608, 'M7914': 7609, 'M7299': 7610, 'U849': 7611, 'M4659': 7612, 'T518': 7613, 'W0504': 7614, 'Z290': 7615, 'G82093': 7616, 'F420': 7617, 'Y472': 7618, 'F940': 7619, 'G514': 7620, 'C398': 7621, 'S280': 7622, 'S772': 7623, 'F731': 7624, 'C103': 7625, 'L104': 7626, 'C764': 7627, 'Q548': 7628, 'N163': 7629, 'F930': 7630, 'T400': 7631, 'M9900': 7632, 'C248': 7633, 'M9901': 7634, 'M9909': 7635, 'N971': 7636, 'K267': 7637, 'V879': 7638, 'S63030': 7639, 'Z711': 7640, 'D699': 7641, 'T3150': 7642, 'C864': 7643, 'M939': 7644, 'M769': 7645, 'I423': 7646, 'K049': 7647, 'H151': 7648, 'Z269': 7649, 'M8040': 7650, 'S533': 7651, 'J331': 7652, 'T151': 7653, 'Z500': 7654, 'I8709': 7655, 'S6490': 7656, 'Y470': 7657, 'V582': 7658, 'Q318': 7659, 'S6110': 7660, 'S62611': 7661, 'Q187': 7662, 'S31401': 7663, 'C930': 7664, 'W32': 7665, 'D3705': 7666, 'O038': 7667, 'O0882': 7668, 'E703': 7669, 'T251': 7670, 'S4670': 7671, 'S36240': 7672, 'W0400': 7673, 'O030': 7674, 'O85009': 7675, 'L602': 7676, 'M4794': 7677, 'M812': 7678, 'Q981': 7679, 'T730': 7680, 'T006': 7681, 'B3783': 7682, 'S337': 7683, 'I231': 7684, 'P75': 7685, 'H164': 7686, 'S62420': 7687, 'S201': 7688, 'X478': 7689, 'C452': 7690, 'M9428': 7691, 'C009': 7692, 'C695': 7693, 'S62271': 7694, 'F448': 7695, 'K285': 7696, 'B180': 7697, 'O72204': 7698, 'S0918': 7699, 'M5394': 7700, 'X1508': 7701, 'L1088': 7702, 'E343': 7703, 'E784': 7704, 'M8580': 7705, 'T0131': 7706, 'V8638': 7707, 'M052': 7708, 'Y641': 7709, 'T788': 7710, 'Z912': 7711, 'Y500': 7712, 'S52901': 7713, 'S579': 7714, 'S0418': 7715, 'E673': 7716, 'Z128': 7717, 'D470': 7718, 'M8721': 7719, 'T8752': 7720, 'N2880': 7721, 'K383': 7722, 'T3180': 7723, 'M8546': 7724, 'U8220': 7725, 'T784': 7726, 'T795': 7727, 'Z502': 7728, 'V110': 7729, 'X14': 7730, 'S3412': 7731, 'S12211': 7732, 'M1189': 7733, 'S3411': 7734, 'X9508': 7735, 'F652': 7736, 'G64': 7737, 'G979': 7738, 'X36': 7739, 'Z650': 7740, 'S62311': 7741, 'S27851': 7742, 'E034': 7743, 'O99304': 7744, 'A427': 7745, 'Q056': 7746, 'M4808': 7747, 'Y768': 7748, 'S852': 7749, 'S36161': 7750, 'Q324': 7751, 'T754': 7752, 'M6511': 7753, 'M6642': 7754, 'M1122': 7755, 'Z308': 7756, 'Y436': 7757, 'V972': 7758, 'Z616': 7759, 'S36590': 7760, 'K062': 7761, 'M2578': 7762, 'L710': 7763, 'K040': 7764, 'L819': 7765, 'Z316': 7766, 'Q511': 7767, 'R294': 7768, 'K037': 7769, 'M838': 7770, 'Z620': 7771, 'E0788': 7772, 'Z138': 7773, 'B388': 7774, 'S9618': 7775, 'M0120': 7776, 'M8642': 7777, 'S458': 7778, 'E661': 7779, 'M8704': 7780, 'M2434': 7781, 'B462': 7782, 'T8159': 7783, 'H476': 7784, 'M8428': 7785, 'B465': 7786, 'D819': 7787, 'Y574': 7788, 'S9698': 7789, 'B873': 7790, 'Q269': 7791, 'M8662': 7792, 'X85': 7793, 'T189': 7794, 'E729': 7795, 'S481': 7796, 'N047': 7797, 'U074': 7798, 'U075': 7799, 'C639': 7800, 'F818': 7801, 'M6133': 7802, 'W88': 7803, 'M2369': 7804, 'K044': 7805, 'Q644': 7806, 'M7135': 7807, 'S62671': 7808, 'S37990': 7809, 'R290': 7810, 'M905': 7811, 'Q2050': 7812, 'E509': 7813, 'G708': 7814, 'M2363': 7815, 'H546': 7816, 'E241': 7817, 'C5000': 7818, 'E051': 7819, 'Z589': 7820, 'M1128': 7821, 'S3084': 7822, 'S240': 7823, 'Z301': 7824, 'I280': 7825, 'C637': 7826, 'T439': 7827, 'L909': 7828, 'A482': 7829, 'Z390': 7830, 'M6781': 7831, 'A1501': 7832, 'H001': 7833, 'M839': 7834, 'F949': 7835, 'D061': 7836, 'C699': 7837, 'B170': 7838, 'T8736': 7839, 'R200': 7840, 'F790': 7841, 'H750': 7842, 'N897': 7843, 'T120': 7844, 'E130': 7845, 'B481': 7846, 'Q400': 7847, 'K131': 7848, 'W0409': 7849, 'A164': 7850, 'F024': 7851, 'S22011': 7852, 'T529': 7853, 'M1195': 7854, 'M354': 7855, 'M4847': 7856, 'W0205': 7857, 'M148': 7858, 'M8957': 7859, 'Q357': 7860, 'M4012': 7861, 'B368': 7862, 'M2187': 7863, 'M174': 7864, 'G82022': 7865, 'M4184': 7866, 'T434': 7867, 'D447': 7868, 'D037': 7869, 'F632': 7870, 'M4693': 7871, 'S93301': 7872, 'J430': 7873, 'Z76803': 7874, 'Q182': 7875, 'S27850': 7876, 'W65': 7877, 'S7670': 7878, 'A178': 7879, 'G07': 7880, 'R611': 7881, 'X53': 7882, 'D891': 7883, 'U077': 7884, 'T150': 7885, 'T277': 7886, 'L702': 7887, 'L931': 7888, 'X97': 7889, 'T469': 7890, 'K091': 7891, 'D433': 7892, 'K273': 7893, 'M1033': 7894, 'M0022': 7895, 'Y539': 7896, 'R892': 7897, 'F628': 7898, 'L278': 7899, 'Y414': 7900, 'V505': 7901, 'S659': 7902, 'M8701': 7903, 'S31301': 7904, 'S5658': 7905, 'T116': 7906, 'M0010': 7907, 'M6245': 7908, 'L237': 7909, 'O92609': 7910, 'D720': 7911, 'S6638': 7912, 'S5430': 7913, 'K293': 7914, 'F228': 7915, 'T192': 7916, 'S32091': 7917, 'L609': 7918, 'C600': 7919, 'Y31': 7920, 'E208': 7921, 'M2501': 7922, 'M8661': 7923, 'H211': 7924, 'C947': 7925, 'Q226': 7926, 'C929': 7927, 'H481': 7928, 'Y589': 7929, 'M4305': 7930, 'F062': 7931, 'M7156': 7932, 'M4135': 7933, 'T805': 7934, 'K021': 7935, 'F163': 7936, 'S36230': 7937, 'J300': 7938, 'I821': 7939, 'M0168': 7940, 'M4657': 7941, 'M1181': 7942, 'B069': 7943, 'I979': 7944, 'K144': 7945, 'N828': 7946, 'M0083': 7947, 'M4696': 7948, 'T456': 7949, 'M0130': 7950, 'S37891': 7951, 'G598': 7952, 'E054': 7953, 'M8555': 7954, 'S3410': 7955, 'Q382': 7956, 'M4633': 7957, 'U076': 7958, 'Q348': 7959, 'K146': 7960, 'E838': 7961, 'O000': 7962, 'T410': 7963, 'L749': 7964, 'A000': 7965, 'Y069': 7966, 'T032': 7967, 'M630': 7968, 'A799': 7969, 'Q666': 7970, 'M6220': 7971, 'S530': 7972, 'V857': 7973, 'F071': 7974, 'U0490': 7975, 'S336': 7976, 'N943': 7977, 'S62130': 7978, 'T881': 7979, 'M182': 7980, 'C005': 7981, 'L601': 7982, 'Y357': 7983, 'S1412': 7984, 'S7101': 7985, 'T959': 7986, 'R431': 7987, 'Q107': 7988, 'E318': 7989, 'E755': 7990, 'O42903': 7991, 'N4400': 7992, 'S3413': 7993, 'N414': 7994, 'B088': 7995, 'C812': 7996, 'E507': 7997, 'H494': 7998, 'V504': 7999, 'R291': 8000, 'M8627': 8001, 'L041': 8002, 'H527': 8003, 'L245': 8004, 'H447': 8005, 'S36041': 8006, 'H214': 8007, 'Q242': 8008, 'Z049': 8009, 'S63191': 8010, 'S27601': 8011, 'F488': 8012, 'G028': 8013, 'R5601': 8014, 'K2215': 8015, 'M071': 8016, 'M8562': 8017, 'M7269': 8018, 'M6250': 8019, 'O14901': 8020, 'O24801': 8021, 'O70001': 8022, 'P0590': 8023, 'P925': 8024, 'O36631': 8025, 'O66001': 8026, 'O70101': 8027, 'O72002': 8028, 'O75701': 8029, 'P081': 8030, 'M4888': 8031, 'O62301': 8032, 'O42011': 8033, 'P599': 8034, 'O62101': 8035, 'O63101': 8036, 'O48001': 8037, 'O13001': 8038, 'P201': 8039, 'O32101': 8040, 'O41031': 8041, 'O34303': 8042, 'D848': 8043, 'O41901': 8044, 'O66491': 8045, 'O32401': 8046, 'O42021': 8047, 'Z38011': 8048, 'J210': 8049, 'O72202': 8050, 'M774': 8051, 'Q270': 8052, 'N993': 8053, 'Y763': 8054, 'P7881': 8055, 'Z762': 8056, 'P219': 8057, 'P031': 8058, 'N602': 8059, 'O036': 8060, 'O0812': 8061, 'O63001': 8062, 'O70301': 8063, 'O47003': 8064, 'P082': 8065, 'P285': 8066, 'Q638': 8067, 'O24501': 8068, 'P701': 8069, 'N856': 8070, 'O70201': 8071, 'P120': 8072, 'P284': 8073, 'Z340': 8074, 'L574': 8075, 'R960': 8076, 'O98301': 8077, 'Q659': 8078, 'O61001': 8079, 'O68201': 8080, 'O0889': 8081, 'Z806': 8082, 'O26601': 8083, 'O10903': 8084, 'O47103': 8085, 'O65401': 8086, 'Z37200': 8087, 'O45901': 8088, 'Z355': 8089, 'Z37001': 8090, 'O75881': 8091, 'T733': 8092, 'T462': 8093, 'Z811': 8094, 'O66901': 8095, 'Z970': 8096, 'P614': 8097, 'Y901': 8098, 'Z8710': 8099, 'C814': 8100, 'O70901': 8101, 'Q619': 8102, 'P0599': 8103, 'P590': 8104, 'O75201': 8105, 'O42203': 8106, 'P298': 8107, 'Y738': 8108, 'P391': 8109, 'Z892': 8110, 'Q02': 8111, 'O34701': 8112, 'Z841': 8113, 'O42121': 8114, 'O75601': 8115, 'O30003': 8116, 'O42111': 8117, 'J050': 8118, 'P962': 8119, 'O65501': 8120, 'O90202': 8121, 'P3750': 8122, 'O99002': 8123, 'O36431': 8124, 'O40031': 8125, 'O73002': 8126, 'G8100': 8127, 'I8701': 8128, 'O64001': 8129, 'O71301': 8130, 'N819': 8131, 'P920': 8132, 'O71601': 8133, 'O86202': 8134, 'Z353': 8135, 'P352': 8136, 'P60': 8137, 'P749': 8138, 'P90': 8139, 'Z813': 8140, 'T599': 8141, 'O71701': 8142, 'Y900': 8143, 'O32601': 8144, 'O66501': 8145, 'J60': 8146, 'O62001': 8147, 'P292': 8148, 'P282': 8149, 'A549': 8150, 'Z611': 8151, 'O64801': 8152, 'P221': 8153, 'N854': 8154, 'Z587': 8155, 'O89402': 8156, 'O32501': 8157, 'O37031': 8158, 'O60003': 8159, 'Z654': 8160, 'Y529': 8161, 'P228': 8162, 'P961': 8163, 'O28301': 8164, 'O36331': 8165, 'C3489': 8166, 'Z352': 8167, 'O69101': 8168, 'Z651': 8169, 'P070': 8170, 'P612': 8171, 'P610': 8172, 'O46903': 8173, 'Z38300': 8174, 'P369': 8175, 'P1330': 8176, 'P252': 8177, 'F810': 8178, 'Y903': 8179, 'Z814': 8180, 'P044': 8181, 'R681': 8182, 'Q402': 8183, 'O36131': 8184, 'F162': 8185, 'O12201': 8186, 'O36931': 8187, 'Z652': 8188, 'P134': 8189, 'O62401': 8190, 'U99051': 8191, 'O61101': 8192, 'P033': 8193, 'O14201': 8194, 'O99101': 8195, 'M219': 8196, 'O64501': 8197, 'Z121': 8198, 'M053': 8199, 'O75001': 8200, 'J218': 8201, 'T354': 8202, 'P928': 8203, 'T748': 8204, 'P719': 8205, 'O34001': 8206, 'O36031': 8207, 'Q512': 8208, 'P240': 8209, 'P835': 8210, 'Q674': 8211, 'U99032': 8212, 'O64101': 8213, 'P912': 8214, 'T0110': 8215, 'Y412': 8216, 'M1388': 8217, 'K645': 8218, 'Z959': 8219, 'Q669': 8220, 'D012': 8221, 'M4885': 8222, 'N434': 8223, 'A379': 8224, 'Z863': 8225, 'O66401': 8226, 'F929': 8227, 'O34101': 8228, 'Z962': 8229, 'P809': 8230, 'Q539': 8231, 'O74701': 8232, 'O43101': 8233, 'O21001': 8234, 'P025': 8235, 'O29801': 8236, 'Y708': 8237, 'P040': 8238, 'O99702': 8239, 'O16001': 8240, 'O74501': 8241, 'O74801': 8242, 'O10901': 8243, 'O86102': 8244, 'O33901': 8245, 'O92201': 8246, 'O67901': 8247, 'M1026': 8248, 'O74601': 8249, 'O41091': 8250, 'Z37101': 8251, 'Z723': 8252, 'M531': 8253, 'T351': 8254, 'N391': 8255, 'T244': 8256, 'O64401': 8257, 'O31201': 8258, 'M9489': 8259, 'Z348': 8260, 'P289': 8261, 'O34401': 8262, 'O64901': 8263, 'O66201': 8264, 'O32801': 8265, 'O34291': 8266, 'O71111': 8267, 'N815': 8268, 'O22801': 8269, 'Z412': 8270, 'Q527': 8271, 'O24604': 8272, 'O26903': 8273, 'O61003': 8274, 'Z37910': 8275, 'N944': 8276, 'O61901': 8277, 'O40033': 8278, 'F688': 8279, 'T1420': 8280, 'M050': 8281, 'O21803': 8282, 'O24503': 8283, 'O21203': 8284, 'S36141': 8285, 'k8051': 8286, 'O23401': 8287, 'O14903': 8288, 'Z38200': 8289, 'O46801': 8290, 'O87202': 8291, 'J352': 8292, 'O62003': 8293, 'O23501': 8294, 'M8080': 8295, 'S37611': 8296, 'Z763': 8297, 'P580': 8298, 'O28303': 8299, 'Z224': 8300, 'S37601': 8301, 'O67801': 8302, 'P929': 8303, 'P393': 8304, 'G8320': 8305, 'O71202': 8306, 'O75102': 8307, 'O34301': 8308, 'N710': 8309, 'G574': 8310, 'Z701': 8311, 'O60201': 8312, 'M303': 8313, 'T789': 8314, 'O74502': 8315, 'O70104': 8316, 'O73004': 8317, 'E756': 8318, 'Z350': 8319, 'O14003': 8320, 'Z354': 8321, 'Q541': 8322, 'O98501': 8323, 'Q432': 8324, 'N915': 8325, 'J684': 8326, 'Z870': 8327, 'Q6478': 8328, 'O44003': 8329, 'P969': 8330, 'O23001': 8331, 'C5089': 8332, 'C5059': 8333, 'O69001': 8334, 'P024': 8335, 'Q640': 8336, 'O0809': 8337, 'O42901': 8338, 'H351': 8339, 'E201': 8340, 'Z37201': 8341, 'L00': 8342, 'R858': 8343, 'Z38311': 8344, 'Y905': 8345, 'Q691': 8346, 'E1061': 8347, 'Z552': 8348, 'Z644': 8349, 'Z22303': 8350, 'Z929': 8351, 'R6818': 8352, 'Z628': 8353, 'Z914': 8354, 'O71501': 8355, 'M6735': 8356, 'Q044': 8357, 'O14001': 8358, 'M8545': 8359, 'I368': 8360, 'P611': 8361, 'Q848': 8362, 'O24601': 8363, 'F809': 8364, 'P7420': 8365, 'P7431': 8366, 'J013': 8367, 'O66801': 8368, 'O25002': 8369, 'O86402': 8370, 'O99602': 8371, 'O36333': 8372, 'O44101': 8373, 'K277': 8374, 'X32': 8375, 'O14101': 8376, 'P128': 8377, 'L533': 8378, 'Z610': 8379, 'F653': 8380, 'R067': 8381, 'S36900': 8382, 'O11003': 8383, 'Z562': 8384, 'F408': 8385, 'Z725': 8386, 'P711': 8387, 'F701': 8388, 'N940': 8389, 'P364': 8390, 'P741': 8391, 'O71401': 8392, 'H328': 8393, 'P241': 8394, 'M6257': 8395, 'J204': 8396, 'J211': 8397, 'P271': 8398, 'P290': 8399, 'P520': 8400, 'U99038': 8401, 'U99078': 8402, 'Z0451': 8403, 'O41191': 8404, 'T629': 8405, 'O31801': 8406, 'M4319': 8407, 'S8690': 8408, 'N432': 8409, 'D129': 8410, 'O41131': 8411, 'O75301': 8412, 'O10904': 8413, 'O64201': 8414, 'O99102': 8415, 'P251': 8416, 'O92701': 8417, 'Z351': 8418, 'Z601': 8419, 'O64301': 8420, 'O45803': 8421, 'Q519': 8422, 'Q786': 8423, 'O22401': 8424, 'O14203': 8425, 'O36533': 8426, 'O87002': 8427, 'O20903': 8428, 'P923': 8429, 'O99402': 8430, 'D010': 8431, 'O69301': 8432, 'O35801': 8433, 'C723': 8434, 'O32201': 8435, 'O33001': 8436, 'N958': 8437, 'O44103': 8438, 'M6239': 8439, 'P113': 8440, 'N945': 8441, 'O75002': 8442, 'S02491': 8443, 'P558': 8444, 'B085': 8445, 'O36391': 8446, 'P123': 8447, 'D144': 8448, 'O40091': 8449, 'O12103': 8450, 'M1255': 8451, 'F729': 8452, 'G8101': 8453, 'P122': 8454, 'Q820': 8455, 'O36591': 8456, 'M2324': 8457, 'O90802': 8458, 'P598': 8459, 'O34103': 8460, 'N8351': 8461, 'K732': 8462, 'M6746': 8463, 'Q501': 8464, 'P968': 8465, 'P231': 8466, 'Q219': 8467, 'U99000': 8468, 'G3082': 8469, 'G8321': 8470, 'H603': 8471, 'D828': 8472, 'P550': 8473, 'O32001': 8474, 'L109': 8475, 'Z356': 8476, 'F789': 8477, 'M7158': 8478, 'F524': 8479, 'Z529': 8480, 'O86002': 8481, 'E760': 8482, 'O90002': 8483, 'R010': 8484, 'N732': 8485, 'O020': 8486, 'O34403': 8487, 'O45903': 8488, 'U99088': 8489, 'O24603': 8490, 'O44001': 8491, 'P551': 8492, 'Q532': 8493, 'P916': 8494, 'P942': 8495, 'O65901': 8496, 'Q544': 8497, 'O34501': 8498, 'P0591': 8499, 'F982': 8500, 'O43811': 8501, 'Q178': 8502, 'R6810': 8503, 'M4134': 8504, 'Z999': 8505, 'T602': 8506, 'X48': 8507, 'P036': 8508, 'O26101': 8509, 'Z834': 8510, 'U99052': 8511, 'G3100': 8512, 'Z274': 8513, 'D235': 8514, 'O70004': 8515, 'S93110': 8516, 'Q897': 8517, 'O10003': 8518, 'B007': 8519, 'P202': 8520, 'O11001': 8521, 'O98503': 8522, 'C5029': 8523, 'Y633': 8524, 'Z584': 8525, 'P143': 8526, 'F984': 8527, 'D049': 8528, 'Q315': 8529, 'C5069': 8530, 'M4635': 8531, 'B871': 8532, 'B301': 8533, 'O31111': 8534, 'Z8510': 8535, 'R878': 8536, 'B082': 8537, 'Z971': 8538, 'O71181': 8539, 'U99034': 8540, 'J302': 8541, 'Z893': 8542, 'M4826': 8543, 'M4790': 8544, 'W74': 8545, 'M319': 8546, 'G734': 8547, 'T634': 8548, 'X23': 8549, 'O98802': 8550, 'M4859': 8551, 'B268': 8552, 'O22301': 8553, 'O34801': 8554, 'P026': 8555, 'O23903': 8556, 'O98303': 8557, 'P154': 8558, 'O22001': 8559, 'O48003': 8560, 'P922': 8561, 'O32003': 8562, 'Z357': 8563, 'N896': 8564, 'O13002': 8565, 'O23103': 8566, 'R782': 8567, 'O051': 8568, 'Z479': 8569, 'M8426': 8570, 'Q175': 8571, 'O36421': 8572, 'M7925': 8573, 'j189': 8574, 'O62203': 8575, 'O71801': 8576, 'Z039': 8577, 'D099': 8578, 'F167': 8579, 'F147': 8580, 'V917': 8581, 'P035': 8582, 'Z310': 8583, 'O99701': 8584, 'Z349': 8585, 'A689': 8586, 'X25': 8587, 'P042': 8588, 'M2413': 8589, 'O37021': 8590, 'O054': 8591, 'L26': 8592, 'T363': 8593, 'Z22309': 8594, 'B589': 8595, 'F010': 8596, 'Z881': 8597, 'M9951': 8598, 'M7153': 8599, 'M7139': 8600, 'O26303': 8601, 'O46803': 8602, 'O90504': 8603, 'V599': 8604, 'E531': 8605, 'F739': 8606, 'F658': 8607, 'U848': 8608, 'P288': 8609, 'O99802': 8610, 'G577': 8611, 'M7937': 8612, 'P808': 8613, 'L658': 8614, 'Z994': 8615, 'P268': 8616, 'O24701': 8617, 'O36233': 8618, 'A211': 8619, 'B854': 8620, 'O72302': 8621, 'D413': 8622, 'T384': 8623, 'Y072': 8624, 'P394': 8625, 'Q673': 8626, 'Y619': 8627, 'I658': 8628, 'O68301': 8629, 'M1030': 8630, 'Z655': 8631, 'Z898': 8632, 'F910': 8633, 'M024': 8634, 'Z015': 8635, 'G8111': 8636, 'T508': 8637, 'H671': 8638, 'Q825': 8639, 'O34402': 8640, 'Z131': 8641, 'P158': 8642, 'Q349': 8643, 'R827': 8644, 'F348': 8645, 'P831': 8646, 'Q840': 8647, 'J410': 8648, 'T7588': 8649, 'Y811': 8650, 'K380': 8651, 'Q518': 8652, 'Q934': 8653, 'P153': 8654, 'P027': 8655, 'O36831': 8656, 'Q699': 8657, 'Q950': 8658, 'Q633': 8659, 'O23901': 8660, 'Q750': 8661, 'O35101': 8662, 'M8005': 8663, 'F59': 8664, 'C5009': 8665, 'F197': 8666, 'P011': 8667, 'O26802': 8668, 'A202': 8669, 'R5602': 8670, 'P243': 8671, 'T3160': 8672, 'X1504': 8673, 'O65001': 8674, 'S22800': 8675, 'z515': 8676, 'Y818': 8677, 'D015': 8678, 'G368': 8679, 'F196': 8680, 'P760': 8681, 'P769': 8682, 'P200': 8683, 'P021': 8684, 'O71081': 8685, 'O74001': 8686, 'O42013': 8687, 'M6625': 8688, 'B393': 8689, 'M5382': 8690, 'Q999': 8691, 'F788': 8692, 'O36691': 8693, 'M6736': 8694, 'Q392': 8695, 'P239': 8696, 'O90004': 8697, 'O91202': 8698, 'U99045': 8699, 'O62801': 8700, 'O72009': 8701, 'R4020': 8702, 'M6026': 8703, 'P360': 8704, 'M1091': 8705, 'H541': 8706, 'Z605': 8707, 'O47903': 8708, 'O36321': 8709, 'P818': 8710, 'O99502': 8711, 'J689': 8712, 'P281': 8713, 'M8086': 8714, 'A430': 8715, 'J64': 8716, 'M4682': 8717, 'L80': 8718, 'L650': 8719, 'O75401': 8720, 'R701': 8721, 'O21101': 8722, 'Z908': 8723, 'M4686': 8724, 'F641': 8725, 'D466': 8726, 'O99302': 8727, 'S797': 8728, 'V407': 8729, 'P131': 8730, 'O14902': 8731, 'Y550': 8732, 'P041': 8733, 'J670': 8734, 'Z886': 8735, 'P038': 8736, 'G218': 8737, 'Z304': 8738, 'V449': 8739, 'T0190': 8740, 'Q174': 8741, 'Z272': 8742, 'U99035': 8743, 'Q3218': 8744, 'Z38301': 8745, 'P030': 8746, 'F781': 8747, 'O88201': 8748, 'Q514': 8749, 'O45801': 8750, 'V8651': 8751, 'C5001': 8752, 'Q610': 8753, 'T486': 8754, 'O15001': 8755, 'P545': 8756, 'M4789': 8757, 'O85002': 8758, 'Q690': 8759, 'P399': 8760, 'O33501': 8761, 'V399': 8762, 'O41021': 8763, 'O98603': 8764, 'M4125': 8765, 'O71802': 8766, 'O37091': 8767, 'N970': 8768, 'H112': 8769, 'O73104': 8770, 'M357': 8771, 'O90104': 8772, 'A082': 8773, 'Q793': 8774, 'O14103': 8775, 'I089': 8776, 'G245': 8777, 'R940': 8778, 'O92401': 8779, 'P363': 8780, 'O86104': 8781, 'M8440': 8782, 'U99036': 8783, 'Q873': 8784, 'O28801': 8785, 'J182': 8786, 'S5498': 8787, 'P540': 8788, 'P77': 8789, 'P121': 8790, 'P833': 8791, 'O26502': 8792, 'O90102': 8793, 'B973': 8794, 'O63201': 8795, 'R438': 8796, 'Z565': 8797, 'U99024': 8798, 'L272': 8799, 'Z561': 8800, 'M4019': 8801, 'T742': 8802, 'Y05': 8803, 'Q411': 8804, 'M8619': 8805, 'U99054': 8806, 'F538': 8807, 'A971': 8808, 'T7809': 8809, 'O28001': 8810, 'Q703': 8811, 'N923': 8812, 'Y772': 8813, 'Z543': 8814, 'O32301': 8815, 'W0904': 8816, 'B679': 8817, 'M4689': 8818, 'M6083': 8819, 'Z715': 8820, 'O75404': 8821, 'O92202': 8822, 'O12002': 8823, 'T476': 8824, 'Q829': 8825, 'O43013': 8826, 'O73102': 8827, 'P022': 8828, 'T119': 8829, 'O63003': 8830, 'D011': 8831, 'M1312': 8832, 'S7638': 8833, 'O69401': 8834, 'S37501': 8835, 'O41033': 8836, 'Q700': 8837, 'A691': 8838, 'O25001': 8839, 'O34803': 8840, 'O86802': 8841, 'O65801': 8842, 'Q893': 8843, 'P718': 8844, 'P740': 8845, 'O12001': 8846, 'E550': 8847, 'R834': 8848, 'P783': 8849, 'Q933': 8850, 'Q701': 8851, 'P052': 8852, 'T628': 8853, 'M2154': 8854, 'M654': 8855, 'K0708': 8856, 'M880': 8857, 'C754': 8858, 'Z036': 8859, 'D104': 8860, 'U99028': 8861, 'P548': 8862, 'W0908': 8863, 'M6119': 8864, 'K008': 8865, 'O43881': 8866, 'S22101': 8867, 'Y882': 8868, 'M1288': 8869, 'Q179': 8870, 'E850': 8871, 'P529': 8872, 'Y820': 8873, 'O90804': 8874, 'O32103': 8875, 'V949': 8876, 'O89404': 8877, 'O32203': 8878, 'D37032': 8879, 'T500': 8880, 'S42181': 8881, 'O22901': 8882, 'O36833': 8883, 'E700': 8884, 'V135': 8885, 'O65301': 8886, 'M8680': 8887, 'O65101': 8888, 'P941': 8889, 'P839': 8890, 'O43011': 8891, 'L105': 8892, 'F655': 8893, 'O26901': 8894, 'Q653': 8895, 'M2544': 8896, 'F941': 8897, 'D001': 8898, 'P583': 8899, 'Z564': 8900, 'D412': 8901, 'E500': 8902, 'V472': 8903, 'O26201': 8904, 'M1046': 8905, 'T472': 8906, 'Q353': 8907, 'M6105': 8908, 'M153': 8909, 'V807': 8910, 'Q554': 8911, 'M7102': 8912, 'M2588': 8913, 'P028': 8914, 'A562': 8915, 'N291': 8916, 'G4001': 8917, 'M6632': 8918, 'N981': 8919, 'O0881': 8920, 'O31001': 8921, 'U841': 8922, 'O21201': 8923, 'O0803': 8924, 'M4785': 8925, 'V970': 8926, 'M8441': 8927, 'P152': 8928, 'X39': 8929, 'P593': 8930, 'P582': 8931, 'S0478': 8932, 'O15202': 8933, 'T132': 8934, 'M0024': 8935, 'F334': 8936, 'O75882': 8937, 'K101': 8938, 'Q380': 8939, 'T8745': 8940, 'C100': 8941, 'M082': 8942, 'M0281': 8943, 'O23101': 8944, 'M1287': 8945, 'M4329': 8946, 'P7421': 8947, 'U9909': 8948, 'F24': 8949, 'P293': 8950, 'Z617': 8951, 'O36521': 8952, 'D0009': 8953, 'L130': 8954, 'Y502': 8955, 'R488': 8956, 'B278': 8957, 'Q447': 8958, 'G82221': 8959, 'O63901': 8960, 'S31500': 8961, 'B052': 8962, 'P209': 8963, 'P2910': 8964, 'M328': 8965, 'Q130': 8966, 'N761': 8967, 'O75501': 8968, 'N604': 8969, 'c3499': 8970, 'S6668': 8971, 'O26301': 8972, 'C5060': 8973, 'O24802': 8974, 'P963': 8975, 'U99084': 8976, 'O98302': 8977, 'P283': 8978, 'M9953': 8979, 'O71101': 8980, 'D280': 8981, 'B54': 8982, 'Z205': 8983, 'D014': 8984, 'O41831': 8985, 'Z228': 8986, 'Z459': 8987, 'K0880': 8988, 'O69901': 8989, 'M490': 8990, 'Q423': 8991, 'M4780': 8992, 'Z550': 8993, 'G8110': 8994, 'T7807': 8995, 'O61103': 8996, 'F513': 8997, 'R610': 8998, 'O32901': 8999, 'Q053': 9000, 'J681': 9001, 'N019': 9002, 'S1340': 9003, 'O074': 9004, 'O62403': 9005, 'Q5560': 9006, 'P015': 9007, 'L211': 9008, 'G031': 9009, 'H708': 9010, 'N884': 9011, 'X7400': 9012, 'Q300': 9013, 'O26701': 9014, 'O32403': 9015, 'M180': 9016, 'U99042': 9017, 'O35809': 9018, 'O71001': 9019, 'Z578': 9020, 'M7103': 9021, 'A051': 9022, 'P017': 9023, 'Q692': 9024, 'P834': 9025, 'P012': 9026, 'M6191': 9027, 'M6110': 9028, 'P7430': 9029, 'Q672': 9030, 'U99023': 9031, 'F138': 9032, 'B879': 9033, 'P541': 9034, 'Z9221': 9035, 'E1350': 9036, 'S36121': 9037, 'L813': 9038, 'Q320': 9039, 'Z38101': 9040, 'V398': 9041, 'M4697': 9042, 'O29401': 9043, 'O35501': 9044, 'M4325': 9045, 'E15': 9046, 'O0818': 9047, 'Q711': 9048, 'A970': 9049, 'Q713': 9050, 'N181': 9051, 'O002': 9052, 'S37801': 9053, 'V471': 9054, 'G619': 9055, 'S63040': 9056, 'K031': 9057, 'Z001': 9058, 'M6299': 9059, 'N763': 9060, 'M4150': 9061, 'A1500': 9062, 'M1040': 9063, 'M2598': 9064, 'K135': 9065, 'X29': 9066, 'G129': 9067, 'Y485': 9068, 'P9180': 9069, 'D407': 9070, 'R69': 9071, 'O71404': 9072, 'O69501': 9073, 'F808': 9074, 'M8443': 9075, 'A38': 9076, 'R81': 9077, 'P005': 9078, 'M062': 9079, 'P032': 9080, 'M6505': 9081, 'S36160': 9082, 'S7678': 9083, 'O87904': 9084, 'C692': 9085, 'Z37400': 9086, 'E762': 9087, 'N015': 9088, 'M0126': 9089, 'O26501': 9090, 'S31200': 9091, 'O34009': 9092, 'Q753': 9093, 'M7136': 9094, 'Z974': 9095, 'H520': 9096, 'R781': 9097, 'P5221': 9098, 'O75709': 9099, 'D0570': 9100, 'V735': 9101, 'Q681': 9102, 'Y761': 9103, 'S32001': 9104, 'N881': 9105, 'O35901': 9106, 'T940': 9107, 'R99': 9108, 'M2408': 9109, 'M6715': 9110, 'O45091': 9111, 'M8936': 9112, 'A030': 9113, 'Z122': 9114, 'O36023': 9115, 'M8799': 9116, 'O36033': 9117, 'Q702': 9118, 'O21009': 9119, 'P38': 9120, 'M2459': 9121, 'O36991': 9122, 'D809': 9123, 'E761': 9124, 'O70291': 9125, 'O70211': 9126, 'O0862': 9127, 'O72109': 9128, 'H545': 9129, 'E769': 9130, 'H654': 9131, 'O98403': 9132, 'P270': 9133, 'O70281': 9134, 'F529': 9135, 'D236': 9136, 'S53121': 9137, 'P721': 9138, 'P521': 9139, 'O71509': 9140, 'O71709': 9141, 'G82321': 9142, 'O92409': 9143, 'L817': 9144, 'Z716': 9145, 'P921': 9146, 'M6218': 9147, 'F065': 9148, 'O68109': 9149, 'O36091': 9150, 'O14202': 9151, 'O029': 9152, 'Q333': 9153, 'O12203': 9154, 'O12003': 9155, 'Y071': 9156, 'O61803': 9157, 'M6212': 9158, 'T385': 9159, 'P910': 9160, 'O041': 9161, 'Y564': 9162, 'M6652': 9163, 'M0129': 9164, 'J201': 9165, 'T062': 9166, 'T673': 9167, 'P280': 9168, 'S36300': 9169, 'M8946': 9170, 'Q611': 9171, 'O70231': 9172, 'O010': 9173, 'Z710': 9174, 'O36133': 9175, 'G82391': 9176, 'T372': 9177, 'O98502': 9178, 'R896': 9179, 'P543': 9180, 'O36633': 9181, 'P138': 9182, 'O21901': 9183, 'Q338': 9184, 'O70909': 9185, 'O33301': 9186, 'O0808': 9187, 'O41133': 9188, 'E1020': 9189, 'O41023': 9190, 'D429': 9191, 'M8736': 9192, 'Q685': 9193, 'Q833': 9194, 'Y2408': 9195, 'J688': 9196, 'S22900': 9197, 'B251': 9198, 'O70221': 9199, 'V130': 9200, 'O35903': 9201, 'V231': 9202, 'O36423': 9203, 'I088': 9204, 'L704': 9205, 'Q804': 9206, 'A422': 9207, 'M4327': 9208, 'C4678': 9209, 'U99082': 9210, 'M8092': 9211, 'M6260': 9212, 'E064': 9213, 'G239': 9214, 'L701': 9215, 'P838': 9216, 'S62270': 9217, 'W2101': 9218, 'T431': 9219, 'S4498': 9220, 'X473': 9221, 'R432': 9222, 'M8718': 9223, 'Q819': 9224, 'L240': 9225, 'M1188': 9226, 'M8604': 9227, 'O34601': 9228, 'O34003': 9229, 'M4702': 9230, 'M0002': 9231, 'D097': 9232, 'Q618': 9233, 'Z37300': 9234, 'M0299': 9235, 'T095': 9236, 'O43901': 9237, 'Z246': 9238, 'T457': 9239, 'T494': 9240, 'W0401': 9241, 'S932': 9242, 'V402': 9243, 'N271': 9244, 'O42091': 9245, 'O46081': 9246, 'S8488': 9247, 'Q765': 9248, 'Q058': 9249, 'A182': 9250, 'O20803': 9251, 'M8612': 9252, 'E1420': 9253, 'F174': 9254, 'O89502': 9255, 'O90402': 9256, 'N843': 9257, 'O26001': 9258, 'Z581': 9259, 'M9436': 9260, 'E805': 9261, 'J431': 9262, 'O88801': 9263, 'M2526': 9264, 'V910': 9265, 'P238': 9266, 'M0098': 9267, 'Q434': 9268, 'Q660': 9269, 'F83': 9270, 'P023': 9271, 'R890': 9272, 'L568': 9273, 'V940': 9274, 'D800': 9275, 'F958': 9276, 'M1286': 9277, 'D304': 9278, 'G462': 9279, 'M8689': 9280, 'O98404': 9281, 'D3702': 9282, 'D818': 9283, 'T902': 9284, 'O70009': 9285, 'Q552': 9286, 'O36891': 9287, 'L559': 9288, 'F512': 9289, 'O69503': 9290, 'T138': 9291, 'O22103': 9292, 'N020': 9293, 'O26003': 9294, 'O41121': 9295, 'C927': 9296, 'K133': 9297, 'O22101': 9298, 'M2458': 9299, 'M4687': 9300, 'A938': 9301, 'Q751': 9302, 'O71304': 9303, 'S62001': 9304, 'G112': 9305, 'Z392': 9306, 'S207': 9307, 'T594': 9308, 'Y178': 9309, 'M6636': 9310, 'P009': 9311, 'S42011': 9312, 'K673': 9313, 'O98504': 9314, 'Z082': 9315, 'T047': 9316, 'T732': 9317, 'Q5038': 9318, 'L128': 9319, 'Y96': 9320, 'O32803': 9321, 'T198': 9322, 'N883': 9323, 'M0133': 9324, 'J206': 9325, 'O34293': 9326, 'Y607': 9327, 'Q680': 9328, 'O74504': 9329, 'O24703': 9330, 'O0800': 9331, 'X7408': 9332, 'D807': 9333, 'Z504': 9334, 'V371': 9335, 'Z0458': 9336, 'P523': 9337, 'P915': 9338, 'H543': 9339, 'S72011': 9340, 'D411': 9341, 'M5380': 9342, 'P108': 9343, 'H542': 9344, 'Z22304': 9345, 'U070': 9346, 'Q173': 9347, 'P782': 9348, 'F308': 9349, 'I1521': 9350, 'O42023': 9351, 'O33101': 9352, 'Z38400': 9353, 'V093': 9354, 'A228': 9355, 'V958': 9356, 'E1011': 9357, 'Z712': 9358, 'Y528': 9359, 'M2597': 9360, 'P013': 9361, 'S53111': 9362, 'Q257': 9363, 'S42121': 9364, 'Q550': 9365, 'O0819': 9366, 'M0291': 9367, 'V824': 9368, 'T441': 9369, 'M7152': 9370, 'V893': 9371, 'D588': 9372, 'T523': 9373, 'M1254': 9374, 'M2309': 9375, 'M2181': 9376, 'O45011': 9377, 'M8706': 9378, 'Q106': 9379, 'P613': 9380, 'S597': 9381, 'Q664': 9382, 'I673': 9383, 'O87204': 9384, 'Q795': 9385, 'F721': 9386, 'P398': 9387, 'E300': 9388, 'M6626': 9389, 'B399': 9390, 'M0137': 9391, 'T001': 9392, 'S42411': 9393, 'O87902': 9394, 'M4896': 9395, 'M8948': 9396, 'P000': 9397, 'M2487': 9398, 'T86801': 9399, 'M4189': 9400, 'M955': 9401, 'S1341': 9402, 'Q678': 9403, 'P368': 9404, 'P546': 9405, 'Y632': 9406, 'O043': 9407, 'P249': 9408, 'M7293': 9409, 'L247': 9410, 'L302': 9411, 'P242': 9412, 'P361': 9413, 'Q639': 9414, 'N855': 9415, 'O35091': 9416, 'O75101': 9417, 'Y651': 9418, 'Q042': 9419, 'O43203': 9420, 'E283': 9421, 'O91201': 9422, 'M8542': 9423, 'T147': 9424, 'Q980': 9425, 'M816': 9426, 'O0860': 9427, 'Q913': 9428, 'F169': 9429, 'O26401': 9430, 'M8423': 9431, 'V491': 9432, 'M1252': 9433, 'D030': 9434, 'Q763': 9435, 'X33': 9436, 'G233': 9437, 'P702': 9438, 'R783': 9439, 'M4787': 9440, 'Z9220': 9441, 'I899': 9442, 'P917': 9443, 'D233': 9444, 'X474': 9445, 'V406': 9446, 'M6655': 9447, 'P949': 9448, 'A041': 9449, 'Q564': 9450, 'G113': 9451, 'N942': 9452, 'A439': 9453, 'A392': 9454, 'R450': 9455, 'O26703': 9456, 'M4322': 9457, 'V819': 9458, 'P703': 9459, 'H349': 9460, 'O62103': 9461, 'Z38640': 9462, 'M6741': 9463, 'S53180': 9464, 'O35803': 9465, 'M6251': 9466, 'M8605': 9467, 'D232': 9468, 'M920': 9469, 'J678': 9470, 'M7106': 9471, 'V132': 9472, 'S43401': 9473, 'T113': 9474, 'O0832': 9475, 'O22003': 9476, 'S43101': 9477, 'S27381': 9478, 'O22903': 9479, 'V530': 9480, 'M1129': 9481, 'U99049': 9482, 'M8046': 9483, 'Q505': 9484, 'M1043': 9485, 'M1044': 9486, 'E1411': 9487, 'M6717': 9488, 'P618': 9489, 'M8793': 9490, 'Q991': 9491, 'Y601': 9492, 'D359': 9493, 'P034': 9494, 'O24502': 9495, 'O10002': 9496, 'O35023': 9497, 'T698': 9498, 'T382': 9499, 'P008': 9500, 'T506': 9501, 'R824': 9502, 'O30101': 9503, 'Z37500': 9504, 'W67': 9505, 'Z38610': 9506, 'H622': 9507, 'Z016': 9508, 'M8028': 9509, 'M4654': 9510, 'O10009': 9511, 'O24609': 9512, 'G311': 9513, 'M2435': 9514, 'A70': 9515, 'A803': 9516, 'B341': 9517, 'O35201': 9518, 'S397': 9519, 'D093': 9520, 'M6587': 9521, 'N2881': 9522, 'Q2730': 9523, 'F525': 9524, 'M0289': 9525, 'J668': 9526, 'V909': 9527, 'V425': 9528, 'M6265': 9529, 'Q303': 9530, 'V598': 9531, 'Q184': 9532, 'S9488': 9533, 'S958': 9534, 'Y586': 9535, 'A160': 9536, 'B080': 9537, 'M8682': 9538, 'F505': 9539, 'L049': 9540, 'O37033': 9541, 'V160': 9542, 'I401': 9543, 'Q523': 9544, 'M778': 9545, 'M7286': 9546, 'I098': 9547, 'A848': 9548, 'U99039': 9549, 'L932': 9550, 'O32503': 9551, 'A507': 9552, 'M8598': 9553, 'P039': 9554, 'B600': 9555, 'O31113': 9556, 'S6498': 9557, 'Q385': 9558}\n"
     ]
    }
   ],
   "source": [
    "print(dictionary.token2id)"
   ]
  },
  {
   "cell_type": "code",
   "execution_count": null,
   "metadata": {},
   "outputs": [
    {
     "data": {
      "text/plain": [
       "[(7, 1), (226, 1)]"
      ]
     },
     "execution_count": 10,
     "metadata": {},
     "output_type": "execute_result"
    }
   ],
   "source": [
    "dictionary.doc2bow(train[100].diagnosis.codes)"
   ]
  },
  {
   "cell_type": "code",
   "execution_count": null,
   "metadata": {},
   "outputs": [
    {
     "data": {
      "text/plain": [
       "['Z538', 'M179']"
      ]
     },
     "execution_count": 11,
     "metadata": {},
     "output_type": "execute_result"
    }
   ],
   "source": [
    "train[100].diagnosis.codes"
   ]
  },
  {
   "cell_type": "code",
   "execution_count": null,
   "metadata": {},
   "outputs": [
    {
     "data": {
      "text/plain": [
       "7"
      ]
     },
     "execution_count": 23,
     "metadata": {},
     "output_type": "execute_result"
    }
   ],
   "source": [
    "dictionary.token2id['M179']"
   ]
  },
  {
   "cell_type": "code",
   "execution_count": null,
   "metadata": {},
   "outputs": [],
   "source": []
  },
  {
   "cell_type": "code",
   "execution_count": null,
   "metadata": {},
   "outputs": [],
   "source": []
  },
  {
   "cell_type": "code",
   "execution_count": null,
   "metadata": {},
   "outputs": [],
   "source": [
    "model"
   ]
  }
 ],
 "metadata": {
  "kernelspec": {
   "display_name": "alc",
   "language": "python",
   "name": "python3"
  },
  "language_info": {
   "codemirror_mode": {
    "name": "ipython",
    "version": 3
   },
   "file_extension": ".py",
   "mimetype": "text/x-python",
   "name": "python",
   "nbconvert_exporter": "python",
   "pygments_lexer": "ipython3",
   "version": "3.9.6"
  }
 },
 "nbformat": 4,
 "nbformat_minor": 2
}
