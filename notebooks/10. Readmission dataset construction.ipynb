{
 "cells": [
  {
   "cell_type": "code",
   "execution_count": 15,
   "metadata": {},
   "outputs": [],
   "source": [
    "import pandas as pd\n",
    "import matplotlib.pyplot as plt\n",
    "from datetime import date\n",
    "import datetime\n",
    "import numpy as np\n",
    "import seaborn as sns\n",
    "import re\n",
    "import json\n",
    "import pandas as pd\n",
    "import math\n",
    "import ast\n",
    "import os\n",
    "import sys\n",
    "sys.path.append('..')\n",
    "from utilities import logger\n",
    "from utilities import configuration\n",
    "from utilities import health_data\n"
   ]
  },
  {
   "cell_type": "markdown",
   "metadata": {},
   "source": [
    "### Accessing config file and log"
   ]
  },
  {
   "cell_type": "code",
   "execution_count": 16,
   "metadata": {},
   "outputs": [
    {
     "name": "stdout",
     "output_type": "stream",
     "text": [
      "system_log                               (type: <class 'str'>)\n",
      "json_file                                (type: <class 'str'>)\n",
      "train_val_json                           (type: <class 'str'>)\n",
      "heldout_json                             (type: <class 'str'>)\n",
      "unused_after_heldout_json                (type: <class 'str'>)\n",
      "unified_merged_file_cz                   (type: <class 'str'>)\n",
      "unified_merged_file_noncz                (type: <class 'str'>)\n",
      "unified_merged_file                      (type: <class 'str'>)\n",
      "data_path                                (type: <class 'str'>)\n",
      "cz_files                                 (type: <class 'list'>)\n",
      "noncz_files                              (type: <class 'list'>)\n",
      "2023-11-08 10:34:55,112 - root - DEBUG - Logger has started ont notebook 09 Random sample of instances.ipynb ...\n"
     ]
    }
   ],
   "source": [
    "config = configuration.get_config()\n",
    "for key in config:\n",
    "    print(f'{key:40} (type: {type(config[key])})')\n",
    "\n",
    "\n",
    "logging = logger.init_logger(config['system_log'])\n",
    "logging.debug('Logger has started ont notebook 09 Random sample of instances.ipynb ...')"
   ]
  },
  {
   "cell_type": "markdown",
   "metadata": {},
   "source": [
    "### Reading data from JSON file"
   ]
  },
  {
   "cell_type": "code",
   "execution_count": 3,
   "metadata": {},
   "outputs": [
    {
     "name": "stdout",
     "output_type": "stream",
     "text": [
      "618697\n"
     ]
    }
   ],
   "source": [
    "f = open(config['json_file'])\n",
    "data = json.load(f)\n",
    "print(len(data))"
   ]
  },
  {
   "cell_type": "markdown",
   "metadata": {},
   "source": [
    "### Parsing data to Python Data Classes"
   ]
  },
  {
   "cell_type": "code",
   "execution_count": 4,
   "metadata": {},
   "outputs": [
    {
     "data": {
      "text/plain": [
       "618697"
      ]
     },
     "execution_count": 4,
     "metadata": {},
     "output_type": "execute_result"
    }
   ],
   "source": [
    "all_admissions = []\n",
    "for ix in data:\n",
    "    all_admissions.append(\n",
    "        health_data.Admission.from_dict_data(admit_id=int(ix), admission=data[ix])\n",
    "        )\n",
    "len(all_admissions)"
   ]
  },
  {
   "cell_type": "markdown",
   "metadata": {},
   "source": [
    "### Ordering data per patient to find for each patient if there are readmissions "
   ]
  },
  {
   "cell_type": "code",
   "execution_count": 5,
   "metadata": {},
   "outputs": [
    {
     "name": "stdout",
     "output_type": "stream",
     "text": [
      "298372\n"
     ]
    }
   ],
   "source": [
    "from collections import defaultdict\n",
    "\n",
    "# Dictionary organizing data by patient\n",
    "patient2admissions = defaultdict(list)\n",
    "for admission in all_admissions:\n",
    "    code = admission.code\n",
    "    patient2admissions[code].append(admission)\n",
    "\n",
    "# Ordering patient list by discharge date (from back )\n",
    "for patient_code in patient2admissions:\n",
    "    admissions_list = patient2admissions[patient_code]\n",
    "    admissions_list = sorted(admissions_list, key=lambda admission: admission.discharge_date, reverse=False)\n",
    "    assert all([admissions_list[i].discharge_date <= admissions_list[i+1].discharge_date for i in range(len(admissions_list)-1)])\n",
    "    patient2admissions[patient_code] = admissions_list\n",
    "print(len(patient2admissions))"
   ]
  },
  {
   "cell_type": "markdown",
   "metadata": {},
   "source": [
    "### Reviewing ordered data for each patient, if there is a readmission, data is modified accordingly "
   ]
  },
  {
   "cell_type": "code",
   "execution_count": 6,
   "metadata": {},
   "outputs": [
    {
     "data": {
      "text/plain": [
       "60041"
      ]
     },
     "execution_count": 6,
     "metadata": {},
     "output_type": "execute_result"
    }
   ],
   "source": [
    "patient_count=0\n",
    "valid_readmission_count=0\n",
    "for patient_code in patient2admissions:\n",
    "    patient_admissions = patient2admissions[patient_code]\n",
    "    ix = 0 \n",
    "    while ix < len(patient_admissions):\n",
    "        readmission_code = patient_admissions[ix].readmission_code\n",
    "        if health_data.ReadmissionCode.is_readmit(readmission_code):\n",
    "            # Either is not the first admission (ix>0) or \n",
    "            # we don't have the patient previous admition (readmission close to begining of dataset) (admit-(2015-01-01))<28 days\n",
    "            # assert ix>0 or (patient_admissions[ix].admit_date - datetime.datetime.fromisoformat('2015-01-01')).days<365\n",
    "            if ix>0 and  patient_admissions[ix-1].is_valid_readmission(patient_admissions[ix]):\n",
    "                patient_admissions[ix-1].add_readmission(patient_admissions[ix])\n",
    "                valid_readmission_count+=1\n",
    "        ix+=1\n",
    "    patient_count+=1\n",
    "valid_readmission_count"
   ]
  },
  {
   "cell_type": "code",
   "execution_count": null,
   "metadata": {},
   "outputs": [],
   "source": []
  },
  {
   "cell_type": "markdown",
   "metadata": {},
   "source": [
    "### Computing Held-out boundaries"
   ]
  },
  {
   "cell_type": "code",
   "execution_count": 7,
   "metadata": {},
   "outputs": [
    {
     "name": "stdout",
     "output_type": "stream",
     "text": [
      "mean LOS: 10.338 days\n",
      "std LOS:  48.062 days\n"
     ]
    }
   ],
   "source": [
    "# Computing average LOS\n",
    "length_of_stays=[]\n",
    "for admission in all_admissions:\n",
    "    if not admission.admit_date is None:\n",
    "        days = (admission.discharge_date - admission.admit_date).days\n",
    "        length_of_stays.append(days)\n",
    "print(f'mean LOS: {np.average(length_of_stays):.3f} days')\n",
    "print(f'std LOS:  {np.std(length_of_stays):.3f} days')\n",
    "\n",
    "# Assuming normal distribution of LOS, mean LOS + one std to each side will contain 68 % of instances. \n",
    "# So, from 0 to mean LOS + one std has 84 %  (until the mean has 50% of instances, + 68%/2 for the mean LOS to (mean LOS + one std))\n",
    "# We will round up to a length of stay of 60 days. \n"
   ]
  },
  {
   "cell_type": "code",
   "execution_count": 8,
   "metadata": {},
   "outputs": [
    {
     "name": "stdout",
     "output_type": "stream",
     "text": [
      "Begining:                              2015-01-01 00:00:00\n",
      "Start held-out:                        2021-10-02 00:00:00\n",
      "End held-out:                          2022-10-02 00:00:00\n",
      "End data (usable 30 days prior):       2022-12-31 00:00:00\n"
     ]
    },
    {
     "data": {
      "text/plain": [
       "'2022-12-31 00:00:00'"
      ]
     },
     "execution_count": 8,
     "metadata": {},
     "output_type": "execute_result"
    }
   ],
   "source": [
    "\n",
    "held_out_size = 365\n",
    "readmission_timeframe = 30\n",
    "time_for_discharge_to_happen = 60   # For us to have the readmission, the readmission and the discharge has to happen before the end of our data (Dec 31st, 2022)\n",
    "                                    # So, for us to see the discharge it has to happen in October 2nd, 2022, 30 days after the readmission happens (Nov 1st, 2022), 60 after the discharge \n",
    "                                    # happens (on Dec 31st, 2022), so we will have the full entry of the readmission, because the discharge happened before the end of our dataset.\n",
    "\n",
    "latest_date = max([admission.discharge_date for admission in all_admissions])\n",
    "begining_dataset = min([admission.discharge_date for admission in all_admissions])\n",
    "\n",
    "\n",
    "start_heldout=latest_date - datetime.timedelta(days=held_out_size+readmission_timeframe+time_for_discharge_to_happen)\n",
    "end_heldout = latest_date - datetime.timedelta(days=readmission_timeframe+time_for_discharge_to_happen) \n",
    "\n",
    "print(f'Begining:                              {begining_dataset}')\n",
    "print(f'Start held-out:                        {start_heldout}')\n",
    "print(f'End held-out:                          {end_heldout}')\n",
    "print(f'End data (usable 30 days prior):       {latest_date}')\n",
    "\n",
    "\n",
    "str(latest_date)"
   ]
  },
  {
   "cell_type": "markdown",
   "metadata": {},
   "source": [
    "### Creating two JSON files from the two the original JSON file"
   ]
  },
  {
   "cell_type": "code",
   "execution_count": 11,
   "metadata": {},
   "outputs": [
    {
     "name": "stdout",
     "output_type": "stream",
     "text": [
      "held out:      74,350\n",
      "train and dev: 524,986\n",
      "unused:        19,361\n"
     ]
    }
   ],
   "source": [
    "\n",
    "\n",
    "held_out_data = {}\n",
    "train_val_data = {}\n",
    "unused_after_heldout={}\n",
    "for ix in data:\n",
    "    discharge_date = datetime.datetime.fromisoformat(data[ix]['Discharge Date'])\n",
    "    if begining_dataset <= discharge_date and discharge_date < start_heldout:\n",
    "        train_val_data[ix]=data[ix]\n",
    "    elif start_heldout<= discharge_date and discharge_date <= end_heldout:\n",
    "        held_out_data[ix]=data[ix]\n",
    "    else:\n",
    "        unused_after_heldout[ix]=data[ix]\n",
    "\n",
    "\n",
    "print(f'held out:      {len(held_out_data):,}')\n",
    "print(f'train and dev: {len(train_val_data):,}')\n",
    "print(f'unused:        {len(unused_after_heldout):,}')"
   ]
  },
  {
   "cell_type": "code",
   "execution_count": 12,
   "metadata": {},
   "outputs": [
    {
     "data": {
      "text/plain": [
       "618697"
      ]
     },
     "execution_count": 12,
     "metadata": {},
     "output_type": "execute_result"
    }
   ],
   "source": [
    "len(held_out_data)+len(train_val_data)+len(unused_after_heldout)"
   ]
  },
  {
   "cell_type": "code",
   "execution_count": 17,
   "metadata": {},
   "outputs": [],
   "source": [
    "# Training JSON\n",
    "with open(config['train_val_json'], 'w') as f:\n",
    "    json.dump(train_val_data, f)\n",
    "\n",
    "# Held-out JSON\n",
    "with open(config['heldout_json'], 'w') as f:\n",
    "    json.dump(held_out_data, f)\n",
    "\n",
    "# Unused JSON\n",
    "with open(config['unused_after_heldout_json'], 'w') as f:\n",
    "    json.dump(unused_after_heldout, f)"
   ]
  },
  {
   "cell_type": "code",
   "execution_count": null,
   "metadata": {},
   "outputs": [],
   "source": []
  },
  {
   "cell_type": "code",
   "execution_count": null,
   "metadata": {},
   "outputs": [],
   "source": [
    "# train_and_validation_admissions = []\n",
    "# heldout_admissions = []\n",
    "\n",
    "# for admission in all_admissions:\n",
    "#     if begining_dataset <= admission.discharge_date and admission.discharge_date < start_heldout:\n",
    "#         train_and_validation_admissions.append(admission)\n",
    "#     elif start_heldout <= admission.discharge_date:\n",
    "#         heldout_admissions.append(admission)\n",
    "# print(f'len(train_and_validation_admissions)= {train_and_validation_admissions}')\n",
    "# print(f'len(heldout_admissions)=              {heldout_admissions}')"
   ]
  },
  {
   "cell_type": "code",
   "execution_count": null,
   "metadata": {},
   "outputs": [],
   "source": [
    "# count=0\n",
    "# for admission in all_admissions:\n",
    "#     if admission.has_readmission():\n",
    "#         count+=1\n",
    "# print(f'{100*(count/len(all_admissions))} %')"
   ]
  }
 ],
 "metadata": {
  "kernelspec": {
   "display_name": "alc",
   "language": "python",
   "name": "python3"
  },
  "language_info": {
   "codemirror_mode": {
    "name": "ipython",
    "version": 3
   },
   "file_extension": ".py",
   "mimetype": "text/x-python",
   "name": "python",
   "nbconvert_exporter": "python",
   "pygments_lexer": "ipython3",
   "version": "3.9.6"
  }
 },
 "nbformat": 4,
 "nbformat_minor": 2
}
