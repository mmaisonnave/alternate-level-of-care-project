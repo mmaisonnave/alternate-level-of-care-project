{
 "cells": [
  {
   "cell_type": "code",
   "execution_count": 21,
   "metadata": {},
   "outputs": [],
   "source": [
    "import pandas as pd\n",
    "import matplotlib.pyplot as plt\n",
    "from datetime import date\n",
    "import datetime\n",
    "import pandas as pd\n",
    "import numpy as np\n",
    "import seaborn as sns\n",
    "import json\n",
    "import re\n",
    "import os\n",
    "import sys\n",
    "sys.path.append('..')\n",
    "from utilities import logger\n",
    "from utilities import configuration\n"
   ]
  },
  {
   "cell_type": "code",
   "execution_count": 4,
   "metadata": {},
   "outputs": [
    {
     "name": "stdout",
     "output_type": "stream",
     "text": [
      "system_log                               (type: <class 'str'>)\n",
      "json_file                                (type: <class 'str'>)\n",
      "unified_merged_file_cz                   (type: <class 'str'>)\n",
      "unified_merged_file_noncz                (type: <class 'str'>)\n",
      "unified_merged_file                      (type: <class 'str'>)\n",
      "data_path                                (type: <class 'str'>)\n",
      "cz_files                                 (type: <class 'list'>)\n",
      "noncz_files                              (type: <class 'list'>)\n",
      "2023-09-28 11:57:03,294 - root - DEBUG - Logger has started ont notebook 05. Analysing features.ipynb ...\n"
     ]
    }
   ],
   "source": [
    "config = configuration.get_config()\n",
    "for key in config:\n",
    "    print(f'{key:40} (type: {type(config[key])})')\n",
    "\n",
    "\n",
    "logging = logger.init_logger(config['system_log'])\n",
    "logging.debug('Logger has started ont notebook 05. Analysing features.ipynb ...')"
   ]
  },
  {
   "cell_type": "code",
   "execution_count": 5,
   "metadata": {},
   "outputs": [
    {
     "name": "stderr",
     "output_type": "stream",
     "text": [
      "/var/folders/d0/9279s72s163gx0_12qbmr9440000gn/T/ipykernel_4072/852065790.py:1: DtypeWarning: Columns (18,20) have mixed types. Specify dtype option on import or set low_memory=False.\n",
      "  df = pd.read_csv(config['unified_merged_file'])\n"
     ]
    },
    {
     "data": {
      "text/plain": [
       "(618697, 31)"
      ]
     },
     "execution_count": 5,
     "metadata": {},
     "output_type": "execute_result"
    }
   ],
   "source": [
    "df = pd.read_csv(config['unified_merged_file'])\n",
    "df.shape"
   ]
  },
  {
   "cell_type": "code",
   "execution_count": 20,
   "metadata": {},
   "outputs": [
    {
     "ename": "AssertionError",
     "evalue": "<class 'str'>",
     "output_type": "error",
     "traceback": [
      "\u001b[0;31m---------------------------------------------------------------------------\u001b[0m",
      "\u001b[0;31mAssertionError\u001b[0m                            Traceback (most recent call last)",
      "Cell \u001b[0;32mIn[20], line 3\u001b[0m\n\u001b[1;32m      1\u001b[0m \u001b[39mfor\u001b[39;00m ix \u001b[39min\u001b[39;00m \u001b[39mrange\u001b[39m(df\u001b[39m.\u001b[39mshape[\u001b[39m0\u001b[39m]):\n\u001b[1;32m      2\u001b[0m     row \u001b[39m=\u001b[39m df\u001b[39m.\u001b[39miloc[ix,:]\n\u001b[0;32m----> 3\u001b[0m     \u001b[39massert\u001b[39;00m \u001b[39misinstance\u001b[39m(row[\u001b[39m'\u001b[39m\u001b[39mCoded HCN\u001b[39m\u001b[39m'\u001b[39m], \u001b[39mint\u001b[39m), \u001b[39mtype\u001b[39m(row[\u001b[39m'\u001b[39m\u001b[39mCoded HCN\u001b[39m\u001b[39m'\u001b[39m])\n",
      "\u001b[0;31mAssertionError\u001b[0m: <class 'str'>"
     ]
    }
   ],
   "source": []
  },
  {
   "cell_type": "code",
   "execution_count": 12,
   "metadata": {},
   "outputs": [
    {
     "data": {
      "text/plain": [
       "['4988519.0', '170805.0', '170805.0']"
      ]
     },
     "execution_count": 12,
     "metadata": {},
     "output_type": "execute_result"
    }
   ],
   "source": [
    "re.findall('([0-9\\.][0-9\\.]*)',df['Coded HCN'].iloc[256006])"
   ]
  },
  {
   "cell_type": "code",
   "execution_count": 23,
   "metadata": {},
   "outputs": [
    {
     "data": {
      "text/plain": [
       "'2290324.0'"
      ]
     },
     "execution_count": 23,
     "metadata": {},
     "output_type": "execute_result"
    }
   ],
   "source": [
    "for ix, hcn_code in enumerate(df['Coded HCN']):\n",
    "    if isinstance(hcn_code, str):\n",
    "        if '[' in hcn_code:\n",
    "            if '[]'!=hcn_code:\n",
    "                hcn_code=re.findall('([0-9\\.][0-9\\.]*)',df['Coded HCN'].iloc[256006])\n",
    "                assert df['CZ status'].iloc[ix]=='Non-cz'\n",
    "                \n",
    "hcn_code\n",
    "\n"
   ]
  },
  {
   "cell_type": "code",
   "execution_count": 20,
   "metadata": {},
   "outputs": [
    {
     "data": {
      "text/plain": [
       "'Non-cz'"
      ]
     },
     "execution_count": 20,
     "metadata": {},
     "output_type": "execute_result"
    }
   ],
   "source": [
    "\n",
    "df['CZ status'].iloc[ix]"
   ]
  },
  {
   "cell_type": "code",
   "execution_count": 18,
   "metadata": {},
   "outputs": [
    {
     "data": {
      "text/plain": [
       "Institution Number:                                                        43\n",
       "Coded HCN                                     [4988519.0, 170805.0, 170805.0]\n",
       "Admit Date:                                               2014-12-22 00:00:00\n",
       "Disch Date:                                               2015-01-01 00:00:00\n",
       "Readmission Code:                                                           9\n",
       "Patient Age:                                                               80\n",
       "Gender:                                                                Female\n",
       "MRDx                                           I500  Congestive heart failure\n",
       "Postal Code:                                                           B2G1Y1\n",
       "Diagnosis:                                          ['I500', 'E1152', 'J449']\n",
       "Diagnosis Long Text         ['Congestive heart failure', 'Type 2 diabetes ...\n",
       "Diagnosis Type                                                ['M', '3', '3']\n",
       "Intervention Code                                                          **\n",
       "Px Long Text                                                               **\n",
       "Admit Category:                                            U Emergent, urgent\n",
       "Entry Code:                                              E Emergency Departme\n",
       "Transfusion Given                                                          No\n",
       "Main Pt Service:                                                   Cardiology\n",
       "CMG                                                                     196.0\n",
       "Comorbidity Level                               0  No Significant Comorbidity\n",
       "Case Weight                                                            0.8487\n",
       "ALCDays                                                                     0\n",
       "Acute Days                                                                 10\n",
       "Institution To                                                           9089\n",
       "Institution From                                                           **\n",
       "Institution Type                                                           **\n",
       "Discharge Nurse Unit                                                       **\n",
       "is ALC Patient                                                          False\n",
       "Disch Date (year-month):                                              2015-01\n",
       "Total Days in Hospital                                                   10.0\n",
       "CZ status                                                              Non-cz\n",
       "Name: 256006, dtype: object"
      ]
     },
     "execution_count": 18,
     "metadata": {},
     "output_type": "execute_result"
    }
   ],
   "source": [
    "df.iloc[256006,:]"
   ]
  },
  {
   "cell_type": "code",
   "execution_count": 76,
   "metadata": {},
   "outputs": [
    {
     "data": {
      "text/plain": [
       "{'[]'}"
      ]
     },
     "execution_count": 76,
     "metadata": {},
     "output_type": "execute_result"
    }
   ],
   "source": [
    "from collections import defaultdict\n",
    "import math\n",
    "patient2record = defaultdict(list)\n",
    "removed=set()\n",
    "for ix in range(df.shape[0]):\n",
    "    hcn_code = df['Coded HCN'].iloc[ix]\n",
    "    if hcn_code != '[]' and hcn_code!='**':\n",
    "        if '[' in hcn_code:\n",
    "            hcn_code = re.findall('([0-9\\.][0-9\\.]*)', hcn_code)\n",
    "            # \n",
    "            hcn_code = list(map(float, hcn_code))\n",
    "            assert all([math.floor(number)==number for number in hcn_code])\n",
    "            hcn_code = (set(map(math.floor, hcn_code)))\n",
    "            if hcn_code!={170805}:\n",
    "                hcn_code = list(filter(lambda numero: numero!=170805, hcn_code))\n",
    "                assert len(hcn_code)==1, df['Coded HCN'].iloc[ix]\n",
    "                hcn_code = hcn_code[0]\n",
    "\n",
    "                patient2record[hcn_code].append(ix)\n",
    "            \n",
    "        else:\n",
    "            hcn_code = float(hcn_code)\n",
    "            assert hcn_code==math.floor(hcn_code)\n",
    "            hcn_code = math.floor(hcn_code)\n",
    "            patient2record[hcn_code].append(ix)\n",
    "    else:\n",
    "        removed.add(hcn_code)\n",
    "removed"
   ]
  },
  {
   "cell_type": "code",
   "execution_count": 75,
   "metadata": {},
   "outputs": [
    {
     "name": "stdout",
     "output_type": "stream",
     "text": [
      "617980\n",
      "298371\n"
     ]
    }
   ],
   "source": [
    "record_count=0\n",
    "for patient in patient2record:\n",
    "    record_count+=len(patient2record[patient])\n",
    "print((record_count))\n",
    "print(len(patient2record))"
   ]
  },
  {
   "cell_type": "code",
   "execution_count": 64,
   "metadata": {},
   "outputs": [
    {
     "data": {
      "text/plain": [
       "[170805, 4988519]"
      ]
     },
     "execution_count": 64,
     "metadata": {},
     "output_type": "execute_result"
    }
   ],
   "source": [
    "hcn_code = df['Coded HCN'].iloc[256006]\n",
    "hcn_code = re.findall('([0-9\\.][0-9\\.]*)', hcn_code)\n",
    "hcn_code = map(float, hcn_code)\n",
    "hcn_code = tuple(sorted(set(map(math.floor, hcn_code))))\n",
    "assert len(list(filter(lambda numero: numero!=170805, hcn_code)))==1, str(ix)\n",
    "\n",
    "list(hcn_code)"
   ]
  },
  {
   "cell_type": "code",
   "execution_count": 45,
   "metadata": {},
   "outputs": [],
   "source": [
    "tuple_ = (170805, 4988519)\n"
   ]
  },
  {
   "cell_type": "code",
   "execution_count": 47,
   "metadata": {},
   "outputs": [
    {
     "data": {
      "text/plain": [
       "[4988519]"
      ]
     },
     "execution_count": 47,
     "metadata": {},
     "output_type": "execute_result"
    }
   ],
   "source": [
    "list(filter(lambda x: x!=170805, tuple_))"
   ]
  },
  {
   "cell_type": "code",
   "execution_count": 77,
   "metadata": {},
   "outputs": [
    {
     "data": {
      "text/plain": [
       "(618697, 31)"
      ]
     },
     "execution_count": 77,
     "metadata": {},
     "output_type": "execute_result"
    }
   ],
   "source": [
    "df.shape"
   ]
  },
  {
   "cell_type": "code",
   "execution_count": 81,
   "metadata": {},
   "outputs": [
    {
     "data": {
      "text/plain": [
       "Index(['Discharge Nurse Unit', 'is ALC Patient', 'Disch Date (year-month):',\n",
       "       'Total Days in Hospital', 'CZ status'],\n",
       "      dtype='object')"
      ]
     },
     "execution_count": 81,
     "metadata": {},
     "output_type": "execute_result"
    }
   ],
   "source": [
    "df.columns[-5:]"
   ]
  },
  {
   "cell_type": "code",
   "execution_count": null,
   "metadata": {},
   "outputs": [],
   "source": []
  }
 ],
 "metadata": {
  "kernelspec": {
   "display_name": "alc",
   "language": "python",
   "name": "python3"
  },
  "language_info": {
   "codemirror_mode": {
    "name": "ipython",
    "version": 3
   },
   "file_extension": ".py",
   "mimetype": "text/x-python",
   "name": "python",
   "nbconvert_exporter": "python",
   "pygments_lexer": "ipython3",
   "version": "3.9.6"
  },
  "orig_nbformat": 4
 },
 "nbformat": 4,
 "nbformat_minor": 2
}
