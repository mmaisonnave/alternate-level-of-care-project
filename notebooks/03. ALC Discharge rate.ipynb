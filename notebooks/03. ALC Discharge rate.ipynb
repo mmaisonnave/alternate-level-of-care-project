{
 "cells": [
  {
   "cell_type": "markdown",
   "metadata": {},
   "source": [
    "## Plot to analyze ratio of discharge of ALC Patients\n",
    "\n",
    "Notebook to explore the discharge rate of ALC patients over time. \n",
    "\n",
    "For each ALC patient (`df[ALCDays]>0`) I ploted an timeline on when they where discharged. \n",
    "\n",
    "Increasing number of ALC Discharges means more beds available \n"
   ]
  },
  {
   "cell_type": "code",
   "execution_count": 1,
   "metadata": {},
   "outputs": [],
   "source": [
    "import yaml\n",
    "import pandas as pd\n",
    "import matplotlib.pyplot as plt\n",
    "from datetime import date\n",
    "import numpy as np\n",
    "import seaborn as sns"
   ]
  },
  {
   "cell_type": "code",
   "execution_count": 2,
   "metadata": {},
   "outputs": [
    {
     "name": "stdout",
     "output_type": "stream",
     "text": [
      "unified_merged_file_cz                   (type: <class 'str'>)\n",
      "unified_merged_file_noncz                (type: <class 'str'>)\n",
      "data_path                                (type: <class 'str'>)\n",
      "cz_files                                 (type: <class 'list'>)\n",
      "noncz_files                              (type: <class 'list'>)\n"
     ]
    }
   ],
   "source": [
    "with open('../config/paths.yaml', 'r') as file:\n",
    "    config = yaml.safe_load(file)\n",
    "for key in config:\n",
    "    print(f'{key:40} (type: {type(config[key])})')"
   ]
  },
  {
   "cell_type": "code",
   "execution_count": 19,
   "metadata": {},
   "outputs": [
    {
     "name": "stderr",
     "output_type": "stream",
     "text": [
      "/var/folders/d0/9279s72s163gx0_12qbmr9440000gn/T/ipykernel_2599/1218031301.py:1: DtypeWarning: Columns (18) have mixed types. Specify dtype option on import or set low_memory=False.\n",
      "  df = pd.read_csv(config['unified_merged_file_cz'])\n"
     ]
    },
    {
     "data": {
      "text/html": [
       "<div>\n",
       "<style scoped>\n",
       "    .dataframe tbody tr th:only-of-type {\n",
       "        vertical-align: middle;\n",
       "    }\n",
       "\n",
       "    .dataframe tbody tr th {\n",
       "        vertical-align: top;\n",
       "    }\n",
       "\n",
       "    .dataframe thead th {\n",
       "        text-align: right;\n",
       "    }\n",
       "</style>\n",
       "<table border=\"1\" class=\"dataframe\">\n",
       "  <thead>\n",
       "    <tr style=\"text-align: right;\">\n",
       "      <th></th>\n",
       "      <th>Admit Date:</th>\n",
       "      <th>Disch Date:</th>\n",
       "      <th>Patient Age:</th>\n",
       "      <th>ALCDays</th>\n",
       "      <th>Disch Date (year-month):</th>\n",
       "    </tr>\n",
       "  </thead>\n",
       "  <tbody>\n",
       "    <tr>\n",
       "      <th>0</th>\n",
       "      <td>2014-12-24</td>\n",
       "      <td>2015-01-01</td>\n",
       "      <td>67</td>\n",
       "      <td>0</td>\n",
       "      <td>2015-01</td>\n",
       "    </tr>\n",
       "    <tr>\n",
       "      <th>1</th>\n",
       "      <td>2014-12-30</td>\n",
       "      <td>2015-01-01</td>\n",
       "      <td>38</td>\n",
       "      <td>0</td>\n",
       "      <td>2015-01</td>\n",
       "    </tr>\n",
       "    <tr>\n",
       "      <th>2</th>\n",
       "      <td>2014-12-29</td>\n",
       "      <td>2015-01-01</td>\n",
       "      <td>62</td>\n",
       "      <td>0</td>\n",
       "      <td>2015-01</td>\n",
       "    </tr>\n",
       "    <tr>\n",
       "      <th>3</th>\n",
       "      <td>2014-12-31</td>\n",
       "      <td>2015-01-01</td>\n",
       "      <td>37</td>\n",
       "      <td>0</td>\n",
       "      <td>2015-01</td>\n",
       "    </tr>\n",
       "    <tr>\n",
       "      <th>4</th>\n",
       "      <td>2014-12-29</td>\n",
       "      <td>2015-01-01</td>\n",
       "      <td>49</td>\n",
       "      <td>0</td>\n",
       "      <td>2015-01</td>\n",
       "    </tr>\n",
       "    <tr>\n",
       "      <th>...</th>\n",
       "      <td>...</td>\n",
       "      <td>...</td>\n",
       "      <td>...</td>\n",
       "      <td>...</td>\n",
       "      <td>...</td>\n",
       "    </tr>\n",
       "    <tr>\n",
       "      <th>256001</th>\n",
       "      <td>2022-07-28</td>\n",
       "      <td>2022-12-28</td>\n",
       "      <td>37</td>\n",
       "      <td>153</td>\n",
       "      <td>2022-12</td>\n",
       "    </tr>\n",
       "    <tr>\n",
       "      <th>256002</th>\n",
       "      <td>2022-12-21</td>\n",
       "      <td>2022-12-28</td>\n",
       "      <td>41</td>\n",
       "      <td>0</td>\n",
       "      <td>2022-12</td>\n",
       "    </tr>\n",
       "    <tr>\n",
       "      <th>256003</th>\n",
       "      <td>2022-12-22</td>\n",
       "      <td>2022-12-29</td>\n",
       "      <td>43</td>\n",
       "      <td>0</td>\n",
       "      <td>2022-12</td>\n",
       "    </tr>\n",
       "    <tr>\n",
       "      <th>256004</th>\n",
       "      <td>2022-12-21</td>\n",
       "      <td>2022-12-30</td>\n",
       "      <td>35</td>\n",
       "      <td>0</td>\n",
       "      <td>2022-12</td>\n",
       "    </tr>\n",
       "    <tr>\n",
       "      <th>256005</th>\n",
       "      <td>2022-12-29</td>\n",
       "      <td>2022-12-30</td>\n",
       "      <td>25</td>\n",
       "      <td>0</td>\n",
       "      <td>2022-12</td>\n",
       "    </tr>\n",
       "  </tbody>\n",
       "</table>\n",
       "<p>256006 rows × 5 columns</p>\n",
       "</div>"
      ],
      "text/plain": [
       "       Admit Date: Disch Date:  Patient Age:  ALCDays Disch Date (year-month):\n",
       "0       2014-12-24  2015-01-01            67        0                  2015-01\n",
       "1       2014-12-30  2015-01-01            38        0                  2015-01\n",
       "2       2014-12-29  2015-01-01            62        0                  2015-01\n",
       "3       2014-12-31  2015-01-01            37        0                  2015-01\n",
       "4       2014-12-29  2015-01-01            49        0                  2015-01\n",
       "...            ...         ...           ...      ...                      ...\n",
       "256001  2022-07-28  2022-12-28            37      153                  2022-12\n",
       "256002  2022-12-21  2022-12-28            41        0                  2022-12\n",
       "256003  2022-12-22  2022-12-29            43        0                  2022-12\n",
       "256004  2022-12-21  2022-12-30            35        0                  2022-12\n",
       "256005  2022-12-29  2022-12-30            25        0                  2022-12\n",
       "\n",
       "[256006 rows x 5 columns]"
      ]
     },
     "execution_count": 19,
     "metadata": {},
     "output_type": "execute_result"
    }
   ],
   "source": [
    "df = pd.read_csv(config['unified_merged_file_cz'])\n",
    "df['is ALC Patient'] = df['ALCDays'] > 0\n",
    "df['Admit Date:'] = [date.fromisoformat(date_.replace('/','-')) for date_ in df['Admit Date:']]\n",
    "df['Disch Date:'] = [date.fromisoformat(date_.replace('/','-')) for date_ in df['Disch Date:']]\n",
    "df['Disch Date (year-month):'] = [str(date_)[:7] for date_ in df['Disch Date:']]\n",
    "df['Total Days in Hospital'] = [1 if (discharge-admit).days==0 else (discharge-admit).days  for admit,discharge in zip(df['Admit Date:'], df['Disch Date:'])]\n",
    "df[['Admit Date:', 'Disch Date:', 'Patient Age:', 'ALCDays','Disch Date (year-month):']]"
   ]
  },
  {
   "cell_type": "code",
   "execution_count": 62,
   "metadata": {},
   "outputs": [
    {
     "data": {
      "text/plain": [
       "<matplotlib.legend.Legend at 0x2afda6310>"
      ]
     },
     "execution_count": 62,
     "metadata": {},
     "output_type": "execute_result"
    },
    {
     "data": {
      "image/png": "[encoded data removed]",
      "text/plain": [
       "<Figure size 600x600 with 2 Axes>"
      ]
     },
     "metadata": {},
     "output_type": "display_data"
    }
   ],
   "source": [
    "fig, ax = plt.subplots(2,figsize=(6,6))\n",
    "x=[]\n",
    "y=[]\n",
    "y2=[]\n",
    "for date_ in sorted(set(df['Disch Date (year-month):'])):\n",
    "    auxdf = df[df['Disch Date (year-month):']==date_]\n",
    "    count = np.sum(auxdf['ALCDays']>0)\n",
    "    total = auxdf.shape[0]\n",
    "    x.append(date_)\n",
    "    y.append(float(count)/float(total), )\n",
    "    y2.append(float(count),)\n",
    "\n",
    "\n",
    "ax[0].plot(x,y, label='normalized')\n",
    "ax[1].plot(x,y2, label='not normalized')\n",
    "ax[0].legend()\n",
    "ax[1].legend()"
   ]
  },
  {
   "cell_type": "code",
   "execution_count": 56,
   "metadata": {},
   "outputs": [
    {
     "data": {
      "text/plain": [
       "[0.0190267105744603, 0.0140625]"
      ]
     },
     "execution_count": 56,
     "metadata": {},
     "output_type": "execute_result"
    }
   ],
   "source": [
    "y[:2]"
   ]
  },
  {
   "cell_type": "code",
   "execution_count": 58,
   "metadata": {},
   "outputs": [
    {
     "data": {
      "text/plain": [
       "[52.0, 36.0]"
      ]
     },
     "execution_count": 58,
     "metadata": {},
     "output_type": "execute_result"
    }
   ],
   "source": [
    "y2[:2]"
   ]
  },
  {
   "cell_type": "code",
   "execution_count": 22,
   "metadata": {},
   "outputs": [
    {
     "ename": "ValueError",
     "evalue": "Invalid isoformat string: '2011/01/01'",
     "output_type": "error",
     "traceback": [
      "\u001b[0;31m---------------------------------------------------------------------------\u001b[0m",
      "\u001b[0;31mValueError\u001b[0m                                Traceback (most recent call last)",
      "Cell \u001b[0;32mIn[22], line 1\u001b[0m\n\u001b[0;32m----> 1\u001b[0m date\u001b[39m.\u001b[39;49mfromisoformat(\u001b[39m'\u001b[39;49m\u001b[39m2011/01/01\u001b[39;49m\u001b[39m'\u001b[39;49m)\n",
      "\u001b[0;31mValueError\u001b[0m: Invalid isoformat string: '2011/01/01'"
     ]
    }
   ],
   "source": [
    "date.fromisoformat('2011/01/01')"
   ]
  },
  {
   "cell_type": "code",
   "execution_count": 20,
   "metadata": {},
   "outputs": [
    {
     "data": {
      "text/html": [
       "<div>\n",
       "<style scoped>\n",
       "    .dataframe tbody tr th:only-of-type {\n",
       "        vertical-align: middle;\n",
       "    }\n",
       "\n",
       "    .dataframe tbody tr th {\n",
       "        vertical-align: top;\n",
       "    }\n",
       "\n",
       "    .dataframe thead th {\n",
       "        text-align: right;\n",
       "    }\n",
       "</style>\n",
       "<table border=\"1\" class=\"dataframe\">\n",
       "  <thead>\n",
       "    <tr style=\"text-align: right;\">\n",
       "      <th></th>\n",
       "      <th>Admit Date:</th>\n",
       "      <th>Disch Date:</th>\n",
       "      <th>ALCDays</th>\n",
       "      <th>Acute Days</th>\n",
       "      <th>Total Days in Hospital</th>\n",
       "    </tr>\n",
       "  </thead>\n",
       "  <tbody>\n",
       "    <tr>\n",
       "      <th>0</th>\n",
       "      <td>2014-12-24</td>\n",
       "      <td>2015-01-01</td>\n",
       "      <td>0</td>\n",
       "      <td>8</td>\n",
       "      <td>8</td>\n",
       "    </tr>\n",
       "    <tr>\n",
       "      <th>1</th>\n",
       "      <td>2014-12-30</td>\n",
       "      <td>2015-01-01</td>\n",
       "      <td>0</td>\n",
       "      <td>2</td>\n",
       "      <td>2</td>\n",
       "    </tr>\n",
       "    <tr>\n",
       "      <th>2</th>\n",
       "      <td>2014-12-29</td>\n",
       "      <td>2015-01-01</td>\n",
       "      <td>0</td>\n",
       "      <td>3</td>\n",
       "      <td>3</td>\n",
       "    </tr>\n",
       "    <tr>\n",
       "      <th>3</th>\n",
       "      <td>2014-12-31</td>\n",
       "      <td>2015-01-01</td>\n",
       "      <td>0</td>\n",
       "      <td>1</td>\n",
       "      <td>1</td>\n",
       "    </tr>\n",
       "    <tr>\n",
       "      <th>4</th>\n",
       "      <td>2014-12-29</td>\n",
       "      <td>2015-01-01</td>\n",
       "      <td>0</td>\n",
       "      <td>3</td>\n",
       "      <td>3</td>\n",
       "    </tr>\n",
       "    <tr>\n",
       "      <th>...</th>\n",
       "      <td>...</td>\n",
       "      <td>...</td>\n",
       "      <td>...</td>\n",
       "      <td>...</td>\n",
       "      <td>...</td>\n",
       "    </tr>\n",
       "    <tr>\n",
       "      <th>256001</th>\n",
       "      <td>2022-07-28</td>\n",
       "      <td>2022-12-28</td>\n",
       "      <td>153</td>\n",
       "      <td>0</td>\n",
       "      <td>153</td>\n",
       "    </tr>\n",
       "    <tr>\n",
       "      <th>256002</th>\n",
       "      <td>2022-12-21</td>\n",
       "      <td>2022-12-28</td>\n",
       "      <td>0</td>\n",
       "      <td>7</td>\n",
       "      <td>7</td>\n",
       "    </tr>\n",
       "    <tr>\n",
       "      <th>256003</th>\n",
       "      <td>2022-12-22</td>\n",
       "      <td>2022-12-29</td>\n",
       "      <td>0</td>\n",
       "      <td>7</td>\n",
       "      <td>7</td>\n",
       "    </tr>\n",
       "    <tr>\n",
       "      <th>256004</th>\n",
       "      <td>2022-12-21</td>\n",
       "      <td>2022-12-30</td>\n",
       "      <td>0</td>\n",
       "      <td>9</td>\n",
       "      <td>9</td>\n",
       "    </tr>\n",
       "    <tr>\n",
       "      <th>256005</th>\n",
       "      <td>2022-12-29</td>\n",
       "      <td>2022-12-30</td>\n",
       "      <td>0</td>\n",
       "      <td>1</td>\n",
       "      <td>1</td>\n",
       "    </tr>\n",
       "  </tbody>\n",
       "</table>\n",
       "<p>256006 rows × 5 columns</p>\n",
       "</div>"
      ],
      "text/plain": [
       "       Admit Date: Disch Date:  ALCDays  Acute Days  Total Days in Hospital\n",
       "0       2014-12-24  2015-01-01        0           8                       8\n",
       "1       2014-12-30  2015-01-01        0           2                       2\n",
       "2       2014-12-29  2015-01-01        0           3                       3\n",
       "3       2014-12-31  2015-01-01        0           1                       1\n",
       "4       2014-12-29  2015-01-01        0           3                       3\n",
       "...            ...         ...      ...         ...                     ...\n",
       "256001  2022-07-28  2022-12-28      153           0                     153\n",
       "256002  2022-12-21  2022-12-28        0           7                       7\n",
       "256003  2022-12-22  2022-12-29        0           7                       7\n",
       "256004  2022-12-21  2022-12-30        0           9                       9\n",
       "256005  2022-12-29  2022-12-30        0           1                       1\n",
       "\n",
       "[256006 rows x 5 columns]"
      ]
     },
     "execution_count": 20,
     "metadata": {},
     "output_type": "execute_result"
    }
   ],
   "source": [
    "for ix,(alc_days, acute_days, total_days) in enumerate(zip(df['ALCDays'], df['Acute Days'], df['Total Days in Hospital'])):\n",
    "    assert alc_days+acute_days == total_days, f'{ix}: {alc_days}+{acute_days} == {total_days}'\n",
    "\n",
    "df[df['ALCDays']>=0][['Admit Date:', 'Disch Date:', 'ALCDays', 'Acute Days', 'Total Days in Hospital']]"
   ]
  },
  {
   "cell_type": "code",
   "execution_count": 18,
   "metadata": {},
   "outputs": [
    {
     "data": {
      "text/plain": [
       "Institution Number:                                                        65\n",
       "Coded HCN                                                           4584715.0\n",
       "Admit Date:                                                        2015-01-02\n",
       "Disch Date:                                                        2015-01-02\n",
       "Readmission Code:                        5 New patient to the acute care unit\n",
       "Patient Age:                                                               39\n",
       "Gender:                                                                Female\n",
       "MRDx                                 C73  Malignant neoplasm of thyroid gland\n",
       "Postal Code:                                                           B2W0H9\n",
       "Diagnosis:                                                    ['C73', 'E063']\n",
       "Diagnosis Long Text         ['Malignant neoplasm of thyroid gland', 'Autoi...\n",
       "Diagnosis Type                                                     ['M', '3']\n",
       "Intervention Code                                                     1FU87NZ\n",
       "Px Long Text                Excision partial, thyroid gland open approach ...\n",
       "Admit Category:                                                    L Elective\n",
       "Entry Code:                                                          D Direct\n",
       "Transfusion Given                                                          No\n",
       "Main Pt Service:                                       Otolaryngology and ORL\n",
       "CMG                                                                       424\n",
       "Comorbidity Level                               0  No Significant Comorbidity\n",
       "Case Weight                                                            0.7027\n",
       "ALCDays                                                                     0\n",
       "Acute Days                                                                  1\n",
       "Institution To                                                             **\n",
       "Institution From                                                           **\n",
       "Institution Type                                                           **\n",
       "Discharge Nurse Unit                                                      D32\n",
       "is ALC Patient                                                          False\n",
       "Disch Date (year-month):                                              2015-01\n",
       "Total Days in Hospital                                                      0\n",
       "Name: 16, dtype: object"
      ]
     },
     "execution_count": 18,
     "metadata": {},
     "output_type": "execute_result"
    }
   ],
   "source": [
    "df.iloc[16]"
   ]
  },
  {
   "cell_type": "code",
   "execution_count": 9,
   "metadata": {},
   "outputs": [
    {
     "data": {
      "text/plain": [
       "8"
      ]
     },
     "execution_count": 9,
     "metadata": {},
     "output_type": "execute_result"
    }
   ],
   "source": [
    "delta_.days"
   ]
  }
 ],
 "metadata": {
  "kernelspec": {
   "display_name": "alc",
   "language": "python",
   "name": "python3"
  },
  "language_info": {
   "codemirror_mode": {
    "name": "ipython",
    "version": 3
   },
   "file_extension": ".py",
   "mimetype": "text/x-python",
   "name": "python",
   "nbconvert_exporter": "python",
   "pygments_lexer": "ipython3",
   "version": "3.9.6"
  },
  "orig_nbformat": 4
 },
 "nbformat": 4,
 "nbformat_minor": 2
}
