{
 "cells": [
  {
   "cell_type": "markdown",
   "metadata": {},
   "source": [
    "## Dividing into train and validation and trying basic clfs (LogReg, Dec tree, MLP, SVM) (excluding Diagnosis code from features) "
   ]
  },
  {
   "cell_type": "code",
   "execution_count": 1,
   "metadata": {},
   "outputs": [],
   "source": [
    "import pandas as pd\n",
    "import matplotlib.pyplot as plt\n",
    "from datetime import date\n",
    "import datetime\n",
    "import numpy as np\n",
    "import seaborn as sns\n",
    "import re\n",
    "import json\n",
    "import pandas as pd\n",
    "import math\n",
    "import ast\n",
    "import os\n",
    "from collections import defaultdict\n",
    "import sys\n",
    "sys.path.append('..')\n",
    "from utilities import logger\n",
    "from utilities import configuration\n",
    "from utilities import health_data\n",
    "\n",
    "from sklearn.svm import SVC\n",
    "from sklearn.tree import DecisionTreeClassifier\n",
    "from sklearn.linear_model import LogisticRegression\n",
    "from sklearn.metrics import f1_score, precision_score, recall_score\n",
    "from sklearn.preprocessing import StandardScaler\n",
    "\n",
    "from sklearn.neural_network import MLPClassifier\n"
   ]
  },
  {
   "cell_type": "markdown",
   "metadata": {},
   "source": [
    "### Recovering `conf` file and `log`"
   ]
  },
  {
   "cell_type": "code",
   "execution_count": 2,
   "metadata": {},
   "outputs": [
    {
     "name": "stdout",
     "output_type": "stream",
     "text": [
      "system_log                               (type: <class 'str'>)\n",
      "logreg_log                               (type: <class 'str'>)\n",
      "lasso_log                                (type: <class 'str'>)\n",
      "logreg_results                           (type: <class 'str'>)\n",
      "json_file                                (type: <class 'str'>)\n",
      "train_val_json                           (type: <class 'str'>)\n",
      "heldout_json                             (type: <class 'str'>)\n",
      "unused_after_heldout_json                (type: <class 'str'>)\n",
      "unified_merged_file_cz                   (type: <class 'str'>)\n",
      "unified_merged_file_noncz                (type: <class 'str'>)\n",
      "unified_merged_file                      (type: <class 'str'>)\n",
      "data_path                                (type: <class 'str'>)\n",
      "cz_files                                 (type: <class 'list'>)\n",
      "noncz_files                              (type: <class 'list'>)\n",
      "2023-11-22 10:55:08,761 - root - DEBUG - Logger has started ont notebook 09 Random sample of instances.ipynb ...\n"
     ]
    }
   ],
   "source": [
    "config = configuration.get_config()\n",
    "for key in config:\n",
    "    print(f'{key:40} (type: {type(config[key])})')\n",
    "\n",
    "\n",
    "logging = logger.init_logger(config['system_log'])\n",
    "logging.debug('Logger has started ont notebook 09 Random sample of instances.ipynb ...')"
   ]
  },
  {
   "cell_type": "markdown",
   "metadata": {},
   "source": [
    "### Recovering file with train and validation instances"
   ]
  },
  {
   "cell_type": "code",
   "execution_count": 8,
   "metadata": {},
   "outputs": [
    {
     "name": "stdout",
     "output_type": "stream",
     "text": [
      "524986\n",
      "Size of train_val data:   524,986\n",
      "Begining heldout:         2015-01-01 00:00:00\n",
      "End heldout:              2021-10-01 00:00:00\n",
      "Number of instances with readmissions: 50533 (9.63%)\n"
     ]
    }
   ],
   "source": [
    "f = open(config['train_val_json'])\n",
    "train_val_data = json.load(f)\n",
    "print(len(train_val_data))\n",
    "\n",
    "all_admissions = []\n",
    "for ix in train_val_data:\n",
    "    all_admissions.append(\n",
    "        health_data.Admission.from_dict_data(admit_id=int(ix), admission=train_val_data[ix])\n",
    "        )\n",
    "len(all_admissions)\n",
    "\n",
    "# Dictionary organizing data by patient\n",
    "patient2admissions = defaultdict(list)\n",
    "for admission in all_admissions:\n",
    "    code = admission.code\n",
    "    patient2admissions[code].append(admission)\n",
    "\n",
    "# Ordering patient list by discharge date (from back )\n",
    "for patient_code in patient2admissions:\n",
    "    admissions_list = patient2admissions[patient_code]\n",
    "    admissions_list = sorted(admissions_list, key=lambda admission: admission.discharge_date, reverse=False)\n",
    "    assert all([admissions_list[i].discharge_date <= admissions_list[i+1].discharge_date for i in range(len(admissions_list)-1)])\n",
    "    patient2admissions[patient_code] = admissions_list\n",
    "\n",
    "patient_count=0\n",
    "valid_readmission_count=0\n",
    "for patient_code in patient2admissions:\n",
    "    patient_admissions = patient2admissions[patient_code]\n",
    "    ix = 0 \n",
    "    while ix < len(patient_admissions):\n",
    "        readmission_code = patient_admissions[ix].readmission_code\n",
    "        if health_data.ReadmissionCode.is_readmit(readmission_code):\n",
    "            # Either is not the first admission (ix>0) or \n",
    "            # we don't have the patient previous admition (readmission close to begining of dataset) (admit-(2015-01-01))<28 days\n",
    "            # assert ix>0 or (patient_admissions[ix].admit_date - datetime.datetime.fromisoformat('2015-01-01')).days<365\n",
    "            if ix>0 and  patient_admissions[ix-1].is_valid_readmission(patient_admissions[ix]):\n",
    "                patient_admissions[ix-1].add_readmission(patient_admissions[ix])\n",
    "                valid_readmission_count+=1\n",
    "        ix+=1\n",
    "    patient_count+=1\n",
    "\n",
    "\n",
    "print(f'Size of train_val data:   {len(all_admissions):,}')\n",
    "print(f\"Begining heldout:         {min([admission.discharge_date for admission in all_admissions])}\")\n",
    "print(f\"End heldout:              {max([admission.discharge_date for admission in all_admissions])}\")\n",
    "print(f'Number of instances with readmissions: {valid_readmission_count} ({valid_readmission_count/len(all_admissions):.2%})')\n",
    "\n"
   ]
  },
  {
   "cell_type": "code",
   "execution_count": 5,
   "metadata": {},
   "outputs": [
    {
     "name": "stdout",
     "output_type": "stream",
     "text": [
      "0.0200%\n",
      "105\n"
     ]
    }
   ],
   "source": [
    "data = train_val_data\n",
    "missing_count = len([data[key]['CMG'] for key in data.keys() if data[key]['Case Weight'] is None or np.isnan(data[key]['Case Weight'])])\n",
    "print(f'{missing_count/len(data):.4%}')\n",
    "print(missing_count)"
   ]
  },
  {
   "cell_type": "markdown",
   "metadata": {},
   "source": [
    "### Validating dates in heldout data (not used in this notebook)"
   ]
  },
  {
   "cell_type": "code",
   "execution_count": 21,
   "metadata": {},
   "outputs": [
    {
     "name": "stdout",
     "output_type": "stream",
     "text": [
      "Size of held-out data:   74,350\n",
      "Begining heldout:        2021-10-02 00:00:00\n",
      "End heldout:             2022-10-02 00:00:00\n"
     ]
    }
   ],
   "source": [
    "f = open(config['heldout_json'])\n",
    "heldout_data = json.load(f)\n",
    "print(f'Size of held-out data:   {len(heldout_data):,}')\n",
    "print(f\"Begining heldout:        {min([heldout_data[ix]['Discharge Date'] for ix in heldout_data])}\")\n",
    "print(f\"End heldout:             {max([heldout_data[ix]['Discharge Date'] for ix in heldout_data])}\")\n",
    "del(heldout_data)"
   ]
  },
  {
   "cell_type": "markdown",
   "metadata": {},
   "source": [
    "### Splitting whole set into two (train and validation)\n",
    "First create a random seed, then we use that seed to create a random_generator (to allow reproducibility)"
   ]
  },
  {
   "cell_type": "code",
   "execution_count": null,
   "metadata": {},
   "outputs": [
    {
     "data": {
      "text/plain": [
       "5348363479653547918"
      ]
     },
     "execution_count": 12,
     "metadata": {},
     "output_type": "execute_result"
    }
   ],
   "source": [
    "# --------------------------\n",
    "# !!!!! DO NOT RUN !!!!!!!!!\n",
    "# --------------------------\n",
    "\n",
    "# np.random.randint(2**63)\n",
    "# output 5348363479653547918"
   ]
  },
  {
   "cell_type": "code",
   "execution_count": 4,
   "metadata": {},
   "outputs": [
    {
     "name": "stdout",
     "output_type": "stream",
     "text": [
      "Size of training (before filter)=     419,988\n",
      "Size of validation (before filter)=   104,998\n",
      "Size of training (after filter)=      419,345\n",
      "Size of validation (after filter)=    104,861\n"
     ]
    }
   ],
   "source": [
    "rng = np.random.default_rng(seed=5348363479653547918)\n",
    "\n",
    "train_indexes = rng.choice(range(len(all_admissions)),size=int(0.8*len(all_admissions)), replace=False)\n",
    "\n",
    "# Checking that every time I am getting the same training instances ( and validation instances)\n",
    "assert all(train_indexes[:3] ==np.array([478898, 46409, 322969]))\n",
    "assert all(train_indexes[-3:] ==np.array([415014, 330673, 338415]))\n",
    "assert hash(tuple(train_indexes))==2028319680436964623\n",
    "\n",
    "train_indexes = set(train_indexes)\n",
    "\n",
    "train = [admission for ix, admission in enumerate(all_admissions) if ix in train_indexes ]\n",
    "validation = [admission for ix, admission in enumerate(all_admissions) if not ix in train_indexes ]\n",
    "\n",
    "print(f'Size of training (before filter)=     {len(train):,}')\n",
    "print(f'Size of validation (before filter)=   {len(validation):,}')\n",
    "\n",
    "# Filtering missing values\n",
    "train = list(filter(lambda admission: not admission.has_missing, train))\n",
    "validation = list(filter(lambda admission: not admission.has_missing, validation))\n",
    "\n",
    "\n",
    "# Filtering STILL_BORNS admissions\n",
    "train = list(filter(lambda admission: admission.admit_category!=health_data.AdmitCategory.STILLBORN, train))\n",
    "validation = list(filter(lambda admission: admission.admit_category!=health_data.AdmitCategory.STILLBORN, validation))\n",
    "\n",
    "# Filtering CADAVER admissions\n",
    "train = list(filter(lambda admission: admission.admit_category!=health_data.AdmitCategory.CADAVER, train))\n",
    "validation = list(filter(lambda admission: admission.admit_category!=health_data.AdmitCategory.CADAVER, validation))\n",
    "\n",
    "\n",
    "print(f'Size of training (after filter)=      {len(train):,}')\n",
    "print(f'Size of validation (after filter)=    {len(validation):,}')"
   ]
  },
  {
   "cell_type": "markdown",
   "metadata": {},
   "source": [
    "### Creating matrix (numeric matrix is normalized with StandarScaler)"
   ]
  },
  {
   "cell_type": "code",
   "execution_count": 54,
   "metadata": {},
   "outputs": [
    {
     "name": "stdout",
     "output_type": "stream",
     "text": [
      "Removing     986 from \"Length of Stay \" threshold: 160.4652\n",
      "Removing   1,449 from \"Case Weight    \" threshold: 19.1449\n",
      "Removing     143 from \"CMG            \" threshold: 736.4128\n",
      "Removing   4,551 from \"Age            \" threshold: 70.6661\n",
      "Removing   1,380 from \"ALC Days       \" threshold: 97.1513\n",
      "Total removed: 6947\n"
     ]
    },
    {
     "data": {
      "text/plain": [
       "(412398, 5)"
      ]
     },
     "execution_count": 54,
     "metadata": {},
     "output_type": "execute_result"
    }
   ],
   "source": [
    "scaler = StandardScaler()\n",
    "\n",
    "numerical_matrix = health_data.Admission.continuos_matrix(train)\n",
    "categorical_matrix = health_data.Admission.categorical_matrix(train)\n",
    "stds = np.std(numerical_matrix,axis=0)\n",
    "columns = health_data.Admission.continuos_columns()\n",
    "for ix in range(numerical_matrix.shape[1]):\n",
    "    mask = mask | np.array(numerical_matrix[:,ix] > stds[ix]*4)\n",
    "    print(f'Removing {np.sum(numerical_matrix[:,ix] > stds[ix]*4):7,} from \"{columns[ix]:15}\" threshold: {stds[ix]*3:.4f}')\n",
    "print(f'Total removed: {np.sum(mask)}')\n",
    "\n",
    "numerical_matrix[0,:] = np.log10(numerical_matrix[0,:] + 1)\n",
    "numerical_matrix[1,:] = np.log10(numerical_matrix[1,:] + 1)\n",
    "numerical_matrix[4,:] = np.log10(numerical_matrix[4,:] + 1)\n",
    "\n",
    "numerical_matrix = scaler.fit_transform(numerical_matrix[~mask,:])\n",
    "categorical_matrix = categorical_matrix[~mask,:]\n",
    "numerical_matrix.shape"
   ]
  },
  {
   "cell_type": "code",
   "execution_count": 55,
   "metadata": {},
   "outputs": [
    {
     "name": "stdout",
     "output_type": "stream",
     "text": [
      "X_train= (412398, 18)\n",
      "y_train= (412398,)\n",
      "X_val=   (104861, 18)\n",
      "y_val=   (104861,)\n"
     ]
    }
   ],
   "source": [
    "# numerical_matrix = health_data.Admission.continuos_matrix(train)\n",
    "# categorical_matrix = health_data.Admission.categorical_matrix(train)\n",
    "X_train = np.hstack([numerical_matrix,\n",
    "                     categorical_matrix \n",
    "                     ])\n",
    "y_train = health_data.Admission.get_y(train)\n",
    "y_train = y_train[~mask]\n",
    "\n",
    "\n",
    "numerical_matrix = health_data.Admission.continuos_matrix(validation)\n",
    "numerical_matrix[:,0] = np.log10(numerical_matrix[:,0] + 1)\n",
    "numerical_matrix[:,1] = np.log10(numerical_matrix[:,1] + 1)\n",
    "numerical_matrix[:,4] = np.log10(numerical_matrix[:,4] + 1)\n",
    "\n",
    "numerical_matrix = scaler.fit_transform(numerical_matrix)\n",
    "categorical_matrix = health_data.Admission.categorical_matrix(validation)\n",
    "\n",
    "\n",
    "# categorical_matrix = \n",
    "X_val = np.hstack([numerical_matrix, \n",
    "                   categorical_matrix])\n",
    "y_val = health_data.Admission.get_y(validation)\n",
    "\n",
    "print(f'X_train= {X_train.shape}')\n",
    "print(f'y_train= {y_train.shape}')\n",
    "print(f'X_val=   {X_val.shape}')\n",
    "print(f'y_val=   {y_val.shape}')"
   ]
  },
  {
   "cell_type": "code",
   "execution_count": 56,
   "metadata": {},
   "outputs": [
    {
     "data": {
      "text/plain": [
       "(array([2.0150e+04, 3.7609e+04, 2.8659e+04, 1.2010e+04, 4.5080e+03,\n",
       "        1.4770e+03, 4.0100e+02, 3.9000e+01, 7.0000e+00, 1.0000e+00]),\n",
       " array([-1.79090648, -0.90667907, -0.02245165,  0.86177576,  1.74600318,\n",
       "         2.63023059,  3.514458  ,  4.39868542,  5.28291283,  6.16714025,\n",
       "         7.05136766]),\n",
       " <BarContainer object of 10 artists>)"
      ]
     },
     "execution_count": 56,
     "metadata": {},
     "output_type": "execute_result"
    },
    {
     "data": {
      "image/png": "[encoded data removed]",
      "text/plain": [
       "<Figure size 800x600 with 1 Axes>"
      ]
     },
     "metadata": {},
     "output_type": "display_data"
    }
   ],
   "source": [
    "fig, ax = plt.subplots(1,figsize=(8,6))\n",
    "ax.hist(numerical_matrix[:,0])"
   ]
  },
  {
   "cell_type": "markdown",
   "metadata": {},
   "source": [
    "### Creating undersampled matrix (Under sampling majority class) (used for model who don't have the class_weight option)"
   ]
  },
  {
   "cell_type": "code",
   "execution_count": 10,
   "metadata": {},
   "outputs": [
    {
     "name": "stdout",
     "output_type": "stream",
     "text": [
      "(17412, 18)\n",
      "(401933, 18)\n",
      "(17412, 18)\n",
      "(17412, 18)\n",
      "(34824, 18)\n",
      "(34824,)\n"
     ]
    }
   ],
   "source": [
    "number_of_positives_in_training = np.sum(y_train)\n",
    "number_of_positives_in_training\n",
    "\n",
    "positive_x = X_train[y_train==1,:]\n",
    "negative_x = X_train[y_train==0,:]\n",
    "\n",
    "print(positive_x.shape)\n",
    "print(negative_x.shape)\n",
    "\n",
    "under_sampling_ix = np.random.choice(range(negative_x.shape[0]), size=number_of_positives_in_training, replace=False)\n",
    "\n",
    "under_sampled_negative_x = negative_x[under_sampling_ix,:]\n",
    "\n",
    "print(positive_x.shape)\n",
    "print(under_sampled_negative_x.shape)\n",
    "\n",
    "undersampled_x = np.vstack([positive_x,under_sampled_negative_x])\n",
    "\n",
    "print(undersampled_x.shape)\n",
    "\n",
    "undersampled_y = np.array([1]*number_of_positives_in_training + [0]*number_of_positives_in_training)\n",
    "\n",
    "print(undersampled_y.shape)\n",
    "# X_train_under_sampled = X_train[under_sampling_ix,:]\n",
    "# X_train_under_sampled.shape\n"
   ]
  },
  {
   "cell_type": "code",
   "execution_count": 57,
   "metadata": {},
   "outputs": [
    {
     "name": "stdout",
     "output_type": "stream",
     "text": [
      " ** ** Logistic Regression (outliers removed and skew) ** **\n",
      "** Results on Training **\n",
      "Precision= 0.054\n",
      "Recall=    0.793\n",
      "F1-score=  0.102\n",
      "\n",
      "** Results on Training **\n",
      "Precision= 0.056\n",
      "Recall=    0.784\n",
      "F1-score=  0.104\n"
     ]
    }
   ],
   "source": [
    "print(' ** ** Logistic Regression (outliers removed and skew) ** **')\n",
    "clf = LogisticRegression(random_state=0, max_iter=1000,class_weight='balanced').fit(X_train, y_train,)\n",
    "y_true = y_train\n",
    "y_pred = clf.predict(X_train)\n",
    "print('** Results on Training **')\n",
    "print(f'Precision= {precision_score(y_true, y_pred,):4.3f}')\n",
    "print(f'Recall=    {recall_score(y_true, y_pred,):4.3f}')\n",
    "print(f'F1-score=  {f1_score(y_true, y_pred,):4.3f}')\n",
    "print()\n",
    "\n",
    "\n",
    "y_true = y_val\n",
    "y_pred = clf.predict(X_val)\n",
    "print('** Results on Training **')\n",
    "print(f'Precision= {precision_score(y_true, y_pred,):4.3f}')\n",
    "print(f'Recall=    {recall_score(y_true, y_pred,):4.3f}')\n",
    "print(f'F1-score=  {f1_score(y_true, y_pred,):4.3f}')\n",
    "#  ** ** Logistic Regression (outliers removed) ** **\n",
    "# ** Results on Training **\n",
    "# Precision= 0.054\n",
    "# Recall=    0.793\n",
    "# F1-score=  0.101\n",
    "\n",
    "# ** Results on Training **\n",
    "# Precision= 0.056\n",
    "# Recall=    0.792\n",
    "# F1-score=  0.105"
   ]
  },
  {
   "cell_type": "markdown",
   "metadata": {},
   "source": [
    "### Logistic Regression (balanced)"
   ]
  },
  {
   "cell_type": "code",
   "execution_count": 14,
   "metadata": {},
   "outputs": [
    {
     "name": "stdout",
     "output_type": "stream",
     "text": [
      " ** ** Logistic Regression ** **\n",
      "** Results on Training **\n",
      "Precision= 0.054\n",
      "Recall=    0.802\n",
      "F1-score=  0.101\n",
      "\n",
      "** Results on Training **\n",
      "Precision= 0.056\n",
      "Recall=    0.807\n",
      "F1-score=  0.104\n"
     ]
    }
   ],
   "source": [
    "print(' ** ** Logistic Regression ** **')\n",
    "clf = LogisticRegression(random_state=0, max_iter=1000,class_weight='balanced').fit(X_train, y_train,)\n",
    "y_true = y_train\n",
    "y_pred = clf.predict(X_train)\n",
    "print('** Results on Training **')\n",
    "print(f'Precision= {precision_score(y_true, y_pred,):4.3f}')\n",
    "print(f'Recall=    {recall_score(y_true, y_pred,):4.3f}')\n",
    "print(f'F1-score=  {f1_score(y_true, y_pred,):4.3f}')\n",
    "print()\n",
    "\n",
    "\n",
    "y_true = y_val\n",
    "y_pred = clf.predict(X_val)\n",
    "print('** Results on Training **')\n",
    "print(f'Precision= {precision_score(y_true, y_pred,):4.3f}')\n",
    "print(f'Recall=    {recall_score(y_true, y_pred,):4.3f}')\n",
    "print(f'F1-score=  {f1_score(y_true, y_pred,):4.3f}')"
   ]
  },
  {
   "cell_type": "markdown",
   "metadata": {},
   "source": [
    "#### Importance of different features in Logistic Regression"
   ]
  },
  {
   "cell_type": "code",
   "execution_count": 33,
   "metadata": {},
   "outputs": [
    {
     "name": "stdout",
     "output_type": "stream",
     "text": [
      "New Born Admission  :  -0.860\n",
      "Level 1 Comorbidity :   0.789\n",
      "Level 2 Comorbidity :   0.789\n",
      "Level 3 Comorbidity :   0.737\n",
      "Level 4 Comorbidity :   0.562\n",
      "Urgent Admission    :   0.533\n",
      "No Comorbidity      :   0.458\n",
      "Is ALC              :  -0.455\n",
      "Transfusion Given   :   0.414\n",
      "Female              :  -0.356\n",
      "Elective Admission  :  -0.313\n",
      "Male                :  -0.253\n",
      "Case Weight         :  -0.163\n",
      "ALC Days            :  -0.160\n",
      "Length of Stay      :   0.146\n",
      "Is central Zone     :   0.048\n",
      "CMG                 :  -0.048\n",
      "Age                 :  -0.005\n"
     ]
    }
   ],
   "source": [
    "cols = health_data.Admission.continuos_columns() + health_data.Admission.categorical_columns()\n",
    "for coef, col in sorted(zip(clf.coef_[0,:],cols),key=lambda value: np.abs(value[0]), reverse=True):\n",
    "    print(f'{col:20}: {coef:7.3f}')"
   ]
  },
  {
   "cell_type": "markdown",
   "metadata": {},
   "source": [
    "### SVM (Linear, balanced)"
   ]
  },
  {
   "cell_type": "code",
   "execution_count": 34,
   "metadata": {},
   "outputs": [
    {
     "name": "stdout",
     "output_type": "stream",
     "text": [
      " ** **   SVM   (Linear) (outliers corrected) ** **\n"
     ]
    },
    {
     "name": "stderr",
     "output_type": "stream",
     "text": [
      "/Users/marianomaisonnave/Environments/alc/lib/python3.9/site-packages/sklearn/svm/_base.py:297: ConvergenceWarning: Solver terminated early (max_iter=10000).  Consider pre-processing your data with StandardScaler or MinMaxScaler.\n",
      "  warnings.warn(\n"
     ]
    },
    {
     "name": "stdout",
     "output_type": "stream",
     "text": [
      "** Results on Training **\n",
      "Precision= 0.042\n",
      "Recall=    0.984\n",
      "F1-score=  0.081\n",
      "\n",
      "** Results on Training **\n",
      "Precision= 0.044\n",
      "Recall=    0.991\n",
      "F1-score=  0.084\n"
     ]
    }
   ],
   "source": [
    "print(' ** **   SVM   (Linear) (outliers corrected) ** **')\n",
    "clf = SVC(random_state=0, max_iter=10000, kernel='linear', class_weight='balanced').fit(X_train, y_train.ravel(),)\n",
    "y_true = y_train\n",
    "y_pred = clf.predict(X_train)\n",
    "print('** Results on Training **')\n",
    "print(f'Precision= {precision_score(y_true, y_pred,):4.3f}')\n",
    "print(f'Recall=    {recall_score(y_true, y_pred,):4.3f}')\n",
    "print(f'F1-score=  {f1_score(y_true, y_pred,):4.3f}')\n",
    "print()\n",
    "\n",
    "\n",
    "y_true = y_val\n",
    "y_pred = clf.predict(X_val)\n",
    "print('** Results on Training **')\n",
    "print(f'Precision= {precision_score(y_true, y_pred,):4.3f}')\n",
    "print(f'Recall=    {recall_score(y_true, y_pred,):4.3f}')\n",
    "print(f'F1-score=  {f1_score(y_true, y_pred,):4.3f}')\n"
   ]
  },
  {
   "cell_type": "code",
   "execution_count": 16,
   "metadata": {},
   "outputs": [
    {
     "name": "stdout",
     "output_type": "stream",
     "text": [
      " ** **   SVM   (Linear) ** **\n"
     ]
    },
    {
     "name": "stderr",
     "output_type": "stream",
     "text": [
      "/Users/marianomaisonnave/Environments/alc/lib/python3.9/site-packages/sklearn/svm/_base.py:297: ConvergenceWarning: Solver terminated early (max_iter=10000).  Consider pre-processing your data with StandardScaler or MinMaxScaler.\n",
      "  warnings.warn(\n"
     ]
    },
    {
     "name": "stdout",
     "output_type": "stream",
     "text": [
      "** Results on Training **\n",
      "Precision= 0.042\n",
      "Recall=    0.999\n",
      "F1-score=  0.080\n",
      "\n",
      "** Results on Training **\n",
      "Precision= 0.043\n",
      "Recall=    0.997\n",
      "F1-score=  0.083\n"
     ]
    }
   ],
   "source": [
    "print(' ** **   SVM   (Linear) ** **')\n",
    "clf = SVC(random_state=0, max_iter=10000, kernel='linear', class_weight='balanced').fit(X_train, y_train.ravel(),)\n",
    "y_true = y_train\n",
    "y_pred = clf.predict(X_train)\n",
    "print('** Results on Training **')\n",
    "print(f'Precision= {precision_score(y_true, y_pred,):4.3f}')\n",
    "print(f'Recall=    {recall_score(y_true, y_pred,):4.3f}')\n",
    "print(f'F1-score=  {f1_score(y_true, y_pred,):4.3f}')\n",
    "print()\n",
    "\n",
    "\n",
    "y_true = y_val\n",
    "y_pred = clf.predict(X_val)\n",
    "print('** Results on Training **')\n",
    "print(f'Precision= {precision_score(y_true, y_pred,):4.3f}')\n",
    "print(f'Recall=    {recall_score(y_true, y_pred,):4.3f}')\n",
    "print(f'F1-score=  {f1_score(y_true, y_pred,):4.3f}')\n"
   ]
  },
  {
   "cell_type": "markdown",
   "metadata": {},
   "source": [
    "### SVM (RBF, balanced)"
   ]
  },
  {
   "cell_type": "code",
   "execution_count": 17,
   "metadata": {},
   "outputs": [
    {
     "name": "stdout",
     "output_type": "stream",
     "text": [
      " ** **   SVM (RBF)   ** **\n"
     ]
    },
    {
     "name": "stderr",
     "output_type": "stream",
     "text": [
      "/Users/marianomaisonnave/Environments/alc/lib/python3.9/site-packages/sklearn/svm/_base.py:297: ConvergenceWarning: Solver terminated early (max_iter=10000).  Consider pre-processing your data with StandardScaler or MinMaxScaler.\n",
      "  warnings.warn(\n"
     ]
    },
    {
     "name": "stdout",
     "output_type": "stream",
     "text": [
      "** Results on Training **\n",
      "Precision= 0.051\n",
      "Recall=    0.634\n",
      "F1-score=  0.094\n",
      "\n",
      "** Results on Training **\n",
      "Precision= 0.053\n",
      "Recall=    0.626\n",
      "F1-score=  0.098\n"
     ]
    }
   ],
   "source": [
    "print(' ** **   SVM (RBF)   ** **')\n",
    "clf = SVC(random_state=0, kernel='rbf', max_iter=10000,class_weight='balanced').fit(X_train, y_train.ravel(),)\n",
    "y_true = y_train\n",
    "y_pred = clf.predict(X_train)\n",
    "print('** Results on Training **')\n",
    "print(f'Precision= {precision_score(y_true, y_pred,):4.3f}')\n",
    "print(f'Recall=    {recall_score(y_true, y_pred,):4.3f}')\n",
    "print(f'F1-score=  {f1_score(y_true, y_pred,):4.3f}')\n",
    "print()\n",
    "\n",
    "\n",
    "y_true = y_val\n",
    "y_pred = clf.predict(X_val)\n",
    "print('** Results on Training **')\n",
    "print(f'Precision= {precision_score(y_true, y_pred,):4.3f}')\n",
    "print(f'Recall=    {recall_score(y_true, y_pred,):4.3f}')\n",
    "print(f'F1-score=  {f1_score(y_true, y_pred,):4.3f}')\n"
   ]
  },
  {
   "cell_type": "markdown",
   "metadata": {},
   "source": [
    "### Decision Tree (balanced with undersampling)"
   ]
  },
  {
   "cell_type": "code",
   "execution_count": 19,
   "metadata": {},
   "outputs": [
    {
     "name": "stdout",
     "output_type": "stream",
     "text": [
      " ** **   Decision Tree   ** **\n",
      "** Results on Training **\n",
      "Precision= 0.097\n",
      "Recall=    0.986\n",
      "F1-score=  0.177\n",
      "\n",
      "** Results on Training **\n",
      "Precision= 0.049\n",
      "Recall=    0.575\n",
      "F1-score=  0.090\n"
     ]
    }
   ],
   "source": [
    "print(' ** **   Decision Tree   ** **')\n",
    "clf = DecisionTreeClassifier(random_state=0).fit(undersampled_x, undersampled_y.ravel(),)\n",
    "y_true = y_train\n",
    "y_pred = clf.predict(X_train)\n",
    "print('** Results on Training **')\n",
    "print(f'Precision= {precision_score(y_true, y_pred,):4.3f}')\n",
    "print(f'Recall=    {recall_score(y_true, y_pred,):4.3f}')\n",
    "print(f'F1-score=  {f1_score(y_true, y_pred,):4.3f}')\n",
    "print()\n",
    "\n",
    "\n",
    "y_true = y_val\n",
    "y_pred = clf.predict(X_val)\n",
    "print('** Results on Training **')\n",
    "print(f'Precision= {precision_score(y_true, y_pred,):4.3f}')\n",
    "print(f'Recall=    {recall_score(y_true, y_pred,):4.3f}')\n",
    "print(f'F1-score=  {f1_score(y_true, y_pred,):4.3f}')\n"
   ]
  },
  {
   "cell_type": "markdown",
   "metadata": {},
   "source": [
    "### Decision Tree (not balanced)"
   ]
  },
  {
   "cell_type": "code",
   "execution_count": 22,
   "metadata": {},
   "outputs": [
    {
     "name": "stdout",
     "output_type": "stream",
     "text": [
      " ** **   Decision Tree   ** **\n",
      "** Results on Training **\n",
      "Precision= 0.998\n",
      "Recall=    0.897\n",
      "F1-score=  0.945\n",
      "\n",
      "** Results on Training **\n",
      "Precision= 0.059\n",
      "Recall=    0.116\n",
      "F1-score=  0.078\n"
     ]
    }
   ],
   "source": [
    "print(' ** **   Decision Tree   ** **')\n",
    "clf = DecisionTreeClassifier(random_state=0).fit(X_train, y_train.ravel(),)\n",
    "y_true = y_train\n",
    "y_pred = clf.predict(X_train)\n",
    "print('** Results on Training **')\n",
    "print(f'Precision= {precision_score(y_true, y_pred,):4.3f}')\n",
    "print(f'Recall=    {recall_score(y_true, y_pred,):4.3f}')\n",
    "print(f'F1-score=  {f1_score(y_true, y_pred,):4.3f}')\n",
    "print()\n",
    "\n",
    "\n",
    "y_true = y_val\n",
    "y_pred = clf.predict(X_val)\n",
    "print('** Results on Training **')\n",
    "print(f'Precision= {precision_score(y_true, y_pred,):4.3f}')\n",
    "print(f'Recall=    {recall_score(y_true, y_pred,):4.3f}')\n",
    "print(f'F1-score=  {f1_score(y_true, y_pred,):4.3f}')\n"
   ]
  },
  {
   "cell_type": "markdown",
   "metadata": {},
   "source": [
    "### MLP (balanced with undersampling, hidden_layer_sizes=`(300, 200, 100, 50, 20, 5, 4, 3, 2)`)"
   ]
  },
  {
   "cell_type": "code",
   "execution_count": 36,
   "metadata": {},
   "outputs": [
    {
     "name": "stdout",
     "output_type": "stream",
     "text": [
      " ** **   MLP   ** **\n",
      "Iteration 1, loss = 0.66665176\n",
      "Iteration 2, loss = 0.65892955\n",
      "Iteration 3, loss = 0.65631846\n",
      "Iteration 4, loss = 0.65448327\n",
      "Iteration 5, loss = 0.65293521\n",
      "Iteration 6, loss = 0.65135114\n",
      "Iteration 7, loss = 0.64913607\n",
      "Iteration 8, loss = 0.64810033\n",
      "Iteration 9, loss = 0.64718905\n",
      "Iteration 10, loss = 0.64534718\n",
      "Iteration 11, loss = 0.64443307\n",
      "Iteration 12, loss = 0.64322995\n",
      "Iteration 13, loss = 0.64176864\n",
      "Iteration 14, loss = 0.64200421\n",
      "Iteration 15, loss = 0.63983588\n",
      "Iteration 16, loss = 0.63867002\n",
      "Iteration 17, loss = 0.63696668\n",
      "Iteration 18, loss = 0.63659016\n",
      "Iteration 19, loss = 0.63584601\n",
      "Iteration 20, loss = 0.63412637\n",
      "Iteration 21, loss = 0.63256733\n",
      "Iteration 22, loss = 0.63105161\n",
      "Iteration 23, loss = 0.63013559\n",
      "Iteration 24, loss = 0.62872462\n",
      "Iteration 25, loss = 0.62696446\n",
      "Iteration 26, loss = 0.62611542\n",
      "Iteration 27, loss = 0.62501343\n",
      "Iteration 28, loss = 0.62301208\n",
      "Iteration 29, loss = 0.62147913\n",
      "Iteration 30, loss = 0.61996888\n",
      "Iteration 31, loss = 0.61874246\n",
      "Iteration 32, loss = 0.61803408\n",
      "Iteration 33, loss = 0.61463993\n",
      "Iteration 34, loss = 0.61453013\n",
      "Iteration 35, loss = 0.61065067\n",
      "Iteration 36, loss = 0.61148166\n",
      "Iteration 37, loss = 0.60844446\n",
      "Iteration 38, loss = 0.60600999\n",
      "Iteration 39, loss = 0.60397079\n",
      "Iteration 40, loss = 0.60227962\n",
      "Iteration 41, loss = 0.60219912\n",
      "Iteration 42, loss = 0.59942510\n",
      "Iteration 43, loss = 0.59647691\n",
      "Iteration 44, loss = 0.59564506\n",
      "Iteration 45, loss = 0.59500289\n",
      "Iteration 46, loss = 0.59086552\n",
      "Iteration 47, loss = 0.58942699\n",
      "Iteration 48, loss = 0.58689001\n",
      "Iteration 49, loss = 0.58556095\n",
      "Iteration 50, loss = 0.58417930\n",
      "Iteration 51, loss = 0.58356590\n",
      "Iteration 52, loss = 0.58139969\n",
      "Iteration 53, loss = 0.57766083\n",
      "Iteration 54, loss = 0.57515934\n",
      "Iteration 55, loss = 0.57242036\n",
      "Iteration 56, loss = 0.57039388\n",
      "Iteration 57, loss = 0.56914300\n",
      "Iteration 58, loss = 0.56773890\n",
      "Iteration 59, loss = 0.56595284\n",
      "Iteration 60, loss = 0.56644022\n",
      "Iteration 61, loss = 0.56063604\n",
      "Iteration 62, loss = 0.55675877\n",
      "Iteration 63, loss = 0.55792620\n",
      "Iteration 64, loss = 0.55854512\n",
      "Iteration 65, loss = 0.55333537\n",
      "Iteration 66, loss = 0.55173969\n",
      "Iteration 67, loss = 0.55158991\n",
      "Iteration 68, loss = 0.54958031\n",
      "Iteration 69, loss = 0.54676050\n",
      "Iteration 70, loss = 0.54666163\n",
      "Iteration 71, loss = 0.54612906\n",
      "Iteration 72, loss = 0.54338882\n",
      "Iteration 73, loss = 0.54216963\n",
      "Iteration 74, loss = 0.54119969\n",
      "Iteration 75, loss = 0.53584818\n",
      "Iteration 76, loss = 0.53619766\n",
      "Iteration 77, loss = 0.53723349\n",
      "Iteration 78, loss = 0.53374343\n",
      "Iteration 79, loss = 0.53073430\n",
      "Iteration 80, loss = 0.53072447\n",
      "Iteration 81, loss = 0.53183512\n",
      "Iteration 82, loss = 0.52808613\n",
      "Iteration 83, loss = 0.52693671\n",
      "Iteration 84, loss = 0.52407775\n",
      "Iteration 85, loss = 0.52284514\n",
      "Iteration 86, loss = 0.52394489\n",
      "Iteration 87, loss = 0.51957082\n",
      "Iteration 88, loss = 0.51866514\n",
      "Iteration 89, loss = 0.51512213\n",
      "Iteration 90, loss = 0.51830300\n",
      "Iteration 91, loss = 0.51663690\n",
      "Iteration 92, loss = 0.51410662\n",
      "Iteration 93, loss = 0.51478042\n",
      "Iteration 94, loss = 0.51199987\n",
      "Iteration 95, loss = 0.51626680\n",
      "Iteration 96, loss = 0.50632723\n",
      "Iteration 97, loss = 0.50927238\n",
      "Iteration 98, loss = 0.50590290\n",
      "Iteration 99, loss = 0.50537605\n",
      "Iteration 100, loss = 0.50223686\n",
      "Iteration 101, loss = 0.50041347\n",
      "Iteration 102, loss = 0.49988070\n",
      "Iteration 103, loss = 0.50428692\n",
      "Iteration 104, loss = 0.50172596\n",
      "Iteration 105, loss = 0.50210677\n",
      "Iteration 106, loss = 0.49885364\n",
      "Iteration 107, loss = 0.49652783\n",
      "Iteration 108, loss = 0.49491354\n",
      "Iteration 109, loss = 0.49697216\n",
      "Iteration 110, loss = 0.49392761\n",
      "Iteration 111, loss = 0.49423705\n",
      "Iteration 112, loss = 0.49360751\n",
      "Iteration 113, loss = 0.49194450\n",
      "Iteration 114, loss = 0.49738062\n",
      "Iteration 115, loss = 0.49063074\n",
      "Iteration 116, loss = 0.48606880\n",
      "Iteration 117, loss = 0.48521560\n",
      "Iteration 118, loss = 0.48707575\n",
      "Iteration 119, loss = 0.48613122\n",
      "Iteration 120, loss = 0.48774429\n",
      "Iteration 121, loss = 0.48206067\n",
      "Iteration 122, loss = 0.48238527\n",
      "Iteration 123, loss = 0.48282250\n",
      "Iteration 124, loss = 0.48128270\n",
      "Iteration 125, loss = 0.48079269\n",
      "Iteration 126, loss = 0.47544498\n",
      "Iteration 127, loss = 0.47920356\n",
      "Iteration 128, loss = 0.47773861\n",
      "Iteration 129, loss = 0.47459208\n",
      "Iteration 130, loss = 0.47157542\n",
      "Iteration 131, loss = 0.47656511\n",
      "Iteration 132, loss = 0.47809361\n",
      "Iteration 133, loss = 0.47310208\n",
      "Iteration 134, loss = 0.47073497\n",
      "Iteration 135, loss = 0.47024621\n",
      "Iteration 136, loss = 0.46866717\n",
      "Iteration 137, loss = 0.47189228\n",
      "Iteration 138, loss = 0.47090875\n",
      "Iteration 139, loss = 0.46552227\n",
      "Iteration 140, loss = 0.46843045\n",
      "Iteration 141, loss = 0.46870261\n",
      "Iteration 142, loss = 0.46732057\n",
      "Iteration 143, loss = 0.46503233\n",
      "Iteration 144, loss = 0.45986522\n",
      "Iteration 145, loss = 0.46377146\n",
      "Iteration 146, loss = 0.46745938\n",
      "Iteration 147, loss = 0.46056143\n",
      "Iteration 148, loss = 0.45635643\n",
      "Iteration 149, loss = 0.46109759\n",
      "Iteration 150, loss = 0.45504232\n",
      "Iteration 151, loss = 0.45952105\n",
      "Iteration 152, loss = 0.45625098\n",
      "Iteration 153, loss = 0.45641882\n",
      "Iteration 154, loss = 0.46107070\n",
      "Iteration 155, loss = 0.45557806\n",
      "Iteration 156, loss = 0.45703473\n",
      "Iteration 157, loss = 0.45176228\n",
      "Iteration 158, loss = 0.45113561\n",
      "Iteration 159, loss = 0.45581386\n",
      "Iteration 160, loss = 0.45641290\n",
      "Iteration 161, loss = 0.45703509\n",
      "Iteration 162, loss = 0.44920751\n",
      "Iteration 163, loss = 0.45152089\n",
      "Iteration 164, loss = 0.44658067\n",
      "Iteration 165, loss = 0.44663588\n",
      "Iteration 166, loss = 0.44770377\n",
      "Iteration 167, loss = 0.44699828\n",
      "Iteration 168, loss = 0.44823896\n",
      "Iteration 169, loss = 0.45095004\n",
      "Iteration 170, loss = 0.44436746\n",
      "Iteration 171, loss = 0.44384323\n",
      "Iteration 172, loss = 0.44454153\n",
      "Iteration 173, loss = 0.44270511\n",
      "Iteration 174, loss = 0.43951038\n",
      "Iteration 175, loss = 0.44811069\n",
      "Iteration 176, loss = 0.44709699\n",
      "Iteration 177, loss = 0.43933192\n",
      "Iteration 178, loss = 0.44418086\n",
      "Iteration 179, loss = 0.43898096\n",
      "Iteration 180, loss = 0.43910314\n",
      "Iteration 181, loss = 0.44658620\n",
      "Iteration 182, loss = 0.43888389\n",
      "Iteration 183, loss = 0.43819127\n",
      "Iteration 184, loss = 0.44224299\n",
      "Iteration 185, loss = 0.43346608\n",
      "Iteration 186, loss = 0.43138215\n",
      "Iteration 187, loss = 0.43230740\n",
      "Iteration 188, loss = 0.43590943\n",
      "Iteration 189, loss = 0.43724402\n",
      "Iteration 190, loss = 0.43807080\n",
      "Iteration 191, loss = 0.43821853\n",
      "Iteration 192, loss = 0.43338479\n",
      "Iteration 193, loss = 0.42942955\n",
      "Iteration 194, loss = 0.43110702\n",
      "Iteration 195, loss = 0.43203522\n",
      "Iteration 196, loss = 0.43102480\n",
      "Iteration 197, loss = 0.42821551\n",
      "Iteration 198, loss = 0.43104777\n",
      "Iteration 199, loss = 0.45073779\n",
      "Iteration 200, loss = 0.42808676\n",
      "Iteration 201, loss = 0.42971290\n",
      "Iteration 202, loss = 0.42439401\n",
      "Iteration 203, loss = 0.43396992\n",
      "Iteration 204, loss = 0.43169336\n",
      "Iteration 205, loss = 0.43192374\n",
      "Iteration 206, loss = 0.42545345\n",
      "Iteration 207, loss = 0.42803570\n",
      "Iteration 208, loss = 0.42812044\n",
      "Iteration 209, loss = 0.42234677\n",
      "Iteration 210, loss = 0.42940064\n",
      "Iteration 211, loss = 0.42880664\n",
      "Iteration 212, loss = 0.42774868\n",
      "Iteration 213, loss = 0.42745643\n",
      "Iteration 214, loss = 0.42224174\n",
      "Iteration 215, loss = 0.42882087\n",
      "Iteration 216, loss = 0.42197090\n",
      "Iteration 217, loss = 0.42047329\n",
      "Iteration 218, loss = 0.41593274\n",
      "Iteration 219, loss = 0.43089606\n",
      "Iteration 220, loss = 0.42348089\n",
      "Iteration 221, loss = 0.41977837\n",
      "Iteration 222, loss = 0.42363375\n",
      "Iteration 223, loss = 0.41574559\n",
      "Iteration 224, loss = 0.41952699\n",
      "Iteration 225, loss = 0.41815939\n",
      "Iteration 226, loss = 0.42350923\n",
      "Iteration 227, loss = 0.41853884\n",
      "Iteration 228, loss = 0.41350667\n",
      "Iteration 229, loss = 0.41604623\n",
      "Iteration 230, loss = 0.41706739\n",
      "Iteration 231, loss = 0.41481913\n",
      "Iteration 232, loss = 0.41771248\n",
      "Iteration 233, loss = 0.41256944\n",
      "Iteration 234, loss = 0.41439251\n",
      "Iteration 235, loss = 0.41919573\n",
      "Iteration 236, loss = 0.41912044\n",
      "Iteration 237, loss = 0.41592872\n",
      "Iteration 238, loss = 0.41193919\n",
      "Iteration 239, loss = 0.41514232\n",
      "Iteration 240, loss = 0.40742840\n",
      "Iteration 241, loss = 0.41704981\n",
      "Iteration 242, loss = 0.41827429\n",
      "Iteration 243, loss = 0.41204064\n",
      "Iteration 244, loss = 0.41244839\n",
      "Iteration 245, loss = 0.40607575\n",
      "Iteration 246, loss = 0.40924915\n",
      "Iteration 247, loss = 0.40790784\n",
      "Iteration 248, loss = 0.40822343\n",
      "Iteration 249, loss = 0.41698446\n",
      "Iteration 250, loss = 0.41104071\n",
      "Iteration 251, loss = 0.40556367\n",
      "Iteration 252, loss = 0.40624824\n",
      "Iteration 253, loss = 0.41104025\n",
      "Iteration 254, loss = 0.40857867\n",
      "Iteration 255, loss = 0.41010788\n",
      "Iteration 256, loss = 0.41098615\n",
      "Iteration 257, loss = 0.40532667\n",
      "Iteration 258, loss = 0.40419094\n",
      "Iteration 259, loss = 0.40377744\n",
      "Iteration 260, loss = 0.40685770\n",
      "Iteration 261, loss = 0.40613533\n",
      "Iteration 262, loss = 0.40615431\n",
      "Iteration 263, loss = 0.40295044\n",
      "Iteration 264, loss = 0.40441561\n",
      "Iteration 265, loss = 0.40568140\n",
      "Iteration 266, loss = 0.40023915\n",
      "Iteration 267, loss = 0.40074545\n",
      "Iteration 268, loss = 0.40397761\n",
      "Iteration 269, loss = 0.40594391\n",
      "Iteration 270, loss = 0.40761149\n",
      "Iteration 271, loss = 0.40233056\n",
      "Iteration 272, loss = 0.40057548\n",
      "Iteration 273, loss = 0.39552499\n",
      "Iteration 274, loss = 0.40111121\n",
      "Iteration 275, loss = 0.41079377\n",
      "Iteration 276, loss = 0.40061826\n",
      "Iteration 277, loss = 0.39612605\n",
      "Iteration 278, loss = 0.39510247\n",
      "Iteration 279, loss = 0.39779346\n",
      "Iteration 280, loss = 0.39853598\n",
      "Iteration 281, loss = 0.39610076\n",
      "Iteration 282, loss = 0.39518490\n",
      "Iteration 283, loss = 0.39547556\n",
      "Iteration 284, loss = 0.40575441\n",
      "Iteration 285, loss = 0.39730440\n",
      "Iteration 286, loss = 0.39770337\n",
      "Iteration 287, loss = 0.39530452\n",
      "Iteration 288, loss = 0.39096934\n",
      "Iteration 289, loss = 0.39442803\n",
      "Iteration 290, loss = 0.39377474\n",
      "Iteration 291, loss = 0.39896501\n",
      "Iteration 292, loss = 0.40076224\n",
      "Iteration 293, loss = 0.39523098\n",
      "Iteration 294, loss = 0.39393287\n",
      "Iteration 295, loss = 0.39592204\n",
      "Iteration 296, loss = 0.38931466\n",
      "Iteration 297, loss = 0.40135248\n",
      "Iteration 298, loss = 0.39125549\n",
      "Iteration 299, loss = 0.39412145\n",
      "Iteration 300, loss = 0.39607686\n",
      "Iteration 301, loss = 0.39430591\n",
      "Iteration 302, loss = 0.39121157\n",
      "Iteration 303, loss = 0.38758634\n",
      "Iteration 304, loss = 0.39205424\n",
      "Iteration 305, loss = 0.39150388\n",
      "Iteration 306, loss = 0.38891617\n",
      "Iteration 307, loss = 0.39550204\n",
      "Iteration 308, loss = 0.39201330\n",
      "Iteration 309, loss = 0.38871404\n",
      "Iteration 310, loss = 0.39623969\n",
      "Iteration 311, loss = 0.39107887\n",
      "Iteration 312, loss = 0.38956919\n",
      "Iteration 313, loss = 0.38429754\n",
      "Iteration 314, loss = 0.38935880\n",
      "Iteration 315, loss = 0.38947807\n",
      "Iteration 316, loss = 0.39051187\n",
      "Iteration 317, loss = 0.38767031\n",
      "Iteration 318, loss = 0.38813484\n",
      "Iteration 319, loss = 0.38748806\n",
      "Iteration 320, loss = 0.38966443\n",
      "Iteration 321, loss = 0.39205154\n",
      "Iteration 322, loss = 0.38847264\n",
      "Iteration 323, loss = 0.38120778\n",
      "Iteration 324, loss = 0.39045369\n",
      "Iteration 325, loss = 0.38653920\n",
      "Iteration 326, loss = 0.38526191\n",
      "Iteration 327, loss = 0.39037853\n",
      "Iteration 328, loss = 0.38570078\n",
      "Iteration 329, loss = 0.38390384\n",
      "Iteration 330, loss = 0.38622981\n",
      "Iteration 331, loss = 0.38510313\n",
      "Iteration 332, loss = 0.38693519\n",
      "Iteration 333, loss = 0.38675890\n",
      "Iteration 334, loss = 0.38131575\n",
      "Training loss did not improve more than tol=0.000100 for 10 consecutive epochs. Stopping.\n",
      "** Results on Training **\n",
      "Precision= 0.080\n",
      "Recall=    0.896\n",
      "F1-score=  0.147\n",
      "\n",
      "** Results on Validation **\n",
      "Precision= 0.053\n",
      "Recall=    0.584\n",
      "F1-score=  0.098\n"
     ]
    }
   ],
   "source": [
    "print(' ** **   MLP   ** **')\n",
    "clf = MLPClassifier(random_state=0, \n",
    "                    # early_stopping=True, \n",
    "                    # n_iter_no_change=200,\n",
    "                    # validation_fraction=0.2, \n",
    "                    max_iter=1000, \n",
    "                    hidden_layer_sizes=(300, 200, 100, 50, 20, 5, 4, 3, 2),\n",
    "                    verbose=True)\n",
    "clf.fit(undersampled_x, undersampled_y,)\n",
    "y_true = y_train\n",
    "y_pred = clf.predict(X_train)\n",
    "print('** Results on Training **')\n",
    "print(f'Precision= {precision_score(y_true, y_pred,):4.3f}')\n",
    "print(f'Recall=    {recall_score(y_true, y_pred,):4.3f}')\n",
    "print(f'F1-score=  {f1_score(y_true, y_pred,):4.3f}')\n",
    "print()\n",
    "\n",
    "\n",
    "y_true = y_val\n",
    "y_pred = clf.predict(X_val)\n",
    "print('** Results on Validation **')\n",
    "print(f'Precision= {precision_score(y_true, y_pred,):4.3f}')\n",
    "print(f'Recall=    {recall_score(y_true, y_pred,):4.3f}')\n",
    "print(f'F1-score=  {f1_score(y_true, y_pred,):4.3f}')\n"
   ]
  },
  {
   "cell_type": "code",
   "execution_count": null,
   "metadata": {},
   "outputs": [],
   "source": []
  },
  {
   "cell_type": "code",
   "execution_count": null,
   "metadata": {},
   "outputs": [],
   "source": []
  },
  {
   "cell_type": "code",
   "execution_count": null,
   "metadata": {},
   "outputs": [],
   "source": []
  }
 ],
 "metadata": {
  "kernelspec": {
   "display_name": "alc",
   "language": "python",
   "name": "python3"
  },
  "language_info": {
   "codemirror_mode": {
    "name": "ipython",
    "version": 3
   },
   "file_extension": ".py",
   "mimetype": "text/x-python",
   "name": "python",
   "nbconvert_exporter": "python",
   "pygments_lexer": "ipython3",
   "version": "3.9.6"
  }
 },
 "nbformat": 4,
 "nbformat_minor": 2
}
