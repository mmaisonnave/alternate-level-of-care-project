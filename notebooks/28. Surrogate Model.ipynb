{
 "cells": [
  {
   "cell_type": "code",
   "execution_count": 2,
   "id": "19a07f6d-a732-4932-b6ba-ad1668c67e1e",
   "metadata": {},
   "outputs": [
    {
     "name": "stdout",
     "output_type": "stream",
     "text": [
      "configuration loaded\n"
     ]
    }
   ],
   "source": [
    "import matplotlib.pyplot as plt\n",
    "from sklearn import tree\n",
    "\n",
    "from sklearn.metrics import precision_score, recall_score, f1_score, roc_auc_score, confusion_matrix\n",
    "import pandas as pd\n",
    "import joblib\n",
    "import json\n",
    "import sys \n",
    "sys.path.append('..')\n",
    "\n",
    "from utilities import health_data\n",
    "from utilities import configuration\n",
    "\n",
    "config = configuration.get_config()\n",
    "print('configuration loaded')"
   ]
  },
  {
   "cell_type": "markdown",
   "id": "be9d2323-6cf6-4ba4-aaff-b251b40ac509",
   "metadata": {},
   "source": [
    "#### Auxiliary Function to compute metrics"
   ]
  },
  {
   "cell_type": "code",
   "execution_count": 4,
   "id": "201c0676-cd4f-4ef6-822f-59d8b6864512",
   "metadata": {},
   "outputs": [],
   "source": [
    "def get_metric_evaluations(evaluated_model, X, y_true, description=''):\n",
    "    y_pred = evaluated_model.predict(X)\n",
    "    y_score = evaluated_model.predict_proba(X)[:,1]\n",
    "\n",
    "    tn, fp, fn, tp = confusion_matrix(y_true, y_pred).ravel()\n",
    "    training_results = {'Description': description,\n",
    "                        'Precision': precision_score(y_true, y_pred),\n",
    "                        'Recal': recall_score(y_true, y_pred),\n",
    "                        'F1-Score': f1_score(y_true, y_pred),\n",
    "                        'AUC': roc_auc_score(y_true=y_true, y_score=y_score),\n",
    "                        'TN': tn,\n",
    "                        'TP': tp,\n",
    "                        'FN': fn,\n",
    "                        'FP': fp,\n",
    "                        }\n",
    "    results = {key: [training_results[key]] for key in training_results.keys()}\n",
    "    return pd.DataFrame(results)"
   ]
  },
  {
   "cell_type": "markdown",
   "id": "78ff04a9-0ae4-45c8-b84c-d3247854001c",
   "metadata": {},
   "source": [
    "#### Obtaining train and test matrices "
   ]
  },
  {
   "cell_type": "code",
   "execution_count": 5,
   "id": "75404e14-6ada-4102-9ff9-98c42cbec4cc",
   "metadata": {},
   "outputs": [
    {
     "name": "stdout",
     "output_type": "stream",
     "text": [
      "2024-02-04 17:27:55,048 - root - DEBUG - Calling Admission.get_training_testing_date(combining_diagnoses=False, combining_interventions=False)\n"
     ]
    },
    {
     "name": "stdin",
     "output_type": "stream",
     "text": [
      "Enter key for decryption:  ········\n"
     ]
    },
    {
     "name": "stdout",
     "output_type": "stream",
     "text": [
      " 0 matrix.shape=(419139, 5)\n",
      " 1 matrix.shape=(419139, 68)\n",
      " 2 matrix.shape=(419139, 8011)\n",
      " 3 matrix.shape=(419139, 5572)\n",
      "2024-02-04 17:29:42,846 - root - DEBUG - Using X_train, y_train, no samplig strategy ...\n",
      "2024-02-04 17:29:42,848 - root - DEBUG - Looking for constant variables ...\n",
      "2024-02-04 17:29:42,849 - root - DEBUG - Using memory efficient solution\n",
      "2024-02-04 17:37:11,856 - root - DEBUG - Not constant variables found ...\n",
      "2024-02-04 17:37:11,903 - root - DEBUG - Shapes of matrices before FS...\n",
      "2024-02-04 17:37:11,905 - root - DEBUG - X_train: (419139, 13656)\n",
      "2024-02-04 17:37:11,906 - root - DEBUG - y_train: (419139,)\n",
      "2024-02-04 17:37:11,907 - root - DEBUG - X_test:  (104884, 13656)\n",
      "2024-02-04 17:37:11,908 - root - DEBUG - y_test:  (104884,)\n"
     ]
    }
   ],
   "source": [
    "experiment_configurations = json.load(open(config['experiments_config'], encoding='utf-8'))\n",
    "X_train, y_train, X_test, y_test, columns = health_data.Admission.get_train_test_matrices(experiment_configurations['configuration_82'])"
   ]
  },
  {
   "cell_type": "markdown",
   "id": "c40fcafc-2f15-4e75-8793-04ee7e3d33f3",
   "metadata": {},
   "source": [
    "#### Obtaining black-box model (BRF)\n"
   ]
  },
  {
   "cell_type": "code",
   "execution_count": 4,
   "id": "dbdc3485-fbdc-4dc7-9ab6-4682225e7550",
   "metadata": {},
   "outputs": [],
   "source": [
    "from imblearn.ensemble import BalancedRandomForestClassifier\n",
    "from_disk = false\n",
    "\n",
    "if from_disk:\n",
    "    brf = joblib.load(config['balanced_random_forest_path'])\n",
    "else:\n",
    "\n",
    "    brf = BalancedRandomForestClassifier(n_estimators=500, \n",
    "                                        sampling_strategy='majority', \n",
    "                                        replacement=True, \n",
    "                                        class_weight='balanced_subsample')\n",
    "    brf.fit(X_train, y_train)"
   ]
  },
  {
   "cell_type": "code",
   "execution_count": 8,
   "id": "bc8a0a32-45bd-46d5-b47b-199f55a5e4cc",
   "metadata": {},
   "outputs": [
    {
     "data": {
      "text/html": [
       "<div>\n",
       "<style scoped>\n",
       "    .dataframe tbody tr th:only-of-type {\n",
       "        vertical-align: middle;\n",
       "    }\n",
       "\n",
       "    .dataframe tbody tr th {\n",
       "        vertical-align: top;\n",
       "    }\n",
       "\n",
       "    .dataframe thead th {\n",
       "        text-align: right;\n",
       "    }\n",
       "</style>\n",
       "<table border=\"1\" class=\"dataframe\">\n",
       "  <thead>\n",
       "    <tr style=\"text-align: right;\">\n",
       "      <th></th>\n",
       "      <th>Description</th>\n",
       "      <th>Precision</th>\n",
       "      <th>Recal</th>\n",
       "      <th>F1-Score</th>\n",
       "      <th>AUC</th>\n",
       "      <th>TN</th>\n",
       "      <th>TP</th>\n",
       "      <th>FN</th>\n",
       "      <th>FP</th>\n",
       "    </tr>\n",
       "  </thead>\n",
       "  <tbody>\n",
       "    <tr>\n",
       "      <th>0</th>\n",
       "      <td>BRF training</td>\n",
       "      <td>0.105261</td>\n",
       "      <td>0.996207</td>\n",
       "      <td>0.190403</td>\n",
       "      <td>0.990803</td>\n",
       "      <td>254377</td>\n",
       "      <td>17336</td>\n",
       "      <td>66</td>\n",
       "      <td>147360</td>\n",
       "    </tr>\n",
       "    <tr>\n",
       "      <th>0</th>\n",
       "      <td>BRF testing</td>\n",
       "      <td>0.078735</td>\n",
       "      <td>0.739466</td>\n",
       "      <td>0.142317</td>\n",
       "      <td>0.738059</td>\n",
       "      <td>61130</td>\n",
       "      <td>3352</td>\n",
       "      <td>1181</td>\n",
       "      <td>39221</td>\n",
       "    </tr>\n",
       "  </tbody>\n",
       "</table>\n",
       "</div>"
      ],
      "text/plain": [
       "    Description  Precision     Recal  F1-Score       AUC      TN     TP    FN  \\\n",
       "0  BRF training   0.105261  0.996207  0.190403  0.990803  254377  17336    66   \n",
       "0   BRF testing   0.078735  0.739466  0.142317  0.738059   61130   3352  1181   \n",
       "\n",
       "       FP  \n",
       "0  147360  \n",
       "0   39221  "
      ]
     },
     "execution_count": 8,
     "metadata": {},
     "output_type": "execute_result"
    }
   ],
   "source": [
    "import joblib\n",
    "\n",
    "pd.concat([\n",
    "            get_metric_evaluations(brf, X_train, y_train, description='BRF training'),\n",
    "            get_metric_evaluations(brf, X_test, y_test, description='BRF testing'),\n",
    "          ])"
   ]
  },
  {
   "cell_type": "code",
   "execution_count": 11,
   "id": "00d61be5-a411-464c-b281-4b5e3bc946c5",
   "metadata": {},
   "outputs": [
    {
     "name": "stdout",
     "output_type": "stream",
     "text": [
      "Done\n"
     ]
    },
    {
     "data": {
      "text/html": [
       "<div>\n",
       "<style scoped>\n",
       "    .dataframe tbody tr th:only-of-type {\n",
       "        vertical-align: middle;\n",
       "    }\n",
       "\n",
       "    .dataframe tbody tr th {\n",
       "        vertical-align: top;\n",
       "    }\n",
       "\n",
       "    .dataframe thead th {\n",
       "        text-align: right;\n",
       "    }\n",
       "</style>\n",
       "<table border=\"1\" class=\"dataframe\">\n",
       "  <thead>\n",
       "    <tr style=\"text-align: right;\">\n",
       "      <th></th>\n",
       "      <th>Description</th>\n",
       "      <th>Precision</th>\n",
       "      <th>Recal</th>\n",
       "      <th>F1-Score</th>\n",
       "      <th>AUC</th>\n",
       "      <th>TN</th>\n",
       "      <th>TP</th>\n",
       "      <th>FN</th>\n",
       "      <th>FP</th>\n",
       "    </tr>\n",
       "  </thead>\n",
       "  <tbody>\n",
       "    <tr>\n",
       "      <th>0</th>\n",
       "      <td>DT training</td>\n",
       "      <td>0.063855</td>\n",
       "      <td>0.649466</td>\n",
       "      <td>0.116278</td>\n",
       "      <td>0.642138</td>\n",
       "      <td>236045</td>\n",
       "      <td>11302</td>\n",
       "      <td>6100</td>\n",
       "      <td>165692</td>\n",
       "    </tr>\n",
       "    <tr>\n",
       "      <th>0</th>\n",
       "      <td>DT testing</td>\n",
       "      <td>0.066662</td>\n",
       "      <td>0.652327</td>\n",
       "      <td>0.120963</td>\n",
       "      <td>0.642485</td>\n",
       "      <td>58950</td>\n",
       "      <td>2957</td>\n",
       "      <td>1576</td>\n",
       "      <td>41401</td>\n",
       "    </tr>\n",
       "    <tr>\n",
       "      <th>0</th>\n",
       "      <td>DT training (comp BRF)</td>\n",
       "      <td>0.670616</td>\n",
       "      <td>0.720691</td>\n",
       "      <td>0.694753</td>\n",
       "      <td>0.799297</td>\n",
       "      <td>196144</td>\n",
       "      <td>118695</td>\n",
       "      <td>46001</td>\n",
       "      <td>58299</td>\n",
       "    </tr>\n",
       "    <tr>\n",
       "      <th>0</th>\n",
       "      <td>DT testing (comp BRF)</td>\n",
       "      <td>0.691510</td>\n",
       "      <td>0.720504</td>\n",
       "      <td>0.705709</td>\n",
       "      <td>0.807436</td>\n",
       "      <td>48627</td>\n",
       "      <td>30674</td>\n",
       "      <td>11899</td>\n",
       "      <td>13684</td>\n",
       "    </tr>\n",
       "  </tbody>\n",
       "</table>\n",
       "</div>"
      ],
      "text/plain": [
       "              Description  Precision     Recal  F1-Score       AUC      TN  \\\n",
       "0             DT training   0.063855  0.649466  0.116278  0.642138  236045   \n",
       "0              DT testing   0.066662  0.652327  0.120963  0.642485   58950   \n",
       "0  DT training (comp BRF)   0.670616  0.720691  0.694753  0.799297  196144   \n",
       "0   DT testing (comp BRF)   0.691510  0.720504  0.705709  0.807436   48627   \n",
       "\n",
       "       TP     FN      FP  \n",
       "0   11302   6100  165692  \n",
       "0    2957   1576   41401  \n",
       "0  118695  46001   58299  \n",
       "0   30674  11899   13684  "
      ]
     },
     "execution_count": 11,
     "metadata": {},
     "output_type": "execute_result"
    }
   ],
   "source": [
    "from sklearn.tree import DecisionTreeClassifier\n",
    "surrogate_model = DecisionTreeClassifier(max_depth=3)\n",
    "print('Training ...')\n",
    "yhat_train = brf.predict(X_train)\n",
    "yhat_test = brf.predict(X_test)\n",
    "\n",
    "surrogate_model.fit(X_train, yhat_train, )\n",
    "\n",
    "\n",
    "fig, ax = plt.subplots(figsize=(10,10))\n",
    "tree.plot_tree(surrogate_model, feature_names=list(columns), class_names=['NR', 'R'])\n",
    "fig.savefig(surrogate_decision_tree_figure)\n",
    "\n",
    "\n",
    "df = pd.concat([\n",
    "            get_metric_evaluations(surrogate_model, X_train, y_train, description='DT training'),\n",
    "            get_metric_evaluations(surrogate_model, X_test, y_test, description='DT testing'),\n",
    "            get_metric_evaluations(surrogate_model, X_train, yhat_train, description='DT training (comp BRF)'),\n",
    "            get_metric_evaluations(surrogate_model, X_test, yhat_test, description='DT testing (comp BRF)'),\n",
    "          ])\n",
    "print('Done')\n",
    "df"
   ]
  },
  {
   "cell_type": "code",
   "execution_count": null,
   "id": "0bf5c7e5-af1d-459a-9943-0de067104a70",
   "metadata": {},
   "outputs": [],
   "source": [
    "config = configuration.get_config()\n",
    "\n"
   ]
  },
  {
   "cell_type": "code",
   "execution_count": 10,
   "id": "985a831f-65eb-493e-9040-57c6cc1ba805",
   "metadata": {},
   "outputs": [
    {
     "name": "stderr",
     "output_type": "stream",
     "text": [
      "/lustre03/project/6076769/maiso/environments/alc/lib/python3.9/site-packages/sklearn/linear_model/_logistic.py:460: ConvergenceWarning: lbfgs failed to converge (status=1):\n",
      "STOP: TOTAL NO. of ITERATIONS REACHED LIMIT.\n",
      "\n",
      "Increase the number of iterations (max_iter) or scale the data as shown in:\n",
      "    https://scikit-learn.org/stable/modules/preprocessing.html\n",
      "Please also refer to the documentation for alternative solver options:\n",
      "    https://scikit-learn.org/stable/modules/linear_model.html#logistic-regression\n",
      "  n_iter_i = _check_optimize_result(\n"
     ]
    },
    {
     "name": "stdout",
     "output_type": "stream",
     "text": [
      "Done\n"
     ]
    },
    {
     "data": {
      "text/html": [
       "<div>\n",
       "<style scoped>\n",
       "    .dataframe tbody tr th:only-of-type {\n",
       "        vertical-align: middle;\n",
       "    }\n",
       "\n",
       "    .dataframe tbody tr th {\n",
       "        vertical-align: top;\n",
       "    }\n",
       "\n",
       "    .dataframe thead th {\n",
       "        text-align: right;\n",
       "    }\n",
       "</style>\n",
       "<table border=\"1\" class=\"dataframe\">\n",
       "  <thead>\n",
       "    <tr style=\"text-align: right;\">\n",
       "      <th></th>\n",
       "      <th>Description</th>\n",
       "      <th>Precision</th>\n",
       "      <th>Recal</th>\n",
       "      <th>F1-Score</th>\n",
       "      <th>AUC</th>\n",
       "      <th>TN</th>\n",
       "      <th>TP</th>\n",
       "      <th>FN</th>\n",
       "      <th>FP</th>\n",
       "    </tr>\n",
       "  </thead>\n",
       "  <tbody>\n",
       "    <tr>\n",
       "      <th>0</th>\n",
       "      <td>LR training</td>\n",
       "      <td>0.072712</td>\n",
       "      <td>0.754396</td>\n",
       "      <td>0.132640</td>\n",
       "      <td>0.728418</td>\n",
       "      <td>234317</td>\n",
       "      <td>13128</td>\n",
       "      <td>4274</td>\n",
       "      <td>167420</td>\n",
       "    </tr>\n",
       "    <tr>\n",
       "      <th>0</th>\n",
       "      <td>LR testing</td>\n",
       "      <td>0.074716</td>\n",
       "      <td>0.743216</td>\n",
       "      <td>0.135781</td>\n",
       "      <td>0.722739</td>\n",
       "      <td>58629</td>\n",
       "      <td>3369</td>\n",
       "      <td>1164</td>\n",
       "      <td>41722</td>\n",
       "    </tr>\n",
       "    <tr>\n",
       "      <th>0</th>\n",
       "      <td>LR training (comp BRF)</td>\n",
       "      <td>0.804556</td>\n",
       "      <td>0.881995</td>\n",
       "      <td>0.841498</td>\n",
       "      <td>0.944379</td>\n",
       "      <td>219156</td>\n",
       "      <td>145261</td>\n",
       "      <td>19435</td>\n",
       "      <td>35287</td>\n",
       "    </tr>\n",
       "    <tr>\n",
       "      <th>0</th>\n",
       "      <td>LR testing (comp BRF)</td>\n",
       "      <td>0.831518</td>\n",
       "      <td>0.880699</td>\n",
       "      <td>0.855402</td>\n",
       "      <td>0.950966</td>\n",
       "      <td>54714</td>\n",
       "      <td>37494</td>\n",
       "      <td>5079</td>\n",
       "      <td>7597</td>\n",
       "    </tr>\n",
       "  </tbody>\n",
       "</table>\n",
       "</div>"
      ],
      "text/plain": [
       "              Description  Precision     Recal  F1-Score       AUC      TN  \\\n",
       "0             LR training   0.072712  0.754396  0.132640  0.728418  234317   \n",
       "0              LR testing   0.074716  0.743216  0.135781  0.722739   58629   \n",
       "0  LR training (comp BRF)   0.804556  0.881995  0.841498  0.944379  219156   \n",
       "0   LR testing (comp BRF)   0.831518  0.880699  0.855402  0.950966   54714   \n",
       "\n",
       "       TP     FN      FP  \n",
       "0   13128   4274  167420  \n",
       "0    3369   1164   41722  \n",
       "0  145261  19435   35287  \n",
       "0   37494   5079    7597  "
      ]
     },
     "execution_count": 10,
     "metadata": {},
     "output_type": "execute_result"
    }
   ],
   "source": [
    "from sklearn.linear_model import LogisticRegression\n",
    "surrogate_model_lr = LogisticRegression(class_weight='balanced', max_iter=7000)\n",
    "# print('Training ...')\n",
    "# yhat_train = brf.predict(X_train)\n",
    "# yhat_test = brf.predict(X_test)\n",
    "\n",
    "surrogate_model_lr.fit(X_train, yhat_train, )\n",
    "print('Done')\n",
    "\n",
    "pd.concat([\n",
    "            get_metric_evaluations(surrogate_model_lr, X_train, y_train, description='LR training'),\n",
    "            get_metric_evaluations(surrogate_model_lr, X_test, y_test, description='LR testing'),\n",
    "            get_metric_evaluations(surrogate_model_lr, X_train, yhat_train, description='LR training (comp BRF)'),\n",
    "            get_metric_evaluations(surrogate_model_lr, X_test, yhat_test, description='LR testing (comp BRF)'),\n",
    "          ])"
   ]
  },
  {
   "cell_type": "code",
   "execution_count": null,
   "id": "59b8db23-7dfe-4ece-a30d-5b28e8987fcf",
   "metadata": {},
   "outputs": [],
   "source": [
    "# experiment_configurations = json.load(open(config['experiments_config'], encoding='utf-8'))\n",
    "# X_train, y_train, X_test, y_test, columns = health_data.Admission.get_train_test_matrices(experiment_configurations['configuration_31'])"
   ]
  },
  {
   "cell_type": "code",
   "execution_count": 10,
   "id": "db49a5ad-3801-4950-8e0b-6c796886dbd4",
   "metadata": {},
   "outputs": [
    {
     "name": "stdout",
     "output_type": "stream",
     "text": [
      "X_train.shape=(419139, 17137)\n",
      "y_train.shape=(419139,)\n",
      "X_test.shape= (419139, 17137)\n",
      "y_test.shape= (419139,)\n",
      "len(columns)= 17137\n"
     ]
    }
   ],
   "source": [
    "# print(f'X_train.shape={X_train.shape}')\n",
    "# print(f'y_train.shape={y_train.shape}')\n",
    "\n",
    "# print(f'X_test.shape= {X_train.shape}')\n",
    "# print(f'y_test.shape= {y_train.shape}')\n",
    "# print(f'len(columns)= {len(columns)}')"
   ]
  },
  {
   "cell_type": "code",
   "execution_count": 11,
   "id": "23b4ab8c-7065-4e64-8ddf-9502f8744dac",
   "metadata": {},
   "outputs": [],
   "source": [
    "# from imblearn.ensemble import BalancedRandomForestClassifier"
   ]
  },
  {
   "cell_type": "code",
   "execution_count": 12,
   "id": "d87fc289-5749-4a2d-b810-731cd563ee24",
   "metadata": {},
   "outputs": [],
   "source": [
    "# model = BalancedRandomForestClassifier(n_estimators=501, \n",
    "#                                     sampling_strategy='majority', \n",
    "#                                     replacement=True, \n",
    "#                                     class_weight='balanced_subsample')"
   ]
  },
  {
   "cell_type": "code",
   "execution_count": 13,
   "id": "43a8f8a5-9f10-4ed6-bb4d-8b2a3ddf931e",
   "metadata": {},
   "outputs": [
    {
     "data": {
      "text/html": [
       "<style>#sk-container-id-1 {color: black;}#sk-container-id-1 pre{padding: 0;}#sk-container-id-1 div.sk-toggleable {background-color: white;}#sk-container-id-1 label.sk-toggleable__label {cursor: pointer;display: block;width: 100%;margin-bottom: 0;padding: 0.3em;box-sizing: border-box;text-align: center;}#sk-container-id-1 label.sk-toggleable__label-arrow:before {content: \"▸\";float: left;margin-right: 0.25em;color: #696969;}#sk-container-id-1 label.sk-toggleable__label-arrow:hover:before {color: black;}#sk-container-id-1 div.sk-estimator:hover label.sk-toggleable__label-arrow:before {color: black;}#sk-container-id-1 div.sk-toggleable__content {max-height: 0;max-width: 0;overflow: hidden;text-align: left;background-color: #f0f8ff;}#sk-container-id-1 div.sk-toggleable__content pre {margin: 0.2em;color: black;border-radius: 0.25em;background-color: #f0f8ff;}#sk-container-id-1 input.sk-toggleable__control:checked~div.sk-toggleable__content {max-height: 200px;max-width: 100%;overflow: auto;}#sk-container-id-1 input.sk-toggleable__control:checked~label.sk-toggleable__label-arrow:before {content: \"▾\";}#sk-container-id-1 div.sk-estimator input.sk-toggleable__control:checked~label.sk-toggleable__label {background-color: #d4ebff;}#sk-container-id-1 div.sk-label input.sk-toggleable__control:checked~label.sk-toggleable__label {background-color: #d4ebff;}#sk-container-id-1 input.sk-hidden--visually {border: 0;clip: rect(1px 1px 1px 1px);clip: rect(1px, 1px, 1px, 1px);height: 1px;margin: -1px;overflow: hidden;padding: 0;position: absolute;width: 1px;}#sk-container-id-1 div.sk-estimator {font-family: monospace;background-color: #f0f8ff;border: 1px dotted black;border-radius: 0.25em;box-sizing: border-box;margin-bottom: 0.5em;}#sk-container-id-1 div.sk-estimator:hover {background-color: #d4ebff;}#sk-container-id-1 div.sk-parallel-item::after {content: \"\";width: 100%;border-bottom: 1px solid gray;flex-grow: 1;}#sk-container-id-1 div.sk-label:hover label.sk-toggleable__label {background-color: #d4ebff;}#sk-container-id-1 div.sk-serial::before {content: \"\";position: absolute;border-left: 1px solid gray;box-sizing: border-box;top: 0;bottom: 0;left: 50%;z-index: 0;}#sk-container-id-1 div.sk-serial {display: flex;flex-direction: column;align-items: center;background-color: white;padding-right: 0.2em;padding-left: 0.2em;position: relative;}#sk-container-id-1 div.sk-item {position: relative;z-index: 1;}#sk-container-id-1 div.sk-parallel {display: flex;align-items: stretch;justify-content: center;background-color: white;position: relative;}#sk-container-id-1 div.sk-item::before, #sk-container-id-1 div.sk-parallel-item::before {content: \"\";position: absolute;border-left: 1px solid gray;box-sizing: border-box;top: 0;bottom: 0;left: 50%;z-index: -1;}#sk-container-id-1 div.sk-parallel-item {display: flex;flex-direction: column;z-index: 1;position: relative;background-color: white;}#sk-container-id-1 div.sk-parallel-item:first-child::after {align-self: flex-end;width: 50%;}#sk-container-id-1 div.sk-parallel-item:last-child::after {align-self: flex-start;width: 50%;}#sk-container-id-1 div.sk-parallel-item:only-child::after {width: 0;}#sk-container-id-1 div.sk-dashed-wrapped {border: 1px dashed gray;margin: 0 0.4em 0.5em 0.4em;box-sizing: border-box;padding-bottom: 0.4em;background-color: white;}#sk-container-id-1 div.sk-label label {font-family: monospace;font-weight: bold;display: inline-block;line-height: 1.2em;}#sk-container-id-1 div.sk-label-container {text-align: center;}#sk-container-id-1 div.sk-container {/* jupyter's `normalize.less` sets `[hidden] { display: none; }` but bootstrap.min.css set `[hidden] { display: none !important; }` so we also need the `!important` here to be able to override the default hidden behavior on the sphinx rendered scikit-learn.org. See: https://github.com/scikit-learn/scikit-learn/issues/21755 */display: inline-block !important;position: relative;}#sk-container-id-1 div.sk-text-repr-fallback {display: none;}</style><div id=\"sk-container-id-1\" class=\"sk-top-container\"><div class=\"sk-text-repr-fallback\"><pre>BalancedRandomForestClassifier(class_weight=&#x27;balanced_subsample&#x27;,\n",
       "                               n_estimators=501, replacement=True,\n",
       "                               sampling_strategy=&#x27;majority&#x27;)</pre><b>In a Jupyter environment, please rerun this cell to show the HTML representation or trust the notebook. <br />On GitHub, the HTML representation is unable to render, please try loading this page with nbviewer.org.</b></div><div class=\"sk-container\" hidden><div class=\"sk-item\"><div class=\"sk-estimator sk-toggleable\"><input class=\"sk-toggleable__control sk-hidden--visually\" id=\"sk-estimator-id-1\" type=\"checkbox\" checked><label for=\"sk-estimator-id-1\" class=\"sk-toggleable__label sk-toggleable__label-arrow\">BalancedRandomForestClassifier</label><div class=\"sk-toggleable__content\"><pre>BalancedRandomForestClassifier(class_weight=&#x27;balanced_subsample&#x27;,\n",
       "                               n_estimators=501, replacement=True,\n",
       "                               sampling_strategy=&#x27;majority&#x27;)</pre></div></div></div></div></div>"
      ],
      "text/plain": [
       "BalancedRandomForestClassifier(class_weight='balanced_subsample',\n",
       "                               n_estimators=501, replacement=True,\n",
       "                               sampling_strategy='majority')"
      ]
     },
     "execution_count": 13,
     "metadata": {},
     "output_type": "execute_result"
    }
   ],
   "source": [
    "# model.fit(X_train, y_train)"
   ]
  },
  {
   "cell_type": "code",
   "execution_count": 14,
   "id": "11e4255b-0066-40ee-b6fd-19aeccc62625",
   "metadata": {},
   "outputs": [
    {
     "data": {
      "text/plain": [
       "['/home/maiso/cbu/repositories/alternate-level-of-care-project/checkpoints/balanced_random_forest.joblib']"
      ]
     },
     "execution_count": 14,
     "metadata": {},
     "output_type": "execute_result"
    }
   ],
   "source": [
    "# import joblib\n",
    "# config = configuration.get_config()\n",
    "# joblib.dump(model, config['balanced_random_forest_path']) \n"
   ]
  },
  {
   "cell_type": "code",
   "execution_count": 18,
   "id": "92a4758d-fbff-43e5-a685-e7a4a6bc58f3",
   "metadata": {},
   "outputs": [],
   "source": [
    "\n",
    "# from sklearn.tree import DecisionTreeClassifier\n",
    "# surrogate_model = DecisionTreeClassifier(max_depth=3)\n",
    "# surrogate_model.fit(X_train, yhat, )\n"
   ]
  },
  {
   "cell_type": "code",
   "execution_count": 19,
   "id": "89bbf488-2988-4e14-96b4-d086ac7a9fd2",
   "metadata": {},
   "outputs": [
    {
     "data": {
      "text/html": [
       "<div>\n",
       "<style scoped>\n",
       "    .dataframe tbody tr th:only-of-type {\n",
       "        vertical-align: middle;\n",
       "    }\n",
       "\n",
       "    .dataframe tbody tr th {\n",
       "        vertical-align: top;\n",
       "    }\n",
       "\n",
       "    .dataframe thead th {\n",
       "        text-align: right;\n",
       "    }\n",
       "</style>\n",
       "<table border=\"1\" class=\"dataframe\">\n",
       "  <thead>\n",
       "    <tr style=\"text-align: right;\">\n",
       "      <th></th>\n",
       "      <th>Model Name</th>\n",
       "      <th>Split</th>\n",
       "      <th>Precision</th>\n",
       "      <th>Recal</th>\n",
       "      <th>F1-Score</th>\n",
       "      <th>AUC</th>\n",
       "      <th>TN</th>\n",
       "      <th>TP</th>\n",
       "      <th>FN</th>\n",
       "      <th>FP</th>\n",
       "    </tr>\n",
       "  </thead>\n",
       "  <tbody>\n",
       "    <tr>\n",
       "      <th>0</th>\n",
       "      <td>BRF</td>\n",
       "      <td>TRAIN</td>\n",
       "      <td>0.104572</td>\n",
       "      <td>0.996265</td>\n",
       "      <td>0.189277</td>\n",
       "      <td>0.991604</td>\n",
       "      <td>253284</td>\n",
       "      <td>17337</td>\n",
       "      <td>65</td>\n",
       "      <td>148453</td>\n",
       "    </tr>\n",
       "    <tr>\n",
       "      <th>1</th>\n",
       "      <td>BRF</td>\n",
       "      <td>TEST</td>\n",
       "      <td>0.078615</td>\n",
       "      <td>0.745864</td>\n",
       "      <td>0.142238</td>\n",
       "      <td>0.737944</td>\n",
       "      <td>60725</td>\n",
       "      <td>3381</td>\n",
       "      <td>1152</td>\n",
       "      <td>39626</td>\n",
       "    </tr>\n",
       "  </tbody>\n",
       "</table>\n",
       "</div>"
      ],
      "text/plain": [
       "  Model Name  Split  Precision     Recal  F1-Score       AUC      TN     TP  \\\n",
       "0        BRF  TRAIN   0.104572  0.996265  0.189277  0.991604  253284  17337   \n",
       "1        BRF   TEST   0.078615  0.745864  0.142238  0.737944   60725   3381   \n",
       "\n",
       "     FN      FP  \n",
       "0    65  148453  \n",
       "1  1152   39626  "
      ]
     },
     "execution_count": 19,
     "metadata": {},
     "output_type": "execute_result"
    }
   ],
   "source": [
    "# from sklearn.metrics import precision_score, recall_score, f1_score, roc_auc_score, confusion_matrix\n",
    "\n",
    "# y_pred = model2.predict(X_train)\n",
    "# y_score = model2.predict_proba(X_train)[:,1]\n",
    "# y_true = y_train\n",
    "\n",
    "# tn, fp, fn, tp = confusion_matrix(y_true, y_pred).ravel()\n",
    "\n",
    "# training_results = {'Model Name': 'BRF',\n",
    "#                     'Split': 'TRAIN',\n",
    "#                     'Precision': precision_score(y_true, y_pred),\n",
    "#                     'Recal': recall_score(y_true, y_pred),\n",
    "#                     'F1-Score': f1_score(y_true, y_pred),\n",
    "#                     'AUC': roc_auc_score(y_true=y_true, y_score=y_score),\n",
    "#                     'TN': tn,\n",
    "#                     'TP': tp,\n",
    "#                     'FN': fn,\n",
    "#                     'FP': fp,\n",
    "#                     }\n",
    "\n",
    "# # ---------- ---------- ---------- ---------- #\n",
    "# # COMPUTING METRICS (TESTING SPLIT)           #\n",
    "# # ---------- ---------- ---------- ---------- #\n",
    "# y_pred = model2.predict(X_test)\n",
    "# y_score = model2.predict_proba(X_test)[:,1]\n",
    "# y_true = y_test\n",
    "\n",
    "# tn, fp, fn, tp = confusion_matrix(y_true, y_pred).ravel()\n",
    "# testing_results = {'Model Name': 'BRF',\n",
    "#                    'Split': 'TEST',\n",
    "#                    'Precision': precision_score(y_true, y_pred),\n",
    "#                    'Recal': recall_score(y_true, y_pred),\n",
    "#                    'F1-Score': f1_score(y_true, y_pred),\n",
    "#                    'AUC': roc_auc_score(y_true=y_true, y_score=y_score),\n",
    "#                    'TN': tn,\n",
    "#                    'TP': tp,\n",
    "#                    'FN': fn,\n",
    "#                    'FP': fp\n",
    "#                    }\n",
    "\n",
    "# # ---------- ---------- ---------- ---------- #\n",
    "# # APPENDING NEW RESULTS TO RESULT FILES       #\n",
    "# # ---------- ---------- ---------- ---------- #\n",
    "# results = {key: [training_results[key], testing_results[key]] for key in training_results.keys()}\n",
    "\n",
    "# df = pd.DataFrame(results)\n",
    "# df"
   ]
  },
  {
   "cell_type": "code",
   "execution_count": 23,
   "id": "db482f3b-5bad-48a2-a444-092b69b4b5f9",
   "metadata": {},
   "outputs": [],
   "source": []
  },
  {
   "cell_type": "code",
   "execution_count": 21,
   "id": "040fbdab-32e0-40ac-8a71-892d58c71db5",
   "metadata": {},
   "outputs": [],
   "source": [
    "yhat = model.predict(X_train)"
   ]
  },
  {
   "cell_type": "code",
   "execution_count": 25,
   "id": "6dbad60a-332b-4b29-8670-71fa48e7bb07",
   "metadata": {},
   "outputs": [
    {
     "data": {
      "text/html": [
       "<style>#sk-container-id-2 {color: black;}#sk-container-id-2 pre{padding: 0;}#sk-container-id-2 div.sk-toggleable {background-color: white;}#sk-container-id-2 label.sk-toggleable__label {cursor: pointer;display: block;width: 100%;margin-bottom: 0;padding: 0.3em;box-sizing: border-box;text-align: center;}#sk-container-id-2 label.sk-toggleable__label-arrow:before {content: \"▸\";float: left;margin-right: 0.25em;color: #696969;}#sk-container-id-2 label.sk-toggleable__label-arrow:hover:before {color: black;}#sk-container-id-2 div.sk-estimator:hover label.sk-toggleable__label-arrow:before {color: black;}#sk-container-id-2 div.sk-toggleable__content {max-height: 0;max-width: 0;overflow: hidden;text-align: left;background-color: #f0f8ff;}#sk-container-id-2 div.sk-toggleable__content pre {margin: 0.2em;color: black;border-radius: 0.25em;background-color: #f0f8ff;}#sk-container-id-2 input.sk-toggleable__control:checked~div.sk-toggleable__content {max-height: 200px;max-width: 100%;overflow: auto;}#sk-container-id-2 input.sk-toggleable__control:checked~label.sk-toggleable__label-arrow:before {content: \"▾\";}#sk-container-id-2 div.sk-estimator input.sk-toggleable__control:checked~label.sk-toggleable__label {background-color: #d4ebff;}#sk-container-id-2 div.sk-label input.sk-toggleable__control:checked~label.sk-toggleable__label {background-color: #d4ebff;}#sk-container-id-2 input.sk-hidden--visually {border: 0;clip: rect(1px 1px 1px 1px);clip: rect(1px, 1px, 1px, 1px);height: 1px;margin: -1px;overflow: hidden;padding: 0;position: absolute;width: 1px;}#sk-container-id-2 div.sk-estimator {font-family: monospace;background-color: #f0f8ff;border: 1px dotted black;border-radius: 0.25em;box-sizing: border-box;margin-bottom: 0.5em;}#sk-container-id-2 div.sk-estimator:hover {background-color: #d4ebff;}#sk-container-id-2 div.sk-parallel-item::after {content: \"\";width: 100%;border-bottom: 1px solid gray;flex-grow: 1;}#sk-container-id-2 div.sk-label:hover label.sk-toggleable__label {background-color: #d4ebff;}#sk-container-id-2 div.sk-serial::before {content: \"\";position: absolute;border-left: 1px solid gray;box-sizing: border-box;top: 0;bottom: 0;left: 50%;z-index: 0;}#sk-container-id-2 div.sk-serial {display: flex;flex-direction: column;align-items: center;background-color: white;padding-right: 0.2em;padding-left: 0.2em;position: relative;}#sk-container-id-2 div.sk-item {position: relative;z-index: 1;}#sk-container-id-2 div.sk-parallel {display: flex;align-items: stretch;justify-content: center;background-color: white;position: relative;}#sk-container-id-2 div.sk-item::before, #sk-container-id-2 div.sk-parallel-item::before {content: \"\";position: absolute;border-left: 1px solid gray;box-sizing: border-box;top: 0;bottom: 0;left: 50%;z-index: -1;}#sk-container-id-2 div.sk-parallel-item {display: flex;flex-direction: column;z-index: 1;position: relative;background-color: white;}#sk-container-id-2 div.sk-parallel-item:first-child::after {align-self: flex-end;width: 50%;}#sk-container-id-2 div.sk-parallel-item:last-child::after {align-self: flex-start;width: 50%;}#sk-container-id-2 div.sk-parallel-item:only-child::after {width: 0;}#sk-container-id-2 div.sk-dashed-wrapped {border: 1px dashed gray;margin: 0 0.4em 0.5em 0.4em;box-sizing: border-box;padding-bottom: 0.4em;background-color: white;}#sk-container-id-2 div.sk-label label {font-family: monospace;font-weight: bold;display: inline-block;line-height: 1.2em;}#sk-container-id-2 div.sk-label-container {text-align: center;}#sk-container-id-2 div.sk-container {/* jupyter's `normalize.less` sets `[hidden] { display: none; }` but bootstrap.min.css set `[hidden] { display: none !important; }` so we also need the `!important` here to be able to override the default hidden behavior on the sphinx rendered scikit-learn.org. See: https://github.com/scikit-learn/scikit-learn/issues/21755 */display: inline-block !important;position: relative;}#sk-container-id-2 div.sk-text-repr-fallback {display: none;}</style><div id=\"sk-container-id-2\" class=\"sk-top-container\"><div class=\"sk-text-repr-fallback\"><pre>DecisionTreeClassifier(max_depth=3)</pre><b>In a Jupyter environment, please rerun this cell to show the HTML representation or trust the notebook. <br />On GitHub, the HTML representation is unable to render, please try loading this page with nbviewer.org.</b></div><div class=\"sk-container\" hidden><div class=\"sk-item\"><div class=\"sk-estimator sk-toggleable\"><input class=\"sk-toggleable__control sk-hidden--visually\" id=\"sk-estimator-id-2\" type=\"checkbox\" checked><label for=\"sk-estimator-id-2\" class=\"sk-toggleable__label sk-toggleable__label-arrow\">DecisionTreeClassifier</label><div class=\"sk-toggleable__content\"><pre>DecisionTreeClassifier(max_depth=3)</pre></div></div></div></div></div>"
      ],
      "text/plain": [
       "DecisionTreeClassifier(max_depth=3)"
      ]
     },
     "execution_count": 25,
     "metadata": {},
     "output_type": "execute_result"
    }
   ],
   "source": [
    "surrogate_model.fit(X_train, yhat, )"
   ]
  },
  {
   "cell_type": "code",
   "execution_count": 26,
   "id": "e64f1723-acba-43dc-92a3-a896ddd19a4f",
   "metadata": {},
   "outputs": [
    {
     "data": {
      "text/html": [
       "<div>\n",
       "<style scoped>\n",
       "    .dataframe tbody tr th:only-of-type {\n",
       "        vertical-align: middle;\n",
       "    }\n",
       "\n",
       "    .dataframe tbody tr th {\n",
       "        vertical-align: top;\n",
       "    }\n",
       "\n",
       "    .dataframe thead th {\n",
       "        text-align: right;\n",
       "    }\n",
       "</style>\n",
       "<table border=\"1\" class=\"dataframe\">\n",
       "  <thead>\n",
       "    <tr style=\"text-align: right;\">\n",
       "      <th></th>\n",
       "      <th>Model Name</th>\n",
       "      <th>Split</th>\n",
       "      <th>Precision</th>\n",
       "      <th>Recal</th>\n",
       "      <th>F1-Score</th>\n",
       "      <th>AUC</th>\n",
       "      <th>TN</th>\n",
       "      <th>TP</th>\n",
       "      <th>FN</th>\n",
       "      <th>FP</th>\n",
       "    </tr>\n",
       "  </thead>\n",
       "  <tbody>\n",
       "    <tr>\n",
       "      <th>0</th>\n",
       "      <td>BRF</td>\n",
       "      <td>TRAIN</td>\n",
       "      <td>0.063891</td>\n",
       "      <td>0.649523</td>\n",
       "      <td>0.116338</td>\n",
       "      <td>0.642151</td>\n",
       "      <td>236129</td>\n",
       "      <td>11303</td>\n",
       "      <td>6099</td>\n",
       "      <td>165608</td>\n",
       "    </tr>\n",
       "    <tr>\n",
       "      <th>1</th>\n",
       "      <td>BRF</td>\n",
       "      <td>TEST</td>\n",
       "      <td>0.066655</td>\n",
       "      <td>0.651886</td>\n",
       "      <td>0.120943</td>\n",
       "      <td>0.642172</td>\n",
       "      <td>58973</td>\n",
       "      <td>2955</td>\n",
       "      <td>1578</td>\n",
       "      <td>41378</td>\n",
       "    </tr>\n",
       "  </tbody>\n",
       "</table>\n",
       "</div>"
      ],
      "text/plain": [
       "  Model Name  Split  Precision     Recal  F1-Score       AUC      TN     TP  \\\n",
       "0        BRF  TRAIN   0.063891  0.649523  0.116338  0.642151  236129  11303   \n",
       "1        BRF   TEST   0.066655  0.651886  0.120943  0.642172   58973   2955   \n",
       "\n",
       "     FN      FP  \n",
       "0  6099  165608  \n",
       "1  1578   41378  "
      ]
     },
     "execution_count": 26,
     "metadata": {},
     "output_type": "execute_result"
    }
   ],
   "source": [
    "# from sklearn.metrics import precision_score, recall_score, f1_score, roc_auc_score, confusion_matrix\n",
    "\n",
    "# y_pred = surrogate_model.predict(X_train)\n",
    "# y_score = surrogate_model.predict_proba(X_train)[:,1]\n",
    "# y_true = y_train\n",
    "\n",
    "# tn, fp, fn, tp = confusion_matrix(y_true, y_pred).ravel()\n",
    "\n",
    "# training_results = {'Model Name': 'BRF',\n",
    "#                     'Split': 'TRAIN',\n",
    "#                     'Precision': precision_score(y_true, y_pred),\n",
    "#                     'Recal': recall_score(y_true, y_pred),\n",
    "#                     'F1-Score': f1_score(y_true, y_pred),\n",
    "#                     'AUC': roc_auc_score(y_true=y_true, y_score=y_score),\n",
    "#                     'TN': tn,\n",
    "#                     'TP': tp,\n",
    "#                     'FN': fn,\n",
    "#                     'FP': fp,\n",
    "#                     }\n",
    "\n",
    "# # ---------- ---------- ---------- ---------- #\n",
    "# # COMPUTING METRICS (TESTING SPLIT)           #\n",
    "# # ---------- ---------- ---------- ---------- #\n",
    "# y_pred = surrogate_model.predict(X_test)\n",
    "# y_score = surrogate_model.predict_proba(X_test)[:,1]\n",
    "# y_true = y_test\n",
    "\n",
    "# tn, fp, fn, tp = confusion_matrix(y_true, y_pred).ravel()\n",
    "# testing_results = {'Model Name': 'BRF',\n",
    "#                    'Split': 'TEST',\n",
    "#                    'Precision': precision_score(y_true, y_pred),\n",
    "#                    'Recal': recall_score(y_true, y_pred),\n",
    "#                    'F1-Score': f1_score(y_true, y_pred),\n",
    "#                    'AUC': roc_auc_score(y_true=y_true, y_score=y_score),\n",
    "#                    'TN': tn,\n",
    "#                    'TP': tp,\n",
    "#                    'FN': fn,\n",
    "#                    'FP': fp\n",
    "#                    }\n",
    "\n",
    "# # ---------- ---------- ---------- ---------- #\n",
    "# # APPENDING NEW RESULTS TO RESULT FILES       #\n",
    "# # ---------- ---------- ---------- ---------- #\n",
    "# results = {key: [training_results[key], testing_results[key]] for key in training_results.keys()}\n",
    "\n",
    "# df = pd.DataFrame(results)\n",
    "# df"
   ]
  },
  {
   "cell_type": "code",
   "execution_count": null,
   "id": "8b786761-141e-4570-8cfa-b82ed90233a9",
   "metadata": {},
   "outputs": [],
   "source": []
  },
  {
   "cell_type": "code",
   "execution_count": 28,
   "id": "b706240a-d173-4109-bede-e568c13565bc",
   "metadata": {},
   "outputs": [
    {
     "data": {
      "text/html": [
       "<div>\n",
       "<style scoped>\n",
       "    .dataframe tbody tr th:only-of-type {\n",
       "        vertical-align: middle;\n",
       "    }\n",
       "\n",
       "    .dataframe tbody tr th {\n",
       "        vertical-align: top;\n",
       "    }\n",
       "\n",
       "    .dataframe thead th {\n",
       "        text-align: right;\n",
       "    }\n",
       "</style>\n",
       "<table border=\"1\" class=\"dataframe\">\n",
       "  <thead>\n",
       "    <tr style=\"text-align: right;\">\n",
       "      <th></th>\n",
       "      <th>Model Name</th>\n",
       "      <th>Split</th>\n",
       "      <th>Precision</th>\n",
       "      <th>Recal</th>\n",
       "      <th>F1-Score</th>\n",
       "      <th>AUC</th>\n",
       "      <th>TN</th>\n",
       "      <th>TP</th>\n",
       "      <th>FN</th>\n",
       "      <th>FP</th>\n",
       "    </tr>\n",
       "  </thead>\n",
       "  <tbody>\n",
       "    <tr>\n",
       "      <th>0</th>\n",
       "      <td>BRF</td>\n",
       "      <td>TRAIN</td>\n",
       "      <td>0.669591</td>\n",
       "      <td>0.714506</td>\n",
       "      <td>0.69132</td>\n",
       "      <td>0.797359</td>\n",
       "      <td>194896</td>\n",
       "      <td>118458</td>\n",
       "      <td>47332</td>\n",
       "      <td>58453</td>\n",
       "    </tr>\n",
       "  </tbody>\n",
       "</table>\n",
       "</div>"
      ],
      "text/plain": [
       "  Model Name  Split  Precision     Recal  F1-Score       AUC      TN      TP  \\\n",
       "0        BRF  TRAIN   0.669591  0.714506   0.69132  0.797359  194896  118458   \n",
       "\n",
       "      FN     FP  \n",
       "0  47332  58453  "
      ]
     },
     "execution_count": 28,
     "metadata": {},
     "output_type": "execute_result"
    }
   ],
   "source": [
    "# from sklearn.metrics import precision_score, recall_score, f1_score, roc_auc_score, confusion_matrix\n",
    "\n",
    "# y_pred = surrogate_model.predict(X_train)\n",
    "# y_score = surrogate_model.predict_proba(X_train)[:,1]\n",
    "# y_true = model.predict(X_train)\n",
    "\n",
    "# tn, fp, fn, tp = confusion_matrix(y_true, y_pred).ravel()\n",
    "\n",
    "# training_results = {'Model Name': 'BRF',\n",
    "#                     'Split': 'TRAIN',\n",
    "#                     'Precision': precision_score(y_true, y_pred),\n",
    "#                     'Recal': recall_score(y_true, y_pred),\n",
    "#                     'F1-Score': f1_score(y_true, y_pred),\n",
    "#                     'AUC': roc_auc_score(y_true=y_true, y_score=y_score),\n",
    "#                     'TN': tn,\n",
    "#                     'TP': tp,\n",
    "#                     'FN': fn,\n",
    "#                     'FP': fp,\n",
    "#                     }\n",
    "# results = {key: [training_results[key]] for key in training_results.keys()}\n",
    "\n",
    "# df = pd.DataFrame(results)\n",
    "# df"
   ]
  },
  {
   "cell_type": "code",
   "execution_count": 33,
   "id": "d1ffee2b-1003-4b72-9577-328a0ba65541",
   "metadata": {},
   "outputs": [
    {
     "data": {
      "text/plain": [
       "[Text(0.5, 0.875, 'urgent admission <= 0.5\\ngini = 0.478\\nsamples = 419139\\nvalue = [253349, 165790]\\nclass = NR'),\n",
       " Text(0.25, 0.625, 'case_weight <= 1.558\\ngini = 0.171\\nsamples = 128361\\nvalue = [116251, 12110]\\nclass = NR'),\n",
       " Text(0.125, 0.375, 'z511 <= 0.144\\ngini = 0.1\\nsamples = 104877\\nvalue = [99325, 5552]\\nclass = NR'),\n",
       " Text(0.0625, 0.125, 'gini = 0.091\\nsamples = 104236\\nvalue = [99263, 4973]\\nclass = NR'),\n",
       " Text(0.1875, 0.125, 'gini = 0.175\\nsamples = 641\\nvalue = [62, 579]\\nclass = R'),\n",
       " Text(0.375, 0.375, 'General Surgery <= 0.5\\ngini = 0.403\\nsamples = 23484\\nvalue = [16926, 6558]\\nclass = NR'),\n",
       " Text(0.3125, 0.125, 'gini = 0.295\\nsamples = 18339\\nvalue = [15043, 3296]\\nclass = NR'),\n",
       " Text(0.4375, 0.125, 'gini = 0.464\\nsamples = 5145\\nvalue = [1883, 3262]\\nclass = R'),\n",
       " Text(0.75, 0.625, 'New Acute Patient <= 0.5\\ngini = 0.498\\nsamples = 290778\\nvalue = [137098, 153680]\\nclass = R'),\n",
       " Text(0.625, 0.375, 'cmg <= 725.5\\ngini = 0.475\\nsamples = 209935\\nvalue = [81492, 128443]\\nclass = R'),\n",
       " Text(0.5625, 0.125, 'gini = 0.442\\nsamples = 171125\\nvalue = [56508, 114617]\\nclass = R'),\n",
       " Text(0.6875, 0.125, 'gini = 0.459\\nsamples = 38810\\nvalue = [24984, 13826]\\nclass = NR'),\n",
       " Text(0.875, 0.375, 'Emergency Entry <= 0.5\\ngini = 0.429\\nsamples = 80843\\nvalue = [55606, 25237]\\nclass = NR'),\n",
       " Text(0.8125, 0.125, 'gini = 0.288\\nsamples = 27034\\nvalue = [22323, 4711]\\nclass = NR'),\n",
       " Text(0.9375, 0.125, 'gini = 0.472\\nsamples = 53809\\nvalue = [33283, 20526]\\nclass = NR')]"
      ]
     },
     "execution_count": 33,
     "metadata": {},
     "output_type": "execute_result"
    },
    {
     "data": {
      "image/png": "[encoded data removed]",
      "text/plain": [
       "<Figure size 1000x1000 with 1 Axes>"
      ]
     },
     "metadata": {},
     "output_type": "display_data"
    }
   ],
   "source": [
    "import matplotlib.pyplot as plt\n",
    "from sklearn import tree\n",
    "\n",
    "fig, ax = plt.subplots(figsize=(10,10))\n",
    "tree.plot_tree(surrogate_model, feature_names=list(columns), class_names=['NR', 'R'])"
   ]
  },
  {
   "cell_type": "code",
   "execution_count": 37,
   "id": "17d69fe4-33d7-4ff9-961d-7764dc7e09e7",
   "metadata": {},
   "outputs": [],
   "source": [
    "def get_metric_evaluations(evaluated_model, y_true):\n",
    "    y_pred = evaluated_model.predict(X_train)\n",
    "    y_score = evaluated_model.predict_proba(X_train)[:,1]\n",
    "    y_true = y_true\n",
    "\n",
    "    tn, fp, fn, tp = confusion_matrix(y_true, y_pred).ravel()\n",
    "\n",
    "    training_results = {'Model Name': 'BRF',\n",
    "                        'Split': 'TRAIN',\n",
    "                        'Precision': precision_score(y_true, y_pred),\n",
    "                        'Recal': recall_score(y_true, y_pred),\n",
    "                        'F1-Score': f1_score(y_true, y_pred),\n",
    "                        'AUC': roc_auc_score(y_true=y_true, y_score=y_score),\n",
    "                        'TN': tn,\n",
    "                        'TP': tp,\n",
    "                        'FN': fn,\n",
    "                        'FP': fp,\n",
    "                        }\n",
    "    results = {key: [training_results[key]] for key in training_results.keys()}\n",
    "    \n",
    "    return pd.DataFrame(results)\n",
    "\n",
    "\n"
   ]
  },
  {
   "cell_type": "code",
   "execution_count": 38,
   "id": "a842d96a-eaba-4537-8258-c386c6a3ffaa",
   "metadata": {},
   "outputs": [
    {
     "data": {
      "text/html": [
       "<div>\n",
       "<style scoped>\n",
       "    .dataframe tbody tr th:only-of-type {\n",
       "        vertical-align: middle;\n",
       "    }\n",
       "\n",
       "    .dataframe tbody tr th {\n",
       "        vertical-align: top;\n",
       "    }\n",
       "\n",
       "    .dataframe thead th {\n",
       "        text-align: right;\n",
       "    }\n",
       "</style>\n",
       "<table border=\"1\" class=\"dataframe\">\n",
       "  <thead>\n",
       "    <tr style=\"text-align: right;\">\n",
       "      <th></th>\n",
       "      <th>Model Name</th>\n",
       "      <th>Split</th>\n",
       "      <th>Precision</th>\n",
       "      <th>Recal</th>\n",
       "      <th>F1-Score</th>\n",
       "      <th>AUC</th>\n",
       "      <th>TN</th>\n",
       "      <th>TP</th>\n",
       "      <th>FN</th>\n",
       "      <th>FP</th>\n",
       "    </tr>\n",
       "  </thead>\n",
       "  <tbody>\n",
       "    <tr>\n",
       "      <th>0</th>\n",
       "      <td>BRF</td>\n",
       "      <td>TRAIN</td>\n",
       "      <td>0.669591</td>\n",
       "      <td>0.714506</td>\n",
       "      <td>0.69132</td>\n",
       "      <td>0.797359</td>\n",
       "      <td>194896</td>\n",
       "      <td>118458</td>\n",
       "      <td>47332</td>\n",
       "      <td>58453</td>\n",
       "    </tr>\n",
       "  </tbody>\n",
       "</table>\n",
       "</div>"
      ],
      "text/plain": [
       "  Model Name  Split  Precision     Recal  F1-Score       AUC      TN      TP  \\\n",
       "0        BRF  TRAIN   0.669591  0.714506   0.69132  0.797359  194896  118458   \n",
       "\n",
       "      FN     FP  \n",
       "0  47332  58453  "
      ]
     },
     "execution_count": 38,
     "metadata": {},
     "output_type": "execute_result"
    }
   ],
   "source": [
    "get_metric_evaluations(surrogate_model, yhat)"
   ]
  },
  {
   "cell_type": "code",
   "execution_count": null,
   "id": "45867638-e149-4eda-b9aa-c6a247c81a5d",
   "metadata": {},
   "outputs": [],
   "source": [
    "get_metric_evaluations"
   ]
  }
 ],
 "metadata": {
  "kernelspec": {
   "display_name": "alc",
   "language": "python",
   "name": "alc"
  },
  "language_info": {
   "codemirror_mode": {
    "name": "ipython",
    "version": 3
   },
   "file_extension": ".py",
   "mimetype": "text/x-python",
   "name": "python",
   "nbconvert_exporter": "python",
   "pygments_lexer": "ipython3",
   "version": "3.9.6"
  }
 },
 "nbformat": 4,
 "nbformat_minor": 5
}
