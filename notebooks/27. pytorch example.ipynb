{
 "cells": [
  {
   "cell_type": "code",
   "execution_count": 1,
   "metadata": {},
   "outputs": [],
   "source": [
    "import numpy as np\n",
    "import torch\n",
    "import torch.nn as nn\n",
    "import torch.optim as optim\n",
    "\n",
    "import json\n",
    "\n",
    "import sys \n",
    "sys.path.append('..')\n",
    "\n",
    "from utilities import health_data\n",
    "from utilities import configuration\n",
    "\n",
    "config = configuration.get_config()"
   ]
  },
  {
   "cell_type": "code",
   "execution_count": 2,
   "metadata": {},
   "outputs": [
    {
     "name": "stderr",
     "output_type": "stream",
     "text": [
      "/home/maiso/cbu/environments/pytorch/lib/python3.9/site-packages/numpy/core/fromnumeric.py:3643: FutureWarning: The behavior of DataFrame.std with axis=None is deprecated, in a future version this will reduce over both axes and return a scalar. To retain the old behavior, pass axis=0 (or do not pass axis)\n",
      "  return std(axis=axis, dtype=dtype, out=out, ddof=ddof, **kwargs)\n"
     ]
    },
    {
     "name": "stdout",
     "output_type": "stream",
     "text": [
      "2024-01-12 16:21:50,502 - root - DEBUG - Loading diagnosis embeddings from model: diag_conf_1\n",
      "Computing diagnosis embeddings ...\n",
      "2024-01-12 16:21:53,612 - root - DEBUG - Embedding loaded, shape=(419139, 100)\n",
      "2024-01-12 16:21:55,332 - root - DEBUG - Loading intervention embeddings from model: interv_conf_1\n",
      "Precomputed embeddings found 524023\n",
      "2024-01-12 16:21:56,951 - gensim.utils - INFO - loading Doc2Vec object from /home/maiso/cbu/repositories/alternate-level-of-care-project/gensim/models/interv_conf_1\n",
      "2024-01-12 16:21:56,952 - smart_open.smart_open_lib - DEBUG - {'uri': '/home/maiso/cbu/repositories/alternate-level-of-care-project/gensim/models/interv_conf_1', 'mode': 'rb', 'buffering': -1, 'encoding': None, 'errors': None, 'newline': None, 'closefd': True, 'opener': None, 'compression': 'infer_from_extension', 'transport_params': None}\n",
      "2024-01-12 16:21:57,086 - gensim.utils - INFO - loading dv recursively from /home/maiso/cbu/repositories/alternate-level-of-care-project/gensim/models/interv_conf_1.dv.* with mmap=None\n",
      "2024-01-12 16:21:57,087 - gensim.utils - INFO - loading vectors from /home/maiso/cbu/repositories/alternate-level-of-care-project/gensim/models/interv_conf_1.dv.vectors.npy with mmap=None\n",
      "2024-01-12 16:21:57,779 - gensim.utils - INFO - loading wv recursively from /home/maiso/cbu/repositories/alternate-level-of-care-project/gensim/models/interv_conf_1.wv.* with mmap=None\n",
      "2024-01-12 16:21:57,780 - gensim.utils - INFO - setting ignored attribute cum_table to None\n",
      "2024-01-12 16:21:57,837 - gensim.utils - INFO - Doc2Vec lifecycle event {'fname': '/home/maiso/cbu/repositories/alternate-level-of-care-project/gensim/models/interv_conf_1', 'datetime': '2024-01-12T16:21:57.837830', 'gensim': '4.3.2', 'python': '3.9.6 (default, Jul 12 2021, 18:24:27) \\n[GCC 9.3.0]', 'platform': 'Linux-3.10.0-1160.105.1.el7.x86_64-x86_64-with-glibc2.30', 'event': 'loaded'}\n",
      "No new embeddings were added. \n",
      "2024-01-12 16:21:58,664 - root - DEBUG - Model loaded, shape=(419139, 100)\n",
      " 0 matrix.shape=(419139, 5)\n",
      " 1 matrix.shape=(419139, 68)\n",
      " 2 matrix.shape=(419139, 100)\n",
      " 3 matrix.shape=(419139, 100)\n",
      "2024-01-12 16:22:07,866 - root - DEBUG - Loading diagnosis embeddings from model: diag_conf_1\n",
      "Computing diagnosis embeddings ...\n",
      "2024-01-12 16:22:09,131 - root - DEBUG - Model loaded, shape=(104884, 100)\n",
      "Precomputed embeddings found 524023\n",
      "2024-01-12 16:22:10,435 - gensim.utils - INFO - loading Doc2Vec object from /home/maiso/cbu/repositories/alternate-level-of-care-project/gensim/models/interv_conf_1\n",
      "2024-01-12 16:22:10,436 - smart_open.smart_open_lib - DEBUG - {'uri': '/home/maiso/cbu/repositories/alternate-level-of-care-project/gensim/models/interv_conf_1', 'mode': 'rb', 'buffering': -1, 'encoding': None, 'errors': None, 'newline': None, 'closefd': True, 'opener': None, 'compression': 'infer_from_extension', 'transport_params': None}\n",
      "2024-01-12 16:22:10,483 - gensim.utils - INFO - loading dv recursively from /home/maiso/cbu/repositories/alternate-level-of-care-project/gensim/models/interv_conf_1.dv.* with mmap=None\n",
      "2024-01-12 16:22:10,484 - gensim.utils - INFO - loading vectors from /home/maiso/cbu/repositories/alternate-level-of-care-project/gensim/models/interv_conf_1.dv.vectors.npy with mmap=None\n",
      "2024-01-12 16:22:10,647 - gensim.utils - INFO - loading wv recursively from /home/maiso/cbu/repositories/alternate-level-of-care-project/gensim/models/interv_conf_1.wv.* with mmap=None\n",
      "2024-01-12 16:22:10,649 - gensim.utils - INFO - setting ignored attribute cum_table to None\n",
      "2024-01-12 16:22:10,710 - gensim.utils - INFO - Doc2Vec lifecycle event {'fname': '/home/maiso/cbu/repositories/alternate-level-of-care-project/gensim/models/interv_conf_1', 'datetime': '2024-01-12T16:22:10.710251', 'gensim': '4.3.2', 'python': '3.9.6 (default, Jul 12 2021, 18:24:27) \\n[GCC 9.3.0]', 'platform': 'Linux-3.10.0-1160.105.1.el7.x86_64-x86_64-with-glibc2.30', 'event': 'loaded'}\n",
      "No new embeddings were added. \n",
      "2024-01-12 16:22:10,954 - root - DEBUG - Model loaded, shape=(104884, 100)\n",
      "2024-01-12 16:22:11,802 - root - DEBUG - Using X_train, y_train, no samplig strategy ...\n",
      "2024-01-12 16:22:11,803 - root - DEBUG - Looking for constant variables ...\n",
      "2024-01-12 16:22:11,804 - root - DEBUG - Using memory efficient solution\n",
      "2024-01-12 16:23:01,231 - root - DEBUG - Not constant variables found ...\n",
      "2024-01-12 16:23:01,233 - root - DEBUG - Shapes of matrices before FS...\n",
      "2024-01-12 16:23:01,234 - root - DEBUG - X_train: (416877, 273)\n",
      "2024-01-12 16:23:01,235 - root - DEBUG - y_train: (416877,)\n",
      "2024-01-12 16:23:01,236 - root - DEBUG - X_test:  (104884, 273)\n",
      "2024-01-12 16:23:01,237 - root - DEBUG - y_test:  (104884,)\n"
     ]
    }
   ],
   "source": [
    "experiment_configurations = json.load(open(config['experiments_config'], encoding='utf-8'))\n",
    "X_train, y_train, X_test, y_test, columns = health_data.Admission.get_train_test_matrices(experiment_configurations['configuration_15'])"
   ]
  },
  {
   "cell_type": "code",
   "execution_count": 9,
   "metadata": {},
   "outputs": [],
   "source": [
    "reduced=5000\n",
    "X = torch.tensor(X_train[:reduced,:].toarray(), dtype=torch.float32)\n",
    "y = torch.tensor(np.vstack([y_train[:reduced]==0, y_train[:reduced]==1]).T, dtype=torch.float32)"
   ]
  },
  {
   "cell_type": "code",
   "execution_count": 26,
   "metadata": {},
   "outputs": [
    {
     "name": "stdout",
     "output_type": "stream",
     "text": [
      "Sequential(\n",
      "  (0): Linear(in_features=273, out_features=100, bias=True)\n",
      "  (1): ReLU()\n",
      "  (2): Linear(in_features=100, out_features=2, bias=True)\n",
      "  (3): Softmax(dim=1)\n",
      ")\n"
     ]
    }
   ],
   "source": [
    "feature_count=X.shape[1]\n",
    "components = []\n",
    "hidden_layers = [100,]\n",
    "last_layer_size = feature_count\n",
    "\n",
    "\n",
    "for ix, size_layer in enumerate(hidden_layers):\n",
    "    components.append(nn.Linear(last_layer_size, size_layer))\n",
    "    components.append(nn.ReLU())\n",
    "    last_layer_size=size_layer\n",
    "\n",
    "\n",
    "components.append(nn.Linear(last_layer_size, 2))\n",
    "\n",
    "components.append(nn.Softmax(dim=1))\n",
    "\n",
    "model = nn.Sequential(*components)\n",
    "print(model)"
   ]
  },
  {
   "cell_type": "code",
   "execution_count": 27,
   "metadata": {},
   "outputs": [],
   "source": [
    "weights = torch.FloatTensor([0.5, 12]) \n",
    "loss_fn = nn.BCELoss(weight=weights)  # binary cross entropy\n",
    "optimizer = optim.Adam(model.parameters(), lr=0.001)"
   ]
  },
  {
   "cell_type": "code",
   "execution_count": 44,
   "metadata": {},
   "outputs": [
    {
     "name": "stdout",
     "output_type": "stream",
     "text": [
      "Finished epoch 0, latest loss 1.2524518966674805\n",
      "Finished epoch 1, latest loss 1.2472009658813477\n",
      "Finished epoch 2, latest loss 1.2473106384277344\n",
      "Finished epoch 3, latest loss 1.2485438585281372\n",
      "Finished epoch 4, latest loss 1.2483597993850708\n",
      "Finished epoch 5, latest loss 1.24614679813385\n",
      "Finished epoch 6, latest loss 1.2406388521194458\n",
      "Finished epoch 7, latest loss 1.2435001134872437\n",
      "Finished epoch 8, latest loss 1.2497715950012207\n",
      "Finished epoch 9, latest loss 1.2585740089416504\n",
      "Finished epoch 10, latest loss 1.2542248964309692\n",
      "Finished epoch 11, latest loss 1.2533665895462036\n",
      "Finished epoch 12, latest loss 1.2586696147918701\n",
      "Finished epoch 13, latest loss 1.264222264289856\n",
      "Finished epoch 14, latest loss 1.2637180089950562\n",
      "Finished epoch 15, latest loss 1.2837531566619873\n",
      "Finished epoch 16, latest loss 1.2687216997146606\n",
      "Finished epoch 17, latest loss 1.2876534461975098\n",
      "Finished epoch 18, latest loss 1.2922255992889404\n",
      "Finished epoch 19, latest loss 1.2867072820663452\n",
      "Finished epoch 20, latest loss 1.2875605821609497\n",
      "Finished epoch 21, latest loss 1.2830119132995605\n",
      "Finished epoch 22, latest loss 1.2888673543930054\n",
      "Finished epoch 23, latest loss 1.3008639812469482\n",
      "Finished epoch 24, latest loss 1.2934012413024902\n",
      "Finished epoch 25, latest loss 1.296992301940918\n",
      "Finished epoch 26, latest loss 1.294258713722229\n",
      "Finished epoch 27, latest loss 1.2940292358398438\n",
      "Finished epoch 28, latest loss 1.2966712713241577\n",
      "Finished epoch 29, latest loss 1.3057432174682617\n",
      "Finished epoch 30, latest loss 1.3093310594558716\n",
      "Finished epoch 31, latest loss 1.314759373664856\n",
      "Finished epoch 32, latest loss 1.2980674505233765\n",
      "Finished epoch 33, latest loss 1.2884680032730103\n",
      "Finished epoch 34, latest loss 1.2975045442581177\n",
      "Finished epoch 35, latest loss 1.3183257579803467\n",
      "Finished epoch 36, latest loss 1.301266074180603\n",
      "Finished epoch 37, latest loss 1.3080767393112183\n",
      "Finished epoch 38, latest loss 1.2920650243759155\n",
      "Finished epoch 39, latest loss 1.3010694980621338\n",
      "Finished epoch 40, latest loss 1.3019119501113892\n",
      "Finished epoch 41, latest loss 1.3053557872772217\n",
      "Finished epoch 42, latest loss 1.303048849105835\n",
      "Finished epoch 43, latest loss 1.2976034879684448\n",
      "Finished epoch 44, latest loss 1.3034292459487915\n",
      "Finished epoch 45, latest loss 1.2963204383850098\n",
      "Finished epoch 46, latest loss 1.3065054416656494\n",
      "Finished epoch 47, latest loss 1.2930468320846558\n",
      "Finished epoch 48, latest loss 1.3076547384262085\n",
      "Finished epoch 49, latest loss 1.3015639781951904\n"
     ]
    }
   ],
   "source": [
    "n_epochs = 50\n",
    "batch_size=100\n",
    "\n",
    "for epoch in range(n_epochs):\n",
    "    for i in range(0, len(X), batch_size):\n",
    "        Xbatch = X[i:i+batch_size]\n",
    "        y_pred = model(Xbatch)\n",
    "        ybatch = y[i:i+batch_size]\n",
    "        loss = loss_fn(y_pred, ybatch)\n",
    "        optimizer.zero_grad()\n",
    "        loss.backward()\n",
    "        optimizer.step()\n",
    "    print(f'Finished epoch {epoch}, latest loss {loss}')"
   ]
  },
  {
   "cell_type": "code",
   "execution_count": 48,
   "metadata": {},
   "outputs": [
    {
     "data": {
      "text/plain": [
       "0.0"
      ]
     },
     "execution_count": 48,
     "metadata": {},
     "output_type": "execute_result"
    }
   ],
   "source": [
    "np.sum(y_pred)"
   ]
  },
  {
   "cell_type": "code",
   "execution_count": 45,
   "metadata": {},
   "outputs": [
    {
     "name": "stdout",
     "output_type": "stream",
     "text": [
      "precision=0.0000\n",
      "recall=   0.0000\n",
      "f1_score= 0.0000\n",
      "f1_score= 0.7846\n"
     ]
    },
    {
     "name": "stderr",
     "output_type": "stream",
     "text": [
      "/home/maiso/cbu/environments/pytorch/lib/python3.9/site-packages/sklearn/metrics/_classification.py:1469: UndefinedMetricWarning: Precision is ill-defined and being set to 0.0 due to no predicted samples. Use `zero_division` parameter to control this behavior.\n",
      "  _warn_prf(average, modifier, msg_start, len(result))\n"
     ]
    }
   ],
   "source": [
    "from sklearn.metrics import precision_score, recall_score, f1_score, roc_auc_score\n",
    "\n",
    "# compute accuracy (no_grad is optional)\n",
    "with torch.no_grad():\n",
    "    y_score = model(X)[:,1]\n",
    "    \n",
    "y_pred = y_score.round().numpy()\n",
    "y_score = y_score.numpy()\n",
    "y_true = y[:,1].numpy()\n",
    "\n",
    "\n",
    "print(f'precision={precision_score(y_true, y_pred):5.4f}')\n",
    "print(f'recall=   {recall_score(y_true, y_pred):5.4f}')\n",
    "print(f'f1_score= {f1_score(y_true, y_pred):5.4f}')\n",
    "print(f'AUC= {roc_auc_score(y_true=y_true, y_score=y_score):5.4f}')"
   ]
  },
  {
   "cell_type": "code",
   "execution_count": null,
   "metadata": {},
   "outputs": [],
   "source": [
    "                    f1_score(y_true, y_pred,),\n",
    "                    roc_auc_score(y_true=y_true, y_score=y_pred),"
   ]
  },
  {
   "cell_type": "code",
   "execution_count": 33,
   "metadata": {},
   "outputs": [
    {
     "name": "stdout",
     "output_type": "stream",
     "text": [
      "Accuracy 0.9350000023841858\n"
     ]
    }
   ],
   "source": [
    "# compute accuracy (no_grad is optional)\n",
    "with torch.no_grad():\n",
    "    y_pred = model(X)\n",
    "\n",
    "accuracy = (y_pred[:,1].round() == y[:,1]).float().mean()\n",
    "\n",
    "\n",
    "print(f\"Accuracy {accuracy}\")"
   ]
  },
  {
   "cell_type": "code",
   "execution_count": null,
   "metadata": {},
   "outputs": [],
   "source": [
    "\n",
    "\n",
    "# make probability predictions with the model\n",
    "predictions = model(X)\n",
    "# round predictions\n",
    "rounded = predictions.round()"
   ]
  },
  {
   "cell_type": "code",
   "execution_count": null,
   "metadata": {},
   "outputs": [],
   "source": [
    "\n",
    "# make class predictions with the model\n",
    "predictions = (model(X) > 0.5).int()"
   ]
  }
 ],
 "metadata": {
  "kernelspec": {
   "display_name": "Python 3.10",
   "language": "python",
   "name": "python3"
  },
  "language_info": {
   "codemirror_mode": {
    "name": "ipython",
    "version": 3
   },
   "file_extension": ".py",
   "mimetype": "text/x-python",
   "name": "python",
   "nbconvert_exporter": "python",
   "pygments_lexer": "ipython3",
   "version": "3.10.2"
  }
 },
 "nbformat": 4,
 "nbformat_minor": 4
}
