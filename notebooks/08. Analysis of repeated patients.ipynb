{
 "cells": [
  {
   "cell_type": "code",
   "execution_count": 1,
   "metadata": {},
   "outputs": [],
   "source": [
    "import pandas as pd\n",
    "import matplotlib.pyplot as plt\n",
    "from datetime import date\n",
    "import datetime\n",
    "import numpy as np\n",
    "import seaborn as sns\n",
    "import re\n",
    "import json\n",
    "import pandas as pd\n",
    "import math\n",
    "import ast\n",
    "import os\n",
    "import sys\n",
    "sys.path.append('..')\n",
    "from utilities import logger\n",
    "from utilities import configuration\n"
   ]
  },
  {
   "cell_type": "code",
   "execution_count": 3,
   "metadata": {},
   "outputs": [
    {
     "name": "stdout",
     "output_type": "stream",
     "text": [
      "system_log                               (type: <class 'str'>)\n",
      "json_file                                (type: <class 'str'>)\n",
      "unified_merged_file_cz                   (type: <class 'str'>)\n",
      "unified_merged_file_noncz                (type: <class 'str'>)\n",
      "unified_merged_file                      (type: <class 'str'>)\n",
      "data_path                                (type: <class 'str'>)\n",
      "cz_files                                 (type: <class 'list'>)\n",
      "noncz_files                              (type: <class 'list'>)\n",
      "2023-09-29 11:48:37,161 - root - DEBUG - Logger has started ont notebook 09 Analysis of repeated patients.ipynb ...\n"
     ]
    }
   ],
   "source": [
    "config = configuration.get_config()\n",
    "for key in config:\n",
    "    print(f'{key:40} (type: {type(config[key])})')\n",
    "\n",
    "\n",
    "logging = logger.init_logger(config['system_log'])\n",
    "logging.debug('Logger has started ont notebook 09 Analysis of repeated patients.ipynb ...')"
   ]
  },
  {
   "cell_type": "code",
   "execution_count": 11,
   "metadata": {},
   "outputs": [
    {
     "name": "stdout",
     "output_type": "stream",
     "text": [
      "618697\n"
     ]
    }
   ],
   "source": [
    "f = open(config['json_file'])\n",
    "data = json.load(f)\n",
    "print(len(data))"
   ]
  },
  {
   "cell_type": "code",
   "execution_count": 12,
   "metadata": {},
   "outputs": [
    {
     "name": "stdout",
     "output_type": "stream",
     "text": [
      "298,372\n"
     ]
    }
   ],
   "source": [
    "from collections import defaultdict\n",
    "freq = defaultdict(int)\n",
    "for ix in range(len(data)):\n",
    "    data_item = data[str(ix)]\n",
    "    hcn_code = data_item['HCN code']\n",
    "    freq[hcn_code]+=1\n",
    "print(f'{len(freq):,}')"
   ]
  },
  {
   "cell_type": "code",
   "execution_count": 18,
   "metadata": {},
   "outputs": [
    {
     "name": "stdout",
     "output_type": "stream",
     "text": [
      " 1: 168047\n",
      " 2: 61935\n",
      " 3: 29083\n",
      " 4: 14978\n",
      " 5: 8548\n",
      " 6: 5229\n",
      " 7: 3228\n",
      " 8: 2207\n",
      " 9: 1474\n",
      "10: 977\n",
      "11: 647\n",
      "12: 511\n",
      "13: 341\n",
      "14: 262\n",
      "15: 194\n",
      "16: 130\n",
      "17: 120\n",
      "18: 78\n",
      "19: 59\n"
     ]
    }
   ],
   "source": [
    "for threshold in range(1,20):\n",
    "    print(f'{threshold:2}: {len([patient for patient in freq if freq[patient]==threshold])}')"
   ]
  },
  {
   "cell_type": "code",
   "execution_count": 30,
   "metadata": {},
   "outputs": [
    {
     "data": {
      "text/plain": [
       "125"
      ]
     },
     "execution_count": 30,
     "metadata": {},
     "output_type": "execute_result"
    }
   ],
   "source": [
    "max([freq[patient] for patient in freq if not freq[patient]==1242 and not freq[patient]==717 and not freq[patient]==604])"
   ]
  },
  {
   "cell_type": "code",
   "execution_count": 31,
   "metadata": {},
   "outputs": [
    {
     "data": {
      "text/plain": [
       "[[170805, 170806, None, 9421783]]"
      ]
     },
     "execution_count": 31,
     "metadata": {},
     "output_type": "execute_result"
    }
   ],
   "source": [
    "[[patient for patient in freq if freq[patient]>=125]]"
   ]
  },
  {
   "cell_type": "code",
   "execution_count": null,
   "metadata": {},
   "outputs": [],
   "source": [
    "for key in data:\n",
    "    data_item = data['key']"
   ]
  }
 ],
 "metadata": {
  "kernelspec": {
   "display_name": "alc",
   "language": "python",
   "name": "python3"
  },
  "language_info": {
   "codemirror_mode": {
    "name": "ipython",
    "version": 3
   },
   "file_extension": ".py",
   "mimetype": "text/x-python",
   "name": "python",
   "nbconvert_exporter": "python",
   "pygments_lexer": "ipython3",
   "version": "3.9.6"
  },
  "orig_nbformat": 4
 },
 "nbformat": 4,
 "nbformat_minor": 2
}
